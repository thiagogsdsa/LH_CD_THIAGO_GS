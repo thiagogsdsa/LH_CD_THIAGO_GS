{
 "cells": [
  {
   "cell_type": "markdown",
   "id": "ea223a8d",
   "metadata": {},
   "source": [
    "# Desafio **Indicium** – Cientista de Dados  – Análise Cinematográfica\n"
   ]
  },
  {
   "cell_type": "markdown",
   "id": "74766527",
   "metadata": {},
   "source": [
    "# Entregas \n",
    "1. Faça uma análise exploratória dos dados (EDA), demonstrando as principais características entre as variáveis e apresentando algumas hipóteses relacionadas. Seja criativo!\n",
    "\n",
    "2. Responda também às seguintes perguntas:\n",
    "   1. Qual filme você recomendaria para uma pessoa que você não conhece?\n",
    "   2. Quais são os principais fatores que estão relacionados com alta expectativa de faturamento de um filme?\n",
    "   3. Quais insights podem ser tirados com a coluna *Overview?* É possível inferir o gênero do filme a partir dessa coluna?\n",
    "3. Explique como você faria a previsão da **nota do imdb** a partir dos dados. Quais variáveis e/ou suas transformações você utilizou e por quê? Qual tipo de problema estamos resolvendo (regressão, classificação)? Qual modelo melhor se aproxima dos dados e quais seus prós e contras? Qual medida de performance do modelo foi escolhida e por quê?\n",
    "4. Supondo um filme com as seguintes características:\n",
    "\n",
    "   {'Series\\_Title': 'The Shawshank Redemption',\n",
    "   'Released\\_Year': '1994',\n",
    "   'Certificate': 'A',\n",
    "   'Runtime': '142 min',\n",
    "   'Genre': 'Drama',\n",
    "   'Overview': 'Two imprisoned men bond over a number of years, finding solace and eventual redemption through acts of common decency.',\n",
    "   'Meta\\_score': 80.0,\n",
    "   'Director': 'Frank Darabont',\n",
    "   'Star1': 'Tim Robbins',\n",
    "   'Star2': 'Morgan Freeman',\n",
    "   'Star3': 'Bob Gunton',\n",
    "   'Star4': 'William Sadler',\n",
    "   'No\\_of\\_Votes': 2343110,\n",
    "   'Gross': '28,341,469'}\n",
    "\n",
    "Qual seria a nota do IMDB?\n",
    "\n",
    "5. Salve o modelo desenvolvido no formato .pkl.\n",
    "6. A entrega deve ser feita através de um repositório de código público que contenha:\n",
    "   1. README explicando como instalar e executar o projeto\n",
    "   2. Arquivo de requisitos com todos os pacotes utilizados e suas versões\n",
    "   3. Relatórios das análises estatísticas e EDA em PDF, Jupyter Notebook ou semelhante conforme passo 1 e 2\\.\n",
    "   4. Códigos de modelagem utilizados no passo 3 (pode ser entregue no mesmo Jupyter Notebook).\n",
    "   5. Arquivo .pkl conforme passo 5 acima.\n",
    "\n",
    "Todos os códigos produzidos devem seguir as boas práticas de codificação.\n",
    "\n",
    "---\n",
    "# Respostas\n",
    "---"
   ]
  },
  {
   "cell_type": "markdown",
   "id": "fe660c06",
   "metadata": {},
   "source": [
    "\n",
    "## Entrega 1. Análise Exploratória de Dados (EDA)\n",
    "\n",
    "A análise exploratória dos dados (EDA) foi realizada para compreender as principais características do dataset e identificar padrões, relações e hipóteses para análises futuras ou modelagem preditiva.\n",
    "\n",
    "\n",
    "### 1.0 Análise Univariada\n",
    "- Avaliação individual de cada variável para entender distribuição, presença de valores ausentes e outliers.\n",
    "- Principais ações:\n",
    "  - Identificação de **valores ausentes** e proporção de NAs.\n",
    "  - Contagem de **valores únicos** e frequência das categorias.\n",
    "  - Determinação da **moda** para variáveis categóricas.\n",
    "  - Análise de **média, mediana, skew e kurtosis** para variáveis numéricas.\n",
    "- **Insight:** Nenhum diretor ou ator domina significativamente, indicando **alta diversidade/baixa concentração**.\n",
    "\n",
    "\n",
    "### 1.1 Análise Bivariada\n",
    "- Exploração das relações entre pares de variáveis.\n",
    "- Principais técnicas:\n",
    "  - **Numérica x Numérica:** scatter plot e correlação (ex.: Gross x IMDB_Rating).\n",
    "  - **Numérica x Categórica:** boxplots ou ANOVA (ex.: IMDB_Rating por Certificate ou Genre).\n",
    "  - **Categórica x Categórica:** tabelas de contingência e teste Qui-quadrado (ex.: elenco/diretor x faixas de IMDB_Rating).\n",
    "- **Insight:** Alguns diretores e atores estão associados a notas médias mais altas; Gross apresenta correlação positiva com IMDB_Rating.\n",
    "\n",
    "\n",
    "### 1.2 Análise Multivariada\n",
    "- Avaliação de múltiplas variáveis simultaneamente para capturar interações complexas.\n",
    "- Principais técnicas:\n",
    "  - **Regressão múltipla** de IMDB_Rating considerando Gross, Runtime e Meta_score.\n",
    "  - **Pairplots e heatmaps** para visualizar dependências entre variáveis.\n",
    "  - Análise de interações entre elenco, gênero e métricas numéricas.\n",
    "- **Insight:** Agrupamentos históricos (média de Gross ou nota por ator/diretor) podem gerar preditores robustos, sem causar data leakage.\n",
    "\n",
    "\n",
    "### 1.3 Hipóteses geradas\n",
    "- H_1: Existe associação entre elenco/diretores e filmes com notas mais altas.\n",
    "- H_2: Variáveis financeiras, como Gross, têm correlação positiva com IMDB_Rating.\n",
    "- H_3: Certas categorias de Genre ou Certificate podem influenciar a nota média.\n",
    "- H_4: Estatísticas agregadas por histórico de atores/diretores podem ser boas preditoras.\n",
    "\n",
    "---\n",
    "\n",
    "## 2. Entrega 2\n",
    "\n",
    "### 2.1 Sistema de Recomendação\n",
    "\n",
    "Podemos construir um sistema de recomendação a partir da concatenação de todas as variáveis textuais disponíveis. A partir dessa variável consolidada, existem duas abordagens principais para representação dos textos:\n",
    "\n",
    "1. **Embeddings**  \n",
    "   - Capturam a semântica dos textos.  \n",
    "   - Permitem identificar proximidade de significado, mesmo quando palavras diferentes são utilizadas.  \n",
    "\n",
    "2. **Vetorização esparsa (TF-IDF)**  \n",
    "   - Captura a relevância de termos com base em sua frequência.  \n",
    "   - É mais eficaz para identificar correspondência exata de palavras.  \n",
    "   - Requer pré-processamento, como:  \n",
    "     - remoção de *stopwords*  \n",
    "     - normalização  \n",
    "     - lematização (opcional)  \n",
    "\n",
    "Em ambos os casos, podemos calcular a similaridade entre dois filmes por meio do **cosseno do ângulo entre seus vetores** (*cosine similarity*).  \n",
    "- Valores próximos de **1** indicam alta similaridade.  \n",
    "- Valores próximos de **0** indicam ausência de relação (vetores ortogonais).  \n",
    "\n",
    "Dessa forma, ao receber o título de um filme que o usuário já assistiu (desde que presente na base), é possível recomendar os **Top-5 filmes mais similares** de acordo com sua representação vetorial.\n",
    "\n",
    "\n",
    "### 2.2 Hipótese de Expectativa de Faturamento\n",
    "\n",
    "Com base nas análises exploratórias (correlações e testes de associação), identificamos alguns fatores relacionados à **alta expectativa de faturamento de um filme**:\n",
    "\n",
    "- **Número de votos (No_of_Votes)**: apresentou correlação moderada e positiva (~0,6) com o faturamento.  \n",
    "- **Avaliação IMDB (IMDB_Rating)**: possui relação positiva com o número de votos, o que indiretamente reforça sua conexão com o faturamento.  \n",
    "- **Variáveis categóricas** como **Certificate, Genre, Diretor e Elenco** mostraram associação significativa (nível de 5%) com faixas de faturamento.  \n",
    "\n",
    "Assim, formulamos a hipótese:\n",
    "\n",
    "**H₁:** Filmes com maior número de votos, avaliações mais altas e pertencentes a determinados gêneros ou certificados têm maior probabilidade de alcançar faturamento elevado.\n",
    "\n",
    "### 2.3. Insights a partir da coluna *Overview*\n",
    "\n",
    "A coluna *Overview* contém descrições textuais dos filmes. Em tese, ela pode ser explorada para extrair informações sobre enredo, temática e estilo narrativo. Surge então a seguinte hipótese:\n",
    "\n",
    "**H₃ (pendente):** É possível inferir o gênero do filme a partir da coluna *Overview*.  \n",
    "\n",
    "No entanto, na análise preliminar, não encontramos um *match* direto entre o texto do *Overview* e o gênero declarado (*Genre*).  \n",
    "Com apenas 1000 observações disponíveis, técnicas clássicas de bag-of-words podem não capturar as nuances semânticas necessárias.  \n",
    "\n",
    "Duas abordagens mais promissoras seriam:  \n",
    "- **Modelos pré-treinados de linguagem (ex.: BERT com *fine-tuning*)**, que captam relações semânticas profundas.  \n",
    "- **Modelos de IA generativa**, que podem interpretar contexto narrativo para mapear em gêneros.  \n",
    "\n",
    "Portanto, esta hipótese permanece em aberto e será explorada em etapas futuras.\n",
    "\n",
    "---\n",
    "\n",
    "### 3. Previsão da Nota do IMDB\n",
    "\n",
    "**Tipo de problema:**  \n",
    "Estamos lidando com um problema de **regressão supervisionada**, pois a variável-alvo (*IMDB_Rating*) é numérica e contínua.\n",
    "\n",
    "**Variáveis consideradas:**  \n",
    "- **Numéricas:**  \n",
    "  - `Gross`, `No_of_Votes`, `Meta_score`, `Runtime`.  \n",
    "  Essas variáveis são bons preditores porque apresentam correlação positiva (embora não perfeita) com a nota.  \n",
    "  Transformações como *log(Gross)* podem ser aplicadas para reduzir a assimetria.  \n",
    "\n",
    "- **Categóricas:**  \n",
    "  - `Genre`, `Certificate`, `Director`, `Stars`.  \n",
    "  Necessitam de *encoding*. Por exemplo:  \n",
    "  - *Top-k encoding* para `Director` e `Stars` (para reduzir dimensionalidade).  \n",
    "  - *One-hot encoding* ou *target encoding* para `Genre` e `Certificate`.  \n",
    "\n",
    "- **Textuais:**  \n",
    "  - `Overview`. Pode ser vetorizado via TF-IDF ou embeddings (BERT, por exemplo), mas dada a limitação de dados, começaria com TF-IDF para capturar frequência de termos relevantes.  \n",
    "\n",
    "**Por que não regressão linear simples?**  \n",
    "- Regressão linear exige relação linear entre as variáveis independentes e o alvo, além de normalidade dos resíduos e ausência de multicolinearidade.  \n",
    "- Nossos dados não cumprem essas premissas: temos variáveis categóricas de alta cardinalidade, variáveis numéricas assimétricas e relações não lineares.  \n",
    "\n",
    "**Modelos candidatos:**  \n",
    "- **Árvores de decisão / Random Forest:**  \n",
    "  - **Prós:** Lidam bem com variáveis categóricas (após encoding simples), não exigem normalização, capturam interações não lineares.  \n",
    "  - **Contras:** Podem sobreajustar; menos interpretáveis.  \n",
    "\n",
    "- **Gradient Boosting (ex.: XGBoost, LightGBM):**  \n",
    "  - **Prós:** Melhor performance preditiva em geral, robusto para diferentes tipos de dados, captura bem relações complexas.  \n",
    "  - **Contras:** Mais lento para treinar, mais difícil de interpretar.  \n",
    "\n",
    "- **Modelos lineares regulares (Ridge, Lasso):**  \n",
    "  - **Prós:** Boa interpretabilidade, podem servir como baseline.  \n",
    "  - **Contras:** Não capturam não-linearidades de forma adequada.  \n",
    "\n",
    "**Medida de performance escolhida:**  \n",
    "- **RMSE (Root Mean Squared Error):** penaliza mais erros grandes, útil pois queremos evitar previsões muito distantes da nota real.  \n",
    "- **R²:** mede a proporção da variância explicada, útil para comunicar a qualidade geral do ajuste.  \n",
    "\n",
    "**Conclusão preliminar:**  \n",
    "O modelo que melhor se adapta ao problema é um **ensemble baseado em boosting (como Gradient Boosting ou LightGBM)**, pois equilibra viés e variância e lida bem com dados heterogêneos. A regressão linear pode ser usada como baseline, mas não é adequada como modelo final."
   ]
  },
  {
   "cell_type": "markdown",
   "id": "32308e38",
   "metadata": {},
   "source": [
    "# Imports"
   ]
  },
  {
   "cell_type": "code",
   "execution_count": 1,
   "id": "41f458e7",
   "metadata": {},
   "outputs": [],
   "source": [
    "import sys\n",
    "from pathlib import Path\n",
    "project_root = Path.cwd().parent       \n",
    "sys.path.append(str(project_root / \"src\"))      \n",
    "from functions import *  # Vide src/functions.py "
   ]
  },
  {
   "cell_type": "markdown",
   "id": "45283581",
   "metadata": {},
   "source": [
    "# Lendo CSV principal"
   ]
  },
  {
   "cell_type": "code",
   "execution_count": 3,
   "id": "ac75518f",
   "metadata": {},
   "outputs": [],
   "source": [
    "# Dados do desafio \n",
    "raw_df = pd.read_csv(DATA_DIR / \"desafio_indicium_imdb.csv\").drop(columns= [\"Unnamed: 0\"], errors= \"ignore\")\n"
   ]
  },
  {
   "cell_type": "code",
   "execution_count": 14,
   "id": "6ed79728",
   "metadata": {},
   "outputs": [],
   "source": [
    "# Dados externos \n",
    "raw_df_tmdb = pd.read_csv(DATA_DIR / \"tmdb-movies.csv\").drop(columns= [\"Unnamed: 0\"], errors= \"ignore\")\n",
    "raw_df_ext= pd.read_csv(DATA_DIR / \"imdb-movies-dataset.csv\").drop(columns= [\"Unnamed: 0\"], errors= \"ignore\")"
   ]
  },
  {
   "cell_type": "code",
   "execution_count": 11,
   "id": "77a80d2a",
   "metadata": {},
   "outputs": [
    {
     "data": {
      "text/plain": [
       "2418"
      ]
     },
     "execution_count": 11,
     "metadata": {},
     "output_type": "execute_result"
    }
   ],
   "source": [
    "len(set(raw_df_ext['Director']) - set(raw_df_tmdb['director'])) "
   ]
  },
  {
   "cell_type": "code",
   "execution_count": 3,
   "id": "f0ad7aa6",
   "metadata": {},
   "outputs": [
    {
     "data": {
      "text/html": [
       "<div>\n",
       "<style scoped>\n",
       "    .dataframe tbody tr th:only-of-type {\n",
       "        vertical-align: middle;\n",
       "    }\n",
       "\n",
       "    .dataframe tbody tr th {\n",
       "        vertical-align: top;\n",
       "    }\n",
       "\n",
       "    .dataframe thead th {\n",
       "        text-align: right;\n",
       "    }\n",
       "</style>\n",
       "<table border=\"1\" class=\"dataframe\">\n",
       "  <thead>\n",
       "    <tr style=\"text-align: right;\">\n",
       "      <th></th>\n",
       "      <th>Series_Title</th>\n",
       "      <th>Released_Year</th>\n",
       "      <th>Certificate</th>\n",
       "      <th>Runtime</th>\n",
       "      <th>Genre</th>\n",
       "      <th>IMDB_Rating</th>\n",
       "      <th>Overview</th>\n",
       "      <th>Meta_score</th>\n",
       "      <th>Director</th>\n",
       "      <th>Star1</th>\n",
       "      <th>Star2</th>\n",
       "      <th>Star3</th>\n",
       "      <th>Star4</th>\n",
       "      <th>No_of_Votes</th>\n",
       "      <th>Gross</th>\n",
       "    </tr>\n",
       "  </thead>\n",
       "  <tbody>\n",
       "    <tr>\n",
       "      <th>0</th>\n",
       "      <td>The Godfather</td>\n",
       "      <td>1972</td>\n",
       "      <td>A</td>\n",
       "      <td>175 min</td>\n",
       "      <td>Crime, Drama</td>\n",
       "      <td>9.2</td>\n",
       "      <td>An organized crime dynasty's aging patriarch t...</td>\n",
       "      <td>100.0</td>\n",
       "      <td>Francis Ford Coppola</td>\n",
       "      <td>Marlon Brando</td>\n",
       "      <td>Al Pacino</td>\n",
       "      <td>James Caan</td>\n",
       "      <td>Diane Keaton</td>\n",
       "      <td>1620367</td>\n",
       "      <td>134,966,411</td>\n",
       "    </tr>\n",
       "    <tr>\n",
       "      <th>1</th>\n",
       "      <td>The Dark Knight</td>\n",
       "      <td>2008</td>\n",
       "      <td>UA</td>\n",
       "      <td>152 min</td>\n",
       "      <td>Action, Crime, Drama</td>\n",
       "      <td>9.0</td>\n",
       "      <td>When the menace known as the Joker wreaks havo...</td>\n",
       "      <td>84.0</td>\n",
       "      <td>Christopher Nolan</td>\n",
       "      <td>Christian Bale</td>\n",
       "      <td>Heath Ledger</td>\n",
       "      <td>Aaron Eckhart</td>\n",
       "      <td>Michael Caine</td>\n",
       "      <td>2303232</td>\n",
       "      <td>534,858,444</td>\n",
       "    </tr>\n",
       "  </tbody>\n",
       "</table>\n",
       "</div>"
      ],
      "text/plain": [
       "      Series_Title Released_Year Certificate  Runtime                 Genre  \\\n",
       "0    The Godfather          1972           A  175 min          Crime, Drama   \n",
       "1  The Dark Knight          2008          UA  152 min  Action, Crime, Drama   \n",
       "\n",
       "   IMDB_Rating                                           Overview  Meta_score  \\\n",
       "0          9.2  An organized crime dynasty's aging patriarch t...       100.0   \n",
       "1          9.0  When the menace known as the Joker wreaks havo...        84.0   \n",
       "\n",
       "               Director           Star1         Star2          Star3  \\\n",
       "0  Francis Ford Coppola   Marlon Brando     Al Pacino     James Caan   \n",
       "1     Christopher Nolan  Christian Bale  Heath Ledger  Aaron Eckhart   \n",
       "\n",
       "           Star4  No_of_Votes        Gross  \n",
       "0   Diane Keaton      1620367  134,966,411  \n",
       "1  Michael Caine      2303232  534,858,444  "
      ]
     },
     "execution_count": 3,
     "metadata": {},
     "output_type": "execute_result"
    }
   ],
   "source": [
    "raw_df.head(2)"
   ]
  },
  {
   "cell_type": "code",
   "execution_count": null,
   "id": "b7e36469",
   "metadata": {},
   "outputs": [
    {
     "data": {
      "text/html": [
       "<div>\n",
       "<style scoped>\n",
       "    .dataframe tbody tr th:only-of-type {\n",
       "        vertical-align: middle;\n",
       "    }\n",
       "\n",
       "    .dataframe tbody tr th {\n",
       "        vertical-align: top;\n",
       "    }\n",
       "\n",
       "    .dataframe thead th {\n",
       "        text-align: right;\n",
       "    }\n",
       "</style>\n",
       "<table border=\"1\" class=\"dataframe\">\n",
       "  <thead>\n",
       "    <tr style=\"text-align: right;\">\n",
       "      <th></th>\n",
       "      <th>id</th>\n",
       "      <th>imdb_id</th>\n",
       "      <th>popularity</th>\n",
       "      <th>budget</th>\n",
       "      <th>revenue</th>\n",
       "      <th>original_title</th>\n",
       "      <th>cast</th>\n",
       "      <th>homepage</th>\n",
       "      <th>director</th>\n",
       "      <th>tagline</th>\n",
       "      <th>...</th>\n",
       "      <th>overview</th>\n",
       "      <th>runtime</th>\n",
       "      <th>genres</th>\n",
       "      <th>production_companies</th>\n",
       "      <th>release_date</th>\n",
       "      <th>vote_count</th>\n",
       "      <th>vote_average</th>\n",
       "      <th>release_year</th>\n",
       "      <th>budget_adj</th>\n",
       "      <th>revenue_adj</th>\n",
       "    </tr>\n",
       "  </thead>\n",
       "  <tbody>\n",
       "    <tr>\n",
       "      <th>0</th>\n",
       "      <td>135397</td>\n",
       "      <td>tt0369610</td>\n",
       "      <td>32.985763</td>\n",
       "      <td>150000000</td>\n",
       "      <td>1513528810</td>\n",
       "      <td>Jurassic World</td>\n",
       "      <td>Chris Pratt|Bryce Dallas Howard|Irrfan Khan|Vi...</td>\n",
       "      <td>http://www.jurassicworld.com/</td>\n",
       "      <td>Colin Trevorrow</td>\n",
       "      <td>The park is open.</td>\n",
       "      <td>...</td>\n",
       "      <td>Twenty-two years after the events of Jurassic ...</td>\n",
       "      <td>124</td>\n",
       "      <td>Action|Adventure|Science Fiction|Thriller</td>\n",
       "      <td>Universal Studios|Amblin Entertainment|Legenda...</td>\n",
       "      <td>6/9/15</td>\n",
       "      <td>5562</td>\n",
       "      <td>6.5</td>\n",
       "      <td>2015</td>\n",
       "      <td>1.379999e+08</td>\n",
       "      <td>1.392446e+09</td>\n",
       "    </tr>\n",
       "    <tr>\n",
       "      <th>1</th>\n",
       "      <td>76341</td>\n",
       "      <td>tt1392190</td>\n",
       "      <td>28.419936</td>\n",
       "      <td>150000000</td>\n",
       "      <td>378436354</td>\n",
       "      <td>Mad Max: Fury Road</td>\n",
       "      <td>Tom Hardy|Charlize Theron|Hugh Keays-Byrne|Nic...</td>\n",
       "      <td>http://www.madmaxmovie.com/</td>\n",
       "      <td>George Miller</td>\n",
       "      <td>What a Lovely Day.</td>\n",
       "      <td>...</td>\n",
       "      <td>An apocalyptic story set in the furthest reach...</td>\n",
       "      <td>120</td>\n",
       "      <td>Action|Adventure|Science Fiction|Thriller</td>\n",
       "      <td>Village Roadshow Pictures|Kennedy Miller Produ...</td>\n",
       "      <td>5/13/15</td>\n",
       "      <td>6185</td>\n",
       "      <td>7.1</td>\n",
       "      <td>2015</td>\n",
       "      <td>1.379999e+08</td>\n",
       "      <td>3.481613e+08</td>\n",
       "    </tr>\n",
       "  </tbody>\n",
       "</table>\n",
       "<p>2 rows × 21 columns</p>\n",
       "</div>"
      ],
      "text/plain": [
       "       id    imdb_id  popularity     budget     revenue      original_title  \\\n",
       "0  135397  tt0369610   32.985763  150000000  1513528810      Jurassic World   \n",
       "1   76341  tt1392190   28.419936  150000000   378436354  Mad Max: Fury Road   \n",
       "\n",
       "                                                cast  \\\n",
       "0  Chris Pratt|Bryce Dallas Howard|Irrfan Khan|Vi...   \n",
       "1  Tom Hardy|Charlize Theron|Hugh Keays-Byrne|Nic...   \n",
       "\n",
       "                        homepage         director             tagline  ...  \\\n",
       "0  http://www.jurassicworld.com/  Colin Trevorrow   The park is open.  ...   \n",
       "1    http://www.madmaxmovie.com/    George Miller  What a Lovely Day.  ...   \n",
       "\n",
       "                                            overview runtime  \\\n",
       "0  Twenty-two years after the events of Jurassic ...     124   \n",
       "1  An apocalyptic story set in the furthest reach...     120   \n",
       "\n",
       "                                      genres  \\\n",
       "0  Action|Adventure|Science Fiction|Thriller   \n",
       "1  Action|Adventure|Science Fiction|Thriller   \n",
       "\n",
       "                                production_companies release_date vote_count  \\\n",
       "0  Universal Studios|Amblin Entertainment|Legenda...       6/9/15       5562   \n",
       "1  Village Roadshow Pictures|Kennedy Miller Produ...      5/13/15       6185   \n",
       "\n",
       "   vote_average  release_year    budget_adj   revenue_adj  \n",
       "0           6.5          2015  1.379999e+08  1.392446e+09  \n",
       "1           7.1          2015  1.379999e+08  3.481613e+08  \n",
       "\n",
       "[2 rows x 21 columns]"
      ]
     },
     "execution_count": 8,
     "metadata": {},
     "output_type": "execute_result"
    }
   ],
   "source": [
    "raw_df_tmdb.head(2)\n"
   ]
  },
  {
   "cell_type": "markdown",
   "id": "7da55fb0",
   "metadata": {},
   "source": [
    "Vamos enriquecer os dados internos adicionando variáveis externas como popularity, budget, tagline, vote_average e também revenue. Essas informações são relevantes porque ajudam a capturar diferentes dimensões do filme: engajamento do público (popularity), escala de produção (budget), posicionamento de marketing (tagline), percepção da audiência (vote_average) e resultado financeiro (revenue)."
   ]
  },
  {
   "cell_type": "code",
   "execution_count": 14,
   "id": "dd4d3642",
   "metadata": {},
   "outputs": [],
   "source": [
    "raw_df_tmdb =raw_df_tmdb [['director','popularity','budget','vote_average','revenue']].rename(columns= {'director':'Director'})\n"
   ]
  },
  {
   "cell_type": "code",
   "execution_count": null,
   "id": "36443c1f",
   "metadata": {},
   "outputs": [],
   "source": [
    "normalize =  lambda text: str(text.lower().strip())\n",
    "raw_df_tmdb['Director'] = raw_df_tmdb['Director'].astype(str).apply(normalize)\n",
    "raw_df['Director'] = raw_df['Director'].astype(str).apply(normalize)\n",
    "\n",
    "\n"
   ]
  },
  {
   "cell_type": "code",
   "execution_count": 56,
   "id": "1f6aeeed",
   "metadata": {},
   "outputs": [],
   "source": [
    "from rapidfuzz import process, distance\n",
    "\n",
    "def map_director(name):\n",
    "    small_directors = list(raw_df['Director'])\n",
    "    if name in small_directors:\n",
    "        return name\n",
    "    else:\n",
    "        match, score, _ = process.extractOne(\n",
    "            query=name,\n",
    "            choices=small_directors,\n",
    "            scorer=distance.Levenshtein.distance  # distância de edição correta\n",
    "        )\n",
    "        if score <= 4:\n",
    "            return match\n",
    "        else:\n",
    "            return None\n"
   ]
  },
  {
   "cell_type": "code",
   "execution_count": 57,
   "id": "33dd1b84",
   "metadata": {},
   "outputs": [],
   "source": [
    "raw_df_tmdb['match_director'] = raw_df_tmdb['Director'].apply(map_director)"
   ]
  },
  {
   "cell_type": "code",
   "execution_count": 58,
   "id": "9502b27a",
   "metadata": {},
   "outputs": [],
   "source": [
    "raw_df_tmdb = raw_df_tmdb.dropna(subset = ['match_director']).reset_index(drop=True)"
   ]
  },
  {
   "cell_type": "code",
   "execution_count": 59,
   "id": "1dc8e44a",
   "metadata": {},
   "outputs": [
    {
     "data": {
      "text/plain": [
       "392"
      ]
     },
     "execution_count": 59,
     "metadata": {},
     "output_type": "execute_result"
    }
   ],
   "source": [
    "len(set(raw_df_tmdb['match_director']))"
   ]
  },
  {
   "cell_type": "code",
   "execution_count": null,
   "id": "910ffe2f",
   "metadata": {},
   "outputs": [],
   "source": [
    "merged = raw_df.merge(raw_df_tmdb, on='Director', how='left').reset_index(drop=True)"
   ]
  },
  {
   "cell_type": "code",
   "execution_count": 38,
   "id": "adb2a98f",
   "metadata": {},
   "outputs": [],
   "source": [
    "merged = merged.dropna(subset=['popularity','budget','vote_average','revenue']).reset_index(drop=True)"
   ]
  },
  {
   "cell_type": "code",
   "execution_count": null,
   "id": "f019610e",
   "metadata": {},
   "outputs": [
    {
     "data": {
      "text/html": [
       "<div>\n",
       "<style scoped>\n",
       "    .dataframe tbody tr th:only-of-type {\n",
       "        vertical-align: middle;\n",
       "    }\n",
       "\n",
       "    .dataframe tbody tr th {\n",
       "        vertical-align: top;\n",
       "    }\n",
       "\n",
       "    .dataframe thead th {\n",
       "        text-align: right;\n",
       "    }\n",
       "</style>\n",
       "<table border=\"1\" class=\"dataframe\">\n",
       "  <thead>\n",
       "    <tr style=\"text-align: right;\">\n",
       "      <th></th>\n",
       "      <th>Series_Title</th>\n",
       "      <th>Released_Year</th>\n",
       "      <th>Certificate</th>\n",
       "      <th>Runtime</th>\n",
       "      <th>Genre</th>\n",
       "      <th>IMDB_Rating</th>\n",
       "      <th>Overview</th>\n",
       "      <th>Meta_score</th>\n",
       "      <th>Director</th>\n",
       "      <th>Star1</th>\n",
       "      <th>Star2</th>\n",
       "      <th>Star3</th>\n",
       "      <th>Star4</th>\n",
       "      <th>No_of_Votes</th>\n",
       "      <th>Gross</th>\n",
       "      <th>popularity</th>\n",
       "      <th>budget</th>\n",
       "      <th>vote_average</th>\n",
       "      <th>revenue</th>\n",
       "    </tr>\n",
       "  </thead>\n",
       "  <tbody>\n",
       "    <tr>\n",
       "      <th>0</th>\n",
       "      <td>The Godfather</td>\n",
       "      <td>1972</td>\n",
       "      <td>A</td>\n",
       "      <td>175 min</td>\n",
       "      <td>Crime, Drama</td>\n",
       "      <td>9.2</td>\n",
       "      <td>An organized crime dynasty's aging patriarch t...</td>\n",
       "      <td>100.0</td>\n",
       "      <td>francis ford coppola</td>\n",
       "      <td>Marlon Brando</td>\n",
       "      <td>Al Pacino</td>\n",
       "      <td>James Caan</td>\n",
       "      <td>Diane Keaton</td>\n",
       "      <td>1620367</td>\n",
       "      <td>134,966,411</td>\n",
       "      <td>0.414910</td>\n",
       "      <td>15000000.0</td>\n",
       "      <td>6.7</td>\n",
       "      <td>113221.0</td>\n",
       "    </tr>\n",
       "    <tr>\n",
       "      <th>1</th>\n",
       "      <td>The Godfather</td>\n",
       "      <td>1972</td>\n",
       "      <td>A</td>\n",
       "      <td>175 min</td>\n",
       "      <td>Crime, Drama</td>\n",
       "      <td>9.2</td>\n",
       "      <td>An organized crime dynasty's aging patriarch t...</td>\n",
       "      <td>100.0</td>\n",
       "      <td>francis ford coppola</td>\n",
       "      <td>Marlon Brando</td>\n",
       "      <td>Al Pacino</td>\n",
       "      <td>James Caan</td>\n",
       "      <td>Diane Keaton</td>\n",
       "      <td>1620367</td>\n",
       "      <td>134,966,411</td>\n",
       "      <td>0.362217</td>\n",
       "      <td>7000000.0</td>\n",
       "      <td>4.7</td>\n",
       "      <td>0.0</td>\n",
       "    </tr>\n",
       "    <tr>\n",
       "      <th>2</th>\n",
       "      <td>The Godfather</td>\n",
       "      <td>1972</td>\n",
       "      <td>A</td>\n",
       "      <td>175 min</td>\n",
       "      <td>Crime, Drama</td>\n",
       "      <td>9.2</td>\n",
       "      <td>An organized crime dynasty's aging patriarch t...</td>\n",
       "      <td>100.0</td>\n",
       "      <td>francis ford coppola</td>\n",
       "      <td>Marlon Brando</td>\n",
       "      <td>Al Pacino</td>\n",
       "      <td>James Caan</td>\n",
       "      <td>Diane Keaton</td>\n",
       "      <td>1620367</td>\n",
       "      <td>134,966,411</td>\n",
       "      <td>1.008461</td>\n",
       "      <td>40000000.0</td>\n",
       "      <td>6.5</td>\n",
       "      <td>45916769.0</td>\n",
       "    </tr>\n",
       "    <tr>\n",
       "      <th>3</th>\n",
       "      <td>The Godfather</td>\n",
       "      <td>1972</td>\n",
       "      <td>A</td>\n",
       "      <td>175 min</td>\n",
       "      <td>Crime, Drama</td>\n",
       "      <td>9.2</td>\n",
       "      <td>An organized crime dynasty's aging patriarch t...</td>\n",
       "      <td>100.0</td>\n",
       "      <td>francis ford coppola</td>\n",
       "      <td>Marlon Brando</td>\n",
       "      <td>Al Pacino</td>\n",
       "      <td>James Caan</td>\n",
       "      <td>Diane Keaton</td>\n",
       "      <td>1620367</td>\n",
       "      <td>134,966,411</td>\n",
       "      <td>5.738034</td>\n",
       "      <td>6000000.0</td>\n",
       "      <td>8.3</td>\n",
       "      <td>245066411.0</td>\n",
       "    </tr>\n",
       "    <tr>\n",
       "      <th>4</th>\n",
       "      <td>The Godfather</td>\n",
       "      <td>1972</td>\n",
       "      <td>A</td>\n",
       "      <td>175 min</td>\n",
       "      <td>Crime, Drama</td>\n",
       "      <td>9.2</td>\n",
       "      <td>An organized crime dynasty's aging patriarch t...</td>\n",
       "      <td>100.0</td>\n",
       "      <td>francis ford coppola</td>\n",
       "      <td>Marlon Brando</td>\n",
       "      <td>Al Pacino</td>\n",
       "      <td>James Caan</td>\n",
       "      <td>Diane Keaton</td>\n",
       "      <td>1620367</td>\n",
       "      <td>134,966,411</td>\n",
       "      <td>0.281136</td>\n",
       "      <td>0.0</td>\n",
       "      <td>6.6</td>\n",
       "      <td>0.0</td>\n",
       "    </tr>\n",
       "    <tr>\n",
       "      <th>...</th>\n",
       "      <td>...</td>\n",
       "      <td>...</td>\n",
       "      <td>...</td>\n",
       "      <td>...</td>\n",
       "      <td>...</td>\n",
       "      <td>...</td>\n",
       "      <td>...</td>\n",
       "      <td>...</td>\n",
       "      <td>...</td>\n",
       "      <td>...</td>\n",
       "      <td>...</td>\n",
       "      <td>...</td>\n",
       "      <td>...</td>\n",
       "      <td>...</td>\n",
       "      <td>...</td>\n",
       "      <td>...</td>\n",
       "      <td>...</td>\n",
       "      <td>...</td>\n",
       "      <td>...</td>\n",
       "    </tr>\n",
       "    <tr>\n",
       "      <th>6096</th>\n",
       "      <td>The 39 Steps</td>\n",
       "      <td>1935</td>\n",
       "      <td>NaN</td>\n",
       "      <td>86 min</td>\n",
       "      <td>Crime, Mystery, Thriller</td>\n",
       "      <td>7.6</td>\n",
       "      <td>A man in London tries to help a counter-espion...</td>\n",
       "      <td>93.0</td>\n",
       "      <td>alfred hitchcock</td>\n",
       "      <td>Robert Donat</td>\n",
       "      <td>Madeleine Carroll</td>\n",
       "      <td>Lucie Mannheim</td>\n",
       "      <td>Godfrey Tearle</td>\n",
       "      <td>51853</td>\n",
       "      <td>NaN</td>\n",
       "      <td>2.610362</td>\n",
       "      <td>806948.0</td>\n",
       "      <td>8.0</td>\n",
       "      <td>32000000.0</td>\n",
       "    </tr>\n",
       "    <tr>\n",
       "      <th>6097</th>\n",
       "      <td>The 39 Steps</td>\n",
       "      <td>1935</td>\n",
       "      <td>NaN</td>\n",
       "      <td>86 min</td>\n",
       "      <td>Crime, Mystery, Thriller</td>\n",
       "      <td>7.6</td>\n",
       "      <td>A man in London tries to help a counter-espion...</td>\n",
       "      <td>93.0</td>\n",
       "      <td>alfred hitchcock</td>\n",
       "      <td>Robert Donat</td>\n",
       "      <td>Madeleine Carroll</td>\n",
       "      <td>Lucie Mannheim</td>\n",
       "      <td>Godfrey Tearle</td>\n",
       "      <td>51853</td>\n",
       "      <td>NaN</td>\n",
       "      <td>0.600495</td>\n",
       "      <td>2000000.0</td>\n",
       "      <td>6.7</td>\n",
       "      <td>7900000.0</td>\n",
       "    </tr>\n",
       "    <tr>\n",
       "      <th>6098</th>\n",
       "      <td>The 39 Steps</td>\n",
       "      <td>1935</td>\n",
       "      <td>NaN</td>\n",
       "      <td>86 min</td>\n",
       "      <td>Crime, Mystery, Thriller</td>\n",
       "      <td>7.6</td>\n",
       "      <td>A man in London tries to help a counter-espion...</td>\n",
       "      <td>93.0</td>\n",
       "      <td>alfred hitchcock</td>\n",
       "      <td>Robert Donat</td>\n",
       "      <td>Madeleine Carroll</td>\n",
       "      <td>Lucie Mannheim</td>\n",
       "      <td>Godfrey Tearle</td>\n",
       "      <td>51853</td>\n",
       "      <td>NaN</td>\n",
       "      <td>1.139321</td>\n",
       "      <td>2500000.0</td>\n",
       "      <td>7.0</td>\n",
       "      <td>11403529.0</td>\n",
       "    </tr>\n",
       "    <tr>\n",
       "      <th>6099</th>\n",
       "      <td>The 39 Steps</td>\n",
       "      <td>1935</td>\n",
       "      <td>NaN</td>\n",
       "      <td>86 min</td>\n",
       "      <td>Crime, Mystery, Thriller</td>\n",
       "      <td>7.6</td>\n",
       "      <td>A man in London tries to help a counter-espion...</td>\n",
       "      <td>93.0</td>\n",
       "      <td>alfred hitchcock</td>\n",
       "      <td>Robert Donat</td>\n",
       "      <td>Madeleine Carroll</td>\n",
       "      <td>Lucie Mannheim</td>\n",
       "      <td>Godfrey Tearle</td>\n",
       "      <td>51853</td>\n",
       "      <td>NaN</td>\n",
       "      <td>0.567962</td>\n",
       "      <td>4000000.0</td>\n",
       "      <td>5.7</td>\n",
       "      <td>0.0</td>\n",
       "    </tr>\n",
       "    <tr>\n",
       "      <th>6100</th>\n",
       "      <td>The 39 Steps</td>\n",
       "      <td>1935</td>\n",
       "      <td>NaN</td>\n",
       "      <td>86 min</td>\n",
       "      <td>Crime, Mystery, Thriller</td>\n",
       "      <td>7.6</td>\n",
       "      <td>A man in London tries to help a counter-espion...</td>\n",
       "      <td>93.0</td>\n",
       "      <td>alfred hitchcock</td>\n",
       "      <td>Robert Donat</td>\n",
       "      <td>Madeleine Carroll</td>\n",
       "      <td>Lucie Mannheim</td>\n",
       "      <td>Godfrey Tearle</td>\n",
       "      <td>51853</td>\n",
       "      <td>NaN</td>\n",
       "      <td>0.402730</td>\n",
       "      <td>3000000.0</td>\n",
       "      <td>6.3</td>\n",
       "      <td>13000000.0</td>\n",
       "    </tr>\n",
       "  </tbody>\n",
       "</table>\n",
       "<p>6101 rows × 19 columns</p>\n",
       "</div>"
      ],
      "text/plain": [
       "       Series_Title Released_Year Certificate  Runtime  \\\n",
       "0     The Godfather          1972           A  175 min   \n",
       "1     The Godfather          1972           A  175 min   \n",
       "2     The Godfather          1972           A  175 min   \n",
       "3     The Godfather          1972           A  175 min   \n",
       "4     The Godfather          1972           A  175 min   \n",
       "...             ...           ...         ...      ...   \n",
       "6096   The 39 Steps          1935         NaN   86 min   \n",
       "6097   The 39 Steps          1935         NaN   86 min   \n",
       "6098   The 39 Steps          1935         NaN   86 min   \n",
       "6099   The 39 Steps          1935         NaN   86 min   \n",
       "6100   The 39 Steps          1935         NaN   86 min   \n",
       "\n",
       "                         Genre  IMDB_Rating  \\\n",
       "0                 Crime, Drama          9.2   \n",
       "1                 Crime, Drama          9.2   \n",
       "2                 Crime, Drama          9.2   \n",
       "3                 Crime, Drama          9.2   \n",
       "4                 Crime, Drama          9.2   \n",
       "...                        ...          ...   \n",
       "6096  Crime, Mystery, Thriller          7.6   \n",
       "6097  Crime, Mystery, Thriller          7.6   \n",
       "6098  Crime, Mystery, Thriller          7.6   \n",
       "6099  Crime, Mystery, Thriller          7.6   \n",
       "6100  Crime, Mystery, Thriller          7.6   \n",
       "\n",
       "                                               Overview  Meta_score  \\\n",
       "0     An organized crime dynasty's aging patriarch t...       100.0   \n",
       "1     An organized crime dynasty's aging patriarch t...       100.0   \n",
       "2     An organized crime dynasty's aging patriarch t...       100.0   \n",
       "3     An organized crime dynasty's aging patriarch t...       100.0   \n",
       "4     An organized crime dynasty's aging patriarch t...       100.0   \n",
       "...                                                 ...         ...   \n",
       "6096  A man in London tries to help a counter-espion...        93.0   \n",
       "6097  A man in London tries to help a counter-espion...        93.0   \n",
       "6098  A man in London tries to help a counter-espion...        93.0   \n",
       "6099  A man in London tries to help a counter-espion...        93.0   \n",
       "6100  A man in London tries to help a counter-espion...        93.0   \n",
       "\n",
       "                  Director          Star1              Star2           Star3  \\\n",
       "0     francis ford coppola  Marlon Brando          Al Pacino      James Caan   \n",
       "1     francis ford coppola  Marlon Brando          Al Pacino      James Caan   \n",
       "2     francis ford coppola  Marlon Brando          Al Pacino      James Caan   \n",
       "3     francis ford coppola  Marlon Brando          Al Pacino      James Caan   \n",
       "4     francis ford coppola  Marlon Brando          Al Pacino      James Caan   \n",
       "...                    ...            ...                ...             ...   \n",
       "6096      alfred hitchcock   Robert Donat  Madeleine Carroll  Lucie Mannheim   \n",
       "6097      alfred hitchcock   Robert Donat  Madeleine Carroll  Lucie Mannheim   \n",
       "6098      alfred hitchcock   Robert Donat  Madeleine Carroll  Lucie Mannheim   \n",
       "6099      alfred hitchcock   Robert Donat  Madeleine Carroll  Lucie Mannheim   \n",
       "6100      alfred hitchcock   Robert Donat  Madeleine Carroll  Lucie Mannheim   \n",
       "\n",
       "               Star4  No_of_Votes        Gross  popularity      budget  \\\n",
       "0       Diane Keaton      1620367  134,966,411    0.414910  15000000.0   \n",
       "1       Diane Keaton      1620367  134,966,411    0.362217   7000000.0   \n",
       "2       Diane Keaton      1620367  134,966,411    1.008461  40000000.0   \n",
       "3       Diane Keaton      1620367  134,966,411    5.738034   6000000.0   \n",
       "4       Diane Keaton      1620367  134,966,411    0.281136         0.0   \n",
       "...              ...          ...          ...         ...         ...   \n",
       "6096  Godfrey Tearle        51853          NaN    2.610362    806948.0   \n",
       "6097  Godfrey Tearle        51853          NaN    0.600495   2000000.0   \n",
       "6098  Godfrey Tearle        51853          NaN    1.139321   2500000.0   \n",
       "6099  Godfrey Tearle        51853          NaN    0.567962   4000000.0   \n",
       "6100  Godfrey Tearle        51853          NaN    0.402730   3000000.0   \n",
       "\n",
       "      vote_average      revenue  \n",
       "0              6.7     113221.0  \n",
       "1              4.7          0.0  \n",
       "2              6.5   45916769.0  \n",
       "3              8.3  245066411.0  \n",
       "4              6.6          0.0  \n",
       "...            ...          ...  \n",
       "6096           8.0   32000000.0  \n",
       "6097           6.7    7900000.0  \n",
       "6098           7.0   11403529.0  \n",
       "6099           5.7          0.0  \n",
       "6100           6.3   13000000.0  \n",
       "\n",
       "[6101 rows x 19 columns]"
      ]
     },
     "execution_count": 39,
     "metadata": {},
     "output_type": "execute_result"
    }
   ],
   "source": [
    "merged"
   ]
  },
  {
   "cell_type": "code",
   "execution_count": null,
   "id": "1ec55bba",
   "metadata": {},
   "outputs": [
    {
     "name": "stdout",
     "output_type": "stream",
     "text": [
      "{'asghar farhadi', 'clyde bruckman', 'mamoru hosoda', 'shûsuke kaneko', 'alejandro amenábar', 'aniruddha roy chowdhury', 'rahi anil barve', 'hannes holm', 'paolo genovese', 'elem klimov', 'raja menon', 'neeraj pandey', 'sriram raghavan', 'carl theodor dreyer', 'hong-jin na', 'deniz gamze ergüven', 'anthony russo', 'f.w. murnau', 'leo mccarey', 'jordan peele', 'abhishek chaubey', 'katsuhiro ôtomo', 'victor fleming', 'james frawley', 'raoul walsh', 'daniel monzón', 'damián szifron', 'bong joon ho', 'kaige chen', 'darius marder', 'nishikant kamat', 'thomas jahn', 'cristian mungiu', 'mamoru oshii', 'travis knight', 'krzysztof kieslowski', 'tetsuya nakashima', 'byron howard', 'jae-young kwak', 'vikramaditya motwane', 'jemaine clement', 'georges franju', 'bob persichetti', 'shoojit sircar', 'jean-marc vallée', 'vincent paronnaud', 'henri-georges clouzot', 'bradley cooper', 'jonathan dayton', 'mikael håfström', 'tigmanshu dhulia', 'vishal bhardwaj', 'yilmaz erdogan', 'imtiaz ali', 'david mickey evans', 'don hall', 'çagan irmak', 'céline sciamma', 'ki-duk kim', 'aaron sorkin', 'hiromasa yonebayashi', 'nuri bilge ceylan', 'rené laloux', 'stephen chow', 'pierre coffin', 'tony bancroft', 'sebastian schipper', 'jean-pierre melville', 'ramesh sippy', 'hrishikesh mukherjee', 'cecil b. demille', 'roland joffé', 'alexander mackendrick', 'martin zandvliet', 'james simone', 'kar-wai wong', 'anurag kashyap', 'charles laughton', 'olivier nakache', 'amit ravindernath sharma', 'gillo pontecorvo', 'yoshifumi kondô', 'dennis gansel', 'fritz lang', 'zoya akhtar', 'francis lee', 'nikkhil advani', 'ron clements', \"shin'ichirô watanabe\", 'henry koster', 'david leitch', 'andrei tarkovsky', 'aneesh chaganty', 'hayao miyazaki', 'prashanth neel', 'sam wood', 'garth davis', 'abhishek kapoor', 'anders thomas jensen', 'cary joji fukunaga', 'can ulkay', 'andrey zvyagintsev', 'jacques tourneur', 'lana wachowski', 'mehmet ada öztekin', 'luis buñuel', 'milos forman', 'christian carion', 'federico fellini', 'tyler nilson', 'james whale', 'umesh shukla', 'oriol paulo', 'kevin altieri', 'jeethu joseph', 'sudha kongara', 'meghna gulzar', 'nadine labaki', 'lasse hallström', 'akira kurosawa', 'ernst lubitsch', 'christopher miller', 'sujoy ghosh', 'robert hamer', 'jee-woon kim', 'je-kyu kang', 'aamir khan', 'jeong-beom lee', 'pedro almodóvar', 'charles vidor', 'aditya chopra', 'alejandro g. iñárritu', 'jean-luc godard', 'kinji fukasaku', 'tim miller', 'sergio pablos', 'buster keaton', 'yash chopra', 'rakeysh omprakash mehra', 'hirokazu koreeda', 'vittorio de sica', 'makoto shinkai', 'dorota kobiela', 'sergei m. eisenstein', 'eric bress', 'nitesh tiwari', 'w.s. van dyke', 'yimou zhang', 'ethan coen', 'wolfgang becker', 'thomas kail', 'aditya dhar', 'françois truffaut', 'robert wiene', 'masaki kobayashi', 'yasujirô ozu', 'vikas bahl', 'gayatri', 'levent semerci', 'alfonso cuarón', 'josé padilha', 'ömer faruk sorak', 'kabir khan', 'yavuz turgul', 'fabián bielinsky', 'destin daniel cretton', 'sylvain chomet', 'yôjirô takita', 'takeshi kitano', 'danis tanovic', 'james algar', 'greta gerwig', 'jean renoir', 'tod browning', 'shimit amin', 'isao takahata', 'satoshi kon', 'juan josé campanella', 'ritesh batra', 'mukesh chhabra', 'abdellatif kechiche', 'naoko yamada', 'zaza urushadze', 'hideaki anno', 'merian c. cooper'}\n"
     ]
    },
    {
     "data": {
      "text/plain": [
       "185"
      ]
     },
     "execution_count": 42,
     "metadata": {},
     "output_type": "execute_result"
    }
   ],
   "source": [
    "#Checando diferença \n",
    "directors_raw = set(raw_df['Director'])\n",
    "\n",
    "directors_merged = set(merged['Director'])\n",
    "\n",
    "missing_directors = directors_raw - directors_merged\n",
    "print(missing_directors)\n",
    "len(missing_directors)"
   ]
  },
  {
   "cell_type": "code",
   "execution_count": 46,
   "id": "f55bcd08",
   "metadata": {},
   "outputs": [
    {
     "name": "stdout",
     "output_type": "stream",
     "text": [
      "5067\n"
     ]
    }
   ],
   "source": [
    "print(len((set(raw_df_tmdb['Director']))))"
   ]
  },
  {
   "cell_type": "code",
   "execution_count": 10,
   "id": "0d47b21c",
   "metadata": {},
   "outputs": [
    {
     "data": {
      "text/plain": [
       "'Twenty-two years after the events of Jurassic Park, Isla Nublar now features a fully functioning dinosaur theme park, Jurassic World, as originally envisioned by John Hammond.'"
      ]
     },
     "execution_count": 10,
     "metadata": {},
     "output_type": "execute_result"
    }
   ],
   "source": [
    "raw_df_tmdb['overview'][0]"
   ]
  },
  {
   "cell_type": "markdown",
   "id": "48a9228a",
   "metadata": {},
   "source": [
    "# Informações Gerais do Dataset"
   ]
  },
  {
   "cell_type": "code",
   "execution_count": 35,
   "id": "3d407c6d",
   "metadata": {},
   "outputs": [
    {
     "name": "stdout",
     "output_type": "stream",
     "text": [
      "<class 'pandas.core.frame.DataFrame'>\n",
      "RangeIndex: 999 entries, 0 to 998\n",
      "Data columns (total 15 columns):\n",
      " #   Column         Non-Null Count  Dtype  \n",
      "---  ------         --------------  -----  \n",
      " 0   Series_Title   999 non-null    object \n",
      " 1   Released_Year  999 non-null    object \n",
      " 2   Certificate    898 non-null    object \n",
      " 3   Runtime        999 non-null    object \n",
      " 4   Genre          999 non-null    object \n",
      " 5   IMDB_Rating    999 non-null    float64\n",
      " 6   Overview       999 non-null    object \n",
      " 7   Meta_score     842 non-null    float64\n",
      " 8   Director       999 non-null    object \n",
      " 9   Star1          999 non-null    object \n",
      " 10  Star2          999 non-null    object \n",
      " 11  Star3          999 non-null    object \n",
      " 12  Star4          999 non-null    object \n",
      " 13  No_of_Votes    999 non-null    int64  \n",
      " 14  Gross          830 non-null    object \n",
      "dtypes: float64(2), int64(1), object(12)\n",
      "memory usage: 117.2+ KB\n"
     ]
    }
   ],
   "source": [
    "raw_df.info()"
   ]
  },
  {
   "cell_type": "markdown",
   "id": "df1b4f13",
   "metadata": {},
   "source": [
    "# Padronizações Globais (Sem Data Leakage)"
   ]
  },
  {
   "cell_type": "markdown",
   "id": "90211440",
   "metadata": {},
   "source": [
    "## Convertendo Released_Year, Gross e Runtime para numérico\n"
   ]
  },
  {
   "cell_type": "code",
   "execution_count": 4,
   "id": "34111932",
   "metadata": {},
   "outputs": [],
   "source": [
    "# =========================================\n",
    "# Convertendo Released_Year, Gross e Runtime para numérico\n",
    "# =========================================\n",
    "\n",
    "raw_df['Released_Year'] = pd.to_numeric(raw_df['Released_Year'].str.strip(), errors='coerce').astype('Int64')\n",
    "\n",
    "# Gross para float \n",
    "raw_df['Gross'] = (\n",
    "    raw_df['Gross']\n",
    "    .str.replace(r'[^0-9.]', '', regex=True)  \n",
    "    .replace('', pd.NA)                        \n",
    "    .astype('float')\n",
    ")\n",
    "\n",
    "# Runtime para minutos como inteiro (assumindo formato \"123 min\")\n",
    "raw_df['Runtime'] = (\n",
    "    raw_df['Runtime']\n",
    "    .str.extract(r'(\\d+)')  \n",
    "    .astype('Int64')         # converte para inteiro com suporte a NaN\n",
    ")\n"
   ]
  },
  {
   "cell_type": "markdown",
   "id": "433d9f4e",
   "metadata": {},
   "source": [
    "## Conversão de Colunas Não Numéricas para String"
   ]
  },
  {
   "cell_type": "code",
   "execution_count": 5,
   "id": "163d9d88",
   "metadata": {},
   "outputs": [],
   "source": [
    "for col in raw_df.select_dtypes(include=['object']).columns:\n",
    "    raw_df[col] = raw_df[col].astype('string')"
   ]
  },
  {
   "cell_type": "markdown",
   "id": "2cea0ecd",
   "metadata": {},
   "source": [
    "## Criando uma nova coluna: Faixa de IMDB_Rating\n",
    "\n",
    "> A criação desta coluna será útil para analisar a associação entre variáveis **qualitativas** (como elenco e diretores) e o **target**, transformado de contínuo para categórico.  \n",
    "> A hipótese é que **exista uma associação significativa** entre certos diretores ou atores e filmes com IMDB_Rating mais alto, podendo ser avaliada via **teste Qui-quadrado**.\n"
   ]
  },
  {
   "cell_type": "code",
   "execution_count": 6,
   "id": "1419dcc6",
   "metadata": {},
   "outputs": [
    {
     "data": {
      "text/html": [
       "<div>\n",
       "<style scoped>\n",
       "    .dataframe tbody tr th:only-of-type {\n",
       "        vertical-align: middle;\n",
       "    }\n",
       "\n",
       "    .dataframe tbody tr th {\n",
       "        vertical-align: top;\n",
       "    }\n",
       "\n",
       "    .dataframe thead th {\n",
       "        text-align: right;\n",
       "    }\n",
       "</style>\n",
       "<table border=\"1\" class=\"dataframe\">\n",
       "  <thead>\n",
       "    <tr style=\"text-align: right;\">\n",
       "      <th></th>\n",
       "      <th>IMDB_Rating</th>\n",
       "      <th>IMDB_Rating_Faixa</th>\n",
       "    </tr>\n",
       "  </thead>\n",
       "  <tbody>\n",
       "    <tr>\n",
       "      <th>0</th>\n",
       "      <td>9.2</td>\n",
       "      <td>Alta</td>\n",
       "    </tr>\n",
       "    <tr>\n",
       "      <th>1</th>\n",
       "      <td>9.0</td>\n",
       "      <td>Alta</td>\n",
       "    </tr>\n",
       "    <tr>\n",
       "      <th>2</th>\n",
       "      <td>9.0</td>\n",
       "      <td>Alta</td>\n",
       "    </tr>\n",
       "    <tr>\n",
       "      <th>3</th>\n",
       "      <td>9.0</td>\n",
       "      <td>Alta</td>\n",
       "    </tr>\n",
       "    <tr>\n",
       "      <th>4</th>\n",
       "      <td>8.9</td>\n",
       "      <td>Alta</td>\n",
       "    </tr>\n",
       "  </tbody>\n",
       "</table>\n",
       "</div>"
      ],
      "text/plain": [
       "   IMDB_Rating IMDB_Rating_Faixa\n",
       "0          9.2              Alta\n",
       "1          9.0              Alta\n",
       "2          9.0              Alta\n",
       "3          9.0              Alta\n",
       "4          8.9              Alta"
      ]
     },
     "execution_count": 6,
     "metadata": {},
     "output_type": "execute_result"
    }
   ],
   "source": [
    "# Definindo bins e labels\n",
    "#bins = [0, 5, 6, 7, 8, 9, 10]  # ajustar conforme a distribuição desejada\n",
    "#labels = ['Muito Baixo', 'Baixo', 'Médio', 'Alto', 'Muito Alto', 'Excelente']\n",
    "#Abordabem via quantiles\n",
    "quantiles = raw_df['IMDB_Rating'].quantile([0, 0.25, 0.5, 0.75, 1])\n",
    "labels     =  ['Baixa','Média-baixa','Média-alta','Alta'] \n",
    "raw_df['IMDB_Rating_Faixa'] = pd.cut(raw_df['IMDB_Rating'], bins=quantiles, labels=labels, include_lowest=True)\n",
    "\n",
    "raw_df[['IMDB_Rating', 'IMDB_Rating_Faixa']].head()"
   ]
  },
  {
   "cell_type": "code",
   "execution_count": 7,
   "id": "b998162a",
   "metadata": {},
   "outputs": [
    {
     "data": {
      "text/html": [
       "<div>\n",
       "<style scoped>\n",
       "    .dataframe tbody tr th:only-of-type {\n",
       "        vertical-align: middle;\n",
       "    }\n",
       "\n",
       "    .dataframe tbody tr th {\n",
       "        vertical-align: top;\n",
       "    }\n",
       "\n",
       "    .dataframe thead th {\n",
       "        text-align: right;\n",
       "    }\n",
       "</style>\n",
       "<table border=\"1\" class=\"dataframe\">\n",
       "  <thead>\n",
       "    <tr style=\"text-align: right;\">\n",
       "      <th></th>\n",
       "      <th>IMDB_Rating</th>\n",
       "      <th>IMDB_Rating_Faixa</th>\n",
       "    </tr>\n",
       "  </thead>\n",
       "  <tbody>\n",
       "    <tr>\n",
       "      <th>502</th>\n",
       "      <td>7.9</td>\n",
       "      <td>Média-baixa</td>\n",
       "    </tr>\n",
       "    <tr>\n",
       "      <th>433</th>\n",
       "      <td>8.0</td>\n",
       "      <td>Média-alta</td>\n",
       "    </tr>\n",
       "    <tr>\n",
       "      <th>972</th>\n",
       "      <td>7.6</td>\n",
       "      <td>Baixa</td>\n",
       "    </tr>\n",
       "    <tr>\n",
       "      <th>761</th>\n",
       "      <td>7.7</td>\n",
       "      <td>Baixa</td>\n",
       "    </tr>\n",
       "    <tr>\n",
       "      <th>532</th>\n",
       "      <td>7.9</td>\n",
       "      <td>Média-baixa</td>\n",
       "    </tr>\n",
       "    <tr>\n",
       "      <th>149</th>\n",
       "      <td>8.2</td>\n",
       "      <td>Alta</td>\n",
       "    </tr>\n",
       "    <tr>\n",
       "      <th>422</th>\n",
       "      <td>8.0</td>\n",
       "      <td>Média-alta</td>\n",
       "    </tr>\n",
       "    <tr>\n",
       "      <th>596</th>\n",
       "      <td>7.8</td>\n",
       "      <td>Média-baixa</td>\n",
       "    </tr>\n",
       "    <tr>\n",
       "      <th>929</th>\n",
       "      <td>7.6</td>\n",
       "      <td>Baixa</td>\n",
       "    </tr>\n",
       "    <tr>\n",
       "      <th>973</th>\n",
       "      <td>7.6</td>\n",
       "      <td>Baixa</td>\n",
       "    </tr>\n",
       "  </tbody>\n",
       "</table>\n",
       "</div>"
      ],
      "text/plain": [
       "     IMDB_Rating IMDB_Rating_Faixa\n",
       "502          7.9       Média-baixa\n",
       "433          8.0        Média-alta\n",
       "972          7.6             Baixa\n",
       "761          7.7             Baixa\n",
       "532          7.9       Média-baixa\n",
       "149          8.2              Alta\n",
       "422          8.0        Média-alta\n",
       "596          7.8       Média-baixa\n",
       "929          7.6             Baixa\n",
       "973          7.6             Baixa"
      ]
     },
     "execution_count": 7,
     "metadata": {},
     "output_type": "execute_result"
    }
   ],
   "source": [
    "raw_df[['IMDB_Rating', 'IMDB_Rating_Faixa']].sample(10)"
   ]
  },
  {
   "cell_type": "code",
   "execution_count": 8,
   "id": "acc8617d",
   "metadata": {},
   "outputs": [
    {
     "data": {
      "text/plain": [
       "IMDB_Rating_Faixa\n",
       "Baixa          280\n",
       "Média-alta     268\n",
       "Média-baixa    257\n",
       "Alta           194\n",
       "Name: count, dtype: int64"
      ]
     },
     "execution_count": 8,
     "metadata": {},
     "output_type": "execute_result"
    }
   ],
   "source": [
    "raw_df['IMDB_Rating_Faixa'].value_counts()"
   ]
  },
  {
   "cell_type": "markdown",
   "id": "1aace8ff",
   "metadata": {},
   "source": [
    "## Criando uma nova coluna: Faixa de Gross "
   ]
  },
  {
   "cell_type": "code",
   "execution_count": 9,
   "id": "80ea886b",
   "metadata": {},
   "outputs": [
    {
     "name": "stdout",
     "output_type": "stream",
     "text": [
      "1305.0 936662225.0\n"
     ]
    },
    {
     "data": {
      "text/html": [
       "<div>\n",
       "<style scoped>\n",
       "    .dataframe tbody tr th:only-of-type {\n",
       "        vertical-align: middle;\n",
       "    }\n",
       "\n",
       "    .dataframe tbody tr th {\n",
       "        vertical-align: top;\n",
       "    }\n",
       "\n",
       "    .dataframe thead th {\n",
       "        text-align: right;\n",
       "    }\n",
       "</style>\n",
       "<table border=\"1\" class=\"dataframe\">\n",
       "  <thead>\n",
       "    <tr style=\"text-align: right;\">\n",
       "      <th></th>\n",
       "      <th>Gross</th>\n",
       "      <th>Gross_Faixa</th>\n",
       "    </tr>\n",
       "  </thead>\n",
       "  <tbody>\n",
       "    <tr>\n",
       "      <th>527</th>\n",
       "      <td>40084041.0</td>\n",
       "      <td>Alto</td>\n",
       "    </tr>\n",
       "    <tr>\n",
       "      <th>804</th>\n",
       "      <td>22858926.0</td>\n",
       "      <td>Médio</td>\n",
       "    </tr>\n",
       "    <tr>\n",
       "      <th>865</th>\n",
       "      <td>52709.0</td>\n",
       "      <td>Baixo</td>\n",
       "    </tr>\n",
       "    <tr>\n",
       "      <th>260</th>\n",
       "      <td>600200.0</td>\n",
       "      <td>Baixo</td>\n",
       "    </tr>\n",
       "    <tr>\n",
       "      <th>251</th>\n",
       "      <td>17498804.0</td>\n",
       "      <td>Médio</td>\n",
       "    </tr>\n",
       "    <tr>\n",
       "      <th>954</th>\n",
       "      <td>36400491.0</td>\n",
       "      <td>Alto</td>\n",
       "    </tr>\n",
       "    <tr>\n",
       "      <th>341</th>\n",
       "      <td>216428042.0</td>\n",
       "      <td>Muito Alto</td>\n",
       "    </tr>\n",
       "    <tr>\n",
       "      <th>723</th>\n",
       "      <td>176040665.0</td>\n",
       "      <td>Muito Alto</td>\n",
       "    </tr>\n",
       "    <tr>\n",
       "      <th>393</th>\n",
       "      <td>515905.0</td>\n",
       "      <td>Baixo</td>\n",
       "    </tr>\n",
       "    <tr>\n",
       "      <th>163</th>\n",
       "      <td>67436818.0</td>\n",
       "      <td>Alto</td>\n",
       "    </tr>\n",
       "  </tbody>\n",
       "</table>\n",
       "</div>"
      ],
      "text/plain": [
       "           Gross Gross_Faixa\n",
       "527   40084041.0        Alto\n",
       "804   22858926.0       Médio\n",
       "865      52709.0       Baixo\n",
       "260     600200.0       Baixo\n",
       "251   17498804.0       Médio\n",
       "954   36400491.0        Alto\n",
       "341  216428042.0  Muito Alto\n",
       "723  176040665.0  Muito Alto\n",
       "393     515905.0       Baixo\n",
       "163   67436818.0        Alto"
      ]
     },
     "execution_count": 9,
     "metadata": {},
     "output_type": "execute_result"
    }
   ],
   "source": [
    "print(raw_df['Gross'].min(), raw_df['Gross'].max())\n",
    "\n",
    "# Criar quartis\n",
    "quartiles_gross = raw_df['Gross'].quantile([0, 0.25, 0.5, 0.75, 1])\n",
    "\n",
    "labels = ['Baixo', 'Médio', 'Alto', 'Muito Alto']\n",
    "\n",
    "raw_df['Gross_Faixa'] = pd.cut(\n",
    "    raw_df['Gross'],\n",
    "    bins=quartiles_gross,\n",
    "    labels=labels,\n",
    "    include_lowest=True\n",
    ")\n",
    "\n",
    "raw_df[['Gross', 'Gross_Faixa']].dropna().sample(10)\n"
   ]
  },
  {
   "cell_type": "code",
   "execution_count": 10,
   "id": "257c5215",
   "metadata": {},
   "outputs": [
    {
     "data": {
      "text/plain": [
       "Gross_Faixa\n",
       "Baixo         208\n",
       "Muito Alto    208\n",
       "Médio         207\n",
       "Alto          207\n",
       "Name: count, dtype: int64"
      ]
     },
     "execution_count": 10,
     "metadata": {},
     "output_type": "execute_result"
    }
   ],
   "source": [
    "raw_df['Gross_Faixa'].value_counts()"
   ]
  },
  {
   "cell_type": "code",
   "execution_count": 11,
   "id": "d60c3d63",
   "metadata": {},
   "outputs": [
    {
     "name": "stdout",
     "output_type": "stream",
     "text": [
      "<class 'pandas.core.frame.DataFrame'>\n",
      "RangeIndex: 999 entries, 0 to 998\n",
      "Data columns (total 17 columns):\n",
      " #   Column             Non-Null Count  Dtype   \n",
      "---  ------             --------------  -----   \n",
      " 0   Series_Title       999 non-null    string  \n",
      " 1   Released_Year      998 non-null    Int64   \n",
      " 2   Certificate        898 non-null    string  \n",
      " 3   Runtime            999 non-null    Int64   \n",
      " 4   Genre              999 non-null    string  \n",
      " 5   IMDB_Rating        999 non-null    float64 \n",
      " 6   Overview           999 non-null    string  \n",
      " 7   Meta_score         842 non-null    float64 \n",
      " 8   Director           999 non-null    string  \n",
      " 9   Star1              999 non-null    string  \n",
      " 10  Star2              999 non-null    string  \n",
      " 11  Star3              999 non-null    string  \n",
      " 12  Star4              999 non-null    string  \n",
      " 13  No_of_Votes        999 non-null    int64   \n",
      " 14  Gross              830 non-null    float64 \n",
      " 15  IMDB_Rating_Faixa  999 non-null    category\n",
      " 16  Gross_Faixa        830 non-null    category\n",
      "dtypes: Int64(2), category(2), float64(3), int64(1), string(9)\n",
      "memory usage: 121.5 KB\n"
     ]
    }
   ],
   "source": [
    "raw_df.info()"
   ]
  },
  {
   "cell_type": "code",
   "execution_count": 45,
   "id": "dac24c37",
   "metadata": {},
   "outputs": [
    {
     "data": {
      "text/html": [
       "<div>\n",
       "<style scoped>\n",
       "    .dataframe tbody tr th:only-of-type {\n",
       "        vertical-align: middle;\n",
       "    }\n",
       "\n",
       "    .dataframe tbody tr th {\n",
       "        vertical-align: top;\n",
       "    }\n",
       "\n",
       "    .dataframe thead th {\n",
       "        text-align: right;\n",
       "    }\n",
       "</style>\n",
       "<table border=\"1\" class=\"dataframe\">\n",
       "  <thead>\n",
       "    <tr style=\"text-align: right;\">\n",
       "      <th></th>\n",
       "      <th>Series_Title</th>\n",
       "      <th>Released_Year</th>\n",
       "      <th>Certificate</th>\n",
       "      <th>Runtime</th>\n",
       "      <th>Genre</th>\n",
       "      <th>IMDB_Rating</th>\n",
       "      <th>Overview</th>\n",
       "      <th>Meta_score</th>\n",
       "      <th>Director</th>\n",
       "      <th>Star1</th>\n",
       "      <th>Star2</th>\n",
       "      <th>Star3</th>\n",
       "      <th>Star4</th>\n",
       "      <th>No_of_Votes</th>\n",
       "      <th>Gross</th>\n",
       "      <th>IMDB_Rating_Faixa</th>\n",
       "      <th>Gross_Faixa</th>\n",
       "    </tr>\n",
       "  </thead>\n",
       "  <tbody>\n",
       "    <tr>\n",
       "      <th>0</th>\n",
       "      <td>The Godfather</td>\n",
       "      <td>1972</td>\n",
       "      <td>A</td>\n",
       "      <td>175</td>\n",
       "      <td>Crime, Drama</td>\n",
       "      <td>9.2</td>\n",
       "      <td>An organized crime dynasty's aging patriarch t...</td>\n",
       "      <td>100.0</td>\n",
       "      <td>Francis Ford Coppola</td>\n",
       "      <td>Marlon Brando</td>\n",
       "      <td>Al Pacino</td>\n",
       "      <td>James Caan</td>\n",
       "      <td>Diane Keaton</td>\n",
       "      <td>1620367</td>\n",
       "      <td>134966411.0</td>\n",
       "      <td>Alta</td>\n",
       "      <td>Muito Alto</td>\n",
       "    </tr>\n",
       "    <tr>\n",
       "      <th>1</th>\n",
       "      <td>The Dark Knight</td>\n",
       "      <td>2008</td>\n",
       "      <td>UA</td>\n",
       "      <td>152</td>\n",
       "      <td>Action, Crime, Drama</td>\n",
       "      <td>9.0</td>\n",
       "      <td>When the menace known as the Joker wreaks havo...</td>\n",
       "      <td>84.0</td>\n",
       "      <td>Christopher Nolan</td>\n",
       "      <td>Christian Bale</td>\n",
       "      <td>Heath Ledger</td>\n",
       "      <td>Aaron Eckhart</td>\n",
       "      <td>Michael Caine</td>\n",
       "      <td>2303232</td>\n",
       "      <td>534858444.0</td>\n",
       "      <td>Alta</td>\n",
       "      <td>Muito Alto</td>\n",
       "    </tr>\n",
       "  </tbody>\n",
       "</table>\n",
       "</div>"
      ],
      "text/plain": [
       "      Series_Title  Released_Year Certificate  Runtime                 Genre  \\\n",
       "0    The Godfather           1972           A      175          Crime, Drama   \n",
       "1  The Dark Knight           2008          UA      152  Action, Crime, Drama   \n",
       "\n",
       "   IMDB_Rating                                           Overview  Meta_score  \\\n",
       "0          9.2  An organized crime dynasty's aging patriarch t...       100.0   \n",
       "1          9.0  When the menace known as the Joker wreaks havo...        84.0   \n",
       "\n",
       "               Director           Star1         Star2          Star3  \\\n",
       "0  Francis Ford Coppola   Marlon Brando     Al Pacino     James Caan   \n",
       "1     Christopher Nolan  Christian Bale  Heath Ledger  Aaron Eckhart   \n",
       "\n",
       "           Star4  No_of_Votes        Gross IMDB_Rating_Faixa Gross_Faixa  \n",
       "0   Diane Keaton      1620367  134966411.0              Alta  Muito Alto  \n",
       "1  Michael Caine      2303232  534858444.0              Alta  Muito Alto  "
      ]
     },
     "execution_count": 45,
     "metadata": {},
     "output_type": "execute_result"
    }
   ],
   "source": [
    "raw_df.head(2)"
   ]
  },
  {
   "cell_type": "code",
   "execution_count": 14,
   "id": "3518f89d",
   "metadata": {},
   "outputs": [
    {
     "data": {
      "text/html": [
       "<div>\n",
       "<style scoped>\n",
       "    .dataframe tbody tr th:only-of-type {\n",
       "        vertical-align: middle;\n",
       "    }\n",
       "\n",
       "    .dataframe tbody tr th {\n",
       "        vertical-align: top;\n",
       "    }\n",
       "\n",
       "    .dataframe thead th {\n",
       "        text-align: right;\n",
       "    }\n",
       "</style>\n",
       "<table border=\"1\" class=\"dataframe\">\n",
       "  <thead>\n",
       "    <tr style=\"text-align: right;\">\n",
       "      <th>Gross_Faixa</th>\n",
       "      <th>Baixo</th>\n",
       "      <th>Médio</th>\n",
       "      <th>Alto</th>\n",
       "      <th>Muito Alto</th>\n",
       "    </tr>\n",
       "    <tr>\n",
       "      <th>IMDB_Rating_Faixa</th>\n",
       "      <th></th>\n",
       "      <th></th>\n",
       "      <th></th>\n",
       "      <th></th>\n",
       "    </tr>\n",
       "  </thead>\n",
       "  <tbody>\n",
       "    <tr>\n",
       "      <th>Baixa</th>\n",
       "      <td>47</td>\n",
       "      <td>61</td>\n",
       "      <td>78</td>\n",
       "      <td>59</td>\n",
       "    </tr>\n",
       "    <tr>\n",
       "      <th>Média-baixa</th>\n",
       "      <td>53</td>\n",
       "      <td>56</td>\n",
       "      <td>55</td>\n",
       "      <td>47</td>\n",
       "    </tr>\n",
       "    <tr>\n",
       "      <th>Média-alta</th>\n",
       "      <td>67</td>\n",
       "      <td>50</td>\n",
       "      <td>44</td>\n",
       "      <td>51</td>\n",
       "    </tr>\n",
       "    <tr>\n",
       "      <th>Alta</th>\n",
       "      <td>41</td>\n",
       "      <td>40</td>\n",
       "      <td>30</td>\n",
       "      <td>51</td>\n",
       "    </tr>\n",
       "  </tbody>\n",
       "</table>\n",
       "</div>"
      ],
      "text/plain": [
       "Gross_Faixa        Baixo  Médio  Alto  Muito Alto\n",
       "IMDB_Rating_Faixa                                \n",
       "Baixa                 47     61    78          59\n",
       "Média-baixa           53     56    55          47\n",
       "Média-alta            67     50    44          51\n",
       "Alta                  41     40    30          51"
      ]
     },
     "execution_count": 14,
     "metadata": {},
     "output_type": "execute_result"
    }
   ],
   "source": [
    "cross_tab = pd.crosstab(raw_df['IMDB_Rating_Faixa'], raw_df['Gross_Faixa'])\n",
    "cross_tab"
   ]
  },
  {
   "cell_type": "markdown",
   "id": "b4be0a82",
   "metadata": {},
   "source": [
    "# EDA \n",
    "## Análise Univariada\n",
    "\n",
    "Nesta etapa, analisamos cada variável individualmente para entender sua **distribuição, presença de valores ausentes, outliers e características gerais**.\n"
   ]
  },
  {
   "cell_type": "code",
   "execution_count": 46,
   "id": "7c780efd",
   "metadata": {},
   "outputs": [],
   "source": [
    "raw_df_info = summarize_dataframe(raw_df)  # Ver função definida em src/functions.py"
   ]
  },
  {
   "cell_type": "markdown",
   "id": "f4b71905",
   "metadata": {},
   "source": [
    "### Informações Gerais "
   ]
  },
  {
   "cell_type": "code",
   "execution_count": 47,
   "id": "2f83a73e",
   "metadata": {},
   "outputs": [
    {
     "data": {
      "text/html": [
       "<div>\n",
       "<style scoped>\n",
       "    .dataframe tbody tr th:only-of-type {\n",
       "        vertical-align: middle;\n",
       "    }\n",
       "\n",
       "    .dataframe tbody tr th {\n",
       "        vertical-align: top;\n",
       "    }\n",
       "\n",
       "    .dataframe thead th {\n",
       "        text-align: right;\n",
       "    }\n",
       "</style>\n",
       "<table border=\"1\" class=\"dataframe\">\n",
       "  <thead>\n",
       "    <tr style=\"text-align: right;\">\n",
       "      <th></th>\n",
       "      <th>Num NAs</th>\n",
       "      <th>Percent NAs</th>\n",
       "      <th>Num unique</th>\n",
       "      <th>Data Type</th>\n",
       "    </tr>\n",
       "  </thead>\n",
       "  <tbody>\n",
       "    <tr>\n",
       "      <th>Series_Title</th>\n",
       "      <td>0</td>\n",
       "      <td>0.00</td>\n",
       "      <td>998</td>\n",
       "      <td>string[python]</td>\n",
       "    </tr>\n",
       "    <tr>\n",
       "      <th>Released_Year</th>\n",
       "      <td>1</td>\n",
       "      <td>0.10</td>\n",
       "      <td>99</td>\n",
       "      <td>Int64</td>\n",
       "    </tr>\n",
       "    <tr>\n",
       "      <th>Certificate</th>\n",
       "      <td>101</td>\n",
       "      <td>10.11</td>\n",
       "      <td>16</td>\n",
       "      <td>string[python]</td>\n",
       "    </tr>\n",
       "    <tr>\n",
       "      <th>Runtime</th>\n",
       "      <td>0</td>\n",
       "      <td>0.00</td>\n",
       "      <td>140</td>\n",
       "      <td>Int64</td>\n",
       "    </tr>\n",
       "    <tr>\n",
       "      <th>Genre</th>\n",
       "      <td>0</td>\n",
       "      <td>0.00</td>\n",
       "      <td>202</td>\n",
       "      <td>string[python]</td>\n",
       "    </tr>\n",
       "    <tr>\n",
       "      <th>IMDB_Rating</th>\n",
       "      <td>0</td>\n",
       "      <td>0.00</td>\n",
       "      <td>16</td>\n",
       "      <td>float64</td>\n",
       "    </tr>\n",
       "    <tr>\n",
       "      <th>Overview</th>\n",
       "      <td>0</td>\n",
       "      <td>0.00</td>\n",
       "      <td>999</td>\n",
       "      <td>string[python]</td>\n",
       "    </tr>\n",
       "    <tr>\n",
       "      <th>Meta_score</th>\n",
       "      <td>157</td>\n",
       "      <td>15.72</td>\n",
       "      <td>63</td>\n",
       "      <td>float64</td>\n",
       "    </tr>\n",
       "    <tr>\n",
       "      <th>Director</th>\n",
       "      <td>0</td>\n",
       "      <td>0.00</td>\n",
       "      <td>548</td>\n",
       "      <td>string[python]</td>\n",
       "    </tr>\n",
       "    <tr>\n",
       "      <th>Star1</th>\n",
       "      <td>0</td>\n",
       "      <td>0.00</td>\n",
       "      <td>659</td>\n",
       "      <td>string[python]</td>\n",
       "    </tr>\n",
       "    <tr>\n",
       "      <th>Star2</th>\n",
       "      <td>0</td>\n",
       "      <td>0.00</td>\n",
       "      <td>840</td>\n",
       "      <td>string[python]</td>\n",
       "    </tr>\n",
       "    <tr>\n",
       "      <th>Star3</th>\n",
       "      <td>0</td>\n",
       "      <td>0.00</td>\n",
       "      <td>890</td>\n",
       "      <td>string[python]</td>\n",
       "    </tr>\n",
       "    <tr>\n",
       "      <th>Star4</th>\n",
       "      <td>0</td>\n",
       "      <td>0.00</td>\n",
       "      <td>938</td>\n",
       "      <td>string[python]</td>\n",
       "    </tr>\n",
       "    <tr>\n",
       "      <th>No_of_Votes</th>\n",
       "      <td>0</td>\n",
       "      <td>0.00</td>\n",
       "      <td>998</td>\n",
       "      <td>int64</td>\n",
       "    </tr>\n",
       "    <tr>\n",
       "      <th>Gross</th>\n",
       "      <td>169</td>\n",
       "      <td>16.92</td>\n",
       "      <td>822</td>\n",
       "      <td>float64</td>\n",
       "    </tr>\n",
       "    <tr>\n",
       "      <th>IMDB_Rating_Faixa</th>\n",
       "      <td>0</td>\n",
       "      <td>0.00</td>\n",
       "      <td>4</td>\n",
       "      <td>category</td>\n",
       "    </tr>\n",
       "    <tr>\n",
       "      <th>Gross_Faixa</th>\n",
       "      <td>169</td>\n",
       "      <td>16.92</td>\n",
       "      <td>4</td>\n",
       "      <td>category</td>\n",
       "    </tr>\n",
       "  </tbody>\n",
       "</table>\n",
       "</div>"
      ],
      "text/plain": [
       "                   Num NAs  Percent NAs  Num unique       Data Type\n",
       "Series_Title             0         0.00         998  string[python]\n",
       "Released_Year            1         0.10          99           Int64\n",
       "Certificate            101        10.11          16  string[python]\n",
       "Runtime                  0         0.00         140           Int64\n",
       "Genre                    0         0.00         202  string[python]\n",
       "IMDB_Rating              0         0.00          16         float64\n",
       "Overview                 0         0.00         999  string[python]\n",
       "Meta_score             157        15.72          63         float64\n",
       "Director                 0         0.00         548  string[python]\n",
       "Star1                    0         0.00         659  string[python]\n",
       "Star2                    0         0.00         840  string[python]\n",
       "Star3                    0         0.00         890  string[python]\n",
       "Star4                    0         0.00         938  string[python]\n",
       "No_of_Votes              0         0.00         998           int64\n",
       "Gross                  169        16.92         822         float64\n",
       "IMDB_Rating_Faixa        0         0.00           4        category\n",
       "Gross_Faixa            169        16.92           4        category"
      ]
     },
     "execution_count": 47,
     "metadata": {},
     "output_type": "execute_result"
    }
   ],
   "source": [
    "raw_df_info['info']"
   ]
  },
  {
   "cell_type": "markdown",
   "id": "7423ecf4",
   "metadata": {},
   "source": [
    "### Informações estatísticas descritivas para colunas numéricas"
   ]
  },
  {
   "cell_type": "code",
   "execution_count": 48,
   "id": "1f75e21c",
   "metadata": {},
   "outputs": [
    {
     "data": {
      "text/html": [
       "<div>\n",
       "<style scoped>\n",
       "    .dataframe tbody tr th:only-of-type {\n",
       "        vertical-align: middle;\n",
       "    }\n",
       "\n",
       "    .dataframe tbody tr th {\n",
       "        vertical-align: top;\n",
       "    }\n",
       "\n",
       "    .dataframe thead th {\n",
       "        text-align: right;\n",
       "    }\n",
       "</style>\n",
       "<table border=\"1\" class=\"dataframe\">\n",
       "  <thead>\n",
       "    <tr style=\"text-align: right;\">\n",
       "      <th></th>\n",
       "      <th>attribute</th>\n",
       "      <th>mean</th>\n",
       "      <th>median</th>\n",
       "      <th>std</th>\n",
       "      <th>iqr</th>\n",
       "      <th>min</th>\n",
       "      <th>max</th>\n",
       "      <th>range</th>\n",
       "      <th>skew</th>\n",
       "      <th>kurtosis</th>\n",
       "      <th>outliers_count</th>\n",
       "      <th>outliers_percent</th>\n",
       "    </tr>\n",
       "  </thead>\n",
       "  <tbody>\n",
       "    <tr>\n",
       "      <th>0</th>\n",
       "      <td>Released_Year</td>\n",
       "      <td>1991.214429</td>\n",
       "      <td>1999.0</td>\n",
       "      <td>23.308539</td>\n",
       "      <td>33.0</td>\n",
       "      <td>1920.0</td>\n",
       "      <td>2020.0</td>\n",
       "      <td>100.0</td>\n",
       "      <td>-0.93854</td>\n",
       "      <td>-0.024782</td>\n",
       "      <td>7</td>\n",
       "      <td>0.7</td>\n",
       "    </tr>\n",
       "    <tr>\n",
       "      <th>1</th>\n",
       "      <td>Runtime</td>\n",
       "      <td>122.871872</td>\n",
       "      <td>119.0</td>\n",
       "      <td>28.101227</td>\n",
       "      <td>34.0</td>\n",
       "      <td>45.0</td>\n",
       "      <td>321.0</td>\n",
       "      <td>276.0</td>\n",
       "      <td>1.209877</td>\n",
       "      <td>3.428907</td>\n",
       "      <td>29</td>\n",
       "      <td>2.9</td>\n",
       "    </tr>\n",
       "    <tr>\n",
       "      <th>2</th>\n",
       "      <td>IMDB_Rating</td>\n",
       "      <td>7.947948</td>\n",
       "      <td>7.9</td>\n",
       "      <td>0.27229</td>\n",
       "      <td>0.4</td>\n",
       "      <td>7.6</td>\n",
       "      <td>9.2</td>\n",
       "      <td>1.6</td>\n",
       "      <td>0.946693</td>\n",
       "      <td>1.058397</td>\n",
       "      <td>12</td>\n",
       "      <td>1.2</td>\n",
       "    </tr>\n",
       "    <tr>\n",
       "      <th>3</th>\n",
       "      <td>Meta_score</td>\n",
       "      <td>77.969121</td>\n",
       "      <td>79.0</td>\n",
       "      <td>12.383257</td>\n",
       "      <td>17.0</td>\n",
       "      <td>28.0</td>\n",
       "      <td>100.0</td>\n",
       "      <td>72.0</td>\n",
       "      <td>-0.604316</td>\n",
       "      <td>0.416517</td>\n",
       "      <td>7</td>\n",
       "      <td>0.7</td>\n",
       "    </tr>\n",
       "    <tr>\n",
       "      <th>4</th>\n",
       "      <td>No_of_Votes</td>\n",
       "      <td>271621.422422</td>\n",
       "      <td>138356.0</td>\n",
       "      <td>320912.621055</td>\n",
       "      <td>317696.0</td>\n",
       "      <td>25088.0</td>\n",
       "      <td>2303232.0</td>\n",
       "      <td>2278144.0</td>\n",
       "      <td>2.194351</td>\n",
       "      <td>6.041324</td>\n",
       "      <td>66</td>\n",
       "      <td>6.61</td>\n",
       "    </tr>\n",
       "    <tr>\n",
       "      <th>5</th>\n",
       "      <td>Gross</td>\n",
       "      <td>68082574.104819</td>\n",
       "      <td>23457439.5</td>\n",
       "      <td>109807553.385723</td>\n",
       "      <td>77631001.75</td>\n",
       "      <td>1305.0</td>\n",
       "      <td>936662225.0</td>\n",
       "      <td>936660920.0</td>\n",
       "      <td>3.127745</td>\n",
       "      <td>13.894054</td>\n",
       "      <td>88</td>\n",
       "      <td>8.81</td>\n",
       "    </tr>\n",
       "  </tbody>\n",
       "</table>\n",
       "</div>"
      ],
      "text/plain": [
       "       attribute             mean      median               std          iqr  \\\n",
       "0  Released_Year      1991.214429      1999.0         23.308539         33.0   \n",
       "1        Runtime       122.871872       119.0         28.101227         34.0   \n",
       "2    IMDB_Rating         7.947948         7.9           0.27229          0.4   \n",
       "3     Meta_score        77.969121        79.0         12.383257         17.0   \n",
       "4    No_of_Votes    271621.422422    138356.0     320912.621055     317696.0   \n",
       "5          Gross  68082574.104819  23457439.5  109807553.385723  77631001.75   \n",
       "\n",
       "       min          max        range      skew   kurtosis  outliers_count  \\\n",
       "0   1920.0       2020.0        100.0  -0.93854  -0.024782               7   \n",
       "1     45.0        321.0        276.0  1.209877   3.428907              29   \n",
       "2      7.6          9.2          1.6  0.946693   1.058397              12   \n",
       "3     28.0        100.0         72.0 -0.604316   0.416517               7   \n",
       "4  25088.0    2303232.0    2278144.0  2.194351   6.041324              66   \n",
       "5   1305.0  936662225.0  936660920.0  3.127745  13.894054              88   \n",
       "\n",
       "   outliers_percent  \n",
       "0               0.7  \n",
       "1               2.9  \n",
       "2               1.2  \n",
       "3               0.7  \n",
       "4              6.61  \n",
       "5              8.81  "
      ]
     },
     "execution_count": 48,
     "metadata": {},
     "output_type": "execute_result"
    }
   ],
   "source": [
    "raw_df_info['numeric_stats']"
   ]
  },
  {
   "cell_type": "markdown",
   "id": "38a4f258",
   "metadata": {},
   "source": [
    "### Conclusão\n",
    "\n",
    "Observando as estatísticas descritivas:\n",
    "\n",
    "- **Todas as variáveis numéricas possuem outliers.**  \n",
    "- **Média e mediana** estão próximas para a maioria das variáveis, **exceto `No_of_Votes` e `Gross`**, que apresentam divergência significativa.  \n",
    "- Nenhuma variável apresenta **simultaneamente kurtosis próxima de 3 e skew próximo de 0**, indicando que **nenhuma segue distribuição normal**.  \n",
    "- As variáveis com média próxima da mediana têm **proporção de outliers menor**, enquanto `No_of_Votes` e `Gross` apresentam:\n",
    "  - `No_of_Votes`: skew > 2, kurtosis > 6, ~6% de outliers  \n",
    "  - `Gross`: skew ≈ 3.13, kurtosis ≈ 13.89, ~9% de outliers  \n",
    "\n",
    "> Em resumo, mesmo variáveis com média próxima da mediana têm alguma assimetria, mas as exceções (`No_of_Votes` e `Gross`) mostram forte não normalidade e maior quantidade de outliers."
   ]
  },
  {
   "cell_type": "markdown",
   "id": "7fc7d241",
   "metadata": {},
   "source": [
    "### Informações estatísticas descritivas para colunas qualitativas "
   ]
  },
  {
   "cell_type": "code",
   "execution_count": 49,
   "id": "c26344ea",
   "metadata": {},
   "outputs": [
    {
     "data": {
      "text/html": [
       "<div>\n",
       "<style scoped>\n",
       "    .dataframe tbody tr th:only-of-type {\n",
       "        vertical-align: middle;\n",
       "    }\n",
       "\n",
       "    .dataframe tbody tr th {\n",
       "        vertical-align: top;\n",
       "    }\n",
       "\n",
       "    .dataframe thead th {\n",
       "        text-align: right;\n",
       "    }\n",
       "</style>\n",
       "<table border=\"1\" class=\"dataframe\">\n",
       "  <thead>\n",
       "    <tr style=\"text-align: right;\">\n",
       "      <th></th>\n",
       "      <th>attribute</th>\n",
       "      <th>top</th>\n",
       "      <th>top_freq</th>\n",
       "      <th>top_percent</th>\n",
       "    </tr>\n",
       "  </thead>\n",
       "  <tbody>\n",
       "    <tr>\n",
       "      <th>0</th>\n",
       "      <td>Series_Title</td>\n",
       "      <td>Drishyam</td>\n",
       "      <td>2</td>\n",
       "      <td>0.20</td>\n",
       "    </tr>\n",
       "    <tr>\n",
       "      <th>1</th>\n",
       "      <td>Certificate</td>\n",
       "      <td>U</td>\n",
       "      <td>234</td>\n",
       "      <td>26.06</td>\n",
       "    </tr>\n",
       "    <tr>\n",
       "      <th>2</th>\n",
       "      <td>Genre</td>\n",
       "      <td>Drama</td>\n",
       "      <td>84</td>\n",
       "      <td>8.41</td>\n",
       "    </tr>\n",
       "    <tr>\n",
       "      <th>3</th>\n",
       "      <td>Overview</td>\n",
       "      <td>\"Documentary\" about a man who can look and act...</td>\n",
       "      <td>1</td>\n",
       "      <td>0.10</td>\n",
       "    </tr>\n",
       "    <tr>\n",
       "      <th>4</th>\n",
       "      <td>Director</td>\n",
       "      <td>Alfred Hitchcock</td>\n",
       "      <td>14</td>\n",
       "      <td>1.40</td>\n",
       "    </tr>\n",
       "    <tr>\n",
       "      <th>5</th>\n",
       "      <td>Star1</td>\n",
       "      <td>Tom Hanks</td>\n",
       "      <td>12</td>\n",
       "      <td>1.20</td>\n",
       "    </tr>\n",
       "    <tr>\n",
       "      <th>6</th>\n",
       "      <td>Star2</td>\n",
       "      <td>Emma Watson</td>\n",
       "      <td>7</td>\n",
       "      <td>0.70</td>\n",
       "    </tr>\n",
       "    <tr>\n",
       "      <th>7</th>\n",
       "      <td>Star3</td>\n",
       "      <td>Rupert Grint</td>\n",
       "      <td>5</td>\n",
       "      <td>0.50</td>\n",
       "    </tr>\n",
       "    <tr>\n",
       "      <th>8</th>\n",
       "      <td>Star4</td>\n",
       "      <td>Michael Caine</td>\n",
       "      <td>4</td>\n",
       "      <td>0.40</td>\n",
       "    </tr>\n",
       "    <tr>\n",
       "      <th>9</th>\n",
       "      <td>IMDB_Rating_Faixa</td>\n",
       "      <td>Baixa</td>\n",
       "      <td>280</td>\n",
       "      <td>28.03</td>\n",
       "    </tr>\n",
       "    <tr>\n",
       "      <th>10</th>\n",
       "      <td>Gross_Faixa</td>\n",
       "      <td>Baixo</td>\n",
       "      <td>208</td>\n",
       "      <td>25.06</td>\n",
       "    </tr>\n",
       "  </tbody>\n",
       "</table>\n",
       "</div>"
      ],
      "text/plain": [
       "            attribute                                                top  \\\n",
       "0        Series_Title                                           Drishyam   \n",
       "1         Certificate                                                  U   \n",
       "2               Genre                                              Drama   \n",
       "3            Overview  \"Documentary\" about a man who can look and act...   \n",
       "4            Director                                   Alfred Hitchcock   \n",
       "5               Star1                                          Tom Hanks   \n",
       "6               Star2                                        Emma Watson   \n",
       "7               Star3                                       Rupert Grint   \n",
       "8               Star4                                      Michael Caine   \n",
       "9   IMDB_Rating_Faixa                                              Baixa   \n",
       "10        Gross_Faixa                                              Baixo   \n",
       "\n",
       "    top_freq  top_percent  \n",
       "0          2         0.20  \n",
       "1        234        26.06  \n",
       "2         84         8.41  \n",
       "3          1         0.10  \n",
       "4         14         1.40  \n",
       "5         12         1.20  \n",
       "6          7         0.70  \n",
       "7          5         0.50  \n",
       "8          4         0.40  \n",
       "9        280        28.03  \n",
       "10       208        25.06  "
      ]
     },
     "execution_count": 49,
     "metadata": {},
     "output_type": "execute_result"
    }
   ],
   "source": [
    "raw_df_info['categorical_stats']"
   ]
  },
  {
   "cell_type": "markdown",
   "id": "9b003041",
   "metadata": {},
   "source": [
    "### Resumo do Dataset\n",
    "\n",
    "#### 1 Valores ausentes (NAs)\n",
    "\n",
    "| Variável       | NAs  | %      |\n",
    "|----------------|------|--------|\n",
    "| Released_Year  | 1    | 0.1%   |\n",
    "| Certificate    | 101  | 10.11% |\n",
    "| Meta_score     | 157  | 15.72% |\n",
    "| Gross          | 169  | 16.92% |\n",
    "\n",
    "> Observação: Apenas `Released_Year` tem NA desprezível. `Certificate`, `Meta_score` e `Gross` podem requerer imputação ou tratamento específico.\n",
    "\n",
    "---\n",
    "\n",
    "#### 2 Número de valores únicos\n",
    "\n",
    "| Variável        | Unique |\n",
    "|-----------------|--------|\n",
    "| Released_Year   | 99     |\n",
    "| Certificate     | 16     |\n",
    "| Runtime         | 140    |\n",
    "| Genre           | 202    |\n",
    "| IMDB_Rating     | 16     |\n",
    "| Meta_score      | 63     |\n",
    "| Director        | 548    |\n",
    "| Star1           | 659    |\n",
    "| Star2           | 840    |\n",
    "| Star3           | 890    |\n",
    "| Star4           | 938    |\n",
    "\n",
    "> Observação: Variáveis de alta cardinalidade (`Director` e elenco) podem exigir encoding especial ou agregações.\n",
    "\n",
    "---\n",
    "\n",
    "#### 3 Moda (valor mais frequente)\n",
    "\n",
    "| Variável | Valor mais frequente | Frequência | %    |\n",
    "|----------|-------------------|------------|------|\n",
    "| Genre    | Drama             | 84         | 8.41%|\n",
    "| Director | Alfred Hitchcock  | 14         | 1.40%|\n",
    "| Star1    | Tom Hanks         | 12         | 1.20%|\n",
    "| Star2    | Emma Watson       | 7          | 0.70%|\n",
    "| Star3    | Rupert Grint      | 5          | 0.50%|\n",
    "| Star4    | Michael Caine     | 4          | 0.40%|\n",
    "\n",
    "> Observação: Nenhuma categoria domina significativamente, indicando alta dispersão (ou seja, alta diversidade ou baixa concentração) nos dados de diretor e elenco.\n",
    "\n",
    "---\n",
    "\n",
    "#### 4 Variáveis numéricas\n",
    "\n",
    "- Todas possuem **outliers**.  \n",
    "- Média próxima da mediana para todas, **exceto `No_of_Votes` e `Gross`**.  \n",
    "- Nenhuma variável apresenta simultaneamente **kurtosis ≈ 3** e **skew ≈ 0**, ou seja, não há forte evidência de normalidade.\n",
    "\n",
    "> Observação: Modelos que assumem normalidade podem exigir **transformações logarítmicas ou Box-Cox**.\n",
    "\n",
    "---\n",
    "\n",
    "#### 5 Observações e recomendações\n",
    "\n",
    "1. **Valores ausentes:**  \n",
    "   - `Gross` e `Meta_score`: considerar imputação pela mediana ou modelo.  \n",
    "   - `Certificate`: criar categoria \"Unknown\" ou similar.\n",
    "2. **Variáveis categóricas de alta cardinalidade:**  \n",
    "   - Usar agregações  \n",
    "   - Target encoding ou encoding baseado em frequência.\n",
    "3. **Outliers em variáveis numéricas:**  \n",
    "   - Avaliar remoção ou transformação (log, winsorize).  \n",
    "4. **Distribuição:**  \n",
    "   - Transformar variáveis com skew alto para atender modelos lineares."
   ]
  },
  {
   "cell_type": "markdown",
   "id": "793737a6",
   "metadata": {},
   "source": [
    "##  Distribuições e Box Plot"
   ]
  },
  {
   "cell_type": "markdown",
   "id": "48a6853c",
   "metadata": {},
   "source": [
    "### Variaveis numericas \n",
    "#### IMDB_Rating (Target) "
   ]
  },
  {
   "cell_type": "code",
   "execution_count": null,
   "id": "bd637fc6",
   "metadata": {},
   "outputs": [
    {
     "data": {
      "application/vnd.plotly.v1+json": {
       "config": {
        "plotlyServerURL": "https://plot.ly"
       },
       "data": [
        {
         "name": "Histogram",
         "nbinsx": 30,
         "opacity": 0.7,
         "type": "histogram",
         "x": {
          "bdata": "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",
          "dtype": "f8"
         }
        },
        {
         "line": {
          "color": "red"
         },
         "mode": "lines",
         "name": "KDE",
         "type": "scatter",
         "x": {
          "bdata": "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",
          "dtype": "f8"
         },
         "y": {
          "bdata": "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",
          "dtype": "f8"
         }
        }
       ],
       "layout": {
        "height": 400,
        "template": {
         "data": {
          "bar": [
           {
            "error_x": {
             "color": "#2a3f5f"
            },
            "error_y": {
             "color": "#2a3f5f"
            },
            "marker": {
             "line": {
              "color": "#E5ECF6",
              "width": 0.5
             },
             "pattern": {
              "fillmode": "overlay",
              "size": 10,
              "solidity": 0.2
             }
            },
            "type": "bar"
           }
          ],
          "barpolar": [
           {
            "marker": {
             "line": {
              "color": "#E5ECF6",
              "width": 0.5
             },
             "pattern": {
              "fillmode": "overlay",
              "size": 10,
              "solidity": 0.2
             }
            },
            "type": "barpolar"
           }
          ],
          "carpet": [
           {
            "aaxis": {
             "endlinecolor": "#2a3f5f",
             "gridcolor": "white",
             "linecolor": "white",
             "minorgridcolor": "white",
             "startlinecolor": "#2a3f5f"
            },
            "baxis": {
             "endlinecolor": "#2a3f5f",
             "gridcolor": "white",
             "linecolor": "white",
             "minorgridcolor": "white",
             "startlinecolor": "#2a3f5f"
            },
            "type": "carpet"
           }
          ],
          "choropleth": [
           {
            "colorbar": {
             "outlinewidth": 0,
             "ticks": ""
            },
            "type": "choropleth"
           }
          ],
          "contour": [
           {
            "colorbar": {
             "outlinewidth": 0,
             "ticks": ""
            },
            "colorscale": [
             [
              0,
              "#0d0887"
             ],
             [
              0.1111111111111111,
              "#46039f"
             ],
             [
              0.2222222222222222,
              "#7201a8"
             ],
             [
              0.3333333333333333,
              "#9c179e"
             ],
             [
              0.4444444444444444,
              "#bd3786"
             ],
             [
              0.5555555555555556,
              "#d8576b"
             ],
             [
              0.6666666666666666,
              "#ed7953"
             ],
             [
              0.7777777777777778,
              "#fb9f3a"
             ],
             [
              0.8888888888888888,
              "#fdca26"
             ],
             [
              1,
              "#f0f921"
             ]
            ],
            "type": "contour"
           }
          ],
          "contourcarpet": [
           {
            "colorbar": {
             "outlinewidth": 0,
             "ticks": ""
            },
            "type": "contourcarpet"
           }
          ],
          "heatmap": [
           {
            "colorbar": {
             "outlinewidth": 0,
             "ticks": ""
            },
            "colorscale": [
             [
              0,
              "#0d0887"
             ],
             [
              0.1111111111111111,
              "#46039f"
             ],
             [
              0.2222222222222222,
              "#7201a8"
             ],
             [
              0.3333333333333333,
              "#9c179e"
             ],
             [
              0.4444444444444444,
              "#bd3786"
             ],
             [
              0.5555555555555556,
              "#d8576b"
             ],
             [
              0.6666666666666666,
              "#ed7953"
             ],
             [
              0.7777777777777778,
              "#fb9f3a"
             ],
             [
              0.8888888888888888,
              "#fdca26"
             ],
             [
              1,
              "#f0f921"
             ]
            ],
            "type": "heatmap"
           }
          ],
          "histogram": [
           {
            "marker": {
             "pattern": {
              "fillmode": "overlay",
              "size": 10,
              "solidity": 0.2
             }
            },
            "type": "histogram"
           }
          ],
          "histogram2d": [
           {
            "colorbar": {
             "outlinewidth": 0,
             "ticks": ""
            },
            "colorscale": [
             [
              0,
              "#0d0887"
             ],
             [
              0.1111111111111111,
              "#46039f"
             ],
             [
              0.2222222222222222,
              "#7201a8"
             ],
             [
              0.3333333333333333,
              "#9c179e"
             ],
             [
              0.4444444444444444,
              "#bd3786"
             ],
             [
              0.5555555555555556,
              "#d8576b"
             ],
             [
              0.6666666666666666,
              "#ed7953"
             ],
             [
              0.7777777777777778,
              "#fb9f3a"
             ],
             [
              0.8888888888888888,
              "#fdca26"
             ],
             [
              1,
              "#f0f921"
             ]
            ],
            "type": "histogram2d"
           }
          ],
          "histogram2dcontour": [
           {
            "colorbar": {
             "outlinewidth": 0,
             "ticks": ""
            },
            "colorscale": [
             [
              0,
              "#0d0887"
             ],
             [
              0.1111111111111111,
              "#46039f"
             ],
             [
              0.2222222222222222,
              "#7201a8"
             ],
             [
              0.3333333333333333,
              "#9c179e"
             ],
             [
              0.4444444444444444,
              "#bd3786"
             ],
             [
              0.5555555555555556,
              "#d8576b"
             ],
             [
              0.6666666666666666,
              "#ed7953"
             ],
             [
              0.7777777777777778,
              "#fb9f3a"
             ],
             [
              0.8888888888888888,
              "#fdca26"
             ],
             [
              1,
              "#f0f921"
             ]
            ],
            "type": "histogram2dcontour"
           }
          ],
          "mesh3d": [
           {
            "colorbar": {
             "outlinewidth": 0,
             "ticks": ""
            },
            "type": "mesh3d"
           }
          ],
          "parcoords": [
           {
            "line": {
             "colorbar": {
              "outlinewidth": 0,
              "ticks": ""
             }
            },
            "type": "parcoords"
           }
          ],
          "pie": [
           {
            "automargin": true,
            "type": "pie"
           }
          ],
          "scatter": [
           {
            "fillpattern": {
             "fillmode": "overlay",
             "size": 10,
             "solidity": 0.2
            },
            "type": "scatter"
           }
          ],
          "scatter3d": [
           {
            "line": {
             "colorbar": {
              "outlinewidth": 0,
              "ticks": ""
             }
            },
            "marker": {
             "colorbar": {
              "outlinewidth": 0,
              "ticks": ""
             }
            },
            "type": "scatter3d"
           }
          ],
          "scattercarpet": [
           {
            "marker": {
             "colorbar": {
              "outlinewidth": 0,
              "ticks": ""
             }
            },
            "type": "scattercarpet"
           }
          ],
          "scattergeo": [
           {
            "marker": {
             "colorbar": {
              "outlinewidth": 0,
              "ticks": ""
             }
            },
            "type": "scattergeo"
           }
          ],
          "scattergl": [
           {
            "marker": {
             "colorbar": {
              "outlinewidth": 0,
              "ticks": ""
             }
            },
            "type": "scattergl"
           }
          ],
          "scattermap": [
           {
            "marker": {
             "colorbar": {
              "outlinewidth": 0,
              "ticks": ""
             }
            },
            "type": "scattermap"
           }
          ],
          "scattermapbox": [
           {
            "marker": {
             "colorbar": {
              "outlinewidth": 0,
              "ticks": ""
             }
            },
            "type": "scattermapbox"
           }
          ],
          "scatterpolar": [
           {
            "marker": {
             "colorbar": {
              "outlinewidth": 0,
              "ticks": ""
             }
            },
            "type": "scatterpolar"
           }
          ],
          "scatterpolargl": [
           {
            "marker": {
             "colorbar": {
              "outlinewidth": 0,
              "ticks": ""
             }
            },
            "type": "scatterpolargl"
           }
          ],
          "scatterternary": [
           {
            "marker": {
             "colorbar": {
              "outlinewidth": 0,
              "ticks": ""
             }
            },
            "type": "scatterternary"
           }
          ],
          "surface": [
           {
            "colorbar": {
             "outlinewidth": 0,
             "ticks": ""
            },
            "colorscale": [
             [
              0,
              "#0d0887"
             ],
             [
              0.1111111111111111,
              "#46039f"
             ],
             [
              0.2222222222222222,
              "#7201a8"
             ],
             [
              0.3333333333333333,
              "#9c179e"
             ],
             [
              0.4444444444444444,
              "#bd3786"
             ],
             [
              0.5555555555555556,
              "#d8576b"
             ],
             [
              0.6666666666666666,
              "#ed7953"
             ],
             [
              0.7777777777777778,
              "#fb9f3a"
             ],
             [
              0.8888888888888888,
              "#fdca26"
             ],
             [
              1,
              "#f0f921"
             ]
            ],
            "type": "surface"
           }
          ],
          "table": [
           {
            "cells": {
             "fill": {
              "color": "#EBF0F8"
             },
             "line": {
              "color": "white"
             }
            },
            "header": {
             "fill": {
              "color": "#C8D4E3"
             },
             "line": {
              "color": "white"
             }
            },
            "type": "table"
           }
          ]
         },
         "layout": {
          "annotationdefaults": {
           "arrowcolor": "#2a3f5f",
           "arrowhead": 0,
           "arrowwidth": 1
          },
          "autotypenumbers": "strict",
          "coloraxis": {
           "colorbar": {
            "outlinewidth": 0,
            "ticks": ""
           }
          },
          "colorscale": {
           "diverging": [
            [
             0,
             "#8e0152"
            ],
            [
             0.1,
             "#c51b7d"
            ],
            [
             0.2,
             "#de77ae"
            ],
            [
             0.3,
             "#f1b6da"
            ],
            [
             0.4,
             "#fde0ef"
            ],
            [
             0.5,
             "#f7f7f7"
            ],
            [
             0.6,
             "#e6f5d0"
            ],
            [
             0.7,
             "#b8e186"
            ],
            [
             0.8,
             "#7fbc41"
            ],
            [
             0.9,
             "#4d9221"
            ],
            [
             1,
             "#276419"
            ]
           ],
           "sequential": [
            [
             0,
             "#0d0887"
            ],
            [
             0.1111111111111111,
             "#46039f"
            ],
            [
             0.2222222222222222,
             "#7201a8"
            ],
            [
             0.3333333333333333,
             "#9c179e"
            ],
            [
             0.4444444444444444,
             "#bd3786"
            ],
            [
             0.5555555555555556,
             "#d8576b"
            ],
            [
             0.6666666666666666,
             "#ed7953"
            ],
            [
             0.7777777777777778,
             "#fb9f3a"
            ],
            [
             0.8888888888888888,
             "#fdca26"
            ],
            [
             1,
             "#f0f921"
            ]
           ],
           "sequentialminus": [
            [
             0,
             "#0d0887"
            ],
            [
             0.1111111111111111,
             "#46039f"
            ],
            [
             0.2222222222222222,
             "#7201a8"
            ],
            [
             0.3333333333333333,
             "#9c179e"
            ],
            [
             0.4444444444444444,
             "#bd3786"
            ],
            [
             0.5555555555555556,
             "#d8576b"
            ],
            [
             0.6666666666666666,
             "#ed7953"
            ],
            [
             0.7777777777777778,
             "#fb9f3a"
            ],
            [
             0.8888888888888888,
             "#fdca26"
            ],
            [
             1,
             "#f0f921"
            ]
           ]
          },
          "colorway": [
           "#636efa",
           "#EF553B",
           "#00cc96",
           "#ab63fa",
           "#FFA15A",
           "#19d3f3",
           "#FF6692",
           "#B6E880",
           "#FF97FF",
           "#FECB52"
          ],
          "font": {
           "color": "#2a3f5f"
          },
          "geo": {
           "bgcolor": "white",
           "lakecolor": "white",
           "landcolor": "#E5ECF6",
           "showlakes": true,
           "showland": true,
           "subunitcolor": "white"
          },
          "hoverlabel": {
           "align": "left"
          },
          "hovermode": "closest",
          "mapbox": {
           "style": "light"
          },
          "paper_bgcolor": "white",
          "plot_bgcolor": "#E5ECF6",
          "polar": {
           "angularaxis": {
            "gridcolor": "white",
            "linecolor": "white",
            "ticks": ""
           },
           "bgcolor": "#E5ECF6",
           "radialaxis": {
            "gridcolor": "white",
            "linecolor": "white",
            "ticks": ""
           }
          },
          "scene": {
           "xaxis": {
            "backgroundcolor": "#E5ECF6",
            "gridcolor": "white",
            "gridwidth": 2,
            "linecolor": "white",
            "showbackground": true,
            "ticks": "",
            "zerolinecolor": "white"
           },
           "yaxis": {
            "backgroundcolor": "#E5ECF6",
            "gridcolor": "white",
            "gridwidth": 2,
            "linecolor": "white",
            "showbackground": true,
            "ticks": "",
            "zerolinecolor": "white"
           },
           "zaxis": {
            "backgroundcolor": "#E5ECF6",
            "gridcolor": "white",
            "gridwidth": 2,
            "linecolor": "white",
            "showbackground": true,
            "ticks": "",
            "zerolinecolor": "white"
           }
          },
          "shapedefaults": {
           "line": {
            "color": "#2a3f5f"
           }
          },
          "ternary": {
           "aaxis": {
            "gridcolor": "white",
            "linecolor": "white",
            "ticks": ""
           },
           "baxis": {
            "gridcolor": "white",
            "linecolor": "white",
            "ticks": ""
           },
           "bgcolor": "#E5ECF6",
           "caxis": {
            "gridcolor": "white",
            "linecolor": "white",
            "ticks": ""
           }
          },
          "title": {
           "x": 0.05
          },
          "xaxis": {
           "automargin": true,
           "gridcolor": "white",
           "linecolor": "white",
           "ticks": "",
           "title": {
            "standoff": 15
           },
           "zerolinecolor": "white",
           "zerolinewidth": 2
          },
          "yaxis": {
           "automargin": true,
           "gridcolor": "white",
           "linecolor": "white",
           "ticks": "",
           "title": {
            "standoff": 15
           },
           "zerolinecolor": "white",
           "zerolinewidth": 2
          }
         }
        },
        "title": {
         "text": "Distribution of 'IMDB_Rating'"
        },
        "width": 800,
        "xaxis": {
         "title": {
          "text": "IMDB_Rating"
         }
        },
        "yaxis": {
         "title": {
          "text": "Count"
         }
        }
       }
      }
     },
     "metadata": {},
     "output_type": "display_data"
    }
   ],
   "source": [
    "#Distribuição de IMDB_Rating\n",
    "plot_distribution(raw_df, col_name = 'IMDB_Rating')"
   ]
  },
  {
   "cell_type": "code",
   "execution_count": 20,
   "id": "46941aed",
   "metadata": {},
   "outputs": [
    {
     "name": "stdout",
     "output_type": "stream",
     "text": [
      "Column: IMDB_Rating\n",
      "Number of outliers: 12\n",
      "Percentage of outliers: 1.20%\n"
     ]
    },
    {
     "data": {
      "application/vnd.plotly.v1+json": {
       "config": {
        "plotlyServerURL": "https://plot.ly"
       },
       "data": [
        {
         "boxmean": "sd",
         "boxpoints": "suspectedoutliers",
         "line": {
          "width": 2
         },
         "marker": {
          "color": "orange"
         },
         "name": "IMDB_Rating",
         "type": "box",
         "y": {
          "bdata": "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",
          "dtype": "f8"
         }
        }
       ],
       "layout": {
        "height": 400,
        "template": {
         "data": {
          "bar": [
           {
            "error_x": {
             "color": "#2a3f5f"
            },
            "error_y": {
             "color": "#2a3f5f"
            },
            "marker": {
             "line": {
              "color": "#E5ECF6",
              "width": 0.5
             },
             "pattern": {
              "fillmode": "overlay",
              "size": 10,
              "solidity": 0.2
             }
            },
            "type": "bar"
           }
          ],
          "barpolar": [
           {
            "marker": {
             "line": {
              "color": "#E5ECF6",
              "width": 0.5
             },
             "pattern": {
              "fillmode": "overlay",
              "size": 10,
              "solidity": 0.2
             }
            },
            "type": "barpolar"
           }
          ],
          "carpet": [
           {
            "aaxis": {
             "endlinecolor": "#2a3f5f",
             "gridcolor": "white",
             "linecolor": "white",
             "minorgridcolor": "white",
             "startlinecolor": "#2a3f5f"
            },
            "baxis": {
             "endlinecolor": "#2a3f5f",
             "gridcolor": "white",
             "linecolor": "white",
             "minorgridcolor": "white",
             "startlinecolor": "#2a3f5f"
            },
            "type": "carpet"
           }
          ],
          "choropleth": [
           {
            "colorbar": {
             "outlinewidth": 0,
             "ticks": ""
            },
            "type": "choropleth"
           }
          ],
          "contour": [
           {
            "colorbar": {
             "outlinewidth": 0,
             "ticks": ""
            },
            "colorscale": [
             [
              0,
              "#0d0887"
             ],
             [
              0.1111111111111111,
              "#46039f"
             ],
             [
              0.2222222222222222,
              "#7201a8"
             ],
             [
              0.3333333333333333,
              "#9c179e"
             ],
             [
              0.4444444444444444,
              "#bd3786"
             ],
             [
              0.5555555555555556,
              "#d8576b"
             ],
             [
              0.6666666666666666,
              "#ed7953"
             ],
             [
              0.7777777777777778,
              "#fb9f3a"
             ],
             [
              0.8888888888888888,
              "#fdca26"
             ],
             [
              1,
              "#f0f921"
             ]
            ],
            "type": "contour"
           }
          ],
          "contourcarpet": [
           {
            "colorbar": {
             "outlinewidth": 0,
             "ticks": ""
            },
            "type": "contourcarpet"
           }
          ],
          "heatmap": [
           {
            "colorbar": {
             "outlinewidth": 0,
             "ticks": ""
            },
            "colorscale": [
             [
              0,
              "#0d0887"
             ],
             [
              0.1111111111111111,
              "#46039f"
             ],
             [
              0.2222222222222222,
              "#7201a8"
             ],
             [
              0.3333333333333333,
              "#9c179e"
             ],
             [
              0.4444444444444444,
              "#bd3786"
             ],
             [
              0.5555555555555556,
              "#d8576b"
             ],
             [
              0.6666666666666666,
              "#ed7953"
             ],
             [
              0.7777777777777778,
              "#fb9f3a"
             ],
             [
              0.8888888888888888,
              "#fdca26"
             ],
             [
              1,
              "#f0f921"
             ]
            ],
            "type": "heatmap"
           }
          ],
          "histogram": [
           {
            "marker": {
             "pattern": {
              "fillmode": "overlay",
              "size": 10,
              "solidity": 0.2
             }
            },
            "type": "histogram"
           }
          ],
          "histogram2d": [
           {
            "colorbar": {
             "outlinewidth": 0,
             "ticks": ""
            },
            "colorscale": [
             [
              0,
              "#0d0887"
             ],
             [
              0.1111111111111111,
              "#46039f"
             ],
             [
              0.2222222222222222,
              "#7201a8"
             ],
             [
              0.3333333333333333,
              "#9c179e"
             ],
             [
              0.4444444444444444,
              "#bd3786"
             ],
             [
              0.5555555555555556,
              "#d8576b"
             ],
             [
              0.6666666666666666,
              "#ed7953"
             ],
             [
              0.7777777777777778,
              "#fb9f3a"
             ],
             [
              0.8888888888888888,
              "#fdca26"
             ],
             [
              1,
              "#f0f921"
             ]
            ],
            "type": "histogram2d"
           }
          ],
          "histogram2dcontour": [
           {
            "colorbar": {
             "outlinewidth": 0,
             "ticks": ""
            },
            "colorscale": [
             [
              0,
              "#0d0887"
             ],
             [
              0.1111111111111111,
              "#46039f"
             ],
             [
              0.2222222222222222,
              "#7201a8"
             ],
             [
              0.3333333333333333,
              "#9c179e"
             ],
             [
              0.4444444444444444,
              "#bd3786"
             ],
             [
              0.5555555555555556,
              "#d8576b"
             ],
             [
              0.6666666666666666,
              "#ed7953"
             ],
             [
              0.7777777777777778,
              "#fb9f3a"
             ],
             [
              0.8888888888888888,
              "#fdca26"
             ],
             [
              1,
              "#f0f921"
             ]
            ],
            "type": "histogram2dcontour"
           }
          ],
          "mesh3d": [
           {
            "colorbar": {
             "outlinewidth": 0,
             "ticks": ""
            },
            "type": "mesh3d"
           }
          ],
          "parcoords": [
           {
            "line": {
             "colorbar": {
              "outlinewidth": 0,
              "ticks": ""
             }
            },
            "type": "parcoords"
           }
          ],
          "pie": [
           {
            "automargin": true,
            "type": "pie"
           }
          ],
          "scatter": [
           {
            "fillpattern": {
             "fillmode": "overlay",
             "size": 10,
             "solidity": 0.2
            },
            "type": "scatter"
           }
          ],
          "scatter3d": [
           {
            "line": {
             "colorbar": {
              "outlinewidth": 0,
              "ticks": ""
             }
            },
            "marker": {
             "colorbar": {
              "outlinewidth": 0,
              "ticks": ""
             }
            },
            "type": "scatter3d"
           }
          ],
          "scattercarpet": [
           {
            "marker": {
             "colorbar": {
              "outlinewidth": 0,
              "ticks": ""
             }
            },
            "type": "scattercarpet"
           }
          ],
          "scattergeo": [
           {
            "marker": {
             "colorbar": {
              "outlinewidth": 0,
              "ticks": ""
             }
            },
            "type": "scattergeo"
           }
          ],
          "scattergl": [
           {
            "marker": {
             "colorbar": {
              "outlinewidth": 0,
              "ticks": ""
             }
            },
            "type": "scattergl"
           }
          ],
          "scattermap": [
           {
            "marker": {
             "colorbar": {
              "outlinewidth": 0,
              "ticks": ""
             }
            },
            "type": "scattermap"
           }
          ],
          "scattermapbox": [
           {
            "marker": {
             "colorbar": {
              "outlinewidth": 0,
              "ticks": ""
             }
            },
            "type": "scattermapbox"
           }
          ],
          "scatterpolar": [
           {
            "marker": {
             "colorbar": {
              "outlinewidth": 0,
              "ticks": ""
             }
            },
            "type": "scatterpolar"
           }
          ],
          "scatterpolargl": [
           {
            "marker": {
             "colorbar": {
              "outlinewidth": 0,
              "ticks": ""
             }
            },
            "type": "scatterpolargl"
           }
          ],
          "scatterternary": [
           {
            "marker": {
             "colorbar": {
              "outlinewidth": 0,
              "ticks": ""
             }
            },
            "type": "scatterternary"
           }
          ],
          "surface": [
           {
            "colorbar": {
             "outlinewidth": 0,
             "ticks": ""
            },
            "colorscale": [
             [
              0,
              "#0d0887"
             ],
             [
              0.1111111111111111,
              "#46039f"
             ],
             [
              0.2222222222222222,
              "#7201a8"
             ],
             [
              0.3333333333333333,
              "#9c179e"
             ],
             [
              0.4444444444444444,
              "#bd3786"
             ],
             [
              0.5555555555555556,
              "#d8576b"
             ],
             [
              0.6666666666666666,
              "#ed7953"
             ],
             [
              0.7777777777777778,
              "#fb9f3a"
             ],
             [
              0.8888888888888888,
              "#fdca26"
             ],
             [
              1,
              "#f0f921"
             ]
            ],
            "type": "surface"
           }
          ],
          "table": [
           {
            "cells": {
             "fill": {
              "color": "#EBF0F8"
             },
             "line": {
              "color": "white"
             }
            },
            "header": {
             "fill": {
              "color": "#C8D4E3"
             },
             "line": {
              "color": "white"
             }
            },
            "type": "table"
           }
          ]
         },
         "layout": {
          "annotationdefaults": {
           "arrowcolor": "#2a3f5f",
           "arrowhead": 0,
           "arrowwidth": 1
          },
          "autotypenumbers": "strict",
          "coloraxis": {
           "colorbar": {
            "outlinewidth": 0,
            "ticks": ""
           }
          },
          "colorscale": {
           "diverging": [
            [
             0,
             "#8e0152"
            ],
            [
             0.1,
             "#c51b7d"
            ],
            [
             0.2,
             "#de77ae"
            ],
            [
             0.3,
             "#f1b6da"
            ],
            [
             0.4,
             "#fde0ef"
            ],
            [
             0.5,
             "#f7f7f7"
            ],
            [
             0.6,
             "#e6f5d0"
            ],
            [
             0.7,
             "#b8e186"
            ],
            [
             0.8,
             "#7fbc41"
            ],
            [
             0.9,
             "#4d9221"
            ],
            [
             1,
             "#276419"
            ]
           ],
           "sequential": [
            [
             0,
             "#0d0887"
            ],
            [
             0.1111111111111111,
             "#46039f"
            ],
            [
             0.2222222222222222,
             "#7201a8"
            ],
            [
             0.3333333333333333,
             "#9c179e"
            ],
            [
             0.4444444444444444,
             "#bd3786"
            ],
            [
             0.5555555555555556,
             "#d8576b"
            ],
            [
             0.6666666666666666,
             "#ed7953"
            ],
            [
             0.7777777777777778,
             "#fb9f3a"
            ],
            [
             0.8888888888888888,
             "#fdca26"
            ],
            [
             1,
             "#f0f921"
            ]
           ],
           "sequentialminus": [
            [
             0,
             "#0d0887"
            ],
            [
             0.1111111111111111,
             "#46039f"
            ],
            [
             0.2222222222222222,
             "#7201a8"
            ],
            [
             0.3333333333333333,
             "#9c179e"
            ],
            [
             0.4444444444444444,
             "#bd3786"
            ],
            [
             0.5555555555555556,
             "#d8576b"
            ],
            [
             0.6666666666666666,
             "#ed7953"
            ],
            [
             0.7777777777777778,
             "#fb9f3a"
            ],
            [
             0.8888888888888888,
             "#fdca26"
            ],
            [
             1,
             "#f0f921"
            ]
           ]
          },
          "colorway": [
           "#636efa",
           "#EF553B",
           "#00cc96",
           "#ab63fa",
           "#FFA15A",
           "#19d3f3",
           "#FF6692",
           "#B6E880",
           "#FF97FF",
           "#FECB52"
          ],
          "font": {
           "color": "#2a3f5f"
          },
          "geo": {
           "bgcolor": "white",
           "lakecolor": "white",
           "landcolor": "#E5ECF6",
           "showlakes": true,
           "showland": true,
           "subunitcolor": "white"
          },
          "hoverlabel": {
           "align": "left"
          },
          "hovermode": "closest",
          "mapbox": {
           "style": "light"
          },
          "paper_bgcolor": "white",
          "plot_bgcolor": "#E5ECF6",
          "polar": {
           "angularaxis": {
            "gridcolor": "white",
            "linecolor": "white",
            "ticks": ""
           },
           "bgcolor": "#E5ECF6",
           "radialaxis": {
            "gridcolor": "white",
            "linecolor": "white",
            "ticks": ""
           }
          },
          "scene": {
           "xaxis": {
            "backgroundcolor": "#E5ECF6",
            "gridcolor": "white",
            "gridwidth": 2,
            "linecolor": "white",
            "showbackground": true,
            "ticks": "",
            "zerolinecolor": "white"
           },
           "yaxis": {
            "backgroundcolor": "#E5ECF6",
            "gridcolor": "white",
            "gridwidth": 2,
            "linecolor": "white",
            "showbackground": true,
            "ticks": "",
            "zerolinecolor": "white"
           },
           "zaxis": {
            "backgroundcolor": "#E5ECF6",
            "gridcolor": "white",
            "gridwidth": 2,
            "linecolor": "white",
            "showbackground": true,
            "ticks": "",
            "zerolinecolor": "white"
           }
          },
          "shapedefaults": {
           "line": {
            "color": "#2a3f5f"
           }
          },
          "ternary": {
           "aaxis": {
            "gridcolor": "white",
            "linecolor": "white",
            "ticks": ""
           },
           "baxis": {
            "gridcolor": "white",
            "linecolor": "white",
            "ticks": ""
           },
           "bgcolor": "#E5ECF6",
           "caxis": {
            "gridcolor": "white",
            "linecolor": "white",
            "ticks": ""
           }
          },
          "title": {
           "x": 0.05
          },
          "xaxis": {
           "automargin": true,
           "gridcolor": "white",
           "linecolor": "white",
           "ticks": "",
           "title": {
            "standoff": 15
           },
           "zerolinecolor": "white",
           "zerolinewidth": 2
          },
          "yaxis": {
           "automargin": true,
           "gridcolor": "white",
           "linecolor": "white",
           "ticks": "",
           "title": {
            "standoff": 15
           },
           "zerolinecolor": "white",
           "zerolinewidth": 2
          }
         }
        },
        "title": {
         "text": "Boxplot of 'IMDB_Rating'"
        },
        "width": 800,
        "yaxis": {
         "range": [
          7.6,
          8.7
         ]
        }
       }
      }
     },
     "metadata": {},
     "output_type": "display_data"
    }
   ],
   "source": [
    "# Box Plot de IMDB_Rating\n",
    "plot_boxplot_stats(raw_df, col_name = 'IMDB_Rating')"
   ]
  },
  {
   "cell_type": "markdown",
   "id": "f59ae8bd",
   "metadata": {},
   "source": [
    "#### Released_Year  Numerica (quantitativa discreta)"
   ]
  },
  {
   "cell_type": "code",
   "execution_count": null,
   "id": "6bb081ec",
   "metadata": {},
   "outputs": [
    {
     "data": {
      "application/vnd.plotly.v1+json": {
       "config": {
        "plotlyServerURL": "https://plot.ly"
       },
       "data": [
        {
         "name": "Histogram",
         "nbinsx": 30,
         "opacity": 0.7,
         "type": "histogram",
         "x": {
          "bdata": "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",
          "dtype": "f8"
         }
        },
        {
         "line": {
          "color": "red"
         },
         "mode": "lines",
         "name": "KDE",
         "type": "scatter",
         "x": {
          "bdata": "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",
          "dtype": "f8"
         },
         "y": {
          "bdata": "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",
          "dtype": "f8"
         }
        }
       ],
       "layout": {
        "height": 400,
        "template": {
         "data": {
          "bar": [
           {
            "error_x": {
             "color": "#2a3f5f"
            },
            "error_y": {
             "color": "#2a3f5f"
            },
            "marker": {
             "line": {
              "color": "#E5ECF6",
              "width": 0.5
             },
             "pattern": {
              "fillmode": "overlay",
              "size": 10,
              "solidity": 0.2
             }
            },
            "type": "bar"
           }
          ],
          "barpolar": [
           {
            "marker": {
             "line": {
              "color": "#E5ECF6",
              "width": 0.5
             },
             "pattern": {
              "fillmode": "overlay",
              "size": 10,
              "solidity": 0.2
             }
            },
            "type": "barpolar"
           }
          ],
          "carpet": [
           {
            "aaxis": {
             "endlinecolor": "#2a3f5f",
             "gridcolor": "white",
             "linecolor": "white",
             "minorgridcolor": "white",
             "startlinecolor": "#2a3f5f"
            },
            "baxis": {
             "endlinecolor": "#2a3f5f",
             "gridcolor": "white",
             "linecolor": "white",
             "minorgridcolor": "white",
             "startlinecolor": "#2a3f5f"
            },
            "type": "carpet"
           }
          ],
          "choropleth": [
           {
            "colorbar": {
             "outlinewidth": 0,
             "ticks": ""
            },
            "type": "choropleth"
           }
          ],
          "contour": [
           {
            "colorbar": {
             "outlinewidth": 0,
             "ticks": ""
            },
            "colorscale": [
             [
              0,
              "#0d0887"
             ],
             [
              0.1111111111111111,
              "#46039f"
             ],
             [
              0.2222222222222222,
              "#7201a8"
             ],
             [
              0.3333333333333333,
              "#9c179e"
             ],
             [
              0.4444444444444444,
              "#bd3786"
             ],
             [
              0.5555555555555556,
              "#d8576b"
             ],
             [
              0.6666666666666666,
              "#ed7953"
             ],
             [
              0.7777777777777778,
              "#fb9f3a"
             ],
             [
              0.8888888888888888,
              "#fdca26"
             ],
             [
              1,
              "#f0f921"
             ]
            ],
            "type": "contour"
           }
          ],
          "contourcarpet": [
           {
            "colorbar": {
             "outlinewidth": 0,
             "ticks": ""
            },
            "type": "contourcarpet"
           }
          ],
          "heatmap": [
           {
            "colorbar": {
             "outlinewidth": 0,
             "ticks": ""
            },
            "colorscale": [
             [
              0,
              "#0d0887"
             ],
             [
              0.1111111111111111,
              "#46039f"
             ],
             [
              0.2222222222222222,
              "#7201a8"
             ],
             [
              0.3333333333333333,
              "#9c179e"
             ],
             [
              0.4444444444444444,
              "#bd3786"
             ],
             [
              0.5555555555555556,
              "#d8576b"
             ],
             [
              0.6666666666666666,
              "#ed7953"
             ],
             [
              0.7777777777777778,
              "#fb9f3a"
             ],
             [
              0.8888888888888888,
              "#fdca26"
             ],
             [
              1,
              "#f0f921"
             ]
            ],
            "type": "heatmap"
           }
          ],
          "histogram": [
           {
            "marker": {
             "pattern": {
              "fillmode": "overlay",
              "size": 10,
              "solidity": 0.2
             }
            },
            "type": "histogram"
           }
          ],
          "histogram2d": [
           {
            "colorbar": {
             "outlinewidth": 0,
             "ticks": ""
            },
            "colorscale": [
             [
              0,
              "#0d0887"
             ],
             [
              0.1111111111111111,
              "#46039f"
             ],
             [
              0.2222222222222222,
              "#7201a8"
             ],
             [
              0.3333333333333333,
              "#9c179e"
             ],
             [
              0.4444444444444444,
              "#bd3786"
             ],
             [
              0.5555555555555556,
              "#d8576b"
             ],
             [
              0.6666666666666666,
              "#ed7953"
             ],
             [
              0.7777777777777778,
              "#fb9f3a"
             ],
             [
              0.8888888888888888,
              "#fdca26"
             ],
             [
              1,
              "#f0f921"
             ]
            ],
            "type": "histogram2d"
           }
          ],
          "histogram2dcontour": [
           {
            "colorbar": {
             "outlinewidth": 0,
             "ticks": ""
            },
            "colorscale": [
             [
              0,
              "#0d0887"
             ],
             [
              0.1111111111111111,
              "#46039f"
             ],
             [
              0.2222222222222222,
              "#7201a8"
             ],
             [
              0.3333333333333333,
              "#9c179e"
             ],
             [
              0.4444444444444444,
              "#bd3786"
             ],
             [
              0.5555555555555556,
              "#d8576b"
             ],
             [
              0.6666666666666666,
              "#ed7953"
             ],
             [
              0.7777777777777778,
              "#fb9f3a"
             ],
             [
              0.8888888888888888,
              "#fdca26"
             ],
             [
              1,
              "#f0f921"
             ]
            ],
            "type": "histogram2dcontour"
           }
          ],
          "mesh3d": [
           {
            "colorbar": {
             "outlinewidth": 0,
             "ticks": ""
            },
            "type": "mesh3d"
           }
          ],
          "parcoords": [
           {
            "line": {
             "colorbar": {
              "outlinewidth": 0,
              "ticks": ""
             }
            },
            "type": "parcoords"
           }
          ],
          "pie": [
           {
            "automargin": true,
            "type": "pie"
           }
          ],
          "scatter": [
           {
            "fillpattern": {
             "fillmode": "overlay",
             "size": 10,
             "solidity": 0.2
            },
            "type": "scatter"
           }
          ],
          "scatter3d": [
           {
            "line": {
             "colorbar": {
              "outlinewidth": 0,
              "ticks": ""
             }
            },
            "marker": {
             "colorbar": {
              "outlinewidth": 0,
              "ticks": ""
             }
            },
            "type": "scatter3d"
           }
          ],
          "scattercarpet": [
           {
            "marker": {
             "colorbar": {
              "outlinewidth": 0,
              "ticks": ""
             }
            },
            "type": "scattercarpet"
           }
          ],
          "scattergeo": [
           {
            "marker": {
             "colorbar": {
              "outlinewidth": 0,
              "ticks": ""
             }
            },
            "type": "scattergeo"
           }
          ],
          "scattergl": [
           {
            "marker": {
             "colorbar": {
              "outlinewidth": 0,
              "ticks": ""
             }
            },
            "type": "scattergl"
           }
          ],
          "scattermap": [
           {
            "marker": {
             "colorbar": {
              "outlinewidth": 0,
              "ticks": ""
             }
            },
            "type": "scattermap"
           }
          ],
          "scattermapbox": [
           {
            "marker": {
             "colorbar": {
              "outlinewidth": 0,
              "ticks": ""
             }
            },
            "type": "scattermapbox"
           }
          ],
          "scatterpolar": [
           {
            "marker": {
             "colorbar": {
              "outlinewidth": 0,
              "ticks": ""
             }
            },
            "type": "scatterpolar"
           }
          ],
          "scatterpolargl": [
           {
            "marker": {
             "colorbar": {
              "outlinewidth": 0,
              "ticks": ""
             }
            },
            "type": "scatterpolargl"
           }
          ],
          "scatterternary": [
           {
            "marker": {
             "colorbar": {
              "outlinewidth": 0,
              "ticks": ""
             }
            },
            "type": "scatterternary"
           }
          ],
          "surface": [
           {
            "colorbar": {
             "outlinewidth": 0,
             "ticks": ""
            },
            "colorscale": [
             [
              0,
              "#0d0887"
             ],
             [
              0.1111111111111111,
              "#46039f"
             ],
             [
              0.2222222222222222,
              "#7201a8"
             ],
             [
              0.3333333333333333,
              "#9c179e"
             ],
             [
              0.4444444444444444,
              "#bd3786"
             ],
             [
              0.5555555555555556,
              "#d8576b"
             ],
             [
              0.6666666666666666,
              "#ed7953"
             ],
             [
              0.7777777777777778,
              "#fb9f3a"
             ],
             [
              0.8888888888888888,
              "#fdca26"
             ],
             [
              1,
              "#f0f921"
             ]
            ],
            "type": "surface"
           }
          ],
          "table": [
           {
            "cells": {
             "fill": {
              "color": "#EBF0F8"
             },
             "line": {
              "color": "white"
             }
            },
            "header": {
             "fill": {
              "color": "#C8D4E3"
             },
             "line": {
              "color": "white"
             }
            },
            "type": "table"
           }
          ]
         },
         "layout": {
          "annotationdefaults": {
           "arrowcolor": "#2a3f5f",
           "arrowhead": 0,
           "arrowwidth": 1
          },
          "autotypenumbers": "strict",
          "coloraxis": {
           "colorbar": {
            "outlinewidth": 0,
            "ticks": ""
           }
          },
          "colorscale": {
           "diverging": [
            [
             0,
             "#8e0152"
            ],
            [
             0.1,
             "#c51b7d"
            ],
            [
             0.2,
             "#de77ae"
            ],
            [
             0.3,
             "#f1b6da"
            ],
            [
             0.4,
             "#fde0ef"
            ],
            [
             0.5,
             "#f7f7f7"
            ],
            [
             0.6,
             "#e6f5d0"
            ],
            [
             0.7,
             "#b8e186"
            ],
            [
             0.8,
             "#7fbc41"
            ],
            [
             0.9,
             "#4d9221"
            ],
            [
             1,
             "#276419"
            ]
           ],
           "sequential": [
            [
             0,
             "#0d0887"
            ],
            [
             0.1111111111111111,
             "#46039f"
            ],
            [
             0.2222222222222222,
             "#7201a8"
            ],
            [
             0.3333333333333333,
             "#9c179e"
            ],
            [
             0.4444444444444444,
             "#bd3786"
            ],
            [
             0.5555555555555556,
             "#d8576b"
            ],
            [
             0.6666666666666666,
             "#ed7953"
            ],
            [
             0.7777777777777778,
             "#fb9f3a"
            ],
            [
             0.8888888888888888,
             "#fdca26"
            ],
            [
             1,
             "#f0f921"
            ]
           ],
           "sequentialminus": [
            [
             0,
             "#0d0887"
            ],
            [
             0.1111111111111111,
             "#46039f"
            ],
            [
             0.2222222222222222,
             "#7201a8"
            ],
            [
             0.3333333333333333,
             "#9c179e"
            ],
            [
             0.4444444444444444,
             "#bd3786"
            ],
            [
             0.5555555555555556,
             "#d8576b"
            ],
            [
             0.6666666666666666,
             "#ed7953"
            ],
            [
             0.7777777777777778,
             "#fb9f3a"
            ],
            [
             0.8888888888888888,
             "#fdca26"
            ],
            [
             1,
             "#f0f921"
            ]
           ]
          },
          "colorway": [
           "#636efa",
           "#EF553B",
           "#00cc96",
           "#ab63fa",
           "#FFA15A",
           "#19d3f3",
           "#FF6692",
           "#B6E880",
           "#FF97FF",
           "#FECB52"
          ],
          "font": {
           "color": "#2a3f5f"
          },
          "geo": {
           "bgcolor": "white",
           "lakecolor": "white",
           "landcolor": "#E5ECF6",
           "showlakes": true,
           "showland": true,
           "subunitcolor": "white"
          },
          "hoverlabel": {
           "align": "left"
          },
          "hovermode": "closest",
          "mapbox": {
           "style": "light"
          },
          "paper_bgcolor": "white",
          "plot_bgcolor": "#E5ECF6",
          "polar": {
           "angularaxis": {
            "gridcolor": "white",
            "linecolor": "white",
            "ticks": ""
           },
           "bgcolor": "#E5ECF6",
           "radialaxis": {
            "gridcolor": "white",
            "linecolor": "white",
            "ticks": ""
           }
          },
          "scene": {
           "xaxis": {
            "backgroundcolor": "#E5ECF6",
            "gridcolor": "white",
            "gridwidth": 2,
            "linecolor": "white",
            "showbackground": true,
            "ticks": "",
            "zerolinecolor": "white"
           },
           "yaxis": {
            "backgroundcolor": "#E5ECF6",
            "gridcolor": "white",
            "gridwidth": 2,
            "linecolor": "white",
            "showbackground": true,
            "ticks": "",
            "zerolinecolor": "white"
           },
           "zaxis": {
            "backgroundcolor": "#E5ECF6",
            "gridcolor": "white",
            "gridwidth": 2,
            "linecolor": "white",
            "showbackground": true,
            "ticks": "",
            "zerolinecolor": "white"
           }
          },
          "shapedefaults": {
           "line": {
            "color": "#2a3f5f"
           }
          },
          "ternary": {
           "aaxis": {
            "gridcolor": "white",
            "linecolor": "white",
            "ticks": ""
           },
           "baxis": {
            "gridcolor": "white",
            "linecolor": "white",
            "ticks": ""
           },
           "bgcolor": "#E5ECF6",
           "caxis": {
            "gridcolor": "white",
            "linecolor": "white",
            "ticks": ""
           }
          },
          "title": {
           "x": 0.05
          },
          "xaxis": {
           "automargin": true,
           "gridcolor": "white",
           "linecolor": "white",
           "ticks": "",
           "title": {
            "standoff": 15
           },
           "zerolinecolor": "white",
           "zerolinewidth": 2
          },
          "yaxis": {
           "automargin": true,
           "gridcolor": "white",
           "linecolor": "white",
           "ticks": "",
           "title": {
            "standoff": 15
           },
           "zerolinecolor": "white",
           "zerolinewidth": 2
          }
         }
        },
        "title": {
         "text": "Distribution of 'Released_Year'"
        },
        "width": 800,
        "xaxis": {
         "title": {
          "text": "Released_Year"
         }
        },
        "yaxis": {
         "title": {
          "text": "Count"
         }
        }
       }
      }
     },
     "metadata": {},
     "output_type": "display_data"
    }
   ],
   "source": [
    "#Distribuição de Released_Year\n",
    "plot_distribution(raw_df, col_name = 'Released_Year')"
   ]
  },
  {
   "cell_type": "code",
   "execution_count": 23,
   "id": "799d556c",
   "metadata": {},
   "outputs": [
    {
     "name": "stdout",
     "output_type": "stream",
     "text": [
      "Column: Released_Year\n",
      "Number of outliers: 7\n",
      "Percentage of outliers: 0.70%\n"
     ]
    },
    {
     "data": {
      "application/vnd.plotly.v1+json": {
       "config": {
        "plotlyServerURL": "https://plot.ly"
       },
       "data": [
        {
         "boxmean": "sd",
         "boxpoints": "suspectedoutliers",
         "line": {
          "width": 2
         },
         "marker": {
          "color": "orange"
         },
         "name": "Released_Year",
         "type": "box",
         "y": {
          "bdata": "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",
          "dtype": "f8"
         }
        }
       ],
       "layout": {
        "height": 400,
        "template": {
         "data": {
          "bar": [
           {
            "error_x": {
             "color": "#2a3f5f"
            },
            "error_y": {
             "color": "#2a3f5f"
            },
            "marker": {
             "line": {
              "color": "#E5ECF6",
              "width": 0.5
             },
             "pattern": {
              "fillmode": "overlay",
              "size": 10,
              "solidity": 0.2
             }
            },
            "type": "bar"
           }
          ],
          "barpolar": [
           {
            "marker": {
             "line": {
              "color": "#E5ECF6",
              "width": 0.5
             },
             "pattern": {
              "fillmode": "overlay",
              "size": 10,
              "solidity": 0.2
             }
            },
            "type": "barpolar"
           }
          ],
          "carpet": [
           {
            "aaxis": {
             "endlinecolor": "#2a3f5f",
             "gridcolor": "white",
             "linecolor": "white",
             "minorgridcolor": "white",
             "startlinecolor": "#2a3f5f"
            },
            "baxis": {
             "endlinecolor": "#2a3f5f",
             "gridcolor": "white",
             "linecolor": "white",
             "minorgridcolor": "white",
             "startlinecolor": "#2a3f5f"
            },
            "type": "carpet"
           }
          ],
          "choropleth": [
           {
            "colorbar": {
             "outlinewidth": 0,
             "ticks": ""
            },
            "type": "choropleth"
           }
          ],
          "contour": [
           {
            "colorbar": {
             "outlinewidth": 0,
             "ticks": ""
            },
            "colorscale": [
             [
              0,
              "#0d0887"
             ],
             [
              0.1111111111111111,
              "#46039f"
             ],
             [
              0.2222222222222222,
              "#7201a8"
             ],
             [
              0.3333333333333333,
              "#9c179e"
             ],
             [
              0.4444444444444444,
              "#bd3786"
             ],
             [
              0.5555555555555556,
              "#d8576b"
             ],
             [
              0.6666666666666666,
              "#ed7953"
             ],
             [
              0.7777777777777778,
              "#fb9f3a"
             ],
             [
              0.8888888888888888,
              "#fdca26"
             ],
             [
              1,
              "#f0f921"
             ]
            ],
            "type": "contour"
           }
          ],
          "contourcarpet": [
           {
            "colorbar": {
             "outlinewidth": 0,
             "ticks": ""
            },
            "type": "contourcarpet"
           }
          ],
          "heatmap": [
           {
            "colorbar": {
             "outlinewidth": 0,
             "ticks": ""
            },
            "colorscale": [
             [
              0,
              "#0d0887"
             ],
             [
              0.1111111111111111,
              "#46039f"
             ],
             [
              0.2222222222222222,
              "#7201a8"
             ],
             [
              0.3333333333333333,
              "#9c179e"
             ],
             [
              0.4444444444444444,
              "#bd3786"
             ],
             [
              0.5555555555555556,
              "#d8576b"
             ],
             [
              0.6666666666666666,
              "#ed7953"
             ],
             [
              0.7777777777777778,
              "#fb9f3a"
             ],
             [
              0.8888888888888888,
              "#fdca26"
             ],
             [
              1,
              "#f0f921"
             ]
            ],
            "type": "heatmap"
           }
          ],
          "histogram": [
           {
            "marker": {
             "pattern": {
              "fillmode": "overlay",
              "size": 10,
              "solidity": 0.2
             }
            },
            "type": "histogram"
           }
          ],
          "histogram2d": [
           {
            "colorbar": {
             "outlinewidth": 0,
             "ticks": ""
            },
            "colorscale": [
             [
              0,
              "#0d0887"
             ],
             [
              0.1111111111111111,
              "#46039f"
             ],
             [
              0.2222222222222222,
              "#7201a8"
             ],
             [
              0.3333333333333333,
              "#9c179e"
             ],
             [
              0.4444444444444444,
              "#bd3786"
             ],
             [
              0.5555555555555556,
              "#d8576b"
             ],
             [
              0.6666666666666666,
              "#ed7953"
             ],
             [
              0.7777777777777778,
              "#fb9f3a"
             ],
             [
              0.8888888888888888,
              "#fdca26"
             ],
             [
              1,
              "#f0f921"
             ]
            ],
            "type": "histogram2d"
           }
          ],
          "histogram2dcontour": [
           {
            "colorbar": {
             "outlinewidth": 0,
             "ticks": ""
            },
            "colorscale": [
             [
              0,
              "#0d0887"
             ],
             [
              0.1111111111111111,
              "#46039f"
             ],
             [
              0.2222222222222222,
              "#7201a8"
             ],
             [
              0.3333333333333333,
              "#9c179e"
             ],
             [
              0.4444444444444444,
              "#bd3786"
             ],
             [
              0.5555555555555556,
              "#d8576b"
             ],
             [
              0.6666666666666666,
              "#ed7953"
             ],
             [
              0.7777777777777778,
              "#fb9f3a"
             ],
             [
              0.8888888888888888,
              "#fdca26"
             ],
             [
              1,
              "#f0f921"
             ]
            ],
            "type": "histogram2dcontour"
           }
          ],
          "mesh3d": [
           {
            "colorbar": {
             "outlinewidth": 0,
             "ticks": ""
            },
            "type": "mesh3d"
           }
          ],
          "parcoords": [
           {
            "line": {
             "colorbar": {
              "outlinewidth": 0,
              "ticks": ""
             }
            },
            "type": "parcoords"
           }
          ],
          "pie": [
           {
            "automargin": true,
            "type": "pie"
           }
          ],
          "scatter": [
           {
            "fillpattern": {
             "fillmode": "overlay",
             "size": 10,
             "solidity": 0.2
            },
            "type": "scatter"
           }
          ],
          "scatter3d": [
           {
            "line": {
             "colorbar": {
              "outlinewidth": 0,
              "ticks": ""
             }
            },
            "marker": {
             "colorbar": {
              "outlinewidth": 0,
              "ticks": ""
             }
            },
            "type": "scatter3d"
           }
          ],
          "scattercarpet": [
           {
            "marker": {
             "colorbar": {
              "outlinewidth": 0,
              "ticks": ""
             }
            },
            "type": "scattercarpet"
           }
          ],
          "scattergeo": [
           {
            "marker": {
             "colorbar": {
              "outlinewidth": 0,
              "ticks": ""
             }
            },
            "type": "scattergeo"
           }
          ],
          "scattergl": [
           {
            "marker": {
             "colorbar": {
              "outlinewidth": 0,
              "ticks": ""
             }
            },
            "type": "scattergl"
           }
          ],
          "scattermap": [
           {
            "marker": {
             "colorbar": {
              "outlinewidth": 0,
              "ticks": ""
             }
            },
            "type": "scattermap"
           }
          ],
          "scattermapbox": [
           {
            "marker": {
             "colorbar": {
              "outlinewidth": 0,
              "ticks": ""
             }
            },
            "type": "scattermapbox"
           }
          ],
          "scatterpolar": [
           {
            "marker": {
             "colorbar": {
              "outlinewidth": 0,
              "ticks": ""
             }
            },
            "type": "scatterpolar"
           }
          ],
          "scatterpolargl": [
           {
            "marker": {
             "colorbar": {
              "outlinewidth": 0,
              "ticks": ""
             }
            },
            "type": "scatterpolargl"
           }
          ],
          "scatterternary": [
           {
            "marker": {
             "colorbar": {
              "outlinewidth": 0,
              "ticks": ""
             }
            },
            "type": "scatterternary"
           }
          ],
          "surface": [
           {
            "colorbar": {
             "outlinewidth": 0,
             "ticks": ""
            },
            "colorscale": [
             [
              0,
              "#0d0887"
             ],
             [
              0.1111111111111111,
              "#46039f"
             ],
             [
              0.2222222222222222,
              "#7201a8"
             ],
             [
              0.3333333333333333,
              "#9c179e"
             ],
             [
              0.4444444444444444,
              "#bd3786"
             ],
             [
              0.5555555555555556,
              "#d8576b"
             ],
             [
              0.6666666666666666,
              "#ed7953"
             ],
             [
              0.7777777777777778,
              "#fb9f3a"
             ],
             [
              0.8888888888888888,
              "#fdca26"
             ],
             [
              1,
              "#f0f921"
             ]
            ],
            "type": "surface"
           }
          ],
          "table": [
           {
            "cells": {
             "fill": {
              "color": "#EBF0F8"
             },
             "line": {
              "color": "white"
             }
            },
            "header": {
             "fill": {
              "color": "#C8D4E3"
             },
             "line": {
              "color": "white"
             }
            },
            "type": "table"
           }
          ]
         },
         "layout": {
          "annotationdefaults": {
           "arrowcolor": "#2a3f5f",
           "arrowhead": 0,
           "arrowwidth": 1
          },
          "autotypenumbers": "strict",
          "coloraxis": {
           "colorbar": {
            "outlinewidth": 0,
            "ticks": ""
           }
          },
          "colorscale": {
           "diverging": [
            [
             0,
             "#8e0152"
            ],
            [
             0.1,
             "#c51b7d"
            ],
            [
             0.2,
             "#de77ae"
            ],
            [
             0.3,
             "#f1b6da"
            ],
            [
             0.4,
             "#fde0ef"
            ],
            [
             0.5,
             "#f7f7f7"
            ],
            [
             0.6,
             "#e6f5d0"
            ],
            [
             0.7,
             "#b8e186"
            ],
            [
             0.8,
             "#7fbc41"
            ],
            [
             0.9,
             "#4d9221"
            ],
            [
             1,
             "#276419"
            ]
           ],
           "sequential": [
            [
             0,
             "#0d0887"
            ],
            [
             0.1111111111111111,
             "#46039f"
            ],
            [
             0.2222222222222222,
             "#7201a8"
            ],
            [
             0.3333333333333333,
             "#9c179e"
            ],
            [
             0.4444444444444444,
             "#bd3786"
            ],
            [
             0.5555555555555556,
             "#d8576b"
            ],
            [
             0.6666666666666666,
             "#ed7953"
            ],
            [
             0.7777777777777778,
             "#fb9f3a"
            ],
            [
             0.8888888888888888,
             "#fdca26"
            ],
            [
             1,
             "#f0f921"
            ]
           ],
           "sequentialminus": [
            [
             0,
             "#0d0887"
            ],
            [
             0.1111111111111111,
             "#46039f"
            ],
            [
             0.2222222222222222,
             "#7201a8"
            ],
            [
             0.3333333333333333,
             "#9c179e"
            ],
            [
             0.4444444444444444,
             "#bd3786"
            ],
            [
             0.5555555555555556,
             "#d8576b"
            ],
            [
             0.6666666666666666,
             "#ed7953"
            ],
            [
             0.7777777777777778,
             "#fb9f3a"
            ],
            [
             0.8888888888888888,
             "#fdca26"
            ],
            [
             1,
             "#f0f921"
            ]
           ]
          },
          "colorway": [
           "#636efa",
           "#EF553B",
           "#00cc96",
           "#ab63fa",
           "#FFA15A",
           "#19d3f3",
           "#FF6692",
           "#B6E880",
           "#FF97FF",
           "#FECB52"
          ],
          "font": {
           "color": "#2a3f5f"
          },
          "geo": {
           "bgcolor": "white",
           "lakecolor": "white",
           "landcolor": "#E5ECF6",
           "showlakes": true,
           "showland": true,
           "subunitcolor": "white"
          },
          "hoverlabel": {
           "align": "left"
          },
          "hovermode": "closest",
          "mapbox": {
           "style": "light"
          },
          "paper_bgcolor": "white",
          "plot_bgcolor": "#E5ECF6",
          "polar": {
           "angularaxis": {
            "gridcolor": "white",
            "linecolor": "white",
            "ticks": ""
           },
           "bgcolor": "#E5ECF6",
           "radialaxis": {
            "gridcolor": "white",
            "linecolor": "white",
            "ticks": ""
           }
          },
          "scene": {
           "xaxis": {
            "backgroundcolor": "#E5ECF6",
            "gridcolor": "white",
            "gridwidth": 2,
            "linecolor": "white",
            "showbackground": true,
            "ticks": "",
            "zerolinecolor": "white"
           },
           "yaxis": {
            "backgroundcolor": "#E5ECF6",
            "gridcolor": "white",
            "gridwidth": 2,
            "linecolor": "white",
            "showbackground": true,
            "ticks": "",
            "zerolinecolor": "white"
           },
           "zaxis": {
            "backgroundcolor": "#E5ECF6",
            "gridcolor": "white",
            "gridwidth": 2,
            "linecolor": "white",
            "showbackground": true,
            "ticks": "",
            "zerolinecolor": "white"
           }
          },
          "shapedefaults": {
           "line": {
            "color": "#2a3f5f"
           }
          },
          "ternary": {
           "aaxis": {
            "gridcolor": "white",
            "linecolor": "white",
            "ticks": ""
           },
           "baxis": {
            "gridcolor": "white",
            "linecolor": "white",
            "ticks": ""
           },
           "bgcolor": "#E5ECF6",
           "caxis": {
            "gridcolor": "white",
            "linecolor": "white",
            "ticks": ""
           }
          },
          "title": {
           "x": 0.05
          },
          "xaxis": {
           "automargin": true,
           "gridcolor": "white",
           "linecolor": "white",
           "ticks": "",
           "title": {
            "standoff": 15
           },
           "zerolinecolor": "white",
           "zerolinewidth": 2
          },
          "yaxis": {
           "automargin": true,
           "gridcolor": "white",
           "linecolor": "white",
           "ticks": "",
           "title": {
            "standoff": 15
           },
           "zerolinecolor": "white",
           "zerolinewidth": 2
          }
         }
        },
        "title": {
         "text": "Boxplot of 'Released_Year'"
        },
        "width": 800,
        "yaxis": {
         "range": [
          1926.5,
          2020
         ]
        }
       }
      }
     },
     "metadata": {},
     "output_type": "display_data"
    }
   ],
   "source": [
    "# Box Plot de Released_Year\n",
    "plot_boxplot_stats(raw_df, col_name = 'Released_Year')"
   ]
  },
  {
   "cell_type": "markdown",
   "id": "1429330f",
   "metadata": {},
   "source": [
    "#### Runtime  Numerica (quantitativa continua)"
   ]
  },
  {
   "cell_type": "code",
   "execution_count": 24,
   "id": "074b69b1",
   "metadata": {},
   "outputs": [
    {
     "data": {
      "application/vnd.plotly.v1+json": {
       "config": {
        "plotlyServerURL": "https://plot.ly"
       },
       "data": [
        {
         "name": "Histogram",
         "nbinsx": 30,
         "opacity": 0.7,
         "type": "histogram",
         "x": {
          "bdata": "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",
          "dtype": "f8"
         }
        },
        {
         "line": {
          "color": "red"
         },
         "mode": "lines",
         "name": "KDE",
         "type": "scatter",
         "x": {
          "bdata": "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",
          "dtype": "f8"
         },
         "y": {
          "bdata": "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",
          "dtype": "f8"
         }
        }
       ],
       "layout": {
        "height": 400,
        "template": {
         "data": {
          "bar": [
           {
            "error_x": {
             "color": "#2a3f5f"
            },
            "error_y": {
             "color": "#2a3f5f"
            },
            "marker": {
             "line": {
              "color": "#E5ECF6",
              "width": 0.5
             },
             "pattern": {
              "fillmode": "overlay",
              "size": 10,
              "solidity": 0.2
             }
            },
            "type": "bar"
           }
          ],
          "barpolar": [
           {
            "marker": {
             "line": {
              "color": "#E5ECF6",
              "width": 0.5
             },
             "pattern": {
              "fillmode": "overlay",
              "size": 10,
              "solidity": 0.2
             }
            },
            "type": "barpolar"
           }
          ],
          "carpet": [
           {
            "aaxis": {
             "endlinecolor": "#2a3f5f",
             "gridcolor": "white",
             "linecolor": "white",
             "minorgridcolor": "white",
             "startlinecolor": "#2a3f5f"
            },
            "baxis": {
             "endlinecolor": "#2a3f5f",
             "gridcolor": "white",
             "linecolor": "white",
             "minorgridcolor": "white",
             "startlinecolor": "#2a3f5f"
            },
            "type": "carpet"
           }
          ],
          "choropleth": [
           {
            "colorbar": {
             "outlinewidth": 0,
             "ticks": ""
            },
            "type": "choropleth"
           }
          ],
          "contour": [
           {
            "colorbar": {
             "outlinewidth": 0,
             "ticks": ""
            },
            "colorscale": [
             [
              0,
              "#0d0887"
             ],
             [
              0.1111111111111111,
              "#46039f"
             ],
             [
              0.2222222222222222,
              "#7201a8"
             ],
             [
              0.3333333333333333,
              "#9c179e"
             ],
             [
              0.4444444444444444,
              "#bd3786"
             ],
             [
              0.5555555555555556,
              "#d8576b"
             ],
             [
              0.6666666666666666,
              "#ed7953"
             ],
             [
              0.7777777777777778,
              "#fb9f3a"
             ],
             [
              0.8888888888888888,
              "#fdca26"
             ],
             [
              1,
              "#f0f921"
             ]
            ],
            "type": "contour"
           }
          ],
          "contourcarpet": [
           {
            "colorbar": {
             "outlinewidth": 0,
             "ticks": ""
            },
            "type": "contourcarpet"
           }
          ],
          "heatmap": [
           {
            "colorbar": {
             "outlinewidth": 0,
             "ticks": ""
            },
            "colorscale": [
             [
              0,
              "#0d0887"
             ],
             [
              0.1111111111111111,
              "#46039f"
             ],
             [
              0.2222222222222222,
              "#7201a8"
             ],
             [
              0.3333333333333333,
              "#9c179e"
             ],
             [
              0.4444444444444444,
              "#bd3786"
             ],
             [
              0.5555555555555556,
              "#d8576b"
             ],
             [
              0.6666666666666666,
              "#ed7953"
             ],
             [
              0.7777777777777778,
              "#fb9f3a"
             ],
             [
              0.8888888888888888,
              "#fdca26"
             ],
             [
              1,
              "#f0f921"
             ]
            ],
            "type": "heatmap"
           }
          ],
          "histogram": [
           {
            "marker": {
             "pattern": {
              "fillmode": "overlay",
              "size": 10,
              "solidity": 0.2
             }
            },
            "type": "histogram"
           }
          ],
          "histogram2d": [
           {
            "colorbar": {
             "outlinewidth": 0,
             "ticks": ""
            },
            "colorscale": [
             [
              0,
              "#0d0887"
             ],
             [
              0.1111111111111111,
              "#46039f"
             ],
             [
              0.2222222222222222,
              "#7201a8"
             ],
             [
              0.3333333333333333,
              "#9c179e"
             ],
             [
              0.4444444444444444,
              "#bd3786"
             ],
             [
              0.5555555555555556,
              "#d8576b"
             ],
             [
              0.6666666666666666,
              "#ed7953"
             ],
             [
              0.7777777777777778,
              "#fb9f3a"
             ],
             [
              0.8888888888888888,
              "#fdca26"
             ],
             [
              1,
              "#f0f921"
             ]
            ],
            "type": "histogram2d"
           }
          ],
          "histogram2dcontour": [
           {
            "colorbar": {
             "outlinewidth": 0,
             "ticks": ""
            },
            "colorscale": [
             [
              0,
              "#0d0887"
             ],
             [
              0.1111111111111111,
              "#46039f"
             ],
             [
              0.2222222222222222,
              "#7201a8"
             ],
             [
              0.3333333333333333,
              "#9c179e"
             ],
             [
              0.4444444444444444,
              "#bd3786"
             ],
             [
              0.5555555555555556,
              "#d8576b"
             ],
             [
              0.6666666666666666,
              "#ed7953"
             ],
             [
              0.7777777777777778,
              "#fb9f3a"
             ],
             [
              0.8888888888888888,
              "#fdca26"
             ],
             [
              1,
              "#f0f921"
             ]
            ],
            "type": "histogram2dcontour"
           }
          ],
          "mesh3d": [
           {
            "colorbar": {
             "outlinewidth": 0,
             "ticks": ""
            },
            "type": "mesh3d"
           }
          ],
          "parcoords": [
           {
            "line": {
             "colorbar": {
              "outlinewidth": 0,
              "ticks": ""
             }
            },
            "type": "parcoords"
           }
          ],
          "pie": [
           {
            "automargin": true,
            "type": "pie"
           }
          ],
          "scatter": [
           {
            "fillpattern": {
             "fillmode": "overlay",
             "size": 10,
             "solidity": 0.2
            },
            "type": "scatter"
           }
          ],
          "scatter3d": [
           {
            "line": {
             "colorbar": {
              "outlinewidth": 0,
              "ticks": ""
             }
            },
            "marker": {
             "colorbar": {
              "outlinewidth": 0,
              "ticks": ""
             }
            },
            "type": "scatter3d"
           }
          ],
          "scattercarpet": [
           {
            "marker": {
             "colorbar": {
              "outlinewidth": 0,
              "ticks": ""
             }
            },
            "type": "scattercarpet"
           }
          ],
          "scattergeo": [
           {
            "marker": {
             "colorbar": {
              "outlinewidth": 0,
              "ticks": ""
             }
            },
            "type": "scattergeo"
           }
          ],
          "scattergl": [
           {
            "marker": {
             "colorbar": {
              "outlinewidth": 0,
              "ticks": ""
             }
            },
            "type": "scattergl"
           }
          ],
          "scattermap": [
           {
            "marker": {
             "colorbar": {
              "outlinewidth": 0,
              "ticks": ""
             }
            },
            "type": "scattermap"
           }
          ],
          "scattermapbox": [
           {
            "marker": {
             "colorbar": {
              "outlinewidth": 0,
              "ticks": ""
             }
            },
            "type": "scattermapbox"
           }
          ],
          "scatterpolar": [
           {
            "marker": {
             "colorbar": {
              "outlinewidth": 0,
              "ticks": ""
             }
            },
            "type": "scatterpolar"
           }
          ],
          "scatterpolargl": [
           {
            "marker": {
             "colorbar": {
              "outlinewidth": 0,
              "ticks": ""
             }
            },
            "type": "scatterpolargl"
           }
          ],
          "scatterternary": [
           {
            "marker": {
             "colorbar": {
              "outlinewidth": 0,
              "ticks": ""
             }
            },
            "type": "scatterternary"
           }
          ],
          "surface": [
           {
            "colorbar": {
             "outlinewidth": 0,
             "ticks": ""
            },
            "colorscale": [
             [
              0,
              "#0d0887"
             ],
             [
              0.1111111111111111,
              "#46039f"
             ],
             [
              0.2222222222222222,
              "#7201a8"
             ],
             [
              0.3333333333333333,
              "#9c179e"
             ],
             [
              0.4444444444444444,
              "#bd3786"
             ],
             [
              0.5555555555555556,
              "#d8576b"
             ],
             [
              0.6666666666666666,
              "#ed7953"
             ],
             [
              0.7777777777777778,
              "#fb9f3a"
             ],
             [
              0.8888888888888888,
              "#fdca26"
             ],
             [
              1,
              "#f0f921"
             ]
            ],
            "type": "surface"
           }
          ],
          "table": [
           {
            "cells": {
             "fill": {
              "color": "#EBF0F8"
             },
             "line": {
              "color": "white"
             }
            },
            "header": {
             "fill": {
              "color": "#C8D4E3"
             },
             "line": {
              "color": "white"
             }
            },
            "type": "table"
           }
          ]
         },
         "layout": {
          "annotationdefaults": {
           "arrowcolor": "#2a3f5f",
           "arrowhead": 0,
           "arrowwidth": 1
          },
          "autotypenumbers": "strict",
          "coloraxis": {
           "colorbar": {
            "outlinewidth": 0,
            "ticks": ""
           }
          },
          "colorscale": {
           "diverging": [
            [
             0,
             "#8e0152"
            ],
            [
             0.1,
             "#c51b7d"
            ],
            [
             0.2,
             "#de77ae"
            ],
            [
             0.3,
             "#f1b6da"
            ],
            [
             0.4,
             "#fde0ef"
            ],
            [
             0.5,
             "#f7f7f7"
            ],
            [
             0.6,
             "#e6f5d0"
            ],
            [
             0.7,
             "#b8e186"
            ],
            [
             0.8,
             "#7fbc41"
            ],
            [
             0.9,
             "#4d9221"
            ],
            [
             1,
             "#276419"
            ]
           ],
           "sequential": [
            [
             0,
             "#0d0887"
            ],
            [
             0.1111111111111111,
             "#46039f"
            ],
            [
             0.2222222222222222,
             "#7201a8"
            ],
            [
             0.3333333333333333,
             "#9c179e"
            ],
            [
             0.4444444444444444,
             "#bd3786"
            ],
            [
             0.5555555555555556,
             "#d8576b"
            ],
            [
             0.6666666666666666,
             "#ed7953"
            ],
            [
             0.7777777777777778,
             "#fb9f3a"
            ],
            [
             0.8888888888888888,
             "#fdca26"
            ],
            [
             1,
             "#f0f921"
            ]
           ],
           "sequentialminus": [
            [
             0,
             "#0d0887"
            ],
            [
             0.1111111111111111,
             "#46039f"
            ],
            [
             0.2222222222222222,
             "#7201a8"
            ],
            [
             0.3333333333333333,
             "#9c179e"
            ],
            [
             0.4444444444444444,
             "#bd3786"
            ],
            [
             0.5555555555555556,
             "#d8576b"
            ],
            [
             0.6666666666666666,
             "#ed7953"
            ],
            [
             0.7777777777777778,
             "#fb9f3a"
            ],
            [
             0.8888888888888888,
             "#fdca26"
            ],
            [
             1,
             "#f0f921"
            ]
           ]
          },
          "colorway": [
           "#636efa",
           "#EF553B",
           "#00cc96",
           "#ab63fa",
           "#FFA15A",
           "#19d3f3",
           "#FF6692",
           "#B6E880",
           "#FF97FF",
           "#FECB52"
          ],
          "font": {
           "color": "#2a3f5f"
          },
          "geo": {
           "bgcolor": "white",
           "lakecolor": "white",
           "landcolor": "#E5ECF6",
           "showlakes": true,
           "showland": true,
           "subunitcolor": "white"
          },
          "hoverlabel": {
           "align": "left"
          },
          "hovermode": "closest",
          "mapbox": {
           "style": "light"
          },
          "paper_bgcolor": "white",
          "plot_bgcolor": "#E5ECF6",
          "polar": {
           "angularaxis": {
            "gridcolor": "white",
            "linecolor": "white",
            "ticks": ""
           },
           "bgcolor": "#E5ECF6",
           "radialaxis": {
            "gridcolor": "white",
            "linecolor": "white",
            "ticks": ""
           }
          },
          "scene": {
           "xaxis": {
            "backgroundcolor": "#E5ECF6",
            "gridcolor": "white",
            "gridwidth": 2,
            "linecolor": "white",
            "showbackground": true,
            "ticks": "",
            "zerolinecolor": "white"
           },
           "yaxis": {
            "backgroundcolor": "#E5ECF6",
            "gridcolor": "white",
            "gridwidth": 2,
            "linecolor": "white",
            "showbackground": true,
            "ticks": "",
            "zerolinecolor": "white"
           },
           "zaxis": {
            "backgroundcolor": "#E5ECF6",
            "gridcolor": "white",
            "gridwidth": 2,
            "linecolor": "white",
            "showbackground": true,
            "ticks": "",
            "zerolinecolor": "white"
           }
          },
          "shapedefaults": {
           "line": {
            "color": "#2a3f5f"
           }
          },
          "ternary": {
           "aaxis": {
            "gridcolor": "white",
            "linecolor": "white",
            "ticks": ""
           },
           "baxis": {
            "gridcolor": "white",
            "linecolor": "white",
            "ticks": ""
           },
           "bgcolor": "#E5ECF6",
           "caxis": {
            "gridcolor": "white",
            "linecolor": "white",
            "ticks": ""
           }
          },
          "title": {
           "x": 0.05
          },
          "xaxis": {
           "automargin": true,
           "gridcolor": "white",
           "linecolor": "white",
           "ticks": "",
           "title": {
            "standoff": 15
           },
           "zerolinecolor": "white",
           "zerolinewidth": 2
          },
          "yaxis": {
           "automargin": true,
           "gridcolor": "white",
           "linecolor": "white",
           "ticks": "",
           "title": {
            "standoff": 15
           },
           "zerolinecolor": "white",
           "zerolinewidth": 2
          }
         }
        },
        "title": {
         "text": "Distribution of 'Runtime'"
        },
        "width": 800,
        "xaxis": {
         "title": {
          "text": "Runtime"
         }
        },
        "yaxis": {
         "title": {
          "text": "Count"
         }
        }
       }
      }
     },
     "metadata": {},
     "output_type": "display_data"
    }
   ],
   "source": [
    "#Distribuição de Runtime\n",
    "plot_distribution(raw_df, col_name = 'Runtime')"
   ]
  },
  {
   "cell_type": "code",
   "execution_count": 25,
   "id": "dcff8f0c",
   "metadata": {},
   "outputs": [
    {
     "name": "stdout",
     "output_type": "stream",
     "text": [
      "Column: Runtime\n",
      "Number of outliers: 29\n",
      "Percentage of outliers: 2.90%\n"
     ]
    },
    {
     "data": {
      "application/vnd.plotly.v1+json": {
       "config": {
        "plotlyServerURL": "https://plot.ly"
       },
       "data": [
        {
         "boxmean": "sd",
         "boxpoints": "suspectedoutliers",
         "line": {
          "width": 2
         },
         "marker": {
          "color": "orange"
         },
         "name": "Runtime",
         "type": "box",
         "y": {
          "bdata": "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",
          "dtype": "f8"
         }
        }
       ],
       "layout": {
        "height": 400,
        "template": {
         "data": {
          "bar": [
           {
            "error_x": {
             "color": "#2a3f5f"
            },
            "error_y": {
             "color": "#2a3f5f"
            },
            "marker": {
             "line": {
              "color": "#E5ECF6",
              "width": 0.5
             },
             "pattern": {
              "fillmode": "overlay",
              "size": 10,
              "solidity": 0.2
             }
            },
            "type": "bar"
           }
          ],
          "barpolar": [
           {
            "marker": {
             "line": {
              "color": "#E5ECF6",
              "width": 0.5
             },
             "pattern": {
              "fillmode": "overlay",
              "size": 10,
              "solidity": 0.2
             }
            },
            "type": "barpolar"
           }
          ],
          "carpet": [
           {
            "aaxis": {
             "endlinecolor": "#2a3f5f",
             "gridcolor": "white",
             "linecolor": "white",
             "minorgridcolor": "white",
             "startlinecolor": "#2a3f5f"
            },
            "baxis": {
             "endlinecolor": "#2a3f5f",
             "gridcolor": "white",
             "linecolor": "white",
             "minorgridcolor": "white",
             "startlinecolor": "#2a3f5f"
            },
            "type": "carpet"
           }
          ],
          "choropleth": [
           {
            "colorbar": {
             "outlinewidth": 0,
             "ticks": ""
            },
            "type": "choropleth"
           }
          ],
          "contour": [
           {
            "colorbar": {
             "outlinewidth": 0,
             "ticks": ""
            },
            "colorscale": [
             [
              0,
              "#0d0887"
             ],
             [
              0.1111111111111111,
              "#46039f"
             ],
             [
              0.2222222222222222,
              "#7201a8"
             ],
             [
              0.3333333333333333,
              "#9c179e"
             ],
             [
              0.4444444444444444,
              "#bd3786"
             ],
             [
              0.5555555555555556,
              "#d8576b"
             ],
             [
              0.6666666666666666,
              "#ed7953"
             ],
             [
              0.7777777777777778,
              "#fb9f3a"
             ],
             [
              0.8888888888888888,
              "#fdca26"
             ],
             [
              1,
              "#f0f921"
             ]
            ],
            "type": "contour"
           }
          ],
          "contourcarpet": [
           {
            "colorbar": {
             "outlinewidth": 0,
             "ticks": ""
            },
            "type": "contourcarpet"
           }
          ],
          "heatmap": [
           {
            "colorbar": {
             "outlinewidth": 0,
             "ticks": ""
            },
            "colorscale": [
             [
              0,
              "#0d0887"
             ],
             [
              0.1111111111111111,
              "#46039f"
             ],
             [
              0.2222222222222222,
              "#7201a8"
             ],
             [
              0.3333333333333333,
              "#9c179e"
             ],
             [
              0.4444444444444444,
              "#bd3786"
             ],
             [
              0.5555555555555556,
              "#d8576b"
             ],
             [
              0.6666666666666666,
              "#ed7953"
             ],
             [
              0.7777777777777778,
              "#fb9f3a"
             ],
             [
              0.8888888888888888,
              "#fdca26"
             ],
             [
              1,
              "#f0f921"
             ]
            ],
            "type": "heatmap"
           }
          ],
          "histogram": [
           {
            "marker": {
             "pattern": {
              "fillmode": "overlay",
              "size": 10,
              "solidity": 0.2
             }
            },
            "type": "histogram"
           }
          ],
          "histogram2d": [
           {
            "colorbar": {
             "outlinewidth": 0,
             "ticks": ""
            },
            "colorscale": [
             [
              0,
              "#0d0887"
             ],
             [
              0.1111111111111111,
              "#46039f"
             ],
             [
              0.2222222222222222,
              "#7201a8"
             ],
             [
              0.3333333333333333,
              "#9c179e"
             ],
             [
              0.4444444444444444,
              "#bd3786"
             ],
             [
              0.5555555555555556,
              "#d8576b"
             ],
             [
              0.6666666666666666,
              "#ed7953"
             ],
             [
              0.7777777777777778,
              "#fb9f3a"
             ],
             [
              0.8888888888888888,
              "#fdca26"
             ],
             [
              1,
              "#f0f921"
             ]
            ],
            "type": "histogram2d"
           }
          ],
          "histogram2dcontour": [
           {
            "colorbar": {
             "outlinewidth": 0,
             "ticks": ""
            },
            "colorscale": [
             [
              0,
              "#0d0887"
             ],
             [
              0.1111111111111111,
              "#46039f"
             ],
             [
              0.2222222222222222,
              "#7201a8"
             ],
             [
              0.3333333333333333,
              "#9c179e"
             ],
             [
              0.4444444444444444,
              "#bd3786"
             ],
             [
              0.5555555555555556,
              "#d8576b"
             ],
             [
              0.6666666666666666,
              "#ed7953"
             ],
             [
              0.7777777777777778,
              "#fb9f3a"
             ],
             [
              0.8888888888888888,
              "#fdca26"
             ],
             [
              1,
              "#f0f921"
             ]
            ],
            "type": "histogram2dcontour"
           }
          ],
          "mesh3d": [
           {
            "colorbar": {
             "outlinewidth": 0,
             "ticks": ""
            },
            "type": "mesh3d"
           }
          ],
          "parcoords": [
           {
            "line": {
             "colorbar": {
              "outlinewidth": 0,
              "ticks": ""
             }
            },
            "type": "parcoords"
           }
          ],
          "pie": [
           {
            "automargin": true,
            "type": "pie"
           }
          ],
          "scatter": [
           {
            "fillpattern": {
             "fillmode": "overlay",
             "size": 10,
             "solidity": 0.2
            },
            "type": "scatter"
           }
          ],
          "scatter3d": [
           {
            "line": {
             "colorbar": {
              "outlinewidth": 0,
              "ticks": ""
             }
            },
            "marker": {
             "colorbar": {
              "outlinewidth": 0,
              "ticks": ""
             }
            },
            "type": "scatter3d"
           }
          ],
          "scattercarpet": [
           {
            "marker": {
             "colorbar": {
              "outlinewidth": 0,
              "ticks": ""
             }
            },
            "type": "scattercarpet"
           }
          ],
          "scattergeo": [
           {
            "marker": {
             "colorbar": {
              "outlinewidth": 0,
              "ticks": ""
             }
            },
            "type": "scattergeo"
           }
          ],
          "scattergl": [
           {
            "marker": {
             "colorbar": {
              "outlinewidth": 0,
              "ticks": ""
             }
            },
            "type": "scattergl"
           }
          ],
          "scattermap": [
           {
            "marker": {
             "colorbar": {
              "outlinewidth": 0,
              "ticks": ""
             }
            },
            "type": "scattermap"
           }
          ],
          "scattermapbox": [
           {
            "marker": {
             "colorbar": {
              "outlinewidth": 0,
              "ticks": ""
             }
            },
            "type": "scattermapbox"
           }
          ],
          "scatterpolar": [
           {
            "marker": {
             "colorbar": {
              "outlinewidth": 0,
              "ticks": ""
             }
            },
            "type": "scatterpolar"
           }
          ],
          "scatterpolargl": [
           {
            "marker": {
             "colorbar": {
              "outlinewidth": 0,
              "ticks": ""
             }
            },
            "type": "scatterpolargl"
           }
          ],
          "scatterternary": [
           {
            "marker": {
             "colorbar": {
              "outlinewidth": 0,
              "ticks": ""
             }
            },
            "type": "scatterternary"
           }
          ],
          "surface": [
           {
            "colorbar": {
             "outlinewidth": 0,
             "ticks": ""
            },
            "colorscale": [
             [
              0,
              "#0d0887"
             ],
             [
              0.1111111111111111,
              "#46039f"
             ],
             [
              0.2222222222222222,
              "#7201a8"
             ],
             [
              0.3333333333333333,
              "#9c179e"
             ],
             [
              0.4444444444444444,
              "#bd3786"
             ],
             [
              0.5555555555555556,
              "#d8576b"
             ],
             [
              0.6666666666666666,
              "#ed7953"
             ],
             [
              0.7777777777777778,
              "#fb9f3a"
             ],
             [
              0.8888888888888888,
              "#fdca26"
             ],
             [
              1,
              "#f0f921"
             ]
            ],
            "type": "surface"
           }
          ],
          "table": [
           {
            "cells": {
             "fill": {
              "color": "#EBF0F8"
             },
             "line": {
              "color": "white"
             }
            },
            "header": {
             "fill": {
              "color": "#C8D4E3"
             },
             "line": {
              "color": "white"
             }
            },
            "type": "table"
           }
          ]
         },
         "layout": {
          "annotationdefaults": {
           "arrowcolor": "#2a3f5f",
           "arrowhead": 0,
           "arrowwidth": 1
          },
          "autotypenumbers": "strict",
          "coloraxis": {
           "colorbar": {
            "outlinewidth": 0,
            "ticks": ""
           }
          },
          "colorscale": {
           "diverging": [
            [
             0,
             "#8e0152"
            ],
            [
             0.1,
             "#c51b7d"
            ],
            [
             0.2,
             "#de77ae"
            ],
            [
             0.3,
             "#f1b6da"
            ],
            [
             0.4,
             "#fde0ef"
            ],
            [
             0.5,
             "#f7f7f7"
            ],
            [
             0.6,
             "#e6f5d0"
            ],
            [
             0.7,
             "#b8e186"
            ],
            [
             0.8,
             "#7fbc41"
            ],
            [
             0.9,
             "#4d9221"
            ],
            [
             1,
             "#276419"
            ]
           ],
           "sequential": [
            [
             0,
             "#0d0887"
            ],
            [
             0.1111111111111111,
             "#46039f"
            ],
            [
             0.2222222222222222,
             "#7201a8"
            ],
            [
             0.3333333333333333,
             "#9c179e"
            ],
            [
             0.4444444444444444,
             "#bd3786"
            ],
            [
             0.5555555555555556,
             "#d8576b"
            ],
            [
             0.6666666666666666,
             "#ed7953"
            ],
            [
             0.7777777777777778,
             "#fb9f3a"
            ],
            [
             0.8888888888888888,
             "#fdca26"
            ],
            [
             1,
             "#f0f921"
            ]
           ],
           "sequentialminus": [
            [
             0,
             "#0d0887"
            ],
            [
             0.1111111111111111,
             "#46039f"
            ],
            [
             0.2222222222222222,
             "#7201a8"
            ],
            [
             0.3333333333333333,
             "#9c179e"
            ],
            [
             0.4444444444444444,
             "#bd3786"
            ],
            [
             0.5555555555555556,
             "#d8576b"
            ],
            [
             0.6666666666666666,
             "#ed7953"
            ],
            [
             0.7777777777777778,
             "#fb9f3a"
            ],
            [
             0.8888888888888888,
             "#fdca26"
            ],
            [
             1,
             "#f0f921"
            ]
           ]
          },
          "colorway": [
           "#636efa",
           "#EF553B",
           "#00cc96",
           "#ab63fa",
           "#FFA15A",
           "#19d3f3",
           "#FF6692",
           "#B6E880",
           "#FF97FF",
           "#FECB52"
          ],
          "font": {
           "color": "#2a3f5f"
          },
          "geo": {
           "bgcolor": "white",
           "lakecolor": "white",
           "landcolor": "#E5ECF6",
           "showlakes": true,
           "showland": true,
           "subunitcolor": "white"
          },
          "hoverlabel": {
           "align": "left"
          },
          "hovermode": "closest",
          "mapbox": {
           "style": "light"
          },
          "paper_bgcolor": "white",
          "plot_bgcolor": "#E5ECF6",
          "polar": {
           "angularaxis": {
            "gridcolor": "white",
            "linecolor": "white",
            "ticks": ""
           },
           "bgcolor": "#E5ECF6",
           "radialaxis": {
            "gridcolor": "white",
            "linecolor": "white",
            "ticks": ""
           }
          },
          "scene": {
           "xaxis": {
            "backgroundcolor": "#E5ECF6",
            "gridcolor": "white",
            "gridwidth": 2,
            "linecolor": "white",
            "showbackground": true,
            "ticks": "",
            "zerolinecolor": "white"
           },
           "yaxis": {
            "backgroundcolor": "#E5ECF6",
            "gridcolor": "white",
            "gridwidth": 2,
            "linecolor": "white",
            "showbackground": true,
            "ticks": "",
            "zerolinecolor": "white"
           },
           "zaxis": {
            "backgroundcolor": "#E5ECF6",
            "gridcolor": "white",
            "gridwidth": 2,
            "linecolor": "white",
            "showbackground": true,
            "ticks": "",
            "zerolinecolor": "white"
           }
          },
          "shapedefaults": {
           "line": {
            "color": "#2a3f5f"
           }
          },
          "ternary": {
           "aaxis": {
            "gridcolor": "white",
            "linecolor": "white",
            "ticks": ""
           },
           "baxis": {
            "gridcolor": "white",
            "linecolor": "white",
            "ticks": ""
           },
           "bgcolor": "#E5ECF6",
           "caxis": {
            "gridcolor": "white",
            "linecolor": "white",
            "ticks": ""
           }
          },
          "title": {
           "x": 0.05
          },
          "xaxis": {
           "automargin": true,
           "gridcolor": "white",
           "linecolor": "white",
           "ticks": "",
           "title": {
            "standoff": 15
           },
           "zerolinecolor": "white",
           "zerolinewidth": 2
          },
          "yaxis": {
           "automargin": true,
           "gridcolor": "white",
           "linecolor": "white",
           "ticks": "",
           "title": {
            "standoff": 15
           },
           "zerolinecolor": "white",
           "zerolinewidth": 2
          }
         }
        },
        "title": {
         "text": "Boxplot of 'Runtime'"
        },
        "width": 800,
        "yaxis": {
         "range": [
          52,
          188
         ]
        }
       }
      }
     },
     "metadata": {},
     "output_type": "display_data"
    }
   ],
   "source": [
    "# Box Plot de Runtime\n",
    "plot_boxplot_stats(raw_df, col_name = 'Runtime')"
   ]
  },
  {
   "cell_type": "markdown",
   "id": "e7d49878",
   "metadata": {},
   "source": [
    "#### Meta_score  Numerica (quantitativa continua)"
   ]
  },
  {
   "cell_type": "code",
   "execution_count": 26,
   "id": "b2991e96",
   "metadata": {},
   "outputs": [
    {
     "data": {
      "application/vnd.plotly.v1+json": {
       "config": {
        "plotlyServerURL": "https://plot.ly"
       },
       "data": [
        {
         "name": "Histogram",
         "nbinsx": 30,
         "opacity": 0.7,
         "type": "histogram",
         "x": {
          "bdata": "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",
          "dtype": "f8"
         }
        },
        {
         "line": {
          "color": "red"
         },
         "mode": "lines",
         "name": "KDE",
         "type": "scatter",
         "x": {
          "bdata": "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",
          "dtype": "f8"
         },
         "y": {
          "bdata": "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",
          "dtype": "f8"
         }
        }
       ],
       "layout": {
        "height": 400,
        "template": {
         "data": {
          "bar": [
           {
            "error_x": {
             "color": "#2a3f5f"
            },
            "error_y": {
             "color": "#2a3f5f"
            },
            "marker": {
             "line": {
              "color": "#E5ECF6",
              "width": 0.5
             },
             "pattern": {
              "fillmode": "overlay",
              "size": 10,
              "solidity": 0.2
             }
            },
            "type": "bar"
           }
          ],
          "barpolar": [
           {
            "marker": {
             "line": {
              "color": "#E5ECF6",
              "width": 0.5
             },
             "pattern": {
              "fillmode": "overlay",
              "size": 10,
              "solidity": 0.2
             }
            },
            "type": "barpolar"
           }
          ],
          "carpet": [
           {
            "aaxis": {
             "endlinecolor": "#2a3f5f",
             "gridcolor": "white",
             "linecolor": "white",
             "minorgridcolor": "white",
             "startlinecolor": "#2a3f5f"
            },
            "baxis": {
             "endlinecolor": "#2a3f5f",
             "gridcolor": "white",
             "linecolor": "white",
             "minorgridcolor": "white",
             "startlinecolor": "#2a3f5f"
            },
            "type": "carpet"
           }
          ],
          "choropleth": [
           {
            "colorbar": {
             "outlinewidth": 0,
             "ticks": ""
            },
            "type": "choropleth"
           }
          ],
          "contour": [
           {
            "colorbar": {
             "outlinewidth": 0,
             "ticks": ""
            },
            "colorscale": [
             [
              0,
              "#0d0887"
             ],
             [
              0.1111111111111111,
              "#46039f"
             ],
             [
              0.2222222222222222,
              "#7201a8"
             ],
             [
              0.3333333333333333,
              "#9c179e"
             ],
             [
              0.4444444444444444,
              "#bd3786"
             ],
             [
              0.5555555555555556,
              "#d8576b"
             ],
             [
              0.6666666666666666,
              "#ed7953"
             ],
             [
              0.7777777777777778,
              "#fb9f3a"
             ],
             [
              0.8888888888888888,
              "#fdca26"
             ],
             [
              1,
              "#f0f921"
             ]
            ],
            "type": "contour"
           }
          ],
          "contourcarpet": [
           {
            "colorbar": {
             "outlinewidth": 0,
             "ticks": ""
            },
            "type": "contourcarpet"
           }
          ],
          "heatmap": [
           {
            "colorbar": {
             "outlinewidth": 0,
             "ticks": ""
            },
            "colorscale": [
             [
              0,
              "#0d0887"
             ],
             [
              0.1111111111111111,
              "#46039f"
             ],
             [
              0.2222222222222222,
              "#7201a8"
             ],
             [
              0.3333333333333333,
              "#9c179e"
             ],
             [
              0.4444444444444444,
              "#bd3786"
             ],
             [
              0.5555555555555556,
              "#d8576b"
             ],
             [
              0.6666666666666666,
              "#ed7953"
             ],
             [
              0.7777777777777778,
              "#fb9f3a"
             ],
             [
              0.8888888888888888,
              "#fdca26"
             ],
             [
              1,
              "#f0f921"
             ]
            ],
            "type": "heatmap"
           }
          ],
          "histogram": [
           {
            "marker": {
             "pattern": {
              "fillmode": "overlay",
              "size": 10,
              "solidity": 0.2
             }
            },
            "type": "histogram"
           }
          ],
          "histogram2d": [
           {
            "colorbar": {
             "outlinewidth": 0,
             "ticks": ""
            },
            "colorscale": [
             [
              0,
              "#0d0887"
             ],
             [
              0.1111111111111111,
              "#46039f"
             ],
             [
              0.2222222222222222,
              "#7201a8"
             ],
             [
              0.3333333333333333,
              "#9c179e"
             ],
             [
              0.4444444444444444,
              "#bd3786"
             ],
             [
              0.5555555555555556,
              "#d8576b"
             ],
             [
              0.6666666666666666,
              "#ed7953"
             ],
             [
              0.7777777777777778,
              "#fb9f3a"
             ],
             [
              0.8888888888888888,
              "#fdca26"
             ],
             [
              1,
              "#f0f921"
             ]
            ],
            "type": "histogram2d"
           }
          ],
          "histogram2dcontour": [
           {
            "colorbar": {
             "outlinewidth": 0,
             "ticks": ""
            },
            "colorscale": [
             [
              0,
              "#0d0887"
             ],
             [
              0.1111111111111111,
              "#46039f"
             ],
             [
              0.2222222222222222,
              "#7201a8"
             ],
             [
              0.3333333333333333,
              "#9c179e"
             ],
             [
              0.4444444444444444,
              "#bd3786"
             ],
             [
              0.5555555555555556,
              "#d8576b"
             ],
             [
              0.6666666666666666,
              "#ed7953"
             ],
             [
              0.7777777777777778,
              "#fb9f3a"
             ],
             [
              0.8888888888888888,
              "#fdca26"
             ],
             [
              1,
              "#f0f921"
             ]
            ],
            "type": "histogram2dcontour"
           }
          ],
          "mesh3d": [
           {
            "colorbar": {
             "outlinewidth": 0,
             "ticks": ""
            },
            "type": "mesh3d"
           }
          ],
          "parcoords": [
           {
            "line": {
             "colorbar": {
              "outlinewidth": 0,
              "ticks": ""
             }
            },
            "type": "parcoords"
           }
          ],
          "pie": [
           {
            "automargin": true,
            "type": "pie"
           }
          ],
          "scatter": [
           {
            "fillpattern": {
             "fillmode": "overlay",
             "size": 10,
             "solidity": 0.2
            },
            "type": "scatter"
           }
          ],
          "scatter3d": [
           {
            "line": {
             "colorbar": {
              "outlinewidth": 0,
              "ticks": ""
             }
            },
            "marker": {
             "colorbar": {
              "outlinewidth": 0,
              "ticks": ""
             }
            },
            "type": "scatter3d"
           }
          ],
          "scattercarpet": [
           {
            "marker": {
             "colorbar": {
              "outlinewidth": 0,
              "ticks": ""
             }
            },
            "type": "scattercarpet"
           }
          ],
          "scattergeo": [
           {
            "marker": {
             "colorbar": {
              "outlinewidth": 0,
              "ticks": ""
             }
            },
            "type": "scattergeo"
           }
          ],
          "scattergl": [
           {
            "marker": {
             "colorbar": {
              "outlinewidth": 0,
              "ticks": ""
             }
            },
            "type": "scattergl"
           }
          ],
          "scattermap": [
           {
            "marker": {
             "colorbar": {
              "outlinewidth": 0,
              "ticks": ""
             }
            },
            "type": "scattermap"
           }
          ],
          "scattermapbox": [
           {
            "marker": {
             "colorbar": {
              "outlinewidth": 0,
              "ticks": ""
             }
            },
            "type": "scattermapbox"
           }
          ],
          "scatterpolar": [
           {
            "marker": {
             "colorbar": {
              "outlinewidth": 0,
              "ticks": ""
             }
            },
            "type": "scatterpolar"
           }
          ],
          "scatterpolargl": [
           {
            "marker": {
             "colorbar": {
              "outlinewidth": 0,
              "ticks": ""
             }
            },
            "type": "scatterpolargl"
           }
          ],
          "scatterternary": [
           {
            "marker": {
             "colorbar": {
              "outlinewidth": 0,
              "ticks": ""
             }
            },
            "type": "scatterternary"
           }
          ],
          "surface": [
           {
            "colorbar": {
             "outlinewidth": 0,
             "ticks": ""
            },
            "colorscale": [
             [
              0,
              "#0d0887"
             ],
             [
              0.1111111111111111,
              "#46039f"
             ],
             [
              0.2222222222222222,
              "#7201a8"
             ],
             [
              0.3333333333333333,
              "#9c179e"
             ],
             [
              0.4444444444444444,
              "#bd3786"
             ],
             [
              0.5555555555555556,
              "#d8576b"
             ],
             [
              0.6666666666666666,
              "#ed7953"
             ],
             [
              0.7777777777777778,
              "#fb9f3a"
             ],
             [
              0.8888888888888888,
              "#fdca26"
             ],
             [
              1,
              "#f0f921"
             ]
            ],
            "type": "surface"
           }
          ],
          "table": [
           {
            "cells": {
             "fill": {
              "color": "#EBF0F8"
             },
             "line": {
              "color": "white"
             }
            },
            "header": {
             "fill": {
              "color": "#C8D4E3"
             },
             "line": {
              "color": "white"
             }
            },
            "type": "table"
           }
          ]
         },
         "layout": {
          "annotationdefaults": {
           "arrowcolor": "#2a3f5f",
           "arrowhead": 0,
           "arrowwidth": 1
          },
          "autotypenumbers": "strict",
          "coloraxis": {
           "colorbar": {
            "outlinewidth": 0,
            "ticks": ""
           }
          },
          "colorscale": {
           "diverging": [
            [
             0,
             "#8e0152"
            ],
            [
             0.1,
             "#c51b7d"
            ],
            [
             0.2,
             "#de77ae"
            ],
            [
             0.3,
             "#f1b6da"
            ],
            [
             0.4,
             "#fde0ef"
            ],
            [
             0.5,
             "#f7f7f7"
            ],
            [
             0.6,
             "#e6f5d0"
            ],
            [
             0.7,
             "#b8e186"
            ],
            [
             0.8,
             "#7fbc41"
            ],
            [
             0.9,
             "#4d9221"
            ],
            [
             1,
             "#276419"
            ]
           ],
           "sequential": [
            [
             0,
             "#0d0887"
            ],
            [
             0.1111111111111111,
             "#46039f"
            ],
            [
             0.2222222222222222,
             "#7201a8"
            ],
            [
             0.3333333333333333,
             "#9c179e"
            ],
            [
             0.4444444444444444,
             "#bd3786"
            ],
            [
             0.5555555555555556,
             "#d8576b"
            ],
            [
             0.6666666666666666,
             "#ed7953"
            ],
            [
             0.7777777777777778,
             "#fb9f3a"
            ],
            [
             0.8888888888888888,
             "#fdca26"
            ],
            [
             1,
             "#f0f921"
            ]
           ],
           "sequentialminus": [
            [
             0,
             "#0d0887"
            ],
            [
             0.1111111111111111,
             "#46039f"
            ],
            [
             0.2222222222222222,
             "#7201a8"
            ],
            [
             0.3333333333333333,
             "#9c179e"
            ],
            [
             0.4444444444444444,
             "#bd3786"
            ],
            [
             0.5555555555555556,
             "#d8576b"
            ],
            [
             0.6666666666666666,
             "#ed7953"
            ],
            [
             0.7777777777777778,
             "#fb9f3a"
            ],
            [
             0.8888888888888888,
             "#fdca26"
            ],
            [
             1,
             "#f0f921"
            ]
           ]
          },
          "colorway": [
           "#636efa",
           "#EF553B",
           "#00cc96",
           "#ab63fa",
           "#FFA15A",
           "#19d3f3",
           "#FF6692",
           "#B6E880",
           "#FF97FF",
           "#FECB52"
          ],
          "font": {
           "color": "#2a3f5f"
          },
          "geo": {
           "bgcolor": "white",
           "lakecolor": "white",
           "landcolor": "#E5ECF6",
           "showlakes": true,
           "showland": true,
           "subunitcolor": "white"
          },
          "hoverlabel": {
           "align": "left"
          },
          "hovermode": "closest",
          "mapbox": {
           "style": "light"
          },
          "paper_bgcolor": "white",
          "plot_bgcolor": "#E5ECF6",
          "polar": {
           "angularaxis": {
            "gridcolor": "white",
            "linecolor": "white",
            "ticks": ""
           },
           "bgcolor": "#E5ECF6",
           "radialaxis": {
            "gridcolor": "white",
            "linecolor": "white",
            "ticks": ""
           }
          },
          "scene": {
           "xaxis": {
            "backgroundcolor": "#E5ECF6",
            "gridcolor": "white",
            "gridwidth": 2,
            "linecolor": "white",
            "showbackground": true,
            "ticks": "",
            "zerolinecolor": "white"
           },
           "yaxis": {
            "backgroundcolor": "#E5ECF6",
            "gridcolor": "white",
            "gridwidth": 2,
            "linecolor": "white",
            "showbackground": true,
            "ticks": "",
            "zerolinecolor": "white"
           },
           "zaxis": {
            "backgroundcolor": "#E5ECF6",
            "gridcolor": "white",
            "gridwidth": 2,
            "linecolor": "white",
            "showbackground": true,
            "ticks": "",
            "zerolinecolor": "white"
           }
          },
          "shapedefaults": {
           "line": {
            "color": "#2a3f5f"
           }
          },
          "ternary": {
           "aaxis": {
            "gridcolor": "white",
            "linecolor": "white",
            "ticks": ""
           },
           "baxis": {
            "gridcolor": "white",
            "linecolor": "white",
            "ticks": ""
           },
           "bgcolor": "#E5ECF6",
           "caxis": {
            "gridcolor": "white",
            "linecolor": "white",
            "ticks": ""
           }
          },
          "title": {
           "x": 0.05
          },
          "xaxis": {
           "automargin": true,
           "gridcolor": "white",
           "linecolor": "white",
           "ticks": "",
           "title": {
            "standoff": 15
           },
           "zerolinecolor": "white",
           "zerolinewidth": 2
          },
          "yaxis": {
           "automargin": true,
           "gridcolor": "white",
           "linecolor": "white",
           "ticks": "",
           "title": {
            "standoff": 15
           },
           "zerolinecolor": "white",
           "zerolinewidth": 2
          }
         }
        },
        "title": {
         "text": "Distribution of 'Meta_score'"
        },
        "width": 800,
        "xaxis": {
         "title": {
          "text": "Meta_score"
         }
        },
        "yaxis": {
         "title": {
          "text": "Count"
         }
        }
       }
      }
     },
     "metadata": {},
     "output_type": "display_data"
    }
   ],
   "source": [
    "#Distribuição de Meta_score\n",
    "plot_distribution(raw_df, col_name = 'Meta_score')"
   ]
  },
  {
   "cell_type": "code",
   "execution_count": 27,
   "id": "aa967625",
   "metadata": {},
   "outputs": [
    {
     "name": "stdout",
     "output_type": "stream",
     "text": [
      "Column: Meta_score\n",
      "Number of outliers: 7\n",
      "Percentage of outliers: 0.83%\n"
     ]
    },
    {
     "data": {
      "application/vnd.plotly.v1+json": {
       "config": {
        "plotlyServerURL": "https://plot.ly"
       },
       "data": [
        {
         "boxmean": "sd",
         "boxpoints": "suspectedoutliers",
         "line": {
          "width": 2
         },
         "marker": {
          "color": "orange"
         },
         "name": "Meta_score",
         "type": "box",
         "y": {
          "bdata": "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",
          "dtype": "f8"
         }
        }
       ],
       "layout": {
        "height": 400,
        "template": {
         "data": {
          "bar": [
           {
            "error_x": {
             "color": "#2a3f5f"
            },
            "error_y": {
             "color": "#2a3f5f"
            },
            "marker": {
             "line": {
              "color": "#E5ECF6",
              "width": 0.5
             },
             "pattern": {
              "fillmode": "overlay",
              "size": 10,
              "solidity": 0.2
             }
            },
            "type": "bar"
           }
          ],
          "barpolar": [
           {
            "marker": {
             "line": {
              "color": "#E5ECF6",
              "width": 0.5
             },
             "pattern": {
              "fillmode": "overlay",
              "size": 10,
              "solidity": 0.2
             }
            },
            "type": "barpolar"
           }
          ],
          "carpet": [
           {
            "aaxis": {
             "endlinecolor": "#2a3f5f",
             "gridcolor": "white",
             "linecolor": "white",
             "minorgridcolor": "white",
             "startlinecolor": "#2a3f5f"
            },
            "baxis": {
             "endlinecolor": "#2a3f5f",
             "gridcolor": "white",
             "linecolor": "white",
             "minorgridcolor": "white",
             "startlinecolor": "#2a3f5f"
            },
            "type": "carpet"
           }
          ],
          "choropleth": [
           {
            "colorbar": {
             "outlinewidth": 0,
             "ticks": ""
            },
            "type": "choropleth"
           }
          ],
          "contour": [
           {
            "colorbar": {
             "outlinewidth": 0,
             "ticks": ""
            },
            "colorscale": [
             [
              0,
              "#0d0887"
             ],
             [
              0.1111111111111111,
              "#46039f"
             ],
             [
              0.2222222222222222,
              "#7201a8"
             ],
             [
              0.3333333333333333,
              "#9c179e"
             ],
             [
              0.4444444444444444,
              "#bd3786"
             ],
             [
              0.5555555555555556,
              "#d8576b"
             ],
             [
              0.6666666666666666,
              "#ed7953"
             ],
             [
              0.7777777777777778,
              "#fb9f3a"
             ],
             [
              0.8888888888888888,
              "#fdca26"
             ],
             [
              1,
              "#f0f921"
             ]
            ],
            "type": "contour"
           }
          ],
          "contourcarpet": [
           {
            "colorbar": {
             "outlinewidth": 0,
             "ticks": ""
            },
            "type": "contourcarpet"
           }
          ],
          "heatmap": [
           {
            "colorbar": {
             "outlinewidth": 0,
             "ticks": ""
            },
            "colorscale": [
             [
              0,
              "#0d0887"
             ],
             [
              0.1111111111111111,
              "#46039f"
             ],
             [
              0.2222222222222222,
              "#7201a8"
             ],
             [
              0.3333333333333333,
              "#9c179e"
             ],
             [
              0.4444444444444444,
              "#bd3786"
             ],
             [
              0.5555555555555556,
              "#d8576b"
             ],
             [
              0.6666666666666666,
              "#ed7953"
             ],
             [
              0.7777777777777778,
              "#fb9f3a"
             ],
             [
              0.8888888888888888,
              "#fdca26"
             ],
             [
              1,
              "#f0f921"
             ]
            ],
            "type": "heatmap"
           }
          ],
          "histogram": [
           {
            "marker": {
             "pattern": {
              "fillmode": "overlay",
              "size": 10,
              "solidity": 0.2
             }
            },
            "type": "histogram"
           }
          ],
          "histogram2d": [
           {
            "colorbar": {
             "outlinewidth": 0,
             "ticks": ""
            },
            "colorscale": [
             [
              0,
              "#0d0887"
             ],
             [
              0.1111111111111111,
              "#46039f"
             ],
             [
              0.2222222222222222,
              "#7201a8"
             ],
             [
              0.3333333333333333,
              "#9c179e"
             ],
             [
              0.4444444444444444,
              "#bd3786"
             ],
             [
              0.5555555555555556,
              "#d8576b"
             ],
             [
              0.6666666666666666,
              "#ed7953"
             ],
             [
              0.7777777777777778,
              "#fb9f3a"
             ],
             [
              0.8888888888888888,
              "#fdca26"
             ],
             [
              1,
              "#f0f921"
             ]
            ],
            "type": "histogram2d"
           }
          ],
          "histogram2dcontour": [
           {
            "colorbar": {
             "outlinewidth": 0,
             "ticks": ""
            },
            "colorscale": [
             [
              0,
              "#0d0887"
             ],
             [
              0.1111111111111111,
              "#46039f"
             ],
             [
              0.2222222222222222,
              "#7201a8"
             ],
             [
              0.3333333333333333,
              "#9c179e"
             ],
             [
              0.4444444444444444,
              "#bd3786"
             ],
             [
              0.5555555555555556,
              "#d8576b"
             ],
             [
              0.6666666666666666,
              "#ed7953"
             ],
             [
              0.7777777777777778,
              "#fb9f3a"
             ],
             [
              0.8888888888888888,
              "#fdca26"
             ],
             [
              1,
              "#f0f921"
             ]
            ],
            "type": "histogram2dcontour"
           }
          ],
          "mesh3d": [
           {
            "colorbar": {
             "outlinewidth": 0,
             "ticks": ""
            },
            "type": "mesh3d"
           }
          ],
          "parcoords": [
           {
            "line": {
             "colorbar": {
              "outlinewidth": 0,
              "ticks": ""
             }
            },
            "type": "parcoords"
           }
          ],
          "pie": [
           {
            "automargin": true,
            "type": "pie"
           }
          ],
          "scatter": [
           {
            "fillpattern": {
             "fillmode": "overlay",
             "size": 10,
             "solidity": 0.2
            },
            "type": "scatter"
           }
          ],
          "scatter3d": [
           {
            "line": {
             "colorbar": {
              "outlinewidth": 0,
              "ticks": ""
             }
            },
            "marker": {
             "colorbar": {
              "outlinewidth": 0,
              "ticks": ""
             }
            },
            "type": "scatter3d"
           }
          ],
          "scattercarpet": [
           {
            "marker": {
             "colorbar": {
              "outlinewidth": 0,
              "ticks": ""
             }
            },
            "type": "scattercarpet"
           }
          ],
          "scattergeo": [
           {
            "marker": {
             "colorbar": {
              "outlinewidth": 0,
              "ticks": ""
             }
            },
            "type": "scattergeo"
           }
          ],
          "scattergl": [
           {
            "marker": {
             "colorbar": {
              "outlinewidth": 0,
              "ticks": ""
             }
            },
            "type": "scattergl"
           }
          ],
          "scattermap": [
           {
            "marker": {
             "colorbar": {
              "outlinewidth": 0,
              "ticks": ""
             }
            },
            "type": "scattermap"
           }
          ],
          "scattermapbox": [
           {
            "marker": {
             "colorbar": {
              "outlinewidth": 0,
              "ticks": ""
             }
            },
            "type": "scattermapbox"
           }
          ],
          "scatterpolar": [
           {
            "marker": {
             "colorbar": {
              "outlinewidth": 0,
              "ticks": ""
             }
            },
            "type": "scatterpolar"
           }
          ],
          "scatterpolargl": [
           {
            "marker": {
             "colorbar": {
              "outlinewidth": 0,
              "ticks": ""
             }
            },
            "type": "scatterpolargl"
           }
          ],
          "scatterternary": [
           {
            "marker": {
             "colorbar": {
              "outlinewidth": 0,
              "ticks": ""
             }
            },
            "type": "scatterternary"
           }
          ],
          "surface": [
           {
            "colorbar": {
             "outlinewidth": 0,
             "ticks": ""
            },
            "colorscale": [
             [
              0,
              "#0d0887"
             ],
             [
              0.1111111111111111,
              "#46039f"
             ],
             [
              0.2222222222222222,
              "#7201a8"
             ],
             [
              0.3333333333333333,
              "#9c179e"
             ],
             [
              0.4444444444444444,
              "#bd3786"
             ],
             [
              0.5555555555555556,
              "#d8576b"
             ],
             [
              0.6666666666666666,
              "#ed7953"
             ],
             [
              0.7777777777777778,
              "#fb9f3a"
             ],
             [
              0.8888888888888888,
              "#fdca26"
             ],
             [
              1,
              "#f0f921"
             ]
            ],
            "type": "surface"
           }
          ],
          "table": [
           {
            "cells": {
             "fill": {
              "color": "#EBF0F8"
             },
             "line": {
              "color": "white"
             }
            },
            "header": {
             "fill": {
              "color": "#C8D4E3"
             },
             "line": {
              "color": "white"
             }
            },
            "type": "table"
           }
          ]
         },
         "layout": {
          "annotationdefaults": {
           "arrowcolor": "#2a3f5f",
           "arrowhead": 0,
           "arrowwidth": 1
          },
          "autotypenumbers": "strict",
          "coloraxis": {
           "colorbar": {
            "outlinewidth": 0,
            "ticks": ""
           }
          },
          "colorscale": {
           "diverging": [
            [
             0,
             "#8e0152"
            ],
            [
             0.1,
             "#c51b7d"
            ],
            [
             0.2,
             "#de77ae"
            ],
            [
             0.3,
             "#f1b6da"
            ],
            [
             0.4,
             "#fde0ef"
            ],
            [
             0.5,
             "#f7f7f7"
            ],
            [
             0.6,
             "#e6f5d0"
            ],
            [
             0.7,
             "#b8e186"
            ],
            [
             0.8,
             "#7fbc41"
            ],
            [
             0.9,
             "#4d9221"
            ],
            [
             1,
             "#276419"
            ]
           ],
           "sequential": [
            [
             0,
             "#0d0887"
            ],
            [
             0.1111111111111111,
             "#46039f"
            ],
            [
             0.2222222222222222,
             "#7201a8"
            ],
            [
             0.3333333333333333,
             "#9c179e"
            ],
            [
             0.4444444444444444,
             "#bd3786"
            ],
            [
             0.5555555555555556,
             "#d8576b"
            ],
            [
             0.6666666666666666,
             "#ed7953"
            ],
            [
             0.7777777777777778,
             "#fb9f3a"
            ],
            [
             0.8888888888888888,
             "#fdca26"
            ],
            [
             1,
             "#f0f921"
            ]
           ],
           "sequentialminus": [
            [
             0,
             "#0d0887"
            ],
            [
             0.1111111111111111,
             "#46039f"
            ],
            [
             0.2222222222222222,
             "#7201a8"
            ],
            [
             0.3333333333333333,
             "#9c179e"
            ],
            [
             0.4444444444444444,
             "#bd3786"
            ],
            [
             0.5555555555555556,
             "#d8576b"
            ],
            [
             0.6666666666666666,
             "#ed7953"
            ],
            [
             0.7777777777777778,
             "#fb9f3a"
            ],
            [
             0.8888888888888888,
             "#fdca26"
            ],
            [
             1,
             "#f0f921"
            ]
           ]
          },
          "colorway": [
           "#636efa",
           "#EF553B",
           "#00cc96",
           "#ab63fa",
           "#FFA15A",
           "#19d3f3",
           "#FF6692",
           "#B6E880",
           "#FF97FF",
           "#FECB52"
          ],
          "font": {
           "color": "#2a3f5f"
          },
          "geo": {
           "bgcolor": "white",
           "lakecolor": "white",
           "landcolor": "#E5ECF6",
           "showlakes": true,
           "showland": true,
           "subunitcolor": "white"
          },
          "hoverlabel": {
           "align": "left"
          },
          "hovermode": "closest",
          "mapbox": {
           "style": "light"
          },
          "paper_bgcolor": "white",
          "plot_bgcolor": "#E5ECF6",
          "polar": {
           "angularaxis": {
            "gridcolor": "white",
            "linecolor": "white",
            "ticks": ""
           },
           "bgcolor": "#E5ECF6",
           "radialaxis": {
            "gridcolor": "white",
            "linecolor": "white",
            "ticks": ""
           }
          },
          "scene": {
           "xaxis": {
            "backgroundcolor": "#E5ECF6",
            "gridcolor": "white",
            "gridwidth": 2,
            "linecolor": "white",
            "showbackground": true,
            "ticks": "",
            "zerolinecolor": "white"
           },
           "yaxis": {
            "backgroundcolor": "#E5ECF6",
            "gridcolor": "white",
            "gridwidth": 2,
            "linecolor": "white",
            "showbackground": true,
            "ticks": "",
            "zerolinecolor": "white"
           },
           "zaxis": {
            "backgroundcolor": "#E5ECF6",
            "gridcolor": "white",
            "gridwidth": 2,
            "linecolor": "white",
            "showbackground": true,
            "ticks": "",
            "zerolinecolor": "white"
           }
          },
          "shapedefaults": {
           "line": {
            "color": "#2a3f5f"
           }
          },
          "ternary": {
           "aaxis": {
            "gridcolor": "white",
            "linecolor": "white",
            "ticks": ""
           },
           "baxis": {
            "gridcolor": "white",
            "linecolor": "white",
            "ticks": ""
           },
           "bgcolor": "#E5ECF6",
           "caxis": {
            "gridcolor": "white",
            "linecolor": "white",
            "ticks": ""
           }
          },
          "title": {
           "x": 0.05
          },
          "xaxis": {
           "automargin": true,
           "gridcolor": "white",
           "linecolor": "white",
           "ticks": "",
           "title": {
            "standoff": 15
           },
           "zerolinecolor": "white",
           "zerolinewidth": 2
          },
          "yaxis": {
           "automargin": true,
           "gridcolor": "white",
           "linecolor": "white",
           "ticks": "",
           "title": {
            "standoff": 15
           },
           "zerolinecolor": "white",
           "zerolinewidth": 2
          }
         }
        },
        "title": {
         "text": "Boxplot of 'Meta_score'"
        },
        "width": 800,
        "yaxis": {
         "range": [
          44.5,
          100
         ]
        }
       }
      }
     },
     "metadata": {},
     "output_type": "display_data"
    }
   ],
   "source": [
    "# Box Plot de Meta_score\n",
    "plot_boxplot_stats(raw_df, col_name = 'Meta_score')"
   ]
  },
  {
   "cell_type": "markdown",
   "id": "0d329e6a",
   "metadata": {},
   "source": [
    "#### No_of_Votes  Numerica (quantitativa discreta)"
   ]
  },
  {
   "cell_type": "code",
   "execution_count": 28,
   "id": "266a8db3",
   "metadata": {},
   "outputs": [
    {
     "data": {
      "application/vnd.plotly.v1+json": {
       "config": {
        "plotlyServerURL": "https://plot.ly"
       },
       "data": [
        {
         "name": "Histogram",
         "nbinsx": 30,
         "opacity": 0.7,
         "type": "histogram",
         "x": {
          "bdata": "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",
          "dtype": "f8"
         }
        },
        {
         "line": {
          "color": "red"
         },
         "mode": "lines",
         "name": "KDE",
         "type": "scatter",
         "x": {
          "bdata": "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",
          "dtype": "f8"
         },
         "y": {
          "bdata": "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",
          "dtype": "f8"
         }
        }
       ],
       "layout": {
        "height": 400,
        "template": {
         "data": {
          "bar": [
           {
            "error_x": {
             "color": "#2a3f5f"
            },
            "error_y": {
             "color": "#2a3f5f"
            },
            "marker": {
             "line": {
              "color": "#E5ECF6",
              "width": 0.5
             },
             "pattern": {
              "fillmode": "overlay",
              "size": 10,
              "solidity": 0.2
             }
            },
            "type": "bar"
           }
          ],
          "barpolar": [
           {
            "marker": {
             "line": {
              "color": "#E5ECF6",
              "width": 0.5
             },
             "pattern": {
              "fillmode": "overlay",
              "size": 10,
              "solidity": 0.2
             }
            },
            "type": "barpolar"
           }
          ],
          "carpet": [
           {
            "aaxis": {
             "endlinecolor": "#2a3f5f",
             "gridcolor": "white",
             "linecolor": "white",
             "minorgridcolor": "white",
             "startlinecolor": "#2a3f5f"
            },
            "baxis": {
             "endlinecolor": "#2a3f5f",
             "gridcolor": "white",
             "linecolor": "white",
             "minorgridcolor": "white",
             "startlinecolor": "#2a3f5f"
            },
            "type": "carpet"
           }
          ],
          "choropleth": [
           {
            "colorbar": {
             "outlinewidth": 0,
             "ticks": ""
            },
            "type": "choropleth"
           }
          ],
          "contour": [
           {
            "colorbar": {
             "outlinewidth": 0,
             "ticks": ""
            },
            "colorscale": [
             [
              0,
              "#0d0887"
             ],
             [
              0.1111111111111111,
              "#46039f"
             ],
             [
              0.2222222222222222,
              "#7201a8"
             ],
             [
              0.3333333333333333,
              "#9c179e"
             ],
             [
              0.4444444444444444,
              "#bd3786"
             ],
             [
              0.5555555555555556,
              "#d8576b"
             ],
             [
              0.6666666666666666,
              "#ed7953"
             ],
             [
              0.7777777777777778,
              "#fb9f3a"
             ],
             [
              0.8888888888888888,
              "#fdca26"
             ],
             [
              1,
              "#f0f921"
             ]
            ],
            "type": "contour"
           }
          ],
          "contourcarpet": [
           {
            "colorbar": {
             "outlinewidth": 0,
             "ticks": ""
            },
            "type": "contourcarpet"
           }
          ],
          "heatmap": [
           {
            "colorbar": {
             "outlinewidth": 0,
             "ticks": ""
            },
            "colorscale": [
             [
              0,
              "#0d0887"
             ],
             [
              0.1111111111111111,
              "#46039f"
             ],
             [
              0.2222222222222222,
              "#7201a8"
             ],
             [
              0.3333333333333333,
              "#9c179e"
             ],
             [
              0.4444444444444444,
              "#bd3786"
             ],
             [
              0.5555555555555556,
              "#d8576b"
             ],
             [
              0.6666666666666666,
              "#ed7953"
             ],
             [
              0.7777777777777778,
              "#fb9f3a"
             ],
             [
              0.8888888888888888,
              "#fdca26"
             ],
             [
              1,
              "#f0f921"
             ]
            ],
            "type": "heatmap"
           }
          ],
          "histogram": [
           {
            "marker": {
             "pattern": {
              "fillmode": "overlay",
              "size": 10,
              "solidity": 0.2
             }
            },
            "type": "histogram"
           }
          ],
          "histogram2d": [
           {
            "colorbar": {
             "outlinewidth": 0,
             "ticks": ""
            },
            "colorscale": [
             [
              0,
              "#0d0887"
             ],
             [
              0.1111111111111111,
              "#46039f"
             ],
             [
              0.2222222222222222,
              "#7201a8"
             ],
             [
              0.3333333333333333,
              "#9c179e"
             ],
             [
              0.4444444444444444,
              "#bd3786"
             ],
             [
              0.5555555555555556,
              "#d8576b"
             ],
             [
              0.6666666666666666,
              "#ed7953"
             ],
             [
              0.7777777777777778,
              "#fb9f3a"
             ],
             [
              0.8888888888888888,
              "#fdca26"
             ],
             [
              1,
              "#f0f921"
             ]
            ],
            "type": "histogram2d"
           }
          ],
          "histogram2dcontour": [
           {
            "colorbar": {
             "outlinewidth": 0,
             "ticks": ""
            },
            "colorscale": [
             [
              0,
              "#0d0887"
             ],
             [
              0.1111111111111111,
              "#46039f"
             ],
             [
              0.2222222222222222,
              "#7201a8"
             ],
             [
              0.3333333333333333,
              "#9c179e"
             ],
             [
              0.4444444444444444,
              "#bd3786"
             ],
             [
              0.5555555555555556,
              "#d8576b"
             ],
             [
              0.6666666666666666,
              "#ed7953"
             ],
             [
              0.7777777777777778,
              "#fb9f3a"
             ],
             [
              0.8888888888888888,
              "#fdca26"
             ],
             [
              1,
              "#f0f921"
             ]
            ],
            "type": "histogram2dcontour"
           }
          ],
          "mesh3d": [
           {
            "colorbar": {
             "outlinewidth": 0,
             "ticks": ""
            },
            "type": "mesh3d"
           }
          ],
          "parcoords": [
           {
            "line": {
             "colorbar": {
              "outlinewidth": 0,
              "ticks": ""
             }
            },
            "type": "parcoords"
           }
          ],
          "pie": [
           {
            "automargin": true,
            "type": "pie"
           }
          ],
          "scatter": [
           {
            "fillpattern": {
             "fillmode": "overlay",
             "size": 10,
             "solidity": 0.2
            },
            "type": "scatter"
           }
          ],
          "scatter3d": [
           {
            "line": {
             "colorbar": {
              "outlinewidth": 0,
              "ticks": ""
             }
            },
            "marker": {
             "colorbar": {
              "outlinewidth": 0,
              "ticks": ""
             }
            },
            "type": "scatter3d"
           }
          ],
          "scattercarpet": [
           {
            "marker": {
             "colorbar": {
              "outlinewidth": 0,
              "ticks": ""
             }
            },
            "type": "scattercarpet"
           }
          ],
          "scattergeo": [
           {
            "marker": {
             "colorbar": {
              "outlinewidth": 0,
              "ticks": ""
             }
            },
            "type": "scattergeo"
           }
          ],
          "scattergl": [
           {
            "marker": {
             "colorbar": {
              "outlinewidth": 0,
              "ticks": ""
             }
            },
            "type": "scattergl"
           }
          ],
          "scattermap": [
           {
            "marker": {
             "colorbar": {
              "outlinewidth": 0,
              "ticks": ""
             }
            },
            "type": "scattermap"
           }
          ],
          "scattermapbox": [
           {
            "marker": {
             "colorbar": {
              "outlinewidth": 0,
              "ticks": ""
             }
            },
            "type": "scattermapbox"
           }
          ],
          "scatterpolar": [
           {
            "marker": {
             "colorbar": {
              "outlinewidth": 0,
              "ticks": ""
             }
            },
            "type": "scatterpolar"
           }
          ],
          "scatterpolargl": [
           {
            "marker": {
             "colorbar": {
              "outlinewidth": 0,
              "ticks": ""
             }
            },
            "type": "scatterpolargl"
           }
          ],
          "scatterternary": [
           {
            "marker": {
             "colorbar": {
              "outlinewidth": 0,
              "ticks": ""
             }
            },
            "type": "scatterternary"
           }
          ],
          "surface": [
           {
            "colorbar": {
             "outlinewidth": 0,
             "ticks": ""
            },
            "colorscale": [
             [
              0,
              "#0d0887"
             ],
             [
              0.1111111111111111,
              "#46039f"
             ],
             [
              0.2222222222222222,
              "#7201a8"
             ],
             [
              0.3333333333333333,
              "#9c179e"
             ],
             [
              0.4444444444444444,
              "#bd3786"
             ],
             [
              0.5555555555555556,
              "#d8576b"
             ],
             [
              0.6666666666666666,
              "#ed7953"
             ],
             [
              0.7777777777777778,
              "#fb9f3a"
             ],
             [
              0.8888888888888888,
              "#fdca26"
             ],
             [
              1,
              "#f0f921"
             ]
            ],
            "type": "surface"
           }
          ],
          "table": [
           {
            "cells": {
             "fill": {
              "color": "#EBF0F8"
             },
             "line": {
              "color": "white"
             }
            },
            "header": {
             "fill": {
              "color": "#C8D4E3"
             },
             "line": {
              "color": "white"
             }
            },
            "type": "table"
           }
          ]
         },
         "layout": {
          "annotationdefaults": {
           "arrowcolor": "#2a3f5f",
           "arrowhead": 0,
           "arrowwidth": 1
          },
          "autotypenumbers": "strict",
          "coloraxis": {
           "colorbar": {
            "outlinewidth": 0,
            "ticks": ""
           }
          },
          "colorscale": {
           "diverging": [
            [
             0,
             "#8e0152"
            ],
            [
             0.1,
             "#c51b7d"
            ],
            [
             0.2,
             "#de77ae"
            ],
            [
             0.3,
             "#f1b6da"
            ],
            [
             0.4,
             "#fde0ef"
            ],
            [
             0.5,
             "#f7f7f7"
            ],
            [
             0.6,
             "#e6f5d0"
            ],
            [
             0.7,
             "#b8e186"
            ],
            [
             0.8,
             "#7fbc41"
            ],
            [
             0.9,
             "#4d9221"
            ],
            [
             1,
             "#276419"
            ]
           ],
           "sequential": [
            [
             0,
             "#0d0887"
            ],
            [
             0.1111111111111111,
             "#46039f"
            ],
            [
             0.2222222222222222,
             "#7201a8"
            ],
            [
             0.3333333333333333,
             "#9c179e"
            ],
            [
             0.4444444444444444,
             "#bd3786"
            ],
            [
             0.5555555555555556,
             "#d8576b"
            ],
            [
             0.6666666666666666,
             "#ed7953"
            ],
            [
             0.7777777777777778,
             "#fb9f3a"
            ],
            [
             0.8888888888888888,
             "#fdca26"
            ],
            [
             1,
             "#f0f921"
            ]
           ],
           "sequentialminus": [
            [
             0,
             "#0d0887"
            ],
            [
             0.1111111111111111,
             "#46039f"
            ],
            [
             0.2222222222222222,
             "#7201a8"
            ],
            [
             0.3333333333333333,
             "#9c179e"
            ],
            [
             0.4444444444444444,
             "#bd3786"
            ],
            [
             0.5555555555555556,
             "#d8576b"
            ],
            [
             0.6666666666666666,
             "#ed7953"
            ],
            [
             0.7777777777777778,
             "#fb9f3a"
            ],
            [
             0.8888888888888888,
             "#fdca26"
            ],
            [
             1,
             "#f0f921"
            ]
           ]
          },
          "colorway": [
           "#636efa",
           "#EF553B",
           "#00cc96",
           "#ab63fa",
           "#FFA15A",
           "#19d3f3",
           "#FF6692",
           "#B6E880",
           "#FF97FF",
           "#FECB52"
          ],
          "font": {
           "color": "#2a3f5f"
          },
          "geo": {
           "bgcolor": "white",
           "lakecolor": "white",
           "landcolor": "#E5ECF6",
           "showlakes": true,
           "showland": true,
           "subunitcolor": "white"
          },
          "hoverlabel": {
           "align": "left"
          },
          "hovermode": "closest",
          "mapbox": {
           "style": "light"
          },
          "paper_bgcolor": "white",
          "plot_bgcolor": "#E5ECF6",
          "polar": {
           "angularaxis": {
            "gridcolor": "white",
            "linecolor": "white",
            "ticks": ""
           },
           "bgcolor": "#E5ECF6",
           "radialaxis": {
            "gridcolor": "white",
            "linecolor": "white",
            "ticks": ""
           }
          },
          "scene": {
           "xaxis": {
            "backgroundcolor": "#E5ECF6",
            "gridcolor": "white",
            "gridwidth": 2,
            "linecolor": "white",
            "showbackground": true,
            "ticks": "",
            "zerolinecolor": "white"
           },
           "yaxis": {
            "backgroundcolor": "#E5ECF6",
            "gridcolor": "white",
            "gridwidth": 2,
            "linecolor": "white",
            "showbackground": true,
            "ticks": "",
            "zerolinecolor": "white"
           },
           "zaxis": {
            "backgroundcolor": "#E5ECF6",
            "gridcolor": "white",
            "gridwidth": 2,
            "linecolor": "white",
            "showbackground": true,
            "ticks": "",
            "zerolinecolor": "white"
           }
          },
          "shapedefaults": {
           "line": {
            "color": "#2a3f5f"
           }
          },
          "ternary": {
           "aaxis": {
            "gridcolor": "white",
            "linecolor": "white",
            "ticks": ""
           },
           "baxis": {
            "gridcolor": "white",
            "linecolor": "white",
            "ticks": ""
           },
           "bgcolor": "#E5ECF6",
           "caxis": {
            "gridcolor": "white",
            "linecolor": "white",
            "ticks": ""
           }
          },
          "title": {
           "x": 0.05
          },
          "xaxis": {
           "automargin": true,
           "gridcolor": "white",
           "linecolor": "white",
           "ticks": "",
           "title": {
            "standoff": 15
           },
           "zerolinecolor": "white",
           "zerolinewidth": 2
          },
          "yaxis": {
           "automargin": true,
           "gridcolor": "white",
           "linecolor": "white",
           "ticks": "",
           "title": {
            "standoff": 15
           },
           "zerolinecolor": "white",
           "zerolinewidth": 2
          }
         }
        },
        "title": {
         "text": "Distribution of 'No_of_Votes'"
        },
        "width": 800,
        "xaxis": {
         "title": {
          "text": "No_of_Votes"
         }
        },
        "yaxis": {
         "title": {
          "text": "Count"
         }
        }
       }
      }
     },
     "metadata": {},
     "output_type": "display_data"
    }
   ],
   "source": [
    "#Distribuição de No_of_Votes\n",
    "plot_distribution(raw_df, col_name = 'No_of_Votes')"
   ]
  },
  {
   "cell_type": "code",
   "execution_count": 29,
   "id": "7f88df10",
   "metadata": {},
   "outputs": [
    {
     "name": "stdout",
     "output_type": "stream",
     "text": [
      "Column: No_of_Votes\n",
      "Number of outliers: 66\n",
      "Percentage of outliers: 6.61%\n"
     ]
    },
    {
     "data": {
      "application/vnd.plotly.v1+json": {
       "config": {
        "plotlyServerURL": "https://plot.ly"
       },
       "data": [
        {
         "boxmean": "sd",
         "boxpoints": "suspectedoutliers",
         "line": {
          "width": 2
         },
         "marker": {
          "color": "orange"
         },
         "name": "No_of_Votes",
         "type": "box",
         "y": {
          "bdata": "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",
          "dtype": "f8"
         }
        }
       ],
       "layout": {
        "height": 400,
        "template": {
         "data": {
          "bar": [
           {
            "error_x": {
             "color": "#2a3f5f"
            },
            "error_y": {
             "color": "#2a3f5f"
            },
            "marker": {
             "line": {
              "color": "#E5ECF6",
              "width": 0.5
             },
             "pattern": {
              "fillmode": "overlay",
              "size": 10,
              "solidity": 0.2
             }
            },
            "type": "bar"
           }
          ],
          "barpolar": [
           {
            "marker": {
             "line": {
              "color": "#E5ECF6",
              "width": 0.5
             },
             "pattern": {
              "fillmode": "overlay",
              "size": 10,
              "solidity": 0.2
             }
            },
            "type": "barpolar"
           }
          ],
          "carpet": [
           {
            "aaxis": {
             "endlinecolor": "#2a3f5f",
             "gridcolor": "white",
             "linecolor": "white",
             "minorgridcolor": "white",
             "startlinecolor": "#2a3f5f"
            },
            "baxis": {
             "endlinecolor": "#2a3f5f",
             "gridcolor": "white",
             "linecolor": "white",
             "minorgridcolor": "white",
             "startlinecolor": "#2a3f5f"
            },
            "type": "carpet"
           }
          ],
          "choropleth": [
           {
            "colorbar": {
             "outlinewidth": 0,
             "ticks": ""
            },
            "type": "choropleth"
           }
          ],
          "contour": [
           {
            "colorbar": {
             "outlinewidth": 0,
             "ticks": ""
            },
            "colorscale": [
             [
              0,
              "#0d0887"
             ],
             [
              0.1111111111111111,
              "#46039f"
             ],
             [
              0.2222222222222222,
              "#7201a8"
             ],
             [
              0.3333333333333333,
              "#9c179e"
             ],
             [
              0.4444444444444444,
              "#bd3786"
             ],
             [
              0.5555555555555556,
              "#d8576b"
             ],
             [
              0.6666666666666666,
              "#ed7953"
             ],
             [
              0.7777777777777778,
              "#fb9f3a"
             ],
             [
              0.8888888888888888,
              "#fdca26"
             ],
             [
              1,
              "#f0f921"
             ]
            ],
            "type": "contour"
           }
          ],
          "contourcarpet": [
           {
            "colorbar": {
             "outlinewidth": 0,
             "ticks": ""
            },
            "type": "contourcarpet"
           }
          ],
          "heatmap": [
           {
            "colorbar": {
             "outlinewidth": 0,
             "ticks": ""
            },
            "colorscale": [
             [
              0,
              "#0d0887"
             ],
             [
              0.1111111111111111,
              "#46039f"
             ],
             [
              0.2222222222222222,
              "#7201a8"
             ],
             [
              0.3333333333333333,
              "#9c179e"
             ],
             [
              0.4444444444444444,
              "#bd3786"
             ],
             [
              0.5555555555555556,
              "#d8576b"
             ],
             [
              0.6666666666666666,
              "#ed7953"
             ],
             [
              0.7777777777777778,
              "#fb9f3a"
             ],
             [
              0.8888888888888888,
              "#fdca26"
             ],
             [
              1,
              "#f0f921"
             ]
            ],
            "type": "heatmap"
           }
          ],
          "histogram": [
           {
            "marker": {
             "pattern": {
              "fillmode": "overlay",
              "size": 10,
              "solidity": 0.2
             }
            },
            "type": "histogram"
           }
          ],
          "histogram2d": [
           {
            "colorbar": {
             "outlinewidth": 0,
             "ticks": ""
            },
            "colorscale": [
             [
              0,
              "#0d0887"
             ],
             [
              0.1111111111111111,
              "#46039f"
             ],
             [
              0.2222222222222222,
              "#7201a8"
             ],
             [
              0.3333333333333333,
              "#9c179e"
             ],
             [
              0.4444444444444444,
              "#bd3786"
             ],
             [
              0.5555555555555556,
              "#d8576b"
             ],
             [
              0.6666666666666666,
              "#ed7953"
             ],
             [
              0.7777777777777778,
              "#fb9f3a"
             ],
             [
              0.8888888888888888,
              "#fdca26"
             ],
             [
              1,
              "#f0f921"
             ]
            ],
            "type": "histogram2d"
           }
          ],
          "histogram2dcontour": [
           {
            "colorbar": {
             "outlinewidth": 0,
             "ticks": ""
            },
            "colorscale": [
             [
              0,
              "#0d0887"
             ],
             [
              0.1111111111111111,
              "#46039f"
             ],
             [
              0.2222222222222222,
              "#7201a8"
             ],
             [
              0.3333333333333333,
              "#9c179e"
             ],
             [
              0.4444444444444444,
              "#bd3786"
             ],
             [
              0.5555555555555556,
              "#d8576b"
             ],
             [
              0.6666666666666666,
              "#ed7953"
             ],
             [
              0.7777777777777778,
              "#fb9f3a"
             ],
             [
              0.8888888888888888,
              "#fdca26"
             ],
             [
              1,
              "#f0f921"
             ]
            ],
            "type": "histogram2dcontour"
           }
          ],
          "mesh3d": [
           {
            "colorbar": {
             "outlinewidth": 0,
             "ticks": ""
            },
            "type": "mesh3d"
           }
          ],
          "parcoords": [
           {
            "line": {
             "colorbar": {
              "outlinewidth": 0,
              "ticks": ""
             }
            },
            "type": "parcoords"
           }
          ],
          "pie": [
           {
            "automargin": true,
            "type": "pie"
           }
          ],
          "scatter": [
           {
            "fillpattern": {
             "fillmode": "overlay",
             "size": 10,
             "solidity": 0.2
            },
            "type": "scatter"
           }
          ],
          "scatter3d": [
           {
            "line": {
             "colorbar": {
              "outlinewidth": 0,
              "ticks": ""
             }
            },
            "marker": {
             "colorbar": {
              "outlinewidth": 0,
              "ticks": ""
             }
            },
            "type": "scatter3d"
           }
          ],
          "scattercarpet": [
           {
            "marker": {
             "colorbar": {
              "outlinewidth": 0,
              "ticks": ""
             }
            },
            "type": "scattercarpet"
           }
          ],
          "scattergeo": [
           {
            "marker": {
             "colorbar": {
              "outlinewidth": 0,
              "ticks": ""
             }
            },
            "type": "scattergeo"
           }
          ],
          "scattergl": [
           {
            "marker": {
             "colorbar": {
              "outlinewidth": 0,
              "ticks": ""
             }
            },
            "type": "scattergl"
           }
          ],
          "scattermap": [
           {
            "marker": {
             "colorbar": {
              "outlinewidth": 0,
              "ticks": ""
             }
            },
            "type": "scattermap"
           }
          ],
          "scattermapbox": [
           {
            "marker": {
             "colorbar": {
              "outlinewidth": 0,
              "ticks": ""
             }
            },
            "type": "scattermapbox"
           }
          ],
          "scatterpolar": [
           {
            "marker": {
             "colorbar": {
              "outlinewidth": 0,
              "ticks": ""
             }
            },
            "type": "scatterpolar"
           }
          ],
          "scatterpolargl": [
           {
            "marker": {
             "colorbar": {
              "outlinewidth": 0,
              "ticks": ""
             }
            },
            "type": "scatterpolargl"
           }
          ],
          "scatterternary": [
           {
            "marker": {
             "colorbar": {
              "outlinewidth": 0,
              "ticks": ""
             }
            },
            "type": "scatterternary"
           }
          ],
          "surface": [
           {
            "colorbar": {
             "outlinewidth": 0,
             "ticks": ""
            },
            "colorscale": [
             [
              0,
              "#0d0887"
             ],
             [
              0.1111111111111111,
              "#46039f"
             ],
             [
              0.2222222222222222,
              "#7201a8"
             ],
             [
              0.3333333333333333,
              "#9c179e"
             ],
             [
              0.4444444444444444,
              "#bd3786"
             ],
             [
              0.5555555555555556,
              "#d8576b"
             ],
             [
              0.6666666666666666,
              "#ed7953"
             ],
             [
              0.7777777777777778,
              "#fb9f3a"
             ],
             [
              0.8888888888888888,
              "#fdca26"
             ],
             [
              1,
              "#f0f921"
             ]
            ],
            "type": "surface"
           }
          ],
          "table": [
           {
            "cells": {
             "fill": {
              "color": "#EBF0F8"
             },
             "line": {
              "color": "white"
             }
            },
            "header": {
             "fill": {
              "color": "#C8D4E3"
             },
             "line": {
              "color": "white"
             }
            },
            "type": "table"
           }
          ]
         },
         "layout": {
          "annotationdefaults": {
           "arrowcolor": "#2a3f5f",
           "arrowhead": 0,
           "arrowwidth": 1
          },
          "autotypenumbers": "strict",
          "coloraxis": {
           "colorbar": {
            "outlinewidth": 0,
            "ticks": ""
           }
          },
          "colorscale": {
           "diverging": [
            [
             0,
             "#8e0152"
            ],
            [
             0.1,
             "#c51b7d"
            ],
            [
             0.2,
             "#de77ae"
            ],
            [
             0.3,
             "#f1b6da"
            ],
            [
             0.4,
             "#fde0ef"
            ],
            [
             0.5,
             "#f7f7f7"
            ],
            [
             0.6,
             "#e6f5d0"
            ],
            [
             0.7,
             "#b8e186"
            ],
            [
             0.8,
             "#7fbc41"
            ],
            [
             0.9,
             "#4d9221"
            ],
            [
             1,
             "#276419"
            ]
           ],
           "sequential": [
            [
             0,
             "#0d0887"
            ],
            [
             0.1111111111111111,
             "#46039f"
            ],
            [
             0.2222222222222222,
             "#7201a8"
            ],
            [
             0.3333333333333333,
             "#9c179e"
            ],
            [
             0.4444444444444444,
             "#bd3786"
            ],
            [
             0.5555555555555556,
             "#d8576b"
            ],
            [
             0.6666666666666666,
             "#ed7953"
            ],
            [
             0.7777777777777778,
             "#fb9f3a"
            ],
            [
             0.8888888888888888,
             "#fdca26"
            ],
            [
             1,
             "#f0f921"
            ]
           ],
           "sequentialminus": [
            [
             0,
             "#0d0887"
            ],
            [
             0.1111111111111111,
             "#46039f"
            ],
            [
             0.2222222222222222,
             "#7201a8"
            ],
            [
             0.3333333333333333,
             "#9c179e"
            ],
            [
             0.4444444444444444,
             "#bd3786"
            ],
            [
             0.5555555555555556,
             "#d8576b"
            ],
            [
             0.6666666666666666,
             "#ed7953"
            ],
            [
             0.7777777777777778,
             "#fb9f3a"
            ],
            [
             0.8888888888888888,
             "#fdca26"
            ],
            [
             1,
             "#f0f921"
            ]
           ]
          },
          "colorway": [
           "#636efa",
           "#EF553B",
           "#00cc96",
           "#ab63fa",
           "#FFA15A",
           "#19d3f3",
           "#FF6692",
           "#B6E880",
           "#FF97FF",
           "#FECB52"
          ],
          "font": {
           "color": "#2a3f5f"
          },
          "geo": {
           "bgcolor": "white",
           "lakecolor": "white",
           "landcolor": "#E5ECF6",
           "showlakes": true,
           "showland": true,
           "subunitcolor": "white"
          },
          "hoverlabel": {
           "align": "left"
          },
          "hovermode": "closest",
          "mapbox": {
           "style": "light"
          },
          "paper_bgcolor": "white",
          "plot_bgcolor": "#E5ECF6",
          "polar": {
           "angularaxis": {
            "gridcolor": "white",
            "linecolor": "white",
            "ticks": ""
           },
           "bgcolor": "#E5ECF6",
           "radialaxis": {
            "gridcolor": "white",
            "linecolor": "white",
            "ticks": ""
           }
          },
          "scene": {
           "xaxis": {
            "backgroundcolor": "#E5ECF6",
            "gridcolor": "white",
            "gridwidth": 2,
            "linecolor": "white",
            "showbackground": true,
            "ticks": "",
            "zerolinecolor": "white"
           },
           "yaxis": {
            "backgroundcolor": "#E5ECF6",
            "gridcolor": "white",
            "gridwidth": 2,
            "linecolor": "white",
            "showbackground": true,
            "ticks": "",
            "zerolinecolor": "white"
           },
           "zaxis": {
            "backgroundcolor": "#E5ECF6",
            "gridcolor": "white",
            "gridwidth": 2,
            "linecolor": "white",
            "showbackground": true,
            "ticks": "",
            "zerolinecolor": "white"
           }
          },
          "shapedefaults": {
           "line": {
            "color": "#2a3f5f"
           }
          },
          "ternary": {
           "aaxis": {
            "gridcolor": "white",
            "linecolor": "white",
            "ticks": ""
           },
           "baxis": {
            "gridcolor": "white",
            "linecolor": "white",
            "ticks": ""
           },
           "bgcolor": "#E5ECF6",
           "caxis": {
            "gridcolor": "white",
            "linecolor": "white",
            "ticks": ""
           }
          },
          "title": {
           "x": 0.05
          },
          "xaxis": {
           "automargin": true,
           "gridcolor": "white",
           "linecolor": "white",
           "ticks": "",
           "title": {
            "standoff": 15
           },
           "zerolinecolor": "white",
           "zerolinewidth": 2
          },
          "yaxis": {
           "automargin": true,
           "gridcolor": "white",
           "linecolor": "white",
           "ticks": "",
           "title": {
            "standoff": 15
           },
           "zerolinecolor": "white",
           "zerolinewidth": 2
          }
         }
        },
        "title": {
         "text": "Boxplot of 'No_of_Votes'"
        },
        "width": 800,
        "yaxis": {
         "range": [
          25088,
          849711.5
         ]
        }
       }
      }
     },
     "metadata": {},
     "output_type": "display_data"
    }
   ],
   "source": [
    "# Box Plot de No_of_Votes\n",
    "plot_boxplot_stats(raw_df, col_name = 'No_of_Votes')"
   ]
  },
  {
   "cell_type": "markdown",
   "id": "742367e3",
   "metadata": {},
   "source": [
    "#### Gross Numerica (quantitativa continua)"
   ]
  },
  {
   "cell_type": "code",
   "execution_count": 30,
   "id": "07cb9eda",
   "metadata": {},
   "outputs": [
    {
     "data": {
      "application/vnd.plotly.v1+json": {
       "config": {
        "plotlyServerURL": "https://plot.ly"
       },
       "data": [
        {
         "name": "Histogram",
         "nbinsx": 30,
         "opacity": 0.7,
         "type": "histogram",
         "x": {
          "bdata": "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",
          "dtype": "f8"
         }
        },
        {
         "line": {
          "color": "red"
         },
         "mode": "lines",
         "name": "KDE",
         "type": "scatter",
         "x": {
          "bdata": "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",
          "dtype": "f8"
         },
         "y": {
          "bdata": "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",
          "dtype": "f8"
         }
        }
       ],
       "layout": {
        "height": 400,
        "template": {
         "data": {
          "bar": [
           {
            "error_x": {
             "color": "#2a3f5f"
            },
            "error_y": {
             "color": "#2a3f5f"
            },
            "marker": {
             "line": {
              "color": "#E5ECF6",
              "width": 0.5
             },
             "pattern": {
              "fillmode": "overlay",
              "size": 10,
              "solidity": 0.2
             }
            },
            "type": "bar"
           }
          ],
          "barpolar": [
           {
            "marker": {
             "line": {
              "color": "#E5ECF6",
              "width": 0.5
             },
             "pattern": {
              "fillmode": "overlay",
              "size": 10,
              "solidity": 0.2
             }
            },
            "type": "barpolar"
           }
          ],
          "carpet": [
           {
            "aaxis": {
             "endlinecolor": "#2a3f5f",
             "gridcolor": "white",
             "linecolor": "white",
             "minorgridcolor": "white",
             "startlinecolor": "#2a3f5f"
            },
            "baxis": {
             "endlinecolor": "#2a3f5f",
             "gridcolor": "white",
             "linecolor": "white",
             "minorgridcolor": "white",
             "startlinecolor": "#2a3f5f"
            },
            "type": "carpet"
           }
          ],
          "choropleth": [
           {
            "colorbar": {
             "outlinewidth": 0,
             "ticks": ""
            },
            "type": "choropleth"
           }
          ],
          "contour": [
           {
            "colorbar": {
             "outlinewidth": 0,
             "ticks": ""
            },
            "colorscale": [
             [
              0,
              "#0d0887"
             ],
             [
              0.1111111111111111,
              "#46039f"
             ],
             [
              0.2222222222222222,
              "#7201a8"
             ],
             [
              0.3333333333333333,
              "#9c179e"
             ],
             [
              0.4444444444444444,
              "#bd3786"
             ],
             [
              0.5555555555555556,
              "#d8576b"
             ],
             [
              0.6666666666666666,
              "#ed7953"
             ],
             [
              0.7777777777777778,
              "#fb9f3a"
             ],
             [
              0.8888888888888888,
              "#fdca26"
             ],
             [
              1,
              "#f0f921"
             ]
            ],
            "type": "contour"
           }
          ],
          "contourcarpet": [
           {
            "colorbar": {
             "outlinewidth": 0,
             "ticks": ""
            },
            "type": "contourcarpet"
           }
          ],
          "heatmap": [
           {
            "colorbar": {
             "outlinewidth": 0,
             "ticks": ""
            },
            "colorscale": [
             [
              0,
              "#0d0887"
             ],
             [
              0.1111111111111111,
              "#46039f"
             ],
             [
              0.2222222222222222,
              "#7201a8"
             ],
             [
              0.3333333333333333,
              "#9c179e"
             ],
             [
              0.4444444444444444,
              "#bd3786"
             ],
             [
              0.5555555555555556,
              "#d8576b"
             ],
             [
              0.6666666666666666,
              "#ed7953"
             ],
             [
              0.7777777777777778,
              "#fb9f3a"
             ],
             [
              0.8888888888888888,
              "#fdca26"
             ],
             [
              1,
              "#f0f921"
             ]
            ],
            "type": "heatmap"
           }
          ],
          "histogram": [
           {
            "marker": {
             "pattern": {
              "fillmode": "overlay",
              "size": 10,
              "solidity": 0.2
             }
            },
            "type": "histogram"
           }
          ],
          "histogram2d": [
           {
            "colorbar": {
             "outlinewidth": 0,
             "ticks": ""
            },
            "colorscale": [
             [
              0,
              "#0d0887"
             ],
             [
              0.1111111111111111,
              "#46039f"
             ],
             [
              0.2222222222222222,
              "#7201a8"
             ],
             [
              0.3333333333333333,
              "#9c179e"
             ],
             [
              0.4444444444444444,
              "#bd3786"
             ],
             [
              0.5555555555555556,
              "#d8576b"
             ],
             [
              0.6666666666666666,
              "#ed7953"
             ],
             [
              0.7777777777777778,
              "#fb9f3a"
             ],
             [
              0.8888888888888888,
              "#fdca26"
             ],
             [
              1,
              "#f0f921"
             ]
            ],
            "type": "histogram2d"
           }
          ],
          "histogram2dcontour": [
           {
            "colorbar": {
             "outlinewidth": 0,
             "ticks": ""
            },
            "colorscale": [
             [
              0,
              "#0d0887"
             ],
             [
              0.1111111111111111,
              "#46039f"
             ],
             [
              0.2222222222222222,
              "#7201a8"
             ],
             [
              0.3333333333333333,
              "#9c179e"
             ],
             [
              0.4444444444444444,
              "#bd3786"
             ],
             [
              0.5555555555555556,
              "#d8576b"
             ],
             [
              0.6666666666666666,
              "#ed7953"
             ],
             [
              0.7777777777777778,
              "#fb9f3a"
             ],
             [
              0.8888888888888888,
              "#fdca26"
             ],
             [
              1,
              "#f0f921"
             ]
            ],
            "type": "histogram2dcontour"
           }
          ],
          "mesh3d": [
           {
            "colorbar": {
             "outlinewidth": 0,
             "ticks": ""
            },
            "type": "mesh3d"
           }
          ],
          "parcoords": [
           {
            "line": {
             "colorbar": {
              "outlinewidth": 0,
              "ticks": ""
             }
            },
            "type": "parcoords"
           }
          ],
          "pie": [
           {
            "automargin": true,
            "type": "pie"
           }
          ],
          "scatter": [
           {
            "fillpattern": {
             "fillmode": "overlay",
             "size": 10,
             "solidity": 0.2
            },
            "type": "scatter"
           }
          ],
          "scatter3d": [
           {
            "line": {
             "colorbar": {
              "outlinewidth": 0,
              "ticks": ""
             }
            },
            "marker": {
             "colorbar": {
              "outlinewidth": 0,
              "ticks": ""
             }
            },
            "type": "scatter3d"
           }
          ],
          "scattercarpet": [
           {
            "marker": {
             "colorbar": {
              "outlinewidth": 0,
              "ticks": ""
             }
            },
            "type": "scattercarpet"
           }
          ],
          "scattergeo": [
           {
            "marker": {
             "colorbar": {
              "outlinewidth": 0,
              "ticks": ""
             }
            },
            "type": "scattergeo"
           }
          ],
          "scattergl": [
           {
            "marker": {
             "colorbar": {
              "outlinewidth": 0,
              "ticks": ""
             }
            },
            "type": "scattergl"
           }
          ],
          "scattermap": [
           {
            "marker": {
             "colorbar": {
              "outlinewidth": 0,
              "ticks": ""
             }
            },
            "type": "scattermap"
           }
          ],
          "scattermapbox": [
           {
            "marker": {
             "colorbar": {
              "outlinewidth": 0,
              "ticks": ""
             }
            },
            "type": "scattermapbox"
           }
          ],
          "scatterpolar": [
           {
            "marker": {
             "colorbar": {
              "outlinewidth": 0,
              "ticks": ""
             }
            },
            "type": "scatterpolar"
           }
          ],
          "scatterpolargl": [
           {
            "marker": {
             "colorbar": {
              "outlinewidth": 0,
              "ticks": ""
             }
            },
            "type": "scatterpolargl"
           }
          ],
          "scatterternary": [
           {
            "marker": {
             "colorbar": {
              "outlinewidth": 0,
              "ticks": ""
             }
            },
            "type": "scatterternary"
           }
          ],
          "surface": [
           {
            "colorbar": {
             "outlinewidth": 0,
             "ticks": ""
            },
            "colorscale": [
             [
              0,
              "#0d0887"
             ],
             [
              0.1111111111111111,
              "#46039f"
             ],
             [
              0.2222222222222222,
              "#7201a8"
             ],
             [
              0.3333333333333333,
              "#9c179e"
             ],
             [
              0.4444444444444444,
              "#bd3786"
             ],
             [
              0.5555555555555556,
              "#d8576b"
             ],
             [
              0.6666666666666666,
              "#ed7953"
             ],
             [
              0.7777777777777778,
              "#fb9f3a"
             ],
             [
              0.8888888888888888,
              "#fdca26"
             ],
             [
              1,
              "#f0f921"
             ]
            ],
            "type": "surface"
           }
          ],
          "table": [
           {
            "cells": {
             "fill": {
              "color": "#EBF0F8"
             },
             "line": {
              "color": "white"
             }
            },
            "header": {
             "fill": {
              "color": "#C8D4E3"
             },
             "line": {
              "color": "white"
             }
            },
            "type": "table"
           }
          ]
         },
         "layout": {
          "annotationdefaults": {
           "arrowcolor": "#2a3f5f",
           "arrowhead": 0,
           "arrowwidth": 1
          },
          "autotypenumbers": "strict",
          "coloraxis": {
           "colorbar": {
            "outlinewidth": 0,
            "ticks": ""
           }
          },
          "colorscale": {
           "diverging": [
            [
             0,
             "#8e0152"
            ],
            [
             0.1,
             "#c51b7d"
            ],
            [
             0.2,
             "#de77ae"
            ],
            [
             0.3,
             "#f1b6da"
            ],
            [
             0.4,
             "#fde0ef"
            ],
            [
             0.5,
             "#f7f7f7"
            ],
            [
             0.6,
             "#e6f5d0"
            ],
            [
             0.7,
             "#b8e186"
            ],
            [
             0.8,
             "#7fbc41"
            ],
            [
             0.9,
             "#4d9221"
            ],
            [
             1,
             "#276419"
            ]
           ],
           "sequential": [
            [
             0,
             "#0d0887"
            ],
            [
             0.1111111111111111,
             "#46039f"
            ],
            [
             0.2222222222222222,
             "#7201a8"
            ],
            [
             0.3333333333333333,
             "#9c179e"
            ],
            [
             0.4444444444444444,
             "#bd3786"
            ],
            [
             0.5555555555555556,
             "#d8576b"
            ],
            [
             0.6666666666666666,
             "#ed7953"
            ],
            [
             0.7777777777777778,
             "#fb9f3a"
            ],
            [
             0.8888888888888888,
             "#fdca26"
            ],
            [
             1,
             "#f0f921"
            ]
           ],
           "sequentialminus": [
            [
             0,
             "#0d0887"
            ],
            [
             0.1111111111111111,
             "#46039f"
            ],
            [
             0.2222222222222222,
             "#7201a8"
            ],
            [
             0.3333333333333333,
             "#9c179e"
            ],
            [
             0.4444444444444444,
             "#bd3786"
            ],
            [
             0.5555555555555556,
             "#d8576b"
            ],
            [
             0.6666666666666666,
             "#ed7953"
            ],
            [
             0.7777777777777778,
             "#fb9f3a"
            ],
            [
             0.8888888888888888,
             "#fdca26"
            ],
            [
             1,
             "#f0f921"
            ]
           ]
          },
          "colorway": [
           "#636efa",
           "#EF553B",
           "#00cc96",
           "#ab63fa",
           "#FFA15A",
           "#19d3f3",
           "#FF6692",
           "#B6E880",
           "#FF97FF",
           "#FECB52"
          ],
          "font": {
           "color": "#2a3f5f"
          },
          "geo": {
           "bgcolor": "white",
           "lakecolor": "white",
           "landcolor": "#E5ECF6",
           "showlakes": true,
           "showland": true,
           "subunitcolor": "white"
          },
          "hoverlabel": {
           "align": "left"
          },
          "hovermode": "closest",
          "mapbox": {
           "style": "light"
          },
          "paper_bgcolor": "white",
          "plot_bgcolor": "#E5ECF6",
          "polar": {
           "angularaxis": {
            "gridcolor": "white",
            "linecolor": "white",
            "ticks": ""
           },
           "bgcolor": "#E5ECF6",
           "radialaxis": {
            "gridcolor": "white",
            "linecolor": "white",
            "ticks": ""
           }
          },
          "scene": {
           "xaxis": {
            "backgroundcolor": "#E5ECF6",
            "gridcolor": "white",
            "gridwidth": 2,
            "linecolor": "white",
            "showbackground": true,
            "ticks": "",
            "zerolinecolor": "white"
           },
           "yaxis": {
            "backgroundcolor": "#E5ECF6",
            "gridcolor": "white",
            "gridwidth": 2,
            "linecolor": "white",
            "showbackground": true,
            "ticks": "",
            "zerolinecolor": "white"
           },
           "zaxis": {
            "backgroundcolor": "#E5ECF6",
            "gridcolor": "white",
            "gridwidth": 2,
            "linecolor": "white",
            "showbackground": true,
            "ticks": "",
            "zerolinecolor": "white"
           }
          },
          "shapedefaults": {
           "line": {
            "color": "#2a3f5f"
           }
          },
          "ternary": {
           "aaxis": {
            "gridcolor": "white",
            "linecolor": "white",
            "ticks": ""
           },
           "baxis": {
            "gridcolor": "white",
            "linecolor": "white",
            "ticks": ""
           },
           "bgcolor": "#E5ECF6",
           "caxis": {
            "gridcolor": "white",
            "linecolor": "white",
            "ticks": ""
           }
          },
          "title": {
           "x": 0.05
          },
          "xaxis": {
           "automargin": true,
           "gridcolor": "white",
           "linecolor": "white",
           "ticks": "",
           "title": {
            "standoff": 15
           },
           "zerolinecolor": "white",
           "zerolinewidth": 2
          },
          "yaxis": {
           "automargin": true,
           "gridcolor": "white",
           "linecolor": "white",
           "ticks": "",
           "title": {
            "standoff": 15
           },
           "zerolinecolor": "white",
           "zerolinewidth": 2
          }
         }
        },
        "title": {
         "text": "Distribution of 'Gross'"
        },
        "width": 800,
        "xaxis": {
         "title": {
          "text": "Gross"
         }
        },
        "yaxis": {
         "title": {
          "text": "Count"
         }
        }
       }
      }
     },
     "metadata": {},
     "output_type": "display_data"
    }
   ],
   "source": [
    "#Distribuição de Gross\n",
    "plot_distribution(raw_df, col_name = 'Gross')"
   ]
  },
  {
   "cell_type": "code",
   "execution_count": 31,
   "id": "c2d85d7c",
   "metadata": {},
   "outputs": [
    {
     "name": "stdout",
     "output_type": "stream",
     "text": [
      "Column: Gross\n",
      "Number of outliers: 88\n",
      "Percentage of outliers: 10.60%\n"
     ]
    },
    {
     "data": {
      "application/vnd.plotly.v1+json": {
       "config": {
        "plotlyServerURL": "https://plot.ly"
       },
       "data": [
        {
         "boxmean": "sd",
         "boxpoints": "suspectedoutliers",
         "line": {
          "width": 2
         },
         "marker": {
          "color": "orange"
         },
         "name": "Gross",
         "type": "box",
         "y": {
          "bdata": "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",
          "dtype": "f8"
         }
        }
       ],
       "layout": {
        "height": 400,
        "template": {
         "data": {
          "bar": [
           {
            "error_x": {
             "color": "#2a3f5f"
            },
            "error_y": {
             "color": "#2a3f5f"
            },
            "marker": {
             "line": {
              "color": "#E5ECF6",
              "width": 0.5
             },
             "pattern": {
              "fillmode": "overlay",
              "size": 10,
              "solidity": 0.2
             }
            },
            "type": "bar"
           }
          ],
          "barpolar": [
           {
            "marker": {
             "line": {
              "color": "#E5ECF6",
              "width": 0.5
             },
             "pattern": {
              "fillmode": "overlay",
              "size": 10,
              "solidity": 0.2
             }
            },
            "type": "barpolar"
           }
          ],
          "carpet": [
           {
            "aaxis": {
             "endlinecolor": "#2a3f5f",
             "gridcolor": "white",
             "linecolor": "white",
             "minorgridcolor": "white",
             "startlinecolor": "#2a3f5f"
            },
            "baxis": {
             "endlinecolor": "#2a3f5f",
             "gridcolor": "white",
             "linecolor": "white",
             "minorgridcolor": "white",
             "startlinecolor": "#2a3f5f"
            },
            "type": "carpet"
           }
          ],
          "choropleth": [
           {
            "colorbar": {
             "outlinewidth": 0,
             "ticks": ""
            },
            "type": "choropleth"
           }
          ],
          "contour": [
           {
            "colorbar": {
             "outlinewidth": 0,
             "ticks": ""
            },
            "colorscale": [
             [
              0,
              "#0d0887"
             ],
             [
              0.1111111111111111,
              "#46039f"
             ],
             [
              0.2222222222222222,
              "#7201a8"
             ],
             [
              0.3333333333333333,
              "#9c179e"
             ],
             [
              0.4444444444444444,
              "#bd3786"
             ],
             [
              0.5555555555555556,
              "#d8576b"
             ],
             [
              0.6666666666666666,
              "#ed7953"
             ],
             [
              0.7777777777777778,
              "#fb9f3a"
             ],
             [
              0.8888888888888888,
              "#fdca26"
             ],
             [
              1,
              "#f0f921"
             ]
            ],
            "type": "contour"
           }
          ],
          "contourcarpet": [
           {
            "colorbar": {
             "outlinewidth": 0,
             "ticks": ""
            },
            "type": "contourcarpet"
           }
          ],
          "heatmap": [
           {
            "colorbar": {
             "outlinewidth": 0,
             "ticks": ""
            },
            "colorscale": [
             [
              0,
              "#0d0887"
             ],
             [
              0.1111111111111111,
              "#46039f"
             ],
             [
              0.2222222222222222,
              "#7201a8"
             ],
             [
              0.3333333333333333,
              "#9c179e"
             ],
             [
              0.4444444444444444,
              "#bd3786"
             ],
             [
              0.5555555555555556,
              "#d8576b"
             ],
             [
              0.6666666666666666,
              "#ed7953"
             ],
             [
              0.7777777777777778,
              "#fb9f3a"
             ],
             [
              0.8888888888888888,
              "#fdca26"
             ],
             [
              1,
              "#f0f921"
             ]
            ],
            "type": "heatmap"
           }
          ],
          "histogram": [
           {
            "marker": {
             "pattern": {
              "fillmode": "overlay",
              "size": 10,
              "solidity": 0.2
             }
            },
            "type": "histogram"
           }
          ],
          "histogram2d": [
           {
            "colorbar": {
             "outlinewidth": 0,
             "ticks": ""
            },
            "colorscale": [
             [
              0,
              "#0d0887"
             ],
             [
              0.1111111111111111,
              "#46039f"
             ],
             [
              0.2222222222222222,
              "#7201a8"
             ],
             [
              0.3333333333333333,
              "#9c179e"
             ],
             [
              0.4444444444444444,
              "#bd3786"
             ],
             [
              0.5555555555555556,
              "#d8576b"
             ],
             [
              0.6666666666666666,
              "#ed7953"
             ],
             [
              0.7777777777777778,
              "#fb9f3a"
             ],
             [
              0.8888888888888888,
              "#fdca26"
             ],
             [
              1,
              "#f0f921"
             ]
            ],
            "type": "histogram2d"
           }
          ],
          "histogram2dcontour": [
           {
            "colorbar": {
             "outlinewidth": 0,
             "ticks": ""
            },
            "colorscale": [
             [
              0,
              "#0d0887"
             ],
             [
              0.1111111111111111,
              "#46039f"
             ],
             [
              0.2222222222222222,
              "#7201a8"
             ],
             [
              0.3333333333333333,
              "#9c179e"
             ],
             [
              0.4444444444444444,
              "#bd3786"
             ],
             [
              0.5555555555555556,
              "#d8576b"
             ],
             [
              0.6666666666666666,
              "#ed7953"
             ],
             [
              0.7777777777777778,
              "#fb9f3a"
             ],
             [
              0.8888888888888888,
              "#fdca26"
             ],
             [
              1,
              "#f0f921"
             ]
            ],
            "type": "histogram2dcontour"
           }
          ],
          "mesh3d": [
           {
            "colorbar": {
             "outlinewidth": 0,
             "ticks": ""
            },
            "type": "mesh3d"
           }
          ],
          "parcoords": [
           {
            "line": {
             "colorbar": {
              "outlinewidth": 0,
              "ticks": ""
             }
            },
            "type": "parcoords"
           }
          ],
          "pie": [
           {
            "automargin": true,
            "type": "pie"
           }
          ],
          "scatter": [
           {
            "fillpattern": {
             "fillmode": "overlay",
             "size": 10,
             "solidity": 0.2
            },
            "type": "scatter"
           }
          ],
          "scatter3d": [
           {
            "line": {
             "colorbar": {
              "outlinewidth": 0,
              "ticks": ""
             }
            },
            "marker": {
             "colorbar": {
              "outlinewidth": 0,
              "ticks": ""
             }
            },
            "type": "scatter3d"
           }
          ],
          "scattercarpet": [
           {
            "marker": {
             "colorbar": {
              "outlinewidth": 0,
              "ticks": ""
             }
            },
            "type": "scattercarpet"
           }
          ],
          "scattergeo": [
           {
            "marker": {
             "colorbar": {
              "outlinewidth": 0,
              "ticks": ""
             }
            },
            "type": "scattergeo"
           }
          ],
          "scattergl": [
           {
            "marker": {
             "colorbar": {
              "outlinewidth": 0,
              "ticks": ""
             }
            },
            "type": "scattergl"
           }
          ],
          "scattermap": [
           {
            "marker": {
             "colorbar": {
              "outlinewidth": 0,
              "ticks": ""
             }
            },
            "type": "scattermap"
           }
          ],
          "scattermapbox": [
           {
            "marker": {
             "colorbar": {
              "outlinewidth": 0,
              "ticks": ""
             }
            },
            "type": "scattermapbox"
           }
          ],
          "scatterpolar": [
           {
            "marker": {
             "colorbar": {
              "outlinewidth": 0,
              "ticks": ""
             }
            },
            "type": "scatterpolar"
           }
          ],
          "scatterpolargl": [
           {
            "marker": {
             "colorbar": {
              "outlinewidth": 0,
              "ticks": ""
             }
            },
            "type": "scatterpolargl"
           }
          ],
          "scatterternary": [
           {
            "marker": {
             "colorbar": {
              "outlinewidth": 0,
              "ticks": ""
             }
            },
            "type": "scatterternary"
           }
          ],
          "surface": [
           {
            "colorbar": {
             "outlinewidth": 0,
             "ticks": ""
            },
            "colorscale": [
             [
              0,
              "#0d0887"
             ],
             [
              0.1111111111111111,
              "#46039f"
             ],
             [
              0.2222222222222222,
              "#7201a8"
             ],
             [
              0.3333333333333333,
              "#9c179e"
             ],
             [
              0.4444444444444444,
              "#bd3786"
             ],
             [
              0.5555555555555556,
              "#d8576b"
             ],
             [
              0.6666666666666666,
              "#ed7953"
             ],
             [
              0.7777777777777778,
              "#fb9f3a"
             ],
             [
              0.8888888888888888,
              "#fdca26"
             ],
             [
              1,
              "#f0f921"
             ]
            ],
            "type": "surface"
           }
          ],
          "table": [
           {
            "cells": {
             "fill": {
              "color": "#EBF0F8"
             },
             "line": {
              "color": "white"
             }
            },
            "header": {
             "fill": {
              "color": "#C8D4E3"
             },
             "line": {
              "color": "white"
             }
            },
            "type": "table"
           }
          ]
         },
         "layout": {
          "annotationdefaults": {
           "arrowcolor": "#2a3f5f",
           "arrowhead": 0,
           "arrowwidth": 1
          },
          "autotypenumbers": "strict",
          "coloraxis": {
           "colorbar": {
            "outlinewidth": 0,
            "ticks": ""
           }
          },
          "colorscale": {
           "diverging": [
            [
             0,
             "#8e0152"
            ],
            [
             0.1,
             "#c51b7d"
            ],
            [
             0.2,
             "#de77ae"
            ],
            [
             0.3,
             "#f1b6da"
            ],
            [
             0.4,
             "#fde0ef"
            ],
            [
             0.5,
             "#f7f7f7"
            ],
            [
             0.6,
             "#e6f5d0"
            ],
            [
             0.7,
             "#b8e186"
            ],
            [
             0.8,
             "#7fbc41"
            ],
            [
             0.9,
             "#4d9221"
            ],
            [
             1,
             "#276419"
            ]
           ],
           "sequential": [
            [
             0,
             "#0d0887"
            ],
            [
             0.1111111111111111,
             "#46039f"
            ],
            [
             0.2222222222222222,
             "#7201a8"
            ],
            [
             0.3333333333333333,
             "#9c179e"
            ],
            [
             0.4444444444444444,
             "#bd3786"
            ],
            [
             0.5555555555555556,
             "#d8576b"
            ],
            [
             0.6666666666666666,
             "#ed7953"
            ],
            [
             0.7777777777777778,
             "#fb9f3a"
            ],
            [
             0.8888888888888888,
             "#fdca26"
            ],
            [
             1,
             "#f0f921"
            ]
           ],
           "sequentialminus": [
            [
             0,
             "#0d0887"
            ],
            [
             0.1111111111111111,
             "#46039f"
            ],
            [
             0.2222222222222222,
             "#7201a8"
            ],
            [
             0.3333333333333333,
             "#9c179e"
            ],
            [
             0.4444444444444444,
             "#bd3786"
            ],
            [
             0.5555555555555556,
             "#d8576b"
            ],
            [
             0.6666666666666666,
             "#ed7953"
            ],
            [
             0.7777777777777778,
             "#fb9f3a"
            ],
            [
             0.8888888888888888,
             "#fdca26"
            ],
            [
             1,
             "#f0f921"
            ]
           ]
          },
          "colorway": [
           "#636efa",
           "#EF553B",
           "#00cc96",
           "#ab63fa",
           "#FFA15A",
           "#19d3f3",
           "#FF6692",
           "#B6E880",
           "#FF97FF",
           "#FECB52"
          ],
          "font": {
           "color": "#2a3f5f"
          },
          "geo": {
           "bgcolor": "white",
           "lakecolor": "white",
           "landcolor": "#E5ECF6",
           "showlakes": true,
           "showland": true,
           "subunitcolor": "white"
          },
          "hoverlabel": {
           "align": "left"
          },
          "hovermode": "closest",
          "mapbox": {
           "style": "light"
          },
          "paper_bgcolor": "white",
          "plot_bgcolor": "#E5ECF6",
          "polar": {
           "angularaxis": {
            "gridcolor": "white",
            "linecolor": "white",
            "ticks": ""
           },
           "bgcolor": "#E5ECF6",
           "radialaxis": {
            "gridcolor": "white",
            "linecolor": "white",
            "ticks": ""
           }
          },
          "scene": {
           "xaxis": {
            "backgroundcolor": "#E5ECF6",
            "gridcolor": "white",
            "gridwidth": 2,
            "linecolor": "white",
            "showbackground": true,
            "ticks": "",
            "zerolinecolor": "white"
           },
           "yaxis": {
            "backgroundcolor": "#E5ECF6",
            "gridcolor": "white",
            "gridwidth": 2,
            "linecolor": "white",
            "showbackground": true,
            "ticks": "",
            "zerolinecolor": "white"
           },
           "zaxis": {
            "backgroundcolor": "#E5ECF6",
            "gridcolor": "white",
            "gridwidth": 2,
            "linecolor": "white",
            "showbackground": true,
            "ticks": "",
            "zerolinecolor": "white"
           }
          },
          "shapedefaults": {
           "line": {
            "color": "#2a3f5f"
           }
          },
          "ternary": {
           "aaxis": {
            "gridcolor": "white",
            "linecolor": "white",
            "ticks": ""
           },
           "baxis": {
            "gridcolor": "white",
            "linecolor": "white",
            "ticks": ""
           },
           "bgcolor": "#E5ECF6",
           "caxis": {
            "gridcolor": "white",
            "linecolor": "white",
            "ticks": ""
           }
          },
          "title": {
           "x": 0.05
          },
          "xaxis": {
           "automargin": true,
           "gridcolor": "white",
           "linecolor": "white",
           "ticks": "",
           "title": {
            "standoff": 15
           },
           "zerolinecolor": "white",
           "zerolinewidth": 2
          },
          "yaxis": {
           "automargin": true,
           "gridcolor": "white",
           "linecolor": "white",
           "ticks": "",
           "title": {
            "standoff": 15
           },
           "zerolinecolor": "white",
           "zerolinewidth": 2
          }
         }
        },
        "title": {
         "text": "Boxplot of 'Gross'"
        },
        "width": 800,
        "yaxis": {
         "range": [
          1305,
          197322842.875
         ]
        }
       }
      }
     },
     "metadata": {},
     "output_type": "display_data"
    }
   ],
   "source": [
    "# Box Plot de Gross\n",
    "plot_boxplot_stats(raw_df, col_name = 'Gross')"
   ]
  },
  {
   "cell_type": "code",
   "execution_count": 21,
   "id": "f1c0a40f",
   "metadata": {},
   "outputs": [
    {
     "data": {
      "text/plain": [
       "Index(['Series_Title', 'Released_Year', 'Certificate', 'Runtime', 'Genre',\n",
       "       'IMDB_Rating', 'Overview', 'Meta_score', 'Director', 'Star1', 'Star2',\n",
       "       'Star3', 'Star4', 'No_of_Votes', 'Gross', 'IMDB_Rating_Faixa',\n",
       "       'Gross_Faixa'],\n",
       "      dtype='object')"
      ]
     },
     "execution_count": 21,
     "metadata": {},
     "output_type": "execute_result"
    }
   ],
   "source": [
    "raw_df.columns"
   ]
  },
  {
   "cell_type": "markdown",
   "id": "a18891ab",
   "metadata": {},
   "source": [
    "### Variáveis Categóricas"
   ]
  },
  {
   "cell_type": "markdown",
   "id": "193e65f1",
   "metadata": {},
   "source": [
    "### Top 10 Genres"
   ]
  },
  {
   "cell_type": "code",
   "execution_count": 15,
   "id": "0742446a",
   "metadata": {},
   "outputs": [
    {
     "data": {
      "application/vnd.plotly.v1+json": {
       "config": {
        "plotlyServerURL": "https://plot.ly"
       },
       "data": [
        {
         "marker": {
          "color": "blue"
         },
         "name": "Frequency",
         "type": "bar",
         "x": [
          "Drama",
          "Drama, Romance",
          "Comedy, Drama",
          "Comedy, Drama, Romance",
          "Action, Crime, Drama",
          "Biography, Drama, History",
          "Crime, Drama, Thriller",
          "Crime, Drama, Mystery",
          "Crime, Drama",
          "Animation, Adventure, Comedy"
         ],
         "y": {
          "bdata": "VCUjHx4cHBsaGA==",
          "dtype": "i1"
         }
        }
       ],
       "layout": {
        "height": 400,
        "template": {
         "data": {
          "bar": [
           {
            "error_x": {
             "color": "#2a3f5f"
            },
            "error_y": {
             "color": "#2a3f5f"
            },
            "marker": {
             "line": {
              "color": "#E5ECF6",
              "width": 0.5
             },
             "pattern": {
              "fillmode": "overlay",
              "size": 10,
              "solidity": 0.2
             }
            },
            "type": "bar"
           }
          ],
          "barpolar": [
           {
            "marker": {
             "line": {
              "color": "#E5ECF6",
              "width": 0.5
             },
             "pattern": {
              "fillmode": "overlay",
              "size": 10,
              "solidity": 0.2
             }
            },
            "type": "barpolar"
           }
          ],
          "carpet": [
           {
            "aaxis": {
             "endlinecolor": "#2a3f5f",
             "gridcolor": "white",
             "linecolor": "white",
             "minorgridcolor": "white",
             "startlinecolor": "#2a3f5f"
            },
            "baxis": {
             "endlinecolor": "#2a3f5f",
             "gridcolor": "white",
             "linecolor": "white",
             "minorgridcolor": "white",
             "startlinecolor": "#2a3f5f"
            },
            "type": "carpet"
           }
          ],
          "choropleth": [
           {
            "colorbar": {
             "outlinewidth": 0,
             "ticks": ""
            },
            "type": "choropleth"
           }
          ],
          "contour": [
           {
            "colorbar": {
             "outlinewidth": 0,
             "ticks": ""
            },
            "colorscale": [
             [
              0,
              "#0d0887"
             ],
             [
              0.1111111111111111,
              "#46039f"
             ],
             [
              0.2222222222222222,
              "#7201a8"
             ],
             [
              0.3333333333333333,
              "#9c179e"
             ],
             [
              0.4444444444444444,
              "#bd3786"
             ],
             [
              0.5555555555555556,
              "#d8576b"
             ],
             [
              0.6666666666666666,
              "#ed7953"
             ],
             [
              0.7777777777777778,
              "#fb9f3a"
             ],
             [
              0.8888888888888888,
              "#fdca26"
             ],
             [
              1,
              "#f0f921"
             ]
            ],
            "type": "contour"
           }
          ],
          "contourcarpet": [
           {
            "colorbar": {
             "outlinewidth": 0,
             "ticks": ""
            },
            "type": "contourcarpet"
           }
          ],
          "heatmap": [
           {
            "colorbar": {
             "outlinewidth": 0,
             "ticks": ""
            },
            "colorscale": [
             [
              0,
              "#0d0887"
             ],
             [
              0.1111111111111111,
              "#46039f"
             ],
             [
              0.2222222222222222,
              "#7201a8"
             ],
             [
              0.3333333333333333,
              "#9c179e"
             ],
             [
              0.4444444444444444,
              "#bd3786"
             ],
             [
              0.5555555555555556,
              "#d8576b"
             ],
             [
              0.6666666666666666,
              "#ed7953"
             ],
             [
              0.7777777777777778,
              "#fb9f3a"
             ],
             [
              0.8888888888888888,
              "#fdca26"
             ],
             [
              1,
              "#f0f921"
             ]
            ],
            "type": "heatmap"
           }
          ],
          "histogram": [
           {
            "marker": {
             "pattern": {
              "fillmode": "overlay",
              "size": 10,
              "solidity": 0.2
             }
            },
            "type": "histogram"
           }
          ],
          "histogram2d": [
           {
            "colorbar": {
             "outlinewidth": 0,
             "ticks": ""
            },
            "colorscale": [
             [
              0,
              "#0d0887"
             ],
             [
              0.1111111111111111,
              "#46039f"
             ],
             [
              0.2222222222222222,
              "#7201a8"
             ],
             [
              0.3333333333333333,
              "#9c179e"
             ],
             [
              0.4444444444444444,
              "#bd3786"
             ],
             [
              0.5555555555555556,
              "#d8576b"
             ],
             [
              0.6666666666666666,
              "#ed7953"
             ],
             [
              0.7777777777777778,
              "#fb9f3a"
             ],
             [
              0.8888888888888888,
              "#fdca26"
             ],
             [
              1,
              "#f0f921"
             ]
            ],
            "type": "histogram2d"
           }
          ],
          "histogram2dcontour": [
           {
            "colorbar": {
             "outlinewidth": 0,
             "ticks": ""
            },
            "colorscale": [
             [
              0,
              "#0d0887"
             ],
             [
              0.1111111111111111,
              "#46039f"
             ],
             [
              0.2222222222222222,
              "#7201a8"
             ],
             [
              0.3333333333333333,
              "#9c179e"
             ],
             [
              0.4444444444444444,
              "#bd3786"
             ],
             [
              0.5555555555555556,
              "#d8576b"
             ],
             [
              0.6666666666666666,
              "#ed7953"
             ],
             [
              0.7777777777777778,
              "#fb9f3a"
             ],
             [
              0.8888888888888888,
              "#fdca26"
             ],
             [
              1,
              "#f0f921"
             ]
            ],
            "type": "histogram2dcontour"
           }
          ],
          "mesh3d": [
           {
            "colorbar": {
             "outlinewidth": 0,
             "ticks": ""
            },
            "type": "mesh3d"
           }
          ],
          "parcoords": [
           {
            "line": {
             "colorbar": {
              "outlinewidth": 0,
              "ticks": ""
             }
            },
            "type": "parcoords"
           }
          ],
          "pie": [
           {
            "automargin": true,
            "type": "pie"
           }
          ],
          "scatter": [
           {
            "fillpattern": {
             "fillmode": "overlay",
             "size": 10,
             "solidity": 0.2
            },
            "type": "scatter"
           }
          ],
          "scatter3d": [
           {
            "line": {
             "colorbar": {
              "outlinewidth": 0,
              "ticks": ""
             }
            },
            "marker": {
             "colorbar": {
              "outlinewidth": 0,
              "ticks": ""
             }
            },
            "type": "scatter3d"
           }
          ],
          "scattercarpet": [
           {
            "marker": {
             "colorbar": {
              "outlinewidth": 0,
              "ticks": ""
             }
            },
            "type": "scattercarpet"
           }
          ],
          "scattergeo": [
           {
            "marker": {
             "colorbar": {
              "outlinewidth": 0,
              "ticks": ""
             }
            },
            "type": "scattergeo"
           }
          ],
          "scattergl": [
           {
            "marker": {
             "colorbar": {
              "outlinewidth": 0,
              "ticks": ""
             }
            },
            "type": "scattergl"
           }
          ],
          "scattermap": [
           {
            "marker": {
             "colorbar": {
              "outlinewidth": 0,
              "ticks": ""
             }
            },
            "type": "scattermap"
           }
          ],
          "scattermapbox": [
           {
            "marker": {
             "colorbar": {
              "outlinewidth": 0,
              "ticks": ""
             }
            },
            "type": "scattermapbox"
           }
          ],
          "scatterpolar": [
           {
            "marker": {
             "colorbar": {
              "outlinewidth": 0,
              "ticks": ""
             }
            },
            "type": "scatterpolar"
           }
          ],
          "scatterpolargl": [
           {
            "marker": {
             "colorbar": {
              "outlinewidth": 0,
              "ticks": ""
             }
            },
            "type": "scatterpolargl"
           }
          ],
          "scatterternary": [
           {
            "marker": {
             "colorbar": {
              "outlinewidth": 0,
              "ticks": ""
             }
            },
            "type": "scatterternary"
           }
          ],
          "surface": [
           {
            "colorbar": {
             "outlinewidth": 0,
             "ticks": ""
            },
            "colorscale": [
             [
              0,
              "#0d0887"
             ],
             [
              0.1111111111111111,
              "#46039f"
             ],
             [
              0.2222222222222222,
              "#7201a8"
             ],
             [
              0.3333333333333333,
              "#9c179e"
             ],
             [
              0.4444444444444444,
              "#bd3786"
             ],
             [
              0.5555555555555556,
              "#d8576b"
             ],
             [
              0.6666666666666666,
              "#ed7953"
             ],
             [
              0.7777777777777778,
              "#fb9f3a"
             ],
             [
              0.8888888888888888,
              "#fdca26"
             ],
             [
              1,
              "#f0f921"
             ]
            ],
            "type": "surface"
           }
          ],
          "table": [
           {
            "cells": {
             "fill": {
              "color": "#EBF0F8"
             },
             "line": {
              "color": "white"
             }
            },
            "header": {
             "fill": {
              "color": "#C8D4E3"
             },
             "line": {
              "color": "white"
             }
            },
            "type": "table"
           }
          ]
         },
         "layout": {
          "annotationdefaults": {
           "arrowcolor": "#2a3f5f",
           "arrowhead": 0,
           "arrowwidth": 1
          },
          "autotypenumbers": "strict",
          "coloraxis": {
           "colorbar": {
            "outlinewidth": 0,
            "ticks": ""
           }
          },
          "colorscale": {
           "diverging": [
            [
             0,
             "#8e0152"
            ],
            [
             0.1,
             "#c51b7d"
            ],
            [
             0.2,
             "#de77ae"
            ],
            [
             0.3,
             "#f1b6da"
            ],
            [
             0.4,
             "#fde0ef"
            ],
            [
             0.5,
             "#f7f7f7"
            ],
            [
             0.6,
             "#e6f5d0"
            ],
            [
             0.7,
             "#b8e186"
            ],
            [
             0.8,
             "#7fbc41"
            ],
            [
             0.9,
             "#4d9221"
            ],
            [
             1,
             "#276419"
            ]
           ],
           "sequential": [
            [
             0,
             "#0d0887"
            ],
            [
             0.1111111111111111,
             "#46039f"
            ],
            [
             0.2222222222222222,
             "#7201a8"
            ],
            [
             0.3333333333333333,
             "#9c179e"
            ],
            [
             0.4444444444444444,
             "#bd3786"
            ],
            [
             0.5555555555555556,
             "#d8576b"
            ],
            [
             0.6666666666666666,
             "#ed7953"
            ],
            [
             0.7777777777777778,
             "#fb9f3a"
            ],
            [
             0.8888888888888888,
             "#fdca26"
            ],
            [
             1,
             "#f0f921"
            ]
           ],
           "sequentialminus": [
            [
             0,
             "#0d0887"
            ],
            [
             0.1111111111111111,
             "#46039f"
            ],
            [
             0.2222222222222222,
             "#7201a8"
            ],
            [
             0.3333333333333333,
             "#9c179e"
            ],
            [
             0.4444444444444444,
             "#bd3786"
            ],
            [
             0.5555555555555556,
             "#d8576b"
            ],
            [
             0.6666666666666666,
             "#ed7953"
            ],
            [
             0.7777777777777778,
             "#fb9f3a"
            ],
            [
             0.8888888888888888,
             "#fdca26"
            ],
            [
             1,
             "#f0f921"
            ]
           ]
          },
          "colorway": [
           "#636efa",
           "#EF553B",
           "#00cc96",
           "#ab63fa",
           "#FFA15A",
           "#19d3f3",
           "#FF6692",
           "#B6E880",
           "#FF97FF",
           "#FECB52"
          ],
          "font": {
           "color": "#2a3f5f"
          },
          "geo": {
           "bgcolor": "white",
           "lakecolor": "white",
           "landcolor": "#E5ECF6",
           "showlakes": true,
           "showland": true,
           "subunitcolor": "white"
          },
          "hoverlabel": {
           "align": "left"
          },
          "hovermode": "closest",
          "mapbox": {
           "style": "light"
          },
          "paper_bgcolor": "white",
          "plot_bgcolor": "#E5ECF6",
          "polar": {
           "angularaxis": {
            "gridcolor": "white",
            "linecolor": "white",
            "ticks": ""
           },
           "bgcolor": "#E5ECF6",
           "radialaxis": {
            "gridcolor": "white",
            "linecolor": "white",
            "ticks": ""
           }
          },
          "scene": {
           "xaxis": {
            "backgroundcolor": "#E5ECF6",
            "gridcolor": "white",
            "gridwidth": 2,
            "linecolor": "white",
            "showbackground": true,
            "ticks": "",
            "zerolinecolor": "white"
           },
           "yaxis": {
            "backgroundcolor": "#E5ECF6",
            "gridcolor": "white",
            "gridwidth": 2,
            "linecolor": "white",
            "showbackground": true,
            "ticks": "",
            "zerolinecolor": "white"
           },
           "zaxis": {
            "backgroundcolor": "#E5ECF6",
            "gridcolor": "white",
            "gridwidth": 2,
            "linecolor": "white",
            "showbackground": true,
            "ticks": "",
            "zerolinecolor": "white"
           }
          },
          "shapedefaults": {
           "line": {
            "color": "#2a3f5f"
           }
          },
          "ternary": {
           "aaxis": {
            "gridcolor": "white",
            "linecolor": "white",
            "ticks": ""
           },
           "baxis": {
            "gridcolor": "white",
            "linecolor": "white",
            "ticks": ""
           },
           "bgcolor": "#E5ECF6",
           "caxis": {
            "gridcolor": "white",
            "linecolor": "white",
            "ticks": ""
           }
          },
          "title": {
           "x": 0.05
          },
          "xaxis": {
           "automargin": true,
           "gridcolor": "white",
           "linecolor": "white",
           "ticks": "",
           "title": {
            "standoff": 15
           },
           "zerolinecolor": "white",
           "zerolinewidth": 2
          },
          "yaxis": {
           "automargin": true,
           "gridcolor": "white",
           "linecolor": "white",
           "ticks": "",
           "title": {
            "standoff": 15
           },
           "zerolinecolor": "white",
           "zerolinewidth": 2
          }
         }
        },
        "title": {
         "text": "Top 10 Frequencies of 'Genre'"
        },
        "width": 800,
        "xaxis": {
         "title": {
          "text": "Genre"
         }
        },
        "yaxis": {
         "title": {
          "text": "Count"
         }
        }
       }
      }
     },
     "metadata": {},
     "output_type": "display_data"
    }
   ],
   "source": [
    "plot_top_frequencies(raw_df,col_name= 'Genre', top_k=10)"
   ]
  },
  {
   "cell_type": "markdown",
   "id": "c0946127",
   "metadata": {},
   "source": [
    "### Top 10 Certificate"
   ]
  },
  {
   "cell_type": "code",
   "execution_count": 17,
   "id": "d8b97c0a",
   "metadata": {},
   "outputs": [
    {
     "data": {
      "application/vnd.plotly.v1+json": {
       "config": {
        "plotlyServerURL": "https://plot.ly"
       },
       "data": [
        {
         "marker": {
          "color": "blue"
         },
         "name": "Frequency",
         "type": "bar",
         "x": [
          "U",
          "A",
          "UA",
          "R",
          "PG-13",
          "PG",
          "Passed",
          "G",
          "Approved",
          "TV-PG"
         ],
         "y": {
          "bdata": "6gDEAK8AkgArACUAIgAMAAsAAwA=",
          "dtype": "i2"
         }
        }
       ],
       "layout": {
        "height": 400,
        "template": {
         "data": {
          "bar": [
           {
            "error_x": {
             "color": "#2a3f5f"
            },
            "error_y": {
             "color": "#2a3f5f"
            },
            "marker": {
             "line": {
              "color": "#E5ECF6",
              "width": 0.5
             },
             "pattern": {
              "fillmode": "overlay",
              "size": 10,
              "solidity": 0.2
             }
            },
            "type": "bar"
           }
          ],
          "barpolar": [
           {
            "marker": {
             "line": {
              "color": "#E5ECF6",
              "width": 0.5
             },
             "pattern": {
              "fillmode": "overlay",
              "size": 10,
              "solidity": 0.2
             }
            },
            "type": "barpolar"
           }
          ],
          "carpet": [
           {
            "aaxis": {
             "endlinecolor": "#2a3f5f",
             "gridcolor": "white",
             "linecolor": "white",
             "minorgridcolor": "white",
             "startlinecolor": "#2a3f5f"
            },
            "baxis": {
             "endlinecolor": "#2a3f5f",
             "gridcolor": "white",
             "linecolor": "white",
             "minorgridcolor": "white",
             "startlinecolor": "#2a3f5f"
            },
            "type": "carpet"
           }
          ],
          "choropleth": [
           {
            "colorbar": {
             "outlinewidth": 0,
             "ticks": ""
            },
            "type": "choropleth"
           }
          ],
          "contour": [
           {
            "colorbar": {
             "outlinewidth": 0,
             "ticks": ""
            },
            "colorscale": [
             [
              0,
              "#0d0887"
             ],
             [
              0.1111111111111111,
              "#46039f"
             ],
             [
              0.2222222222222222,
              "#7201a8"
             ],
             [
              0.3333333333333333,
              "#9c179e"
             ],
             [
              0.4444444444444444,
              "#bd3786"
             ],
             [
              0.5555555555555556,
              "#d8576b"
             ],
             [
              0.6666666666666666,
              "#ed7953"
             ],
             [
              0.7777777777777778,
              "#fb9f3a"
             ],
             [
              0.8888888888888888,
              "#fdca26"
             ],
             [
              1,
              "#f0f921"
             ]
            ],
            "type": "contour"
           }
          ],
          "contourcarpet": [
           {
            "colorbar": {
             "outlinewidth": 0,
             "ticks": ""
            },
            "type": "contourcarpet"
           }
          ],
          "heatmap": [
           {
            "colorbar": {
             "outlinewidth": 0,
             "ticks": ""
            },
            "colorscale": [
             [
              0,
              "#0d0887"
             ],
             [
              0.1111111111111111,
              "#46039f"
             ],
             [
              0.2222222222222222,
              "#7201a8"
             ],
             [
              0.3333333333333333,
              "#9c179e"
             ],
             [
              0.4444444444444444,
              "#bd3786"
             ],
             [
              0.5555555555555556,
              "#d8576b"
             ],
             [
              0.6666666666666666,
              "#ed7953"
             ],
             [
              0.7777777777777778,
              "#fb9f3a"
             ],
             [
              0.8888888888888888,
              "#fdca26"
             ],
             [
              1,
              "#f0f921"
             ]
            ],
            "type": "heatmap"
           }
          ],
          "histogram": [
           {
            "marker": {
             "pattern": {
              "fillmode": "overlay",
              "size": 10,
              "solidity": 0.2
             }
            },
            "type": "histogram"
           }
          ],
          "histogram2d": [
           {
            "colorbar": {
             "outlinewidth": 0,
             "ticks": ""
            },
            "colorscale": [
             [
              0,
              "#0d0887"
             ],
             [
              0.1111111111111111,
              "#46039f"
             ],
             [
              0.2222222222222222,
              "#7201a8"
             ],
             [
              0.3333333333333333,
              "#9c179e"
             ],
             [
              0.4444444444444444,
              "#bd3786"
             ],
             [
              0.5555555555555556,
              "#d8576b"
             ],
             [
              0.6666666666666666,
              "#ed7953"
             ],
             [
              0.7777777777777778,
              "#fb9f3a"
             ],
             [
              0.8888888888888888,
              "#fdca26"
             ],
             [
              1,
              "#f0f921"
             ]
            ],
            "type": "histogram2d"
           }
          ],
          "histogram2dcontour": [
           {
            "colorbar": {
             "outlinewidth": 0,
             "ticks": ""
            },
            "colorscale": [
             [
              0,
              "#0d0887"
             ],
             [
              0.1111111111111111,
              "#46039f"
             ],
             [
              0.2222222222222222,
              "#7201a8"
             ],
             [
              0.3333333333333333,
              "#9c179e"
             ],
             [
              0.4444444444444444,
              "#bd3786"
             ],
             [
              0.5555555555555556,
              "#d8576b"
             ],
             [
              0.6666666666666666,
              "#ed7953"
             ],
             [
              0.7777777777777778,
              "#fb9f3a"
             ],
             [
              0.8888888888888888,
              "#fdca26"
             ],
             [
              1,
              "#f0f921"
             ]
            ],
            "type": "histogram2dcontour"
           }
          ],
          "mesh3d": [
           {
            "colorbar": {
             "outlinewidth": 0,
             "ticks": ""
            },
            "type": "mesh3d"
           }
          ],
          "parcoords": [
           {
            "line": {
             "colorbar": {
              "outlinewidth": 0,
              "ticks": ""
             }
            },
            "type": "parcoords"
           }
          ],
          "pie": [
           {
            "automargin": true,
            "type": "pie"
           }
          ],
          "scatter": [
           {
            "fillpattern": {
             "fillmode": "overlay",
             "size": 10,
             "solidity": 0.2
            },
            "type": "scatter"
           }
          ],
          "scatter3d": [
           {
            "line": {
             "colorbar": {
              "outlinewidth": 0,
              "ticks": ""
             }
            },
            "marker": {
             "colorbar": {
              "outlinewidth": 0,
              "ticks": ""
             }
            },
            "type": "scatter3d"
           }
          ],
          "scattercarpet": [
           {
            "marker": {
             "colorbar": {
              "outlinewidth": 0,
              "ticks": ""
             }
            },
            "type": "scattercarpet"
           }
          ],
          "scattergeo": [
           {
            "marker": {
             "colorbar": {
              "outlinewidth": 0,
              "ticks": ""
             }
            },
            "type": "scattergeo"
           }
          ],
          "scattergl": [
           {
            "marker": {
             "colorbar": {
              "outlinewidth": 0,
              "ticks": ""
             }
            },
            "type": "scattergl"
           }
          ],
          "scattermap": [
           {
            "marker": {
             "colorbar": {
              "outlinewidth": 0,
              "ticks": ""
             }
            },
            "type": "scattermap"
           }
          ],
          "scattermapbox": [
           {
            "marker": {
             "colorbar": {
              "outlinewidth": 0,
              "ticks": ""
             }
            },
            "type": "scattermapbox"
           }
          ],
          "scatterpolar": [
           {
            "marker": {
             "colorbar": {
              "outlinewidth": 0,
              "ticks": ""
             }
            },
            "type": "scatterpolar"
           }
          ],
          "scatterpolargl": [
           {
            "marker": {
             "colorbar": {
              "outlinewidth": 0,
              "ticks": ""
             }
            },
            "type": "scatterpolargl"
           }
          ],
          "scatterternary": [
           {
            "marker": {
             "colorbar": {
              "outlinewidth": 0,
              "ticks": ""
             }
            },
            "type": "scatterternary"
           }
          ],
          "surface": [
           {
            "colorbar": {
             "outlinewidth": 0,
             "ticks": ""
            },
            "colorscale": [
             [
              0,
              "#0d0887"
             ],
             [
              0.1111111111111111,
              "#46039f"
             ],
             [
              0.2222222222222222,
              "#7201a8"
             ],
             [
              0.3333333333333333,
              "#9c179e"
             ],
             [
              0.4444444444444444,
              "#bd3786"
             ],
             [
              0.5555555555555556,
              "#d8576b"
             ],
             [
              0.6666666666666666,
              "#ed7953"
             ],
             [
              0.7777777777777778,
              "#fb9f3a"
             ],
             [
              0.8888888888888888,
              "#fdca26"
             ],
             [
              1,
              "#f0f921"
             ]
            ],
            "type": "surface"
           }
          ],
          "table": [
           {
            "cells": {
             "fill": {
              "color": "#EBF0F8"
             },
             "line": {
              "color": "white"
             }
            },
            "header": {
             "fill": {
              "color": "#C8D4E3"
             },
             "line": {
              "color": "white"
             }
            },
            "type": "table"
           }
          ]
         },
         "layout": {
          "annotationdefaults": {
           "arrowcolor": "#2a3f5f",
           "arrowhead": 0,
           "arrowwidth": 1
          },
          "autotypenumbers": "strict",
          "coloraxis": {
           "colorbar": {
            "outlinewidth": 0,
            "ticks": ""
           }
          },
          "colorscale": {
           "diverging": [
            [
             0,
             "#8e0152"
            ],
            [
             0.1,
             "#c51b7d"
            ],
            [
             0.2,
             "#de77ae"
            ],
            [
             0.3,
             "#f1b6da"
            ],
            [
             0.4,
             "#fde0ef"
            ],
            [
             0.5,
             "#f7f7f7"
            ],
            [
             0.6,
             "#e6f5d0"
            ],
            [
             0.7,
             "#b8e186"
            ],
            [
             0.8,
             "#7fbc41"
            ],
            [
             0.9,
             "#4d9221"
            ],
            [
             1,
             "#276419"
            ]
           ],
           "sequential": [
            [
             0,
             "#0d0887"
            ],
            [
             0.1111111111111111,
             "#46039f"
            ],
            [
             0.2222222222222222,
             "#7201a8"
            ],
            [
             0.3333333333333333,
             "#9c179e"
            ],
            [
             0.4444444444444444,
             "#bd3786"
            ],
            [
             0.5555555555555556,
             "#d8576b"
            ],
            [
             0.6666666666666666,
             "#ed7953"
            ],
            [
             0.7777777777777778,
             "#fb9f3a"
            ],
            [
             0.8888888888888888,
             "#fdca26"
            ],
            [
             1,
             "#f0f921"
            ]
           ],
           "sequentialminus": [
            [
             0,
             "#0d0887"
            ],
            [
             0.1111111111111111,
             "#46039f"
            ],
            [
             0.2222222222222222,
             "#7201a8"
            ],
            [
             0.3333333333333333,
             "#9c179e"
            ],
            [
             0.4444444444444444,
             "#bd3786"
            ],
            [
             0.5555555555555556,
             "#d8576b"
            ],
            [
             0.6666666666666666,
             "#ed7953"
            ],
            [
             0.7777777777777778,
             "#fb9f3a"
            ],
            [
             0.8888888888888888,
             "#fdca26"
            ],
            [
             1,
             "#f0f921"
            ]
           ]
          },
          "colorway": [
           "#636efa",
           "#EF553B",
           "#00cc96",
           "#ab63fa",
           "#FFA15A",
           "#19d3f3",
           "#FF6692",
           "#B6E880",
           "#FF97FF",
           "#FECB52"
          ],
          "font": {
           "color": "#2a3f5f"
          },
          "geo": {
           "bgcolor": "white",
           "lakecolor": "white",
           "landcolor": "#E5ECF6",
           "showlakes": true,
           "showland": true,
           "subunitcolor": "white"
          },
          "hoverlabel": {
           "align": "left"
          },
          "hovermode": "closest",
          "mapbox": {
           "style": "light"
          },
          "paper_bgcolor": "white",
          "plot_bgcolor": "#E5ECF6",
          "polar": {
           "angularaxis": {
            "gridcolor": "white",
            "linecolor": "white",
            "ticks": ""
           },
           "bgcolor": "#E5ECF6",
           "radialaxis": {
            "gridcolor": "white",
            "linecolor": "white",
            "ticks": ""
           }
          },
          "scene": {
           "xaxis": {
            "backgroundcolor": "#E5ECF6",
            "gridcolor": "white",
            "gridwidth": 2,
            "linecolor": "white",
            "showbackground": true,
            "ticks": "",
            "zerolinecolor": "white"
           },
           "yaxis": {
            "backgroundcolor": "#E5ECF6",
            "gridcolor": "white",
            "gridwidth": 2,
            "linecolor": "white",
            "showbackground": true,
            "ticks": "",
            "zerolinecolor": "white"
           },
           "zaxis": {
            "backgroundcolor": "#E5ECF6",
            "gridcolor": "white",
            "gridwidth": 2,
            "linecolor": "white",
            "showbackground": true,
            "ticks": "",
            "zerolinecolor": "white"
           }
          },
          "shapedefaults": {
           "line": {
            "color": "#2a3f5f"
           }
          },
          "ternary": {
           "aaxis": {
            "gridcolor": "white",
            "linecolor": "white",
            "ticks": ""
           },
           "baxis": {
            "gridcolor": "white",
            "linecolor": "white",
            "ticks": ""
           },
           "bgcolor": "#E5ECF6",
           "caxis": {
            "gridcolor": "white",
            "linecolor": "white",
            "ticks": ""
           }
          },
          "title": {
           "x": 0.05
          },
          "xaxis": {
           "automargin": true,
           "gridcolor": "white",
           "linecolor": "white",
           "ticks": "",
           "title": {
            "standoff": 15
           },
           "zerolinecolor": "white",
           "zerolinewidth": 2
          },
          "yaxis": {
           "automargin": true,
           "gridcolor": "white",
           "linecolor": "white",
           "ticks": "",
           "title": {
            "standoff": 15
           },
           "zerolinecolor": "white",
           "zerolinewidth": 2
          }
         }
        },
        "title": {
         "text": "Top 10 Frequencies of 'Certificate'"
        },
        "width": 800,
        "xaxis": {
         "title": {
          "text": "Certificate"
         }
        },
        "yaxis": {
         "title": {
          "text": "Count"
         }
        }
       }
      }
     },
     "metadata": {},
     "output_type": "display_data"
    }
   ],
   "source": [
    "plot_top_frequencies(raw_df,col_name= 'Certificate', top_k=10)"
   ]
  },
  {
   "cell_type": "markdown",
   "id": "ea1fe4fa",
   "metadata": {},
   "source": [
    "### Top 20 Directors e Star1, Star2, Star3, Star4 "
   ]
  },
  {
   "cell_type": "code",
   "execution_count": 50,
   "id": "05465a72",
   "metadata": {},
   "outputs": [
    {
     "data": {
      "application/vnd.plotly.v1+json": {
       "config": {
        "plotlyServerURL": "https://plot.ly"
       },
       "data": [
        {
         "marker": {
          "color": "blue"
         },
         "name": "Frequency",
         "type": "bar",
         "x": [
          "Alfred Hitchcock",
          "Steven Spielberg",
          "Hayao Miyazaki",
          "Akira Kurosawa",
          "Martin Scorsese",
          "Billy Wilder",
          "Woody Allen",
          "Stanley Kubrick",
          "Christopher Nolan",
          "Quentin Tarantino",
          "David Fincher",
          "Clint Eastwood",
          "Ingmar Bergman",
          "Rob Reiner",
          "Howard Hawks",
          "Charles Chaplin",
          "Alfonso Cuarón",
          "Sergio Leone",
          "Ridley Scott",
          "Wes Anderson"
         ],
         "y": {
          "bdata": "Dg0LCgoJCQkICAgIBwcHBgYGBgY=",
          "dtype": "i1"
         }
        }
       ],
       "layout": {
        "height": 400,
        "template": {
         "data": {
          "bar": [
           {
            "error_x": {
             "color": "#2a3f5f"
            },
            "error_y": {
             "color": "#2a3f5f"
            },
            "marker": {
             "line": {
              "color": "#E5ECF6",
              "width": 0.5
             },
             "pattern": {
              "fillmode": "overlay",
              "size": 10,
              "solidity": 0.2
             }
            },
            "type": "bar"
           }
          ],
          "barpolar": [
           {
            "marker": {
             "line": {
              "color": "#E5ECF6",
              "width": 0.5
             },
             "pattern": {
              "fillmode": "overlay",
              "size": 10,
              "solidity": 0.2
             }
            },
            "type": "barpolar"
           }
          ],
          "carpet": [
           {
            "aaxis": {
             "endlinecolor": "#2a3f5f",
             "gridcolor": "white",
             "linecolor": "white",
             "minorgridcolor": "white",
             "startlinecolor": "#2a3f5f"
            },
            "baxis": {
             "endlinecolor": "#2a3f5f",
             "gridcolor": "white",
             "linecolor": "white",
             "minorgridcolor": "white",
             "startlinecolor": "#2a3f5f"
            },
            "type": "carpet"
           }
          ],
          "choropleth": [
           {
            "colorbar": {
             "outlinewidth": 0,
             "ticks": ""
            },
            "type": "choropleth"
           }
          ],
          "contour": [
           {
            "colorbar": {
             "outlinewidth": 0,
             "ticks": ""
            },
            "colorscale": [
             [
              0,
              "#0d0887"
             ],
             [
              0.1111111111111111,
              "#46039f"
             ],
             [
              0.2222222222222222,
              "#7201a8"
             ],
             [
              0.3333333333333333,
              "#9c179e"
             ],
             [
              0.4444444444444444,
              "#bd3786"
             ],
             [
              0.5555555555555556,
              "#d8576b"
             ],
             [
              0.6666666666666666,
              "#ed7953"
             ],
             [
              0.7777777777777778,
              "#fb9f3a"
             ],
             [
              0.8888888888888888,
              "#fdca26"
             ],
             [
              1,
              "#f0f921"
             ]
            ],
            "type": "contour"
           }
          ],
          "contourcarpet": [
           {
            "colorbar": {
             "outlinewidth": 0,
             "ticks": ""
            },
            "type": "contourcarpet"
           }
          ],
          "heatmap": [
           {
            "colorbar": {
             "outlinewidth": 0,
             "ticks": ""
            },
            "colorscale": [
             [
              0,
              "#0d0887"
             ],
             [
              0.1111111111111111,
              "#46039f"
             ],
             [
              0.2222222222222222,
              "#7201a8"
             ],
             [
              0.3333333333333333,
              "#9c179e"
             ],
             [
              0.4444444444444444,
              "#bd3786"
             ],
             [
              0.5555555555555556,
              "#d8576b"
             ],
             [
              0.6666666666666666,
              "#ed7953"
             ],
             [
              0.7777777777777778,
              "#fb9f3a"
             ],
             [
              0.8888888888888888,
              "#fdca26"
             ],
             [
              1,
              "#f0f921"
             ]
            ],
            "type": "heatmap"
           }
          ],
          "histogram": [
           {
            "marker": {
             "pattern": {
              "fillmode": "overlay",
              "size": 10,
              "solidity": 0.2
             }
            },
            "type": "histogram"
           }
          ],
          "histogram2d": [
           {
            "colorbar": {
             "outlinewidth": 0,
             "ticks": ""
            },
            "colorscale": [
             [
              0,
              "#0d0887"
             ],
             [
              0.1111111111111111,
              "#46039f"
             ],
             [
              0.2222222222222222,
              "#7201a8"
             ],
             [
              0.3333333333333333,
              "#9c179e"
             ],
             [
              0.4444444444444444,
              "#bd3786"
             ],
             [
              0.5555555555555556,
              "#d8576b"
             ],
             [
              0.6666666666666666,
              "#ed7953"
             ],
             [
              0.7777777777777778,
              "#fb9f3a"
             ],
             [
              0.8888888888888888,
              "#fdca26"
             ],
             [
              1,
              "#f0f921"
             ]
            ],
            "type": "histogram2d"
           }
          ],
          "histogram2dcontour": [
           {
            "colorbar": {
             "outlinewidth": 0,
             "ticks": ""
            },
            "colorscale": [
             [
              0,
              "#0d0887"
             ],
             [
              0.1111111111111111,
              "#46039f"
             ],
             [
              0.2222222222222222,
              "#7201a8"
             ],
             [
              0.3333333333333333,
              "#9c179e"
             ],
             [
              0.4444444444444444,
              "#bd3786"
             ],
             [
              0.5555555555555556,
              "#d8576b"
             ],
             [
              0.6666666666666666,
              "#ed7953"
             ],
             [
              0.7777777777777778,
              "#fb9f3a"
             ],
             [
              0.8888888888888888,
              "#fdca26"
             ],
             [
              1,
              "#f0f921"
             ]
            ],
            "type": "histogram2dcontour"
           }
          ],
          "mesh3d": [
           {
            "colorbar": {
             "outlinewidth": 0,
             "ticks": ""
            },
            "type": "mesh3d"
           }
          ],
          "parcoords": [
           {
            "line": {
             "colorbar": {
              "outlinewidth": 0,
              "ticks": ""
             }
            },
            "type": "parcoords"
           }
          ],
          "pie": [
           {
            "automargin": true,
            "type": "pie"
           }
          ],
          "scatter": [
           {
            "fillpattern": {
             "fillmode": "overlay",
             "size": 10,
             "solidity": 0.2
            },
            "type": "scatter"
           }
          ],
          "scatter3d": [
           {
            "line": {
             "colorbar": {
              "outlinewidth": 0,
              "ticks": ""
             }
            },
            "marker": {
             "colorbar": {
              "outlinewidth": 0,
              "ticks": ""
             }
            },
            "type": "scatter3d"
           }
          ],
          "scattercarpet": [
           {
            "marker": {
             "colorbar": {
              "outlinewidth": 0,
              "ticks": ""
             }
            },
            "type": "scattercarpet"
           }
          ],
          "scattergeo": [
           {
            "marker": {
             "colorbar": {
              "outlinewidth": 0,
              "ticks": ""
             }
            },
            "type": "scattergeo"
           }
          ],
          "scattergl": [
           {
            "marker": {
             "colorbar": {
              "outlinewidth": 0,
              "ticks": ""
             }
            },
            "type": "scattergl"
           }
          ],
          "scattermap": [
           {
            "marker": {
             "colorbar": {
              "outlinewidth": 0,
              "ticks": ""
             }
            },
            "type": "scattermap"
           }
          ],
          "scattermapbox": [
           {
            "marker": {
             "colorbar": {
              "outlinewidth": 0,
              "ticks": ""
             }
            },
            "type": "scattermapbox"
           }
          ],
          "scatterpolar": [
           {
            "marker": {
             "colorbar": {
              "outlinewidth": 0,
              "ticks": ""
             }
            },
            "type": "scatterpolar"
           }
          ],
          "scatterpolargl": [
           {
            "marker": {
             "colorbar": {
              "outlinewidth": 0,
              "ticks": ""
             }
            },
            "type": "scatterpolargl"
           }
          ],
          "scatterternary": [
           {
            "marker": {
             "colorbar": {
              "outlinewidth": 0,
              "ticks": ""
             }
            },
            "type": "scatterternary"
           }
          ],
          "surface": [
           {
            "colorbar": {
             "outlinewidth": 0,
             "ticks": ""
            },
            "colorscale": [
             [
              0,
              "#0d0887"
             ],
             [
              0.1111111111111111,
              "#46039f"
             ],
             [
              0.2222222222222222,
              "#7201a8"
             ],
             [
              0.3333333333333333,
              "#9c179e"
             ],
             [
              0.4444444444444444,
              "#bd3786"
             ],
             [
              0.5555555555555556,
              "#d8576b"
             ],
             [
              0.6666666666666666,
              "#ed7953"
             ],
             [
              0.7777777777777778,
              "#fb9f3a"
             ],
             [
              0.8888888888888888,
              "#fdca26"
             ],
             [
              1,
              "#f0f921"
             ]
            ],
            "type": "surface"
           }
          ],
          "table": [
           {
            "cells": {
             "fill": {
              "color": "#EBF0F8"
             },
             "line": {
              "color": "white"
             }
            },
            "header": {
             "fill": {
              "color": "#C8D4E3"
             },
             "line": {
              "color": "white"
             }
            },
            "type": "table"
           }
          ]
         },
         "layout": {
          "annotationdefaults": {
           "arrowcolor": "#2a3f5f",
           "arrowhead": 0,
           "arrowwidth": 1
          },
          "autotypenumbers": "strict",
          "coloraxis": {
           "colorbar": {
            "outlinewidth": 0,
            "ticks": ""
           }
          },
          "colorscale": {
           "diverging": [
            [
             0,
             "#8e0152"
            ],
            [
             0.1,
             "#c51b7d"
            ],
            [
             0.2,
             "#de77ae"
            ],
            [
             0.3,
             "#f1b6da"
            ],
            [
             0.4,
             "#fde0ef"
            ],
            [
             0.5,
             "#f7f7f7"
            ],
            [
             0.6,
             "#e6f5d0"
            ],
            [
             0.7,
             "#b8e186"
            ],
            [
             0.8,
             "#7fbc41"
            ],
            [
             0.9,
             "#4d9221"
            ],
            [
             1,
             "#276419"
            ]
           ],
           "sequential": [
            [
             0,
             "#0d0887"
            ],
            [
             0.1111111111111111,
             "#46039f"
            ],
            [
             0.2222222222222222,
             "#7201a8"
            ],
            [
             0.3333333333333333,
             "#9c179e"
            ],
            [
             0.4444444444444444,
             "#bd3786"
            ],
            [
             0.5555555555555556,
             "#d8576b"
            ],
            [
             0.6666666666666666,
             "#ed7953"
            ],
            [
             0.7777777777777778,
             "#fb9f3a"
            ],
            [
             0.8888888888888888,
             "#fdca26"
            ],
            [
             1,
             "#f0f921"
            ]
           ],
           "sequentialminus": [
            [
             0,
             "#0d0887"
            ],
            [
             0.1111111111111111,
             "#46039f"
            ],
            [
             0.2222222222222222,
             "#7201a8"
            ],
            [
             0.3333333333333333,
             "#9c179e"
            ],
            [
             0.4444444444444444,
             "#bd3786"
            ],
            [
             0.5555555555555556,
             "#d8576b"
            ],
            [
             0.6666666666666666,
             "#ed7953"
            ],
            [
             0.7777777777777778,
             "#fb9f3a"
            ],
            [
             0.8888888888888888,
             "#fdca26"
            ],
            [
             1,
             "#f0f921"
            ]
           ]
          },
          "colorway": [
           "#636efa",
           "#EF553B",
           "#00cc96",
           "#ab63fa",
           "#FFA15A",
           "#19d3f3",
           "#FF6692",
           "#B6E880",
           "#FF97FF",
           "#FECB52"
          ],
          "font": {
           "color": "#2a3f5f"
          },
          "geo": {
           "bgcolor": "white",
           "lakecolor": "white",
           "landcolor": "#E5ECF6",
           "showlakes": true,
           "showland": true,
           "subunitcolor": "white"
          },
          "hoverlabel": {
           "align": "left"
          },
          "hovermode": "closest",
          "mapbox": {
           "style": "light"
          },
          "paper_bgcolor": "white",
          "plot_bgcolor": "#E5ECF6",
          "polar": {
           "angularaxis": {
            "gridcolor": "white",
            "linecolor": "white",
            "ticks": ""
           },
           "bgcolor": "#E5ECF6",
           "radialaxis": {
            "gridcolor": "white",
            "linecolor": "white",
            "ticks": ""
           }
          },
          "scene": {
           "xaxis": {
            "backgroundcolor": "#E5ECF6",
            "gridcolor": "white",
            "gridwidth": 2,
            "linecolor": "white",
            "showbackground": true,
            "ticks": "",
            "zerolinecolor": "white"
           },
           "yaxis": {
            "backgroundcolor": "#E5ECF6",
            "gridcolor": "white",
            "gridwidth": 2,
            "linecolor": "white",
            "showbackground": true,
            "ticks": "",
            "zerolinecolor": "white"
           },
           "zaxis": {
            "backgroundcolor": "#E5ECF6",
            "gridcolor": "white",
            "gridwidth": 2,
            "linecolor": "white",
            "showbackground": true,
            "ticks": "",
            "zerolinecolor": "white"
           }
          },
          "shapedefaults": {
           "line": {
            "color": "#2a3f5f"
           }
          },
          "ternary": {
           "aaxis": {
            "gridcolor": "white",
            "linecolor": "white",
            "ticks": ""
           },
           "baxis": {
            "gridcolor": "white",
            "linecolor": "white",
            "ticks": ""
           },
           "bgcolor": "#E5ECF6",
           "caxis": {
            "gridcolor": "white",
            "linecolor": "white",
            "ticks": ""
           }
          },
          "title": {
           "x": 0.05
          },
          "xaxis": {
           "automargin": true,
           "gridcolor": "white",
           "linecolor": "white",
           "ticks": "",
           "title": {
            "standoff": 15
           },
           "zerolinecolor": "white",
           "zerolinewidth": 2
          },
          "yaxis": {
           "automargin": true,
           "gridcolor": "white",
           "linecolor": "white",
           "ticks": "",
           "title": {
            "standoff": 15
           },
           "zerolinecolor": "white",
           "zerolinewidth": 2
          }
         }
        },
        "title": {
         "text": "Top 20 Frequencies of 'Director'"
        },
        "width": 800,
        "xaxis": {
         "title": {
          "text": "Director"
         }
        },
        "yaxis": {
         "title": {
          "text": "Count"
         }
        }
       }
      }
     },
     "metadata": {},
     "output_type": "display_data"
    }
   ],
   "source": [
    "plot_top_frequencies(raw_df,col_name= 'Director', top_k=20)"
   ]
  },
  {
   "cell_type": "code",
   "execution_count": 20,
   "id": "585983fb",
   "metadata": {},
   "outputs": [
    {
     "name": "stdout",
     "output_type": "stream",
     "text": [
      "Top 20 Star1\n"
     ]
    },
    {
     "data": {
      "application/vnd.plotly.v1+json": {
       "config": {
        "plotlyServerURL": "https://plot.ly"
       },
       "data": [
        {
         "marker": {
          "color": "blue"
         },
         "name": "Frequency",
         "type": "bar",
         "x": [
          "Tom Hanks",
          "Robert De Niro",
          "Al Pacino",
          "Clint Eastwood",
          "Leonardo DiCaprio",
          "Humphrey Bogart",
          "Johnny Depp",
          "James Stewart",
          "Christian Bale",
          "Aamir Khan",
          "Denzel Washington",
          "Toshirô Mifune",
          "Daniel Radcliffe",
          "Cary Grant",
          "Ethan Coen",
          "Tom Cruise",
          "Jake Gyllenhaal",
          "Charles Chaplin",
          "Paul Newman",
          "Dustin Hoffman"
         ],
         "y": {
          "bdata": "DAsKCgkJCAgIBwcHBgYGBgYGBQU=",
          "dtype": "i1"
         }
        }
       ],
       "layout": {
        "height": 400,
        "template": {
         "data": {
          "bar": [
           {
            "error_x": {
             "color": "#2a3f5f"
            },
            "error_y": {
             "color": "#2a3f5f"
            },
            "marker": {
             "line": {
              "color": "#E5ECF6",
              "width": 0.5
             },
             "pattern": {
              "fillmode": "overlay",
              "size": 10,
              "solidity": 0.2
             }
            },
            "type": "bar"
           }
          ],
          "barpolar": [
           {
            "marker": {
             "line": {
              "color": "#E5ECF6",
              "width": 0.5
             },
             "pattern": {
              "fillmode": "overlay",
              "size": 10,
              "solidity": 0.2
             }
            },
            "type": "barpolar"
           }
          ],
          "carpet": [
           {
            "aaxis": {
             "endlinecolor": "#2a3f5f",
             "gridcolor": "white",
             "linecolor": "white",
             "minorgridcolor": "white",
             "startlinecolor": "#2a3f5f"
            },
            "baxis": {
             "endlinecolor": "#2a3f5f",
             "gridcolor": "white",
             "linecolor": "white",
             "minorgridcolor": "white",
             "startlinecolor": "#2a3f5f"
            },
            "type": "carpet"
           }
          ],
          "choropleth": [
           {
            "colorbar": {
             "outlinewidth": 0,
             "ticks": ""
            },
            "type": "choropleth"
           }
          ],
          "contour": [
           {
            "colorbar": {
             "outlinewidth": 0,
             "ticks": ""
            },
            "colorscale": [
             [
              0,
              "#0d0887"
             ],
             [
              0.1111111111111111,
              "#46039f"
             ],
             [
              0.2222222222222222,
              "#7201a8"
             ],
             [
              0.3333333333333333,
              "#9c179e"
             ],
             [
              0.4444444444444444,
              "#bd3786"
             ],
             [
              0.5555555555555556,
              "#d8576b"
             ],
             [
              0.6666666666666666,
              "#ed7953"
             ],
             [
              0.7777777777777778,
              "#fb9f3a"
             ],
             [
              0.8888888888888888,
              "#fdca26"
             ],
             [
              1,
              "#f0f921"
             ]
            ],
            "type": "contour"
           }
          ],
          "contourcarpet": [
           {
            "colorbar": {
             "outlinewidth": 0,
             "ticks": ""
            },
            "type": "contourcarpet"
           }
          ],
          "heatmap": [
           {
            "colorbar": {
             "outlinewidth": 0,
             "ticks": ""
            },
            "colorscale": [
             [
              0,
              "#0d0887"
             ],
             [
              0.1111111111111111,
              "#46039f"
             ],
             [
              0.2222222222222222,
              "#7201a8"
             ],
             [
              0.3333333333333333,
              "#9c179e"
             ],
             [
              0.4444444444444444,
              "#bd3786"
             ],
             [
              0.5555555555555556,
              "#d8576b"
             ],
             [
              0.6666666666666666,
              "#ed7953"
             ],
             [
              0.7777777777777778,
              "#fb9f3a"
             ],
             [
              0.8888888888888888,
              "#fdca26"
             ],
             [
              1,
              "#f0f921"
             ]
            ],
            "type": "heatmap"
           }
          ],
          "histogram": [
           {
            "marker": {
             "pattern": {
              "fillmode": "overlay",
              "size": 10,
              "solidity": 0.2
             }
            },
            "type": "histogram"
           }
          ],
          "histogram2d": [
           {
            "colorbar": {
             "outlinewidth": 0,
             "ticks": ""
            },
            "colorscale": [
             [
              0,
              "#0d0887"
             ],
             [
              0.1111111111111111,
              "#46039f"
             ],
             [
              0.2222222222222222,
              "#7201a8"
             ],
             [
              0.3333333333333333,
              "#9c179e"
             ],
             [
              0.4444444444444444,
              "#bd3786"
             ],
             [
              0.5555555555555556,
              "#d8576b"
             ],
             [
              0.6666666666666666,
              "#ed7953"
             ],
             [
              0.7777777777777778,
              "#fb9f3a"
             ],
             [
              0.8888888888888888,
              "#fdca26"
             ],
             [
              1,
              "#f0f921"
             ]
            ],
            "type": "histogram2d"
           }
          ],
          "histogram2dcontour": [
           {
            "colorbar": {
             "outlinewidth": 0,
             "ticks": ""
            },
            "colorscale": [
             [
              0,
              "#0d0887"
             ],
             [
              0.1111111111111111,
              "#46039f"
             ],
             [
              0.2222222222222222,
              "#7201a8"
             ],
             [
              0.3333333333333333,
              "#9c179e"
             ],
             [
              0.4444444444444444,
              "#bd3786"
             ],
             [
              0.5555555555555556,
              "#d8576b"
             ],
             [
              0.6666666666666666,
              "#ed7953"
             ],
             [
              0.7777777777777778,
              "#fb9f3a"
             ],
             [
              0.8888888888888888,
              "#fdca26"
             ],
             [
              1,
              "#f0f921"
             ]
            ],
            "type": "histogram2dcontour"
           }
          ],
          "mesh3d": [
           {
            "colorbar": {
             "outlinewidth": 0,
             "ticks": ""
            },
            "type": "mesh3d"
           }
          ],
          "parcoords": [
           {
            "line": {
             "colorbar": {
              "outlinewidth": 0,
              "ticks": ""
             }
            },
            "type": "parcoords"
           }
          ],
          "pie": [
           {
            "automargin": true,
            "type": "pie"
           }
          ],
          "scatter": [
           {
            "fillpattern": {
             "fillmode": "overlay",
             "size": 10,
             "solidity": 0.2
            },
            "type": "scatter"
           }
          ],
          "scatter3d": [
           {
            "line": {
             "colorbar": {
              "outlinewidth": 0,
              "ticks": ""
             }
            },
            "marker": {
             "colorbar": {
              "outlinewidth": 0,
              "ticks": ""
             }
            },
            "type": "scatter3d"
           }
          ],
          "scattercarpet": [
           {
            "marker": {
             "colorbar": {
              "outlinewidth": 0,
              "ticks": ""
             }
            },
            "type": "scattercarpet"
           }
          ],
          "scattergeo": [
           {
            "marker": {
             "colorbar": {
              "outlinewidth": 0,
              "ticks": ""
             }
            },
            "type": "scattergeo"
           }
          ],
          "scattergl": [
           {
            "marker": {
             "colorbar": {
              "outlinewidth": 0,
              "ticks": ""
             }
            },
            "type": "scattergl"
           }
          ],
          "scattermap": [
           {
            "marker": {
             "colorbar": {
              "outlinewidth": 0,
              "ticks": ""
             }
            },
            "type": "scattermap"
           }
          ],
          "scattermapbox": [
           {
            "marker": {
             "colorbar": {
              "outlinewidth": 0,
              "ticks": ""
             }
            },
            "type": "scattermapbox"
           }
          ],
          "scatterpolar": [
           {
            "marker": {
             "colorbar": {
              "outlinewidth": 0,
              "ticks": ""
             }
            },
            "type": "scatterpolar"
           }
          ],
          "scatterpolargl": [
           {
            "marker": {
             "colorbar": {
              "outlinewidth": 0,
              "ticks": ""
             }
            },
            "type": "scatterpolargl"
           }
          ],
          "scatterternary": [
           {
            "marker": {
             "colorbar": {
              "outlinewidth": 0,
              "ticks": ""
             }
            },
            "type": "scatterternary"
           }
          ],
          "surface": [
           {
            "colorbar": {
             "outlinewidth": 0,
             "ticks": ""
            },
            "colorscale": [
             [
              0,
              "#0d0887"
             ],
             [
              0.1111111111111111,
              "#46039f"
             ],
             [
              0.2222222222222222,
              "#7201a8"
             ],
             [
              0.3333333333333333,
              "#9c179e"
             ],
             [
              0.4444444444444444,
              "#bd3786"
             ],
             [
              0.5555555555555556,
              "#d8576b"
             ],
             [
              0.6666666666666666,
              "#ed7953"
             ],
             [
              0.7777777777777778,
              "#fb9f3a"
             ],
             [
              0.8888888888888888,
              "#fdca26"
             ],
             [
              1,
              "#f0f921"
             ]
            ],
            "type": "surface"
           }
          ],
          "table": [
           {
            "cells": {
             "fill": {
              "color": "#EBF0F8"
             },
             "line": {
              "color": "white"
             }
            },
            "header": {
             "fill": {
              "color": "#C8D4E3"
             },
             "line": {
              "color": "white"
             }
            },
            "type": "table"
           }
          ]
         },
         "layout": {
          "annotationdefaults": {
           "arrowcolor": "#2a3f5f",
           "arrowhead": 0,
           "arrowwidth": 1
          },
          "autotypenumbers": "strict",
          "coloraxis": {
           "colorbar": {
            "outlinewidth": 0,
            "ticks": ""
           }
          },
          "colorscale": {
           "diverging": [
            [
             0,
             "#8e0152"
            ],
            [
             0.1,
             "#c51b7d"
            ],
            [
             0.2,
             "#de77ae"
            ],
            [
             0.3,
             "#f1b6da"
            ],
            [
             0.4,
             "#fde0ef"
            ],
            [
             0.5,
             "#f7f7f7"
            ],
            [
             0.6,
             "#e6f5d0"
            ],
            [
             0.7,
             "#b8e186"
            ],
            [
             0.8,
             "#7fbc41"
            ],
            [
             0.9,
             "#4d9221"
            ],
            [
             1,
             "#276419"
            ]
           ],
           "sequential": [
            [
             0,
             "#0d0887"
            ],
            [
             0.1111111111111111,
             "#46039f"
            ],
            [
             0.2222222222222222,
             "#7201a8"
            ],
            [
             0.3333333333333333,
             "#9c179e"
            ],
            [
             0.4444444444444444,
             "#bd3786"
            ],
            [
             0.5555555555555556,
             "#d8576b"
            ],
            [
             0.6666666666666666,
             "#ed7953"
            ],
            [
             0.7777777777777778,
             "#fb9f3a"
            ],
            [
             0.8888888888888888,
             "#fdca26"
            ],
            [
             1,
             "#f0f921"
            ]
           ],
           "sequentialminus": [
            [
             0,
             "#0d0887"
            ],
            [
             0.1111111111111111,
             "#46039f"
            ],
            [
             0.2222222222222222,
             "#7201a8"
            ],
            [
             0.3333333333333333,
             "#9c179e"
            ],
            [
             0.4444444444444444,
             "#bd3786"
            ],
            [
             0.5555555555555556,
             "#d8576b"
            ],
            [
             0.6666666666666666,
             "#ed7953"
            ],
            [
             0.7777777777777778,
             "#fb9f3a"
            ],
            [
             0.8888888888888888,
             "#fdca26"
            ],
            [
             1,
             "#f0f921"
            ]
           ]
          },
          "colorway": [
           "#636efa",
           "#EF553B",
           "#00cc96",
           "#ab63fa",
           "#FFA15A",
           "#19d3f3",
           "#FF6692",
           "#B6E880",
           "#FF97FF",
           "#FECB52"
          ],
          "font": {
           "color": "#2a3f5f"
          },
          "geo": {
           "bgcolor": "white",
           "lakecolor": "white",
           "landcolor": "#E5ECF6",
           "showlakes": true,
           "showland": true,
           "subunitcolor": "white"
          },
          "hoverlabel": {
           "align": "left"
          },
          "hovermode": "closest",
          "mapbox": {
           "style": "light"
          },
          "paper_bgcolor": "white",
          "plot_bgcolor": "#E5ECF6",
          "polar": {
           "angularaxis": {
            "gridcolor": "white",
            "linecolor": "white",
            "ticks": ""
           },
           "bgcolor": "#E5ECF6",
           "radialaxis": {
            "gridcolor": "white",
            "linecolor": "white",
            "ticks": ""
           }
          },
          "scene": {
           "xaxis": {
            "backgroundcolor": "#E5ECF6",
            "gridcolor": "white",
            "gridwidth": 2,
            "linecolor": "white",
            "showbackground": true,
            "ticks": "",
            "zerolinecolor": "white"
           },
           "yaxis": {
            "backgroundcolor": "#E5ECF6",
            "gridcolor": "white",
            "gridwidth": 2,
            "linecolor": "white",
            "showbackground": true,
            "ticks": "",
            "zerolinecolor": "white"
           },
           "zaxis": {
            "backgroundcolor": "#E5ECF6",
            "gridcolor": "white",
            "gridwidth": 2,
            "linecolor": "white",
            "showbackground": true,
            "ticks": "",
            "zerolinecolor": "white"
           }
          },
          "shapedefaults": {
           "line": {
            "color": "#2a3f5f"
           }
          },
          "ternary": {
           "aaxis": {
            "gridcolor": "white",
            "linecolor": "white",
            "ticks": ""
           },
           "baxis": {
            "gridcolor": "white",
            "linecolor": "white",
            "ticks": ""
           },
           "bgcolor": "#E5ECF6",
           "caxis": {
            "gridcolor": "white",
            "linecolor": "white",
            "ticks": ""
           }
          },
          "title": {
           "x": 0.05
          },
          "xaxis": {
           "automargin": true,
           "gridcolor": "white",
           "linecolor": "white",
           "ticks": "",
           "title": {
            "standoff": 15
           },
           "zerolinecolor": "white",
           "zerolinewidth": 2
          },
          "yaxis": {
           "automargin": true,
           "gridcolor": "white",
           "linecolor": "white",
           "ticks": "",
           "title": {
            "standoff": 15
           },
           "zerolinecolor": "white",
           "zerolinewidth": 2
          }
         }
        },
        "title": {
         "text": "Top 20 Frequencies of 'Star1'"
        },
        "width": 800,
        "xaxis": {
         "title": {
          "text": "Star1"
         }
        },
        "yaxis": {
         "title": {
          "text": "Count"
         }
        }
       }
      }
     },
     "metadata": {},
     "output_type": "display_data"
    },
    {
     "name": "stdout",
     "output_type": "stream",
     "text": [
      "Top 20 Star2\n"
     ]
    },
    {
     "data": {
      "application/vnd.plotly.v1+json": {
       "config": {
        "plotlyServerURL": "https://plot.ly"
       },
       "data": [
        {
         "marker": {
          "color": "blue"
         },
         "name": "Frequency",
         "type": "bar",
         "x": [
          "Emma Watson",
          "Matt Damon",
          "Brad Pitt",
          "Meryl Streep",
          "Kate Winslet",
          "Diane Keaton",
          "Ian McKellen",
          "Chris Evans",
          "Julie Delpy",
          "Ed Harris",
          "Robert Redford",
          "Samantha Morton",
          "Gary Oldman",
          "Katharine Hepburn",
          "Michael Caine",
          "Liv Ullmann",
          "Robert Downey Jr.",
          "Alec Guinness",
          "Joseph Gordon-Levitt",
          "Patricia Arquette"
         ],
         "y": {
          "bdata": "BwUEBAQEBAQEBAMDAwMDAwMDAwM=",
          "dtype": "i1"
         }
        }
       ],
       "layout": {
        "height": 400,
        "template": {
         "data": {
          "bar": [
           {
            "error_x": {
             "color": "#2a3f5f"
            },
            "error_y": {
             "color": "#2a3f5f"
            },
            "marker": {
             "line": {
              "color": "#E5ECF6",
              "width": 0.5
             },
             "pattern": {
              "fillmode": "overlay",
              "size": 10,
              "solidity": 0.2
             }
            },
            "type": "bar"
           }
          ],
          "barpolar": [
           {
            "marker": {
             "line": {
              "color": "#E5ECF6",
              "width": 0.5
             },
             "pattern": {
              "fillmode": "overlay",
              "size": 10,
              "solidity": 0.2
             }
            },
            "type": "barpolar"
           }
          ],
          "carpet": [
           {
            "aaxis": {
             "endlinecolor": "#2a3f5f",
             "gridcolor": "white",
             "linecolor": "white",
             "minorgridcolor": "white",
             "startlinecolor": "#2a3f5f"
            },
            "baxis": {
             "endlinecolor": "#2a3f5f",
             "gridcolor": "white",
             "linecolor": "white",
             "minorgridcolor": "white",
             "startlinecolor": "#2a3f5f"
            },
            "type": "carpet"
           }
          ],
          "choropleth": [
           {
            "colorbar": {
             "outlinewidth": 0,
             "ticks": ""
            },
            "type": "choropleth"
           }
          ],
          "contour": [
           {
            "colorbar": {
             "outlinewidth": 0,
             "ticks": ""
            },
            "colorscale": [
             [
              0,
              "#0d0887"
             ],
             [
              0.1111111111111111,
              "#46039f"
             ],
             [
              0.2222222222222222,
              "#7201a8"
             ],
             [
              0.3333333333333333,
              "#9c179e"
             ],
             [
              0.4444444444444444,
              "#bd3786"
             ],
             [
              0.5555555555555556,
              "#d8576b"
             ],
             [
              0.6666666666666666,
              "#ed7953"
             ],
             [
              0.7777777777777778,
              "#fb9f3a"
             ],
             [
              0.8888888888888888,
              "#fdca26"
             ],
             [
              1,
              "#f0f921"
             ]
            ],
            "type": "contour"
           }
          ],
          "contourcarpet": [
           {
            "colorbar": {
             "outlinewidth": 0,
             "ticks": ""
            },
            "type": "contourcarpet"
           }
          ],
          "heatmap": [
           {
            "colorbar": {
             "outlinewidth": 0,
             "ticks": ""
            },
            "colorscale": [
             [
              0,
              "#0d0887"
             ],
             [
              0.1111111111111111,
              "#46039f"
             ],
             [
              0.2222222222222222,
              "#7201a8"
             ],
             [
              0.3333333333333333,
              "#9c179e"
             ],
             [
              0.4444444444444444,
              "#bd3786"
             ],
             [
              0.5555555555555556,
              "#d8576b"
             ],
             [
              0.6666666666666666,
              "#ed7953"
             ],
             [
              0.7777777777777778,
              "#fb9f3a"
             ],
             [
              0.8888888888888888,
              "#fdca26"
             ],
             [
              1,
              "#f0f921"
             ]
            ],
            "type": "heatmap"
           }
          ],
          "histogram": [
           {
            "marker": {
             "pattern": {
              "fillmode": "overlay",
              "size": 10,
              "solidity": 0.2
             }
            },
            "type": "histogram"
           }
          ],
          "histogram2d": [
           {
            "colorbar": {
             "outlinewidth": 0,
             "ticks": ""
            },
            "colorscale": [
             [
              0,
              "#0d0887"
             ],
             [
              0.1111111111111111,
              "#46039f"
             ],
             [
              0.2222222222222222,
              "#7201a8"
             ],
             [
              0.3333333333333333,
              "#9c179e"
             ],
             [
              0.4444444444444444,
              "#bd3786"
             ],
             [
              0.5555555555555556,
              "#d8576b"
             ],
             [
              0.6666666666666666,
              "#ed7953"
             ],
             [
              0.7777777777777778,
              "#fb9f3a"
             ],
             [
              0.8888888888888888,
              "#fdca26"
             ],
             [
              1,
              "#f0f921"
             ]
            ],
            "type": "histogram2d"
           }
          ],
          "histogram2dcontour": [
           {
            "colorbar": {
             "outlinewidth": 0,
             "ticks": ""
            },
            "colorscale": [
             [
              0,
              "#0d0887"
             ],
             [
              0.1111111111111111,
              "#46039f"
             ],
             [
              0.2222222222222222,
              "#7201a8"
             ],
             [
              0.3333333333333333,
              "#9c179e"
             ],
             [
              0.4444444444444444,
              "#bd3786"
             ],
             [
              0.5555555555555556,
              "#d8576b"
             ],
             [
              0.6666666666666666,
              "#ed7953"
             ],
             [
              0.7777777777777778,
              "#fb9f3a"
             ],
             [
              0.8888888888888888,
              "#fdca26"
             ],
             [
              1,
              "#f0f921"
             ]
            ],
            "type": "histogram2dcontour"
           }
          ],
          "mesh3d": [
           {
            "colorbar": {
             "outlinewidth": 0,
             "ticks": ""
            },
            "type": "mesh3d"
           }
          ],
          "parcoords": [
           {
            "line": {
             "colorbar": {
              "outlinewidth": 0,
              "ticks": ""
             }
            },
            "type": "parcoords"
           }
          ],
          "pie": [
           {
            "automargin": true,
            "type": "pie"
           }
          ],
          "scatter": [
           {
            "fillpattern": {
             "fillmode": "overlay",
             "size": 10,
             "solidity": 0.2
            },
            "type": "scatter"
           }
          ],
          "scatter3d": [
           {
            "line": {
             "colorbar": {
              "outlinewidth": 0,
              "ticks": ""
             }
            },
            "marker": {
             "colorbar": {
              "outlinewidth": 0,
              "ticks": ""
             }
            },
            "type": "scatter3d"
           }
          ],
          "scattercarpet": [
           {
            "marker": {
             "colorbar": {
              "outlinewidth": 0,
              "ticks": ""
             }
            },
            "type": "scattercarpet"
           }
          ],
          "scattergeo": [
           {
            "marker": {
             "colorbar": {
              "outlinewidth": 0,
              "ticks": ""
             }
            },
            "type": "scattergeo"
           }
          ],
          "scattergl": [
           {
            "marker": {
             "colorbar": {
              "outlinewidth": 0,
              "ticks": ""
             }
            },
            "type": "scattergl"
           }
          ],
          "scattermap": [
           {
            "marker": {
             "colorbar": {
              "outlinewidth": 0,
              "ticks": ""
             }
            },
            "type": "scattermap"
           }
          ],
          "scattermapbox": [
           {
            "marker": {
             "colorbar": {
              "outlinewidth": 0,
              "ticks": ""
             }
            },
            "type": "scattermapbox"
           }
          ],
          "scatterpolar": [
           {
            "marker": {
             "colorbar": {
              "outlinewidth": 0,
              "ticks": ""
             }
            },
            "type": "scatterpolar"
           }
          ],
          "scatterpolargl": [
           {
            "marker": {
             "colorbar": {
              "outlinewidth": 0,
              "ticks": ""
             }
            },
            "type": "scatterpolargl"
           }
          ],
          "scatterternary": [
           {
            "marker": {
             "colorbar": {
              "outlinewidth": 0,
              "ticks": ""
             }
            },
            "type": "scatterternary"
           }
          ],
          "surface": [
           {
            "colorbar": {
             "outlinewidth": 0,
             "ticks": ""
            },
            "colorscale": [
             [
              0,
              "#0d0887"
             ],
             [
              0.1111111111111111,
              "#46039f"
             ],
             [
              0.2222222222222222,
              "#7201a8"
             ],
             [
              0.3333333333333333,
              "#9c179e"
             ],
             [
              0.4444444444444444,
              "#bd3786"
             ],
             [
              0.5555555555555556,
              "#d8576b"
             ],
             [
              0.6666666666666666,
              "#ed7953"
             ],
             [
              0.7777777777777778,
              "#fb9f3a"
             ],
             [
              0.8888888888888888,
              "#fdca26"
             ],
             [
              1,
              "#f0f921"
             ]
            ],
            "type": "surface"
           }
          ],
          "table": [
           {
            "cells": {
             "fill": {
              "color": "#EBF0F8"
             },
             "line": {
              "color": "white"
             }
            },
            "header": {
             "fill": {
              "color": "#C8D4E3"
             },
             "line": {
              "color": "white"
             }
            },
            "type": "table"
           }
          ]
         },
         "layout": {
          "annotationdefaults": {
           "arrowcolor": "#2a3f5f",
           "arrowhead": 0,
           "arrowwidth": 1
          },
          "autotypenumbers": "strict",
          "coloraxis": {
           "colorbar": {
            "outlinewidth": 0,
            "ticks": ""
           }
          },
          "colorscale": {
           "diverging": [
            [
             0,
             "#8e0152"
            ],
            [
             0.1,
             "#c51b7d"
            ],
            [
             0.2,
             "#de77ae"
            ],
            [
             0.3,
             "#f1b6da"
            ],
            [
             0.4,
             "#fde0ef"
            ],
            [
             0.5,
             "#f7f7f7"
            ],
            [
             0.6,
             "#e6f5d0"
            ],
            [
             0.7,
             "#b8e186"
            ],
            [
             0.8,
             "#7fbc41"
            ],
            [
             0.9,
             "#4d9221"
            ],
            [
             1,
             "#276419"
            ]
           ],
           "sequential": [
            [
             0,
             "#0d0887"
            ],
            [
             0.1111111111111111,
             "#46039f"
            ],
            [
             0.2222222222222222,
             "#7201a8"
            ],
            [
             0.3333333333333333,
             "#9c179e"
            ],
            [
             0.4444444444444444,
             "#bd3786"
            ],
            [
             0.5555555555555556,
             "#d8576b"
            ],
            [
             0.6666666666666666,
             "#ed7953"
            ],
            [
             0.7777777777777778,
             "#fb9f3a"
            ],
            [
             0.8888888888888888,
             "#fdca26"
            ],
            [
             1,
             "#f0f921"
            ]
           ],
           "sequentialminus": [
            [
             0,
             "#0d0887"
            ],
            [
             0.1111111111111111,
             "#46039f"
            ],
            [
             0.2222222222222222,
             "#7201a8"
            ],
            [
             0.3333333333333333,
             "#9c179e"
            ],
            [
             0.4444444444444444,
             "#bd3786"
            ],
            [
             0.5555555555555556,
             "#d8576b"
            ],
            [
             0.6666666666666666,
             "#ed7953"
            ],
            [
             0.7777777777777778,
             "#fb9f3a"
            ],
            [
             0.8888888888888888,
             "#fdca26"
            ],
            [
             1,
             "#f0f921"
            ]
           ]
          },
          "colorway": [
           "#636efa",
           "#EF553B",
           "#00cc96",
           "#ab63fa",
           "#FFA15A",
           "#19d3f3",
           "#FF6692",
           "#B6E880",
           "#FF97FF",
           "#FECB52"
          ],
          "font": {
           "color": "#2a3f5f"
          },
          "geo": {
           "bgcolor": "white",
           "lakecolor": "white",
           "landcolor": "#E5ECF6",
           "showlakes": true,
           "showland": true,
           "subunitcolor": "white"
          },
          "hoverlabel": {
           "align": "left"
          },
          "hovermode": "closest",
          "mapbox": {
           "style": "light"
          },
          "paper_bgcolor": "white",
          "plot_bgcolor": "#E5ECF6",
          "polar": {
           "angularaxis": {
            "gridcolor": "white",
            "linecolor": "white",
            "ticks": ""
           },
           "bgcolor": "#E5ECF6",
           "radialaxis": {
            "gridcolor": "white",
            "linecolor": "white",
            "ticks": ""
           }
          },
          "scene": {
           "xaxis": {
            "backgroundcolor": "#E5ECF6",
            "gridcolor": "white",
            "gridwidth": 2,
            "linecolor": "white",
            "showbackground": true,
            "ticks": "",
            "zerolinecolor": "white"
           },
           "yaxis": {
            "backgroundcolor": "#E5ECF6",
            "gridcolor": "white",
            "gridwidth": 2,
            "linecolor": "white",
            "showbackground": true,
            "ticks": "",
            "zerolinecolor": "white"
           },
           "zaxis": {
            "backgroundcolor": "#E5ECF6",
            "gridcolor": "white",
            "gridwidth": 2,
            "linecolor": "white",
            "showbackground": true,
            "ticks": "",
            "zerolinecolor": "white"
           }
          },
          "shapedefaults": {
           "line": {
            "color": "#2a3f5f"
           }
          },
          "ternary": {
           "aaxis": {
            "gridcolor": "white",
            "linecolor": "white",
            "ticks": ""
           },
           "baxis": {
            "gridcolor": "white",
            "linecolor": "white",
            "ticks": ""
           },
           "bgcolor": "#E5ECF6",
           "caxis": {
            "gridcolor": "white",
            "linecolor": "white",
            "ticks": ""
           }
          },
          "title": {
           "x": 0.05
          },
          "xaxis": {
           "automargin": true,
           "gridcolor": "white",
           "linecolor": "white",
           "ticks": "",
           "title": {
            "standoff": 15
           },
           "zerolinecolor": "white",
           "zerolinewidth": 2
          },
          "yaxis": {
           "automargin": true,
           "gridcolor": "white",
           "linecolor": "white",
           "ticks": "",
           "title": {
            "standoff": 15
           },
           "zerolinecolor": "white",
           "zerolinewidth": 2
          }
         }
        },
        "title": {
         "text": "Top 20 Frequencies of 'Star2'"
        },
        "width": 800,
        "xaxis": {
         "title": {
          "text": "Star2"
         }
        },
        "yaxis": {
         "title": {
          "text": "Count"
         }
        }
       }
      }
     },
     "metadata": {},
     "output_type": "display_data"
    },
    {
     "name": "stdout",
     "output_type": "stream",
     "text": [
      "Top 20 Star3\n"
     ]
    },
    {
     "data": {
      "application/vnd.plotly.v1+json": {
       "config": {
        "plotlyServerURL": "https://plot.ly"
       },
       "data": [
        {
         "marker": {
          "color": "blue"
         },
         "name": "Frequency",
         "type": "bar",
         "x": [
          "Rupert Grint",
          "Samuel L. Jackson",
          "Jennifer Connelly",
          "Rachel McAdams",
          "John Goodman",
          "Carrie Fisher",
          "Joe Pesci",
          "Scarlett Johansson",
          "Christopher Plummer",
          "Frances McDormand",
          "Edward Norton",
          "Robert De Niro",
          "Chiwetel Ejiofor",
          "Morgan Freeman",
          "Nawazuddin Siddiqui",
          "Michael Madsen",
          "Vera Miles",
          "Kevin Bacon",
          "Jodie Foster",
          "Claude Rains"
         ],
         "y": {
          "bdata": "BQQEBAQEBAQDAwMDAwMDAwMDAgI=",
          "dtype": "i1"
         }
        }
       ],
       "layout": {
        "height": 400,
        "template": {
         "data": {
          "bar": [
           {
            "error_x": {
             "color": "#2a3f5f"
            },
            "error_y": {
             "color": "#2a3f5f"
            },
            "marker": {
             "line": {
              "color": "#E5ECF6",
              "width": 0.5
             },
             "pattern": {
              "fillmode": "overlay",
              "size": 10,
              "solidity": 0.2
             }
            },
            "type": "bar"
           }
          ],
          "barpolar": [
           {
            "marker": {
             "line": {
              "color": "#E5ECF6",
              "width": 0.5
             },
             "pattern": {
              "fillmode": "overlay",
              "size": 10,
              "solidity": 0.2
             }
            },
            "type": "barpolar"
           }
          ],
          "carpet": [
           {
            "aaxis": {
             "endlinecolor": "#2a3f5f",
             "gridcolor": "white",
             "linecolor": "white",
             "minorgridcolor": "white",
             "startlinecolor": "#2a3f5f"
            },
            "baxis": {
             "endlinecolor": "#2a3f5f",
             "gridcolor": "white",
             "linecolor": "white",
             "minorgridcolor": "white",
             "startlinecolor": "#2a3f5f"
            },
            "type": "carpet"
           }
          ],
          "choropleth": [
           {
            "colorbar": {
             "outlinewidth": 0,
             "ticks": ""
            },
            "type": "choropleth"
           }
          ],
          "contour": [
           {
            "colorbar": {
             "outlinewidth": 0,
             "ticks": ""
            },
            "colorscale": [
             [
              0,
              "#0d0887"
             ],
             [
              0.1111111111111111,
              "#46039f"
             ],
             [
              0.2222222222222222,
              "#7201a8"
             ],
             [
              0.3333333333333333,
              "#9c179e"
             ],
             [
              0.4444444444444444,
              "#bd3786"
             ],
             [
              0.5555555555555556,
              "#d8576b"
             ],
             [
              0.6666666666666666,
              "#ed7953"
             ],
             [
              0.7777777777777778,
              "#fb9f3a"
             ],
             [
              0.8888888888888888,
              "#fdca26"
             ],
             [
              1,
              "#f0f921"
             ]
            ],
            "type": "contour"
           }
          ],
          "contourcarpet": [
           {
            "colorbar": {
             "outlinewidth": 0,
             "ticks": ""
            },
            "type": "contourcarpet"
           }
          ],
          "heatmap": [
           {
            "colorbar": {
             "outlinewidth": 0,
             "ticks": ""
            },
            "colorscale": [
             [
              0,
              "#0d0887"
             ],
             [
              0.1111111111111111,
              "#46039f"
             ],
             [
              0.2222222222222222,
              "#7201a8"
             ],
             [
              0.3333333333333333,
              "#9c179e"
             ],
             [
              0.4444444444444444,
              "#bd3786"
             ],
             [
              0.5555555555555556,
              "#d8576b"
             ],
             [
              0.6666666666666666,
              "#ed7953"
             ],
             [
              0.7777777777777778,
              "#fb9f3a"
             ],
             [
              0.8888888888888888,
              "#fdca26"
             ],
             [
              1,
              "#f0f921"
             ]
            ],
            "type": "heatmap"
           }
          ],
          "histogram": [
           {
            "marker": {
             "pattern": {
              "fillmode": "overlay",
              "size": 10,
              "solidity": 0.2
             }
            },
            "type": "histogram"
           }
          ],
          "histogram2d": [
           {
            "colorbar": {
             "outlinewidth": 0,
             "ticks": ""
            },
            "colorscale": [
             [
              0,
              "#0d0887"
             ],
             [
              0.1111111111111111,
              "#46039f"
             ],
             [
              0.2222222222222222,
              "#7201a8"
             ],
             [
              0.3333333333333333,
              "#9c179e"
             ],
             [
              0.4444444444444444,
              "#bd3786"
             ],
             [
              0.5555555555555556,
              "#d8576b"
             ],
             [
              0.6666666666666666,
              "#ed7953"
             ],
             [
              0.7777777777777778,
              "#fb9f3a"
             ],
             [
              0.8888888888888888,
              "#fdca26"
             ],
             [
              1,
              "#f0f921"
             ]
            ],
            "type": "histogram2d"
           }
          ],
          "histogram2dcontour": [
           {
            "colorbar": {
             "outlinewidth": 0,
             "ticks": ""
            },
            "colorscale": [
             [
              0,
              "#0d0887"
             ],
             [
              0.1111111111111111,
              "#46039f"
             ],
             [
              0.2222222222222222,
              "#7201a8"
             ],
             [
              0.3333333333333333,
              "#9c179e"
             ],
             [
              0.4444444444444444,
              "#bd3786"
             ],
             [
              0.5555555555555556,
              "#d8576b"
             ],
             [
              0.6666666666666666,
              "#ed7953"
             ],
             [
              0.7777777777777778,
              "#fb9f3a"
             ],
             [
              0.8888888888888888,
              "#fdca26"
             ],
             [
              1,
              "#f0f921"
             ]
            ],
            "type": "histogram2dcontour"
           }
          ],
          "mesh3d": [
           {
            "colorbar": {
             "outlinewidth": 0,
             "ticks": ""
            },
            "type": "mesh3d"
           }
          ],
          "parcoords": [
           {
            "line": {
             "colorbar": {
              "outlinewidth": 0,
              "ticks": ""
             }
            },
            "type": "parcoords"
           }
          ],
          "pie": [
           {
            "automargin": true,
            "type": "pie"
           }
          ],
          "scatter": [
           {
            "fillpattern": {
             "fillmode": "overlay",
             "size": 10,
             "solidity": 0.2
            },
            "type": "scatter"
           }
          ],
          "scatter3d": [
           {
            "line": {
             "colorbar": {
              "outlinewidth": 0,
              "ticks": ""
             }
            },
            "marker": {
             "colorbar": {
              "outlinewidth": 0,
              "ticks": ""
             }
            },
            "type": "scatter3d"
           }
          ],
          "scattercarpet": [
           {
            "marker": {
             "colorbar": {
              "outlinewidth": 0,
              "ticks": ""
             }
            },
            "type": "scattercarpet"
           }
          ],
          "scattergeo": [
           {
            "marker": {
             "colorbar": {
              "outlinewidth": 0,
              "ticks": ""
             }
            },
            "type": "scattergeo"
           }
          ],
          "scattergl": [
           {
            "marker": {
             "colorbar": {
              "outlinewidth": 0,
              "ticks": ""
             }
            },
            "type": "scattergl"
           }
          ],
          "scattermap": [
           {
            "marker": {
             "colorbar": {
              "outlinewidth": 0,
              "ticks": ""
             }
            },
            "type": "scattermap"
           }
          ],
          "scattermapbox": [
           {
            "marker": {
             "colorbar": {
              "outlinewidth": 0,
              "ticks": ""
             }
            },
            "type": "scattermapbox"
           }
          ],
          "scatterpolar": [
           {
            "marker": {
             "colorbar": {
              "outlinewidth": 0,
              "ticks": ""
             }
            },
            "type": "scatterpolar"
           }
          ],
          "scatterpolargl": [
           {
            "marker": {
             "colorbar": {
              "outlinewidth": 0,
              "ticks": ""
             }
            },
            "type": "scatterpolargl"
           }
          ],
          "scatterternary": [
           {
            "marker": {
             "colorbar": {
              "outlinewidth": 0,
              "ticks": ""
             }
            },
            "type": "scatterternary"
           }
          ],
          "surface": [
           {
            "colorbar": {
             "outlinewidth": 0,
             "ticks": ""
            },
            "colorscale": [
             [
              0,
              "#0d0887"
             ],
             [
              0.1111111111111111,
              "#46039f"
             ],
             [
              0.2222222222222222,
              "#7201a8"
             ],
             [
              0.3333333333333333,
              "#9c179e"
             ],
             [
              0.4444444444444444,
              "#bd3786"
             ],
             [
              0.5555555555555556,
              "#d8576b"
             ],
             [
              0.6666666666666666,
              "#ed7953"
             ],
             [
              0.7777777777777778,
              "#fb9f3a"
             ],
             [
              0.8888888888888888,
              "#fdca26"
             ],
             [
              1,
              "#f0f921"
             ]
            ],
            "type": "surface"
           }
          ],
          "table": [
           {
            "cells": {
             "fill": {
              "color": "#EBF0F8"
             },
             "line": {
              "color": "white"
             }
            },
            "header": {
             "fill": {
              "color": "#C8D4E3"
             },
             "line": {
              "color": "white"
             }
            },
            "type": "table"
           }
          ]
         },
         "layout": {
          "annotationdefaults": {
           "arrowcolor": "#2a3f5f",
           "arrowhead": 0,
           "arrowwidth": 1
          },
          "autotypenumbers": "strict",
          "coloraxis": {
           "colorbar": {
            "outlinewidth": 0,
            "ticks": ""
           }
          },
          "colorscale": {
           "diverging": [
            [
             0,
             "#8e0152"
            ],
            [
             0.1,
             "#c51b7d"
            ],
            [
             0.2,
             "#de77ae"
            ],
            [
             0.3,
             "#f1b6da"
            ],
            [
             0.4,
             "#fde0ef"
            ],
            [
             0.5,
             "#f7f7f7"
            ],
            [
             0.6,
             "#e6f5d0"
            ],
            [
             0.7,
             "#b8e186"
            ],
            [
             0.8,
             "#7fbc41"
            ],
            [
             0.9,
             "#4d9221"
            ],
            [
             1,
             "#276419"
            ]
           ],
           "sequential": [
            [
             0,
             "#0d0887"
            ],
            [
             0.1111111111111111,
             "#46039f"
            ],
            [
             0.2222222222222222,
             "#7201a8"
            ],
            [
             0.3333333333333333,
             "#9c179e"
            ],
            [
             0.4444444444444444,
             "#bd3786"
            ],
            [
             0.5555555555555556,
             "#d8576b"
            ],
            [
             0.6666666666666666,
             "#ed7953"
            ],
            [
             0.7777777777777778,
             "#fb9f3a"
            ],
            [
             0.8888888888888888,
             "#fdca26"
            ],
            [
             1,
             "#f0f921"
            ]
           ],
           "sequentialminus": [
            [
             0,
             "#0d0887"
            ],
            [
             0.1111111111111111,
             "#46039f"
            ],
            [
             0.2222222222222222,
             "#7201a8"
            ],
            [
             0.3333333333333333,
             "#9c179e"
            ],
            [
             0.4444444444444444,
             "#bd3786"
            ],
            [
             0.5555555555555556,
             "#d8576b"
            ],
            [
             0.6666666666666666,
             "#ed7953"
            ],
            [
             0.7777777777777778,
             "#fb9f3a"
            ],
            [
             0.8888888888888888,
             "#fdca26"
            ],
            [
             1,
             "#f0f921"
            ]
           ]
          },
          "colorway": [
           "#636efa",
           "#EF553B",
           "#00cc96",
           "#ab63fa",
           "#FFA15A",
           "#19d3f3",
           "#FF6692",
           "#B6E880",
           "#FF97FF",
           "#FECB52"
          ],
          "font": {
           "color": "#2a3f5f"
          },
          "geo": {
           "bgcolor": "white",
           "lakecolor": "white",
           "landcolor": "#E5ECF6",
           "showlakes": true,
           "showland": true,
           "subunitcolor": "white"
          },
          "hoverlabel": {
           "align": "left"
          },
          "hovermode": "closest",
          "mapbox": {
           "style": "light"
          },
          "paper_bgcolor": "white",
          "plot_bgcolor": "#E5ECF6",
          "polar": {
           "angularaxis": {
            "gridcolor": "white",
            "linecolor": "white",
            "ticks": ""
           },
           "bgcolor": "#E5ECF6",
           "radialaxis": {
            "gridcolor": "white",
            "linecolor": "white",
            "ticks": ""
           }
          },
          "scene": {
           "xaxis": {
            "backgroundcolor": "#E5ECF6",
            "gridcolor": "white",
            "gridwidth": 2,
            "linecolor": "white",
            "showbackground": true,
            "ticks": "",
            "zerolinecolor": "white"
           },
           "yaxis": {
            "backgroundcolor": "#E5ECF6",
            "gridcolor": "white",
            "gridwidth": 2,
            "linecolor": "white",
            "showbackground": true,
            "ticks": "",
            "zerolinecolor": "white"
           },
           "zaxis": {
            "backgroundcolor": "#E5ECF6",
            "gridcolor": "white",
            "gridwidth": 2,
            "linecolor": "white",
            "showbackground": true,
            "ticks": "",
            "zerolinecolor": "white"
           }
          },
          "shapedefaults": {
           "line": {
            "color": "#2a3f5f"
           }
          },
          "ternary": {
           "aaxis": {
            "gridcolor": "white",
            "linecolor": "white",
            "ticks": ""
           },
           "baxis": {
            "gridcolor": "white",
            "linecolor": "white",
            "ticks": ""
           },
           "bgcolor": "#E5ECF6",
           "caxis": {
            "gridcolor": "white",
            "linecolor": "white",
            "ticks": ""
           }
          },
          "title": {
           "x": 0.05
          },
          "xaxis": {
           "automargin": true,
           "gridcolor": "white",
           "linecolor": "white",
           "ticks": "",
           "title": {
            "standoff": 15
           },
           "zerolinecolor": "white",
           "zerolinewidth": 2
          },
          "yaxis": {
           "automargin": true,
           "gridcolor": "white",
           "linecolor": "white",
           "ticks": "",
           "title": {
            "standoff": 15
           },
           "zerolinecolor": "white",
           "zerolinewidth": 2
          }
         }
        },
        "title": {
         "text": "Top 20 Frequencies of 'Star3'"
        },
        "width": 800,
        "xaxis": {
         "title": {
          "text": "Star3"
         }
        },
        "yaxis": {
         "title": {
          "text": "Count"
         }
        }
       }
      }
     },
     "metadata": {},
     "output_type": "display_data"
    },
    {
     "name": "stdout",
     "output_type": "stream",
     "text": [
      "Top 20 Star4\n"
     ]
    },
    {
     "data": {
      "application/vnd.plotly.v1+json": {
       "config": {
        "plotlyServerURL": "https://plot.ly"
       },
       "data": [
        {
         "marker": {
          "color": "blue"
         },
         "name": "Frequency",
         "type": "bar",
         "x": [
          "Michael Caine",
          "Catherine Keener",
          "Mark Ruffalo",
          "Gunnar Björnstrand",
          "Sharman Joshi",
          "Kerry Washington",
          "Gene Lockhart",
          "Melissa Leo",
          "Sanya Malhotra",
          "Ulrich Tukur",
          "Domhnall Gleeson",
          "Ward Bond",
          "Michael Gambon",
          "Rod Steiger",
          "Bryce Dallas Howard",
          "Josh Brolin",
          "John Castle",
          "Robert Patrick",
          "Rooney Mara",
          "Bruno Kirby"
         ],
         "y": {
          "bdata": "BAMDAgICAgICAgICAgICAgICAgI=",
          "dtype": "i1"
         }
        }
       ],
       "layout": {
        "height": 400,
        "template": {
         "data": {
          "bar": [
           {
            "error_x": {
             "color": "#2a3f5f"
            },
            "error_y": {
             "color": "#2a3f5f"
            },
            "marker": {
             "line": {
              "color": "#E5ECF6",
              "width": 0.5
             },
             "pattern": {
              "fillmode": "overlay",
              "size": 10,
              "solidity": 0.2
             }
            },
            "type": "bar"
           }
          ],
          "barpolar": [
           {
            "marker": {
             "line": {
              "color": "#E5ECF6",
              "width": 0.5
             },
             "pattern": {
              "fillmode": "overlay",
              "size": 10,
              "solidity": 0.2
             }
            },
            "type": "barpolar"
           }
          ],
          "carpet": [
           {
            "aaxis": {
             "endlinecolor": "#2a3f5f",
             "gridcolor": "white",
             "linecolor": "white",
             "minorgridcolor": "white",
             "startlinecolor": "#2a3f5f"
            },
            "baxis": {
             "endlinecolor": "#2a3f5f",
             "gridcolor": "white",
             "linecolor": "white",
             "minorgridcolor": "white",
             "startlinecolor": "#2a3f5f"
            },
            "type": "carpet"
           }
          ],
          "choropleth": [
           {
            "colorbar": {
             "outlinewidth": 0,
             "ticks": ""
            },
            "type": "choropleth"
           }
          ],
          "contour": [
           {
            "colorbar": {
             "outlinewidth": 0,
             "ticks": ""
            },
            "colorscale": [
             [
              0,
              "#0d0887"
             ],
             [
              0.1111111111111111,
              "#46039f"
             ],
             [
              0.2222222222222222,
              "#7201a8"
             ],
             [
              0.3333333333333333,
              "#9c179e"
             ],
             [
              0.4444444444444444,
              "#bd3786"
             ],
             [
              0.5555555555555556,
              "#d8576b"
             ],
             [
              0.6666666666666666,
              "#ed7953"
             ],
             [
              0.7777777777777778,
              "#fb9f3a"
             ],
             [
              0.8888888888888888,
              "#fdca26"
             ],
             [
              1,
              "#f0f921"
             ]
            ],
            "type": "contour"
           }
          ],
          "contourcarpet": [
           {
            "colorbar": {
             "outlinewidth": 0,
             "ticks": ""
            },
            "type": "contourcarpet"
           }
          ],
          "heatmap": [
           {
            "colorbar": {
             "outlinewidth": 0,
             "ticks": ""
            },
            "colorscale": [
             [
              0,
              "#0d0887"
             ],
             [
              0.1111111111111111,
              "#46039f"
             ],
             [
              0.2222222222222222,
              "#7201a8"
             ],
             [
              0.3333333333333333,
              "#9c179e"
             ],
             [
              0.4444444444444444,
              "#bd3786"
             ],
             [
              0.5555555555555556,
              "#d8576b"
             ],
             [
              0.6666666666666666,
              "#ed7953"
             ],
             [
              0.7777777777777778,
              "#fb9f3a"
             ],
             [
              0.8888888888888888,
              "#fdca26"
             ],
             [
              1,
              "#f0f921"
             ]
            ],
            "type": "heatmap"
           }
          ],
          "histogram": [
           {
            "marker": {
             "pattern": {
              "fillmode": "overlay",
              "size": 10,
              "solidity": 0.2
             }
            },
            "type": "histogram"
           }
          ],
          "histogram2d": [
           {
            "colorbar": {
             "outlinewidth": 0,
             "ticks": ""
            },
            "colorscale": [
             [
              0,
              "#0d0887"
             ],
             [
              0.1111111111111111,
              "#46039f"
             ],
             [
              0.2222222222222222,
              "#7201a8"
             ],
             [
              0.3333333333333333,
              "#9c179e"
             ],
             [
              0.4444444444444444,
              "#bd3786"
             ],
             [
              0.5555555555555556,
              "#d8576b"
             ],
             [
              0.6666666666666666,
              "#ed7953"
             ],
             [
              0.7777777777777778,
              "#fb9f3a"
             ],
             [
              0.8888888888888888,
              "#fdca26"
             ],
             [
              1,
              "#f0f921"
             ]
            ],
            "type": "histogram2d"
           }
          ],
          "histogram2dcontour": [
           {
            "colorbar": {
             "outlinewidth": 0,
             "ticks": ""
            },
            "colorscale": [
             [
              0,
              "#0d0887"
             ],
             [
              0.1111111111111111,
              "#46039f"
             ],
             [
              0.2222222222222222,
              "#7201a8"
             ],
             [
              0.3333333333333333,
              "#9c179e"
             ],
             [
              0.4444444444444444,
              "#bd3786"
             ],
             [
              0.5555555555555556,
              "#d8576b"
             ],
             [
              0.6666666666666666,
              "#ed7953"
             ],
             [
              0.7777777777777778,
              "#fb9f3a"
             ],
             [
              0.8888888888888888,
              "#fdca26"
             ],
             [
              1,
              "#f0f921"
             ]
            ],
            "type": "histogram2dcontour"
           }
          ],
          "mesh3d": [
           {
            "colorbar": {
             "outlinewidth": 0,
             "ticks": ""
            },
            "type": "mesh3d"
           }
          ],
          "parcoords": [
           {
            "line": {
             "colorbar": {
              "outlinewidth": 0,
              "ticks": ""
             }
            },
            "type": "parcoords"
           }
          ],
          "pie": [
           {
            "automargin": true,
            "type": "pie"
           }
          ],
          "scatter": [
           {
            "fillpattern": {
             "fillmode": "overlay",
             "size": 10,
             "solidity": 0.2
            },
            "type": "scatter"
           }
          ],
          "scatter3d": [
           {
            "line": {
             "colorbar": {
              "outlinewidth": 0,
              "ticks": ""
             }
            },
            "marker": {
             "colorbar": {
              "outlinewidth": 0,
              "ticks": ""
             }
            },
            "type": "scatter3d"
           }
          ],
          "scattercarpet": [
           {
            "marker": {
             "colorbar": {
              "outlinewidth": 0,
              "ticks": ""
             }
            },
            "type": "scattercarpet"
           }
          ],
          "scattergeo": [
           {
            "marker": {
             "colorbar": {
              "outlinewidth": 0,
              "ticks": ""
             }
            },
            "type": "scattergeo"
           }
          ],
          "scattergl": [
           {
            "marker": {
             "colorbar": {
              "outlinewidth": 0,
              "ticks": ""
             }
            },
            "type": "scattergl"
           }
          ],
          "scattermap": [
           {
            "marker": {
             "colorbar": {
              "outlinewidth": 0,
              "ticks": ""
             }
            },
            "type": "scattermap"
           }
          ],
          "scattermapbox": [
           {
            "marker": {
             "colorbar": {
              "outlinewidth": 0,
              "ticks": ""
             }
            },
            "type": "scattermapbox"
           }
          ],
          "scatterpolar": [
           {
            "marker": {
             "colorbar": {
              "outlinewidth": 0,
              "ticks": ""
             }
            },
            "type": "scatterpolar"
           }
          ],
          "scatterpolargl": [
           {
            "marker": {
             "colorbar": {
              "outlinewidth": 0,
              "ticks": ""
             }
            },
            "type": "scatterpolargl"
           }
          ],
          "scatterternary": [
           {
            "marker": {
             "colorbar": {
              "outlinewidth": 0,
              "ticks": ""
             }
            },
            "type": "scatterternary"
           }
          ],
          "surface": [
           {
            "colorbar": {
             "outlinewidth": 0,
             "ticks": ""
            },
            "colorscale": [
             [
              0,
              "#0d0887"
             ],
             [
              0.1111111111111111,
              "#46039f"
             ],
             [
              0.2222222222222222,
              "#7201a8"
             ],
             [
              0.3333333333333333,
              "#9c179e"
             ],
             [
              0.4444444444444444,
              "#bd3786"
             ],
             [
              0.5555555555555556,
              "#d8576b"
             ],
             [
              0.6666666666666666,
              "#ed7953"
             ],
             [
              0.7777777777777778,
              "#fb9f3a"
             ],
             [
              0.8888888888888888,
              "#fdca26"
             ],
             [
              1,
              "#f0f921"
             ]
            ],
            "type": "surface"
           }
          ],
          "table": [
           {
            "cells": {
             "fill": {
              "color": "#EBF0F8"
             },
             "line": {
              "color": "white"
             }
            },
            "header": {
             "fill": {
              "color": "#C8D4E3"
             },
             "line": {
              "color": "white"
             }
            },
            "type": "table"
           }
          ]
         },
         "layout": {
          "annotationdefaults": {
           "arrowcolor": "#2a3f5f",
           "arrowhead": 0,
           "arrowwidth": 1
          },
          "autotypenumbers": "strict",
          "coloraxis": {
           "colorbar": {
            "outlinewidth": 0,
            "ticks": ""
           }
          },
          "colorscale": {
           "diverging": [
            [
             0,
             "#8e0152"
            ],
            [
             0.1,
             "#c51b7d"
            ],
            [
             0.2,
             "#de77ae"
            ],
            [
             0.3,
             "#f1b6da"
            ],
            [
             0.4,
             "#fde0ef"
            ],
            [
             0.5,
             "#f7f7f7"
            ],
            [
             0.6,
             "#e6f5d0"
            ],
            [
             0.7,
             "#b8e186"
            ],
            [
             0.8,
             "#7fbc41"
            ],
            [
             0.9,
             "#4d9221"
            ],
            [
             1,
             "#276419"
            ]
           ],
           "sequential": [
            [
             0,
             "#0d0887"
            ],
            [
             0.1111111111111111,
             "#46039f"
            ],
            [
             0.2222222222222222,
             "#7201a8"
            ],
            [
             0.3333333333333333,
             "#9c179e"
            ],
            [
             0.4444444444444444,
             "#bd3786"
            ],
            [
             0.5555555555555556,
             "#d8576b"
            ],
            [
             0.6666666666666666,
             "#ed7953"
            ],
            [
             0.7777777777777778,
             "#fb9f3a"
            ],
            [
             0.8888888888888888,
             "#fdca26"
            ],
            [
             1,
             "#f0f921"
            ]
           ],
           "sequentialminus": [
            [
             0,
             "#0d0887"
            ],
            [
             0.1111111111111111,
             "#46039f"
            ],
            [
             0.2222222222222222,
             "#7201a8"
            ],
            [
             0.3333333333333333,
             "#9c179e"
            ],
            [
             0.4444444444444444,
             "#bd3786"
            ],
            [
             0.5555555555555556,
             "#d8576b"
            ],
            [
             0.6666666666666666,
             "#ed7953"
            ],
            [
             0.7777777777777778,
             "#fb9f3a"
            ],
            [
             0.8888888888888888,
             "#fdca26"
            ],
            [
             1,
             "#f0f921"
            ]
           ]
          },
          "colorway": [
           "#636efa",
           "#EF553B",
           "#00cc96",
           "#ab63fa",
           "#FFA15A",
           "#19d3f3",
           "#FF6692",
           "#B6E880",
           "#FF97FF",
           "#FECB52"
          ],
          "font": {
           "color": "#2a3f5f"
          },
          "geo": {
           "bgcolor": "white",
           "lakecolor": "white",
           "landcolor": "#E5ECF6",
           "showlakes": true,
           "showland": true,
           "subunitcolor": "white"
          },
          "hoverlabel": {
           "align": "left"
          },
          "hovermode": "closest",
          "mapbox": {
           "style": "light"
          },
          "paper_bgcolor": "white",
          "plot_bgcolor": "#E5ECF6",
          "polar": {
           "angularaxis": {
            "gridcolor": "white",
            "linecolor": "white",
            "ticks": ""
           },
           "bgcolor": "#E5ECF6",
           "radialaxis": {
            "gridcolor": "white",
            "linecolor": "white",
            "ticks": ""
           }
          },
          "scene": {
           "xaxis": {
            "backgroundcolor": "#E5ECF6",
            "gridcolor": "white",
            "gridwidth": 2,
            "linecolor": "white",
            "showbackground": true,
            "ticks": "",
            "zerolinecolor": "white"
           },
           "yaxis": {
            "backgroundcolor": "#E5ECF6",
            "gridcolor": "white",
            "gridwidth": 2,
            "linecolor": "white",
            "showbackground": true,
            "ticks": "",
            "zerolinecolor": "white"
           },
           "zaxis": {
            "backgroundcolor": "#E5ECF6",
            "gridcolor": "white",
            "gridwidth": 2,
            "linecolor": "white",
            "showbackground": true,
            "ticks": "",
            "zerolinecolor": "white"
           }
          },
          "shapedefaults": {
           "line": {
            "color": "#2a3f5f"
           }
          },
          "ternary": {
           "aaxis": {
            "gridcolor": "white",
            "linecolor": "white",
            "ticks": ""
           },
           "baxis": {
            "gridcolor": "white",
            "linecolor": "white",
            "ticks": ""
           },
           "bgcolor": "#E5ECF6",
           "caxis": {
            "gridcolor": "white",
            "linecolor": "white",
            "ticks": ""
           }
          },
          "title": {
           "x": 0.05
          },
          "xaxis": {
           "automargin": true,
           "gridcolor": "white",
           "linecolor": "white",
           "ticks": "",
           "title": {
            "standoff": 15
           },
           "zerolinecolor": "white",
           "zerolinewidth": 2
          },
          "yaxis": {
           "automargin": true,
           "gridcolor": "white",
           "linecolor": "white",
           "ticks": "",
           "title": {
            "standoff": 15
           },
           "zerolinecolor": "white",
           "zerolinewidth": 2
          }
         }
        },
        "title": {
         "text": "Top 20 Frequencies of 'Star4'"
        },
        "width": 800,
        "xaxis": {
         "title": {
          "text": "Star4"
         }
        },
        "yaxis": {
         "title": {
          "text": "Count"
         }
        }
       }
      }
     },
     "metadata": {},
     "output_type": "display_data"
    }
   ],
   "source": [
    "for i in range(1,5):\n",
    "    col_name = 'Star' + str(i)\n",
    "    print(\"Top 20 \" + col_name )\n",
    "    plot_top_frequencies(raw_df,col_name = col_name, top_k=20)"
   ]
  },
  {
   "cell_type": "markdown",
   "id": "fa5dec1e",
   "metadata": {},
   "source": [
    "## Análise Bivariada e Multivariada"
   ]
  },
  {
   "cell_type": "code",
   "execution_count": 28,
   "id": "6756d144",
   "metadata": {},
   "outputs": [
    {
     "data": {
      "image/png": "[encoded data removed]",
      "text/plain": [
       "<Figure size 1000x500 with 1 Axes>"
      ]
     },
     "metadata": {},
     "output_type": "display_data"
    }
   ],
   "source": [
    "# Movies Released Over Time\n",
    "raw_df['Released_Year'] = pd.to_numeric(raw_df['Released_Year'], errors='coerce')\n",
    "year_counts = raw_df['Released_Year'].value_counts().sort_index()\n",
    "all_years = pd.Series(0, index=range(int(raw_df['Released_Year'].min()), int(raw_df['Released_Year'].max())+1))\n",
    "year_counts = all_years.add(year_counts, fill_value=0)\n",
    "# plot\n",
    "plt.figure(figsize=(10,5))\n",
    "year_counts.plot(kind=\"line\", marker='o')\n",
    "plt.title(\"Filmes Lançados ao Longo do Tempo\")\n",
    "plt.xlabel(\"Ano\")\n",
    "plt.ylabel(\"Número de Filmes\")\n",
    "plt.show()"
   ]
  },
  {
   "cell_type": "code",
   "execution_count": 27,
   "id": "585f350e",
   "metadata": {},
   "outputs": [
    {
     "data": {
      "image/png": "[encoded data removed]",
      "text/plain": [
       "<Figure size 1000x500 with 1 Axes>"
      ]
     },
     "metadata": {},
     "output_type": "display_data"
    }
   ],
   "source": [
    "raw_df['Released_Year'] = pd.to_numeric(raw_df['Released_Year'], errors='coerce')\n",
    "avg_rating = raw_df.groupby(\"Released_Year\")[\"IMDB_Rating\"].mean().reset_index()\n",
    "avg_rating = avg_rating.sort_values(\"Released_Year\")\n",
    "plt.figure(figsize=(10,5))\n",
    "plt.plot(avg_rating['Released_Year'], avg_rating['IMDB_Rating'], marker='o', linestyle='-')\n",
    "plt.title(\"Média de Avaliação IMDB ao Longo dos Anos\")\n",
    "plt.xlabel(\"Ano\")\n",
    "plt.ylabel(\"Média de Avaliação IMDB\")\n",
    "plt.grid(True)\n",
    "plt.show()"
   ]
  },
  {
   "cell_type": "code",
   "execution_count": 32,
   "id": "c85e13db",
   "metadata": {},
   "outputs": [
    {
     "data": {
      "image/png": "[encoded data removed]",
      "text/plain": [
       "<Figure size 1000x500 with 1 Axes>"
      ]
     },
     "metadata": {},
     "output_type": "display_data"
    }
   ],
   "source": [
    "plt.figure(figsize=(10,5))\n",
    "plt.scatter(raw_df['No_of_Votes'], raw_df['IMDB_Rating'], alpha=0.6)\n",
    "plt.title(\"Número de Votos vs Avaliação IMDB\")\n",
    "plt.xlabel(\"Número de Votos\")\n",
    "plt.ylabel(\"Avaliação IMDB\")\n",
    "plt.grid(True)\n",
    "plt.show()"
   ]
  },
  {
   "cell_type": "code",
   "execution_count": 51,
   "id": "0deabfb8",
   "metadata": {},
   "outputs": [
    {
     "data": {
      "image/png": "[encoded data removed]",
      "text/plain": [
       "<Figure size 800x600 with 1 Axes>"
      ]
     },
     "metadata": {},
     "output_type": "display_data"
    }
   ],
   "source": [
    "plt.figure(figsize=(8,6))\n",
    "plt.scatter(raw_df['Gross'], raw_df['IMDB_Rating'], alpha=0.6)\n",
    "plt.title(\"Faturamento vs Avaliação IMDB\")\n",
    "plt.xlabel(\"Faturamento (Gross)\")\n",
    "plt.ylabel(\"Avaliação IMDB\")\n",
    "plt.grid(True)\n",
    "plt.show()"
   ]
  },
  {
   "cell_type": "markdown",
   "id": "f13361b6",
   "metadata": {},
   "source": [
    "### Correlação entre variáveis quantitativas"
   ]
  },
  {
   "cell_type": "code",
   "execution_count": null,
   "id": "11aafeaa",
   "metadata": {},
   "outputs": [
    {
     "data": {
      "application/vnd.plotly.v1+json": {
       "config": {
        "plotlyServerURL": "https://plot.ly"
       },
       "data": [
        {
         "colorbar": {
          "title": {
           "text": "Correlation"
          }
         },
         "colorscale": [
          [
           0,
           "rgb(103,0,31)"
          ],
          [
           0.1,
           "rgb(178,24,43)"
          ],
          [
           0.2,
           "rgb(214,96,77)"
          ],
          [
           0.3,
           "rgb(244,165,130)"
          ],
          [
           0.4,
           "rgb(253,219,199)"
          ],
          [
           0.5,
           "rgb(247,247,247)"
          ],
          [
           0.6,
           "rgb(209,229,240)"
          ],
          [
           0.7,
           "rgb(146,197,222)"
          ],
          [
           0.8,
           "rgb(67,147,195)"
          ],
          [
           0.9,
           "rgb(33,102,172)"
          ],
          [
           1,
           "rgb(5,48,97)"
          ]
         ],
         "type": "heatmap",
         "x": [
          "Released_Year",
          "Runtime",
          "IMDB_Rating",
          "Meta_score",
          "No_of_Votes",
          "Gross"
         ],
         "y": [
          "Released_Year",
          "Runtime",
          "IMDB_Rating",
          "Meta_score",
          "No_of_Votes",
          "Gross"
         ],
         "z": {
          "bdata": "AAAAAAAA8D+hyH48yDfFP7pROW+UDsG/CagJDfC21b8UeZ8KFX3PP9ty/a7I280/och+PMg3xT8AAAAAAADwPwifbQh5Es8/GsOKfWEuoL+GWFz66xPGP+TBBRGV68E/ulE5b5QOwb8In20IeRLPPwAAAAAAAPA/n1IYrTBe0T8TcTS/+qzeP5BUPQzPcbk/CagJDfC21b8aw4p9YS6gv59SGK0wXtE/AAAAAAAA8D+/ZFJYnJKUv0Q4YtwHNp+/FHmfChV9zz+GWFz66xPGPxNxNL/6rN4/v2RSWJySlL8AAAAAAADwP7zlLqdo3eI/23L9rsjbzT/kwQURlevBP5BUPQzPcbk/RDhi3Ac2n7+85S6naN3iPwAAAAAAAPA/",
          "dtype": "f8",
          "shape": "6, 6"
         },
         "zmax": 1,
         "zmin": -1
        }
       ],
       "layout": {
        "height": 600,
        "template": {
         "data": {
          "bar": [
           {
            "error_x": {
             "color": "#2a3f5f"
            },
            "error_y": {
             "color": "#2a3f5f"
            },
            "marker": {
             "line": {
              "color": "#E5ECF6",
              "width": 0.5
             },
             "pattern": {
              "fillmode": "overlay",
              "size": 10,
              "solidity": 0.2
             }
            },
            "type": "bar"
           }
          ],
          "barpolar": [
           {
            "marker": {
             "line": {
              "color": "#E5ECF6",
              "width": 0.5
             },
             "pattern": {
              "fillmode": "overlay",
              "size": 10,
              "solidity": 0.2
             }
            },
            "type": "barpolar"
           }
          ],
          "carpet": [
           {
            "aaxis": {
             "endlinecolor": "#2a3f5f",
             "gridcolor": "white",
             "linecolor": "white",
             "minorgridcolor": "white",
             "startlinecolor": "#2a3f5f"
            },
            "baxis": {
             "endlinecolor": "#2a3f5f",
             "gridcolor": "white",
             "linecolor": "white",
             "minorgridcolor": "white",
             "startlinecolor": "#2a3f5f"
            },
            "type": "carpet"
           }
          ],
          "choropleth": [
           {
            "colorbar": {
             "outlinewidth": 0,
             "ticks": ""
            },
            "type": "choropleth"
           }
          ],
          "contour": [
           {
            "colorbar": {
             "outlinewidth": 0,
             "ticks": ""
            },
            "colorscale": [
             [
              0,
              "#0d0887"
             ],
             [
              0.1111111111111111,
              "#46039f"
             ],
             [
              0.2222222222222222,
              "#7201a8"
             ],
             [
              0.3333333333333333,
              "#9c179e"
             ],
             [
              0.4444444444444444,
              "#bd3786"
             ],
             [
              0.5555555555555556,
              "#d8576b"
             ],
             [
              0.6666666666666666,
              "#ed7953"
             ],
             [
              0.7777777777777778,
              "#fb9f3a"
             ],
             [
              0.8888888888888888,
              "#fdca26"
             ],
             [
              1,
              "#f0f921"
             ]
            ],
            "type": "contour"
           }
          ],
          "contourcarpet": [
           {
            "colorbar": {
             "outlinewidth": 0,
             "ticks": ""
            },
            "type": "contourcarpet"
           }
          ],
          "heatmap": [
           {
            "colorbar": {
             "outlinewidth": 0,
             "ticks": ""
            },
            "colorscale": [
             [
              0,
              "#0d0887"
             ],
             [
              0.1111111111111111,
              "#46039f"
             ],
             [
              0.2222222222222222,
              "#7201a8"
             ],
             [
              0.3333333333333333,
              "#9c179e"
             ],
             [
              0.4444444444444444,
              "#bd3786"
             ],
             [
              0.5555555555555556,
              "#d8576b"
             ],
             [
              0.6666666666666666,
              "#ed7953"
             ],
             [
              0.7777777777777778,
              "#fb9f3a"
             ],
             [
              0.8888888888888888,
              "#fdca26"
             ],
             [
              1,
              "#f0f921"
             ]
            ],
            "type": "heatmap"
           }
          ],
          "histogram": [
           {
            "marker": {
             "pattern": {
              "fillmode": "overlay",
              "size": 10,
              "solidity": 0.2
             }
            },
            "type": "histogram"
           }
          ],
          "histogram2d": [
           {
            "colorbar": {
             "outlinewidth": 0,
             "ticks": ""
            },
            "colorscale": [
             [
              0,
              "#0d0887"
             ],
             [
              0.1111111111111111,
              "#46039f"
             ],
             [
              0.2222222222222222,
              "#7201a8"
             ],
             [
              0.3333333333333333,
              "#9c179e"
             ],
             [
              0.4444444444444444,
              "#bd3786"
             ],
             [
              0.5555555555555556,
              "#d8576b"
             ],
             [
              0.6666666666666666,
              "#ed7953"
             ],
             [
              0.7777777777777778,
              "#fb9f3a"
             ],
             [
              0.8888888888888888,
              "#fdca26"
             ],
             [
              1,
              "#f0f921"
             ]
            ],
            "type": "histogram2d"
           }
          ],
          "histogram2dcontour": [
           {
            "colorbar": {
             "outlinewidth": 0,
             "ticks": ""
            },
            "colorscale": [
             [
              0,
              "#0d0887"
             ],
             [
              0.1111111111111111,
              "#46039f"
             ],
             [
              0.2222222222222222,
              "#7201a8"
             ],
             [
              0.3333333333333333,
              "#9c179e"
             ],
             [
              0.4444444444444444,
              "#bd3786"
             ],
             [
              0.5555555555555556,
              "#d8576b"
             ],
             [
              0.6666666666666666,
              "#ed7953"
             ],
             [
              0.7777777777777778,
              "#fb9f3a"
             ],
             [
              0.8888888888888888,
              "#fdca26"
             ],
             [
              1,
              "#f0f921"
             ]
            ],
            "type": "histogram2dcontour"
           }
          ],
          "mesh3d": [
           {
            "colorbar": {
             "outlinewidth": 0,
             "ticks": ""
            },
            "type": "mesh3d"
           }
          ],
          "parcoords": [
           {
            "line": {
             "colorbar": {
              "outlinewidth": 0,
              "ticks": ""
             }
            },
            "type": "parcoords"
           }
          ],
          "pie": [
           {
            "automargin": true,
            "type": "pie"
           }
          ],
          "scatter": [
           {
            "fillpattern": {
             "fillmode": "overlay",
             "size": 10,
             "solidity": 0.2
            },
            "type": "scatter"
           }
          ],
          "scatter3d": [
           {
            "line": {
             "colorbar": {
              "outlinewidth": 0,
              "ticks": ""
             }
            },
            "marker": {
             "colorbar": {
              "outlinewidth": 0,
              "ticks": ""
             }
            },
            "type": "scatter3d"
           }
          ],
          "scattercarpet": [
           {
            "marker": {
             "colorbar": {
              "outlinewidth": 0,
              "ticks": ""
             }
            },
            "type": "scattercarpet"
           }
          ],
          "scattergeo": [
           {
            "marker": {
             "colorbar": {
              "outlinewidth": 0,
              "ticks": ""
             }
            },
            "type": "scattergeo"
           }
          ],
          "scattergl": [
           {
            "marker": {
             "colorbar": {
              "outlinewidth": 0,
              "ticks": ""
             }
            },
            "type": "scattergl"
           }
          ],
          "scattermap": [
           {
            "marker": {
             "colorbar": {
              "outlinewidth": 0,
              "ticks": ""
             }
            },
            "type": "scattermap"
           }
          ],
          "scattermapbox": [
           {
            "marker": {
             "colorbar": {
              "outlinewidth": 0,
              "ticks": ""
             }
            },
            "type": "scattermapbox"
           }
          ],
          "scatterpolar": [
           {
            "marker": {
             "colorbar": {
              "outlinewidth": 0,
              "ticks": ""
             }
            },
            "type": "scatterpolar"
           }
          ],
          "scatterpolargl": [
           {
            "marker": {
             "colorbar": {
              "outlinewidth": 0,
              "ticks": ""
             }
            },
            "type": "scatterpolargl"
           }
          ],
          "scatterternary": [
           {
            "marker": {
             "colorbar": {
              "outlinewidth": 0,
              "ticks": ""
             }
            },
            "type": "scatterternary"
           }
          ],
          "surface": [
           {
            "colorbar": {
             "outlinewidth": 0,
             "ticks": ""
            },
            "colorscale": [
             [
              0,
              "#0d0887"
             ],
             [
              0.1111111111111111,
              "#46039f"
             ],
             [
              0.2222222222222222,
              "#7201a8"
             ],
             [
              0.3333333333333333,
              "#9c179e"
             ],
             [
              0.4444444444444444,
              "#bd3786"
             ],
             [
              0.5555555555555556,
              "#d8576b"
             ],
             [
              0.6666666666666666,
              "#ed7953"
             ],
             [
              0.7777777777777778,
              "#fb9f3a"
             ],
             [
              0.8888888888888888,
              "#fdca26"
             ],
             [
              1,
              "#f0f921"
             ]
            ],
            "type": "surface"
           }
          ],
          "table": [
           {
            "cells": {
             "fill": {
              "color": "#EBF0F8"
             },
             "line": {
              "color": "white"
             }
            },
            "header": {
             "fill": {
              "color": "#C8D4E3"
             },
             "line": {
              "color": "white"
             }
            },
            "type": "table"
           }
          ]
         },
         "layout": {
          "annotationdefaults": {
           "arrowcolor": "#2a3f5f",
           "arrowhead": 0,
           "arrowwidth": 1
          },
          "autotypenumbers": "strict",
          "coloraxis": {
           "colorbar": {
            "outlinewidth": 0,
            "ticks": ""
           }
          },
          "colorscale": {
           "diverging": [
            [
             0,
             "#8e0152"
            ],
            [
             0.1,
             "#c51b7d"
            ],
            [
             0.2,
             "#de77ae"
            ],
            [
             0.3,
             "#f1b6da"
            ],
            [
             0.4,
             "#fde0ef"
            ],
            [
             0.5,
             "#f7f7f7"
            ],
            [
             0.6,
             "#e6f5d0"
            ],
            [
             0.7,
             "#b8e186"
            ],
            [
             0.8,
             "#7fbc41"
            ],
            [
             0.9,
             "#4d9221"
            ],
            [
             1,
             "#276419"
            ]
           ],
           "sequential": [
            [
             0,
             "#0d0887"
            ],
            [
             0.1111111111111111,
             "#46039f"
            ],
            [
             0.2222222222222222,
             "#7201a8"
            ],
            [
             0.3333333333333333,
             "#9c179e"
            ],
            [
             0.4444444444444444,
             "#bd3786"
            ],
            [
             0.5555555555555556,
             "#d8576b"
            ],
            [
             0.6666666666666666,
             "#ed7953"
            ],
            [
             0.7777777777777778,
             "#fb9f3a"
            ],
            [
             0.8888888888888888,
             "#fdca26"
            ],
            [
             1,
             "#f0f921"
            ]
           ],
           "sequentialminus": [
            [
             0,
             "#0d0887"
            ],
            [
             0.1111111111111111,
             "#46039f"
            ],
            [
             0.2222222222222222,
             "#7201a8"
            ],
            [
             0.3333333333333333,
             "#9c179e"
            ],
            [
             0.4444444444444444,
             "#bd3786"
            ],
            [
             0.5555555555555556,
             "#d8576b"
            ],
            [
             0.6666666666666666,
             "#ed7953"
            ],
            [
             0.7777777777777778,
             "#fb9f3a"
            ],
            [
             0.8888888888888888,
             "#fdca26"
            ],
            [
             1,
             "#f0f921"
            ]
           ]
          },
          "colorway": [
           "#636efa",
           "#EF553B",
           "#00cc96",
           "#ab63fa",
           "#FFA15A",
           "#19d3f3",
           "#FF6692",
           "#B6E880",
           "#FF97FF",
           "#FECB52"
          ],
          "font": {
           "color": "#2a3f5f"
          },
          "geo": {
           "bgcolor": "white",
           "lakecolor": "white",
           "landcolor": "#E5ECF6",
           "showlakes": true,
           "showland": true,
           "subunitcolor": "white"
          },
          "hoverlabel": {
           "align": "left"
          },
          "hovermode": "closest",
          "mapbox": {
           "style": "light"
          },
          "paper_bgcolor": "white",
          "plot_bgcolor": "#E5ECF6",
          "polar": {
           "angularaxis": {
            "gridcolor": "white",
            "linecolor": "white",
            "ticks": ""
           },
           "bgcolor": "#E5ECF6",
           "radialaxis": {
            "gridcolor": "white",
            "linecolor": "white",
            "ticks": ""
           }
          },
          "scene": {
           "xaxis": {
            "backgroundcolor": "#E5ECF6",
            "gridcolor": "white",
            "gridwidth": 2,
            "linecolor": "white",
            "showbackground": true,
            "ticks": "",
            "zerolinecolor": "white"
           },
           "yaxis": {
            "backgroundcolor": "#E5ECF6",
            "gridcolor": "white",
            "gridwidth": 2,
            "linecolor": "white",
            "showbackground": true,
            "ticks": "",
            "zerolinecolor": "white"
           },
           "zaxis": {
            "backgroundcolor": "#E5ECF6",
            "gridcolor": "white",
            "gridwidth": 2,
            "linecolor": "white",
            "showbackground": true,
            "ticks": "",
            "zerolinecolor": "white"
           }
          },
          "shapedefaults": {
           "line": {
            "color": "#2a3f5f"
           }
          },
          "ternary": {
           "aaxis": {
            "gridcolor": "white",
            "linecolor": "white",
            "ticks": ""
           },
           "baxis": {
            "gridcolor": "white",
            "linecolor": "white",
            "ticks": ""
           },
           "bgcolor": "#E5ECF6",
           "caxis": {
            "gridcolor": "white",
            "linecolor": "white",
            "ticks": ""
           }
          },
          "title": {
           "x": 0.05
          },
          "xaxis": {
           "automargin": true,
           "gridcolor": "white",
           "linecolor": "white",
           "ticks": "",
           "title": {
            "standoff": 15
           },
           "zerolinecolor": "white",
           "zerolinewidth": 2
          },
          "yaxis": {
           "automargin": true,
           "gridcolor": "white",
           "linecolor": "white",
           "ticks": "",
           "title": {
            "standoff": 15
           },
           "zerolinecolor": "white",
           "zerolinewidth": 2
          }
         }
        },
        "title": {
         "text": "Correlation Heatmap"
        },
        "width": 800
       }
      }
     },
     "metadata": {},
     "output_type": "display_data"
    }
   ],
   "source": [
    "plot_numeric_correlation(raw_df)"
   ]
  },
  {
   "cell_type": "code",
   "execution_count": 16,
   "id": "bc641759",
   "metadata": {},
   "outputs": [
    {
     "data": {
      "application/vnd.plotly.v1+json": {
       "config": {
        "plotlyServerURL": "https://plot.ly"
       },
       "data": [
        {
         "colorbar": {
          "title": {
           "text": "Significant at α=0.05"
          }
         },
         "colorscale": [
          [
           0,
           "white"
          ],
          [
           1,
           "red"
          ]
         ],
         "type": "heatmap",
         "x": [
          "Series_Title",
          "Certificate",
          "Genre",
          "Overview",
          "Director",
          "Star1",
          "Star2",
          "Star3",
          "Star4",
          "IMDB_Rating_Faixa",
          "Gross_Faixa"
         ],
         "y": [
          "Series_Title",
          "Certificate",
          "Genre",
          "Overview",
          "Director",
          "Star1",
          "Star2",
          "Star3",
          "Star4",
          "IMDB_Rating_Faixa",
          "Gross_Faixa"
         ],
         "z": {
          "bdata": "AAAAAAAA8D8AAAAAAAAAAAAAAAAAAAAAAAAAAAAAAAAAAAAAAAAAAAAAAAAAAAAAAAAAAAAAAAAAAAAAAAAAAAAAAAAAAAAAAAAAAAAAAAAAAAAAAAAAAAAAAAAAAAAAAAAAAAAA8D8AAAAAAADwPwAAAAAAAAAAAAAAAAAA8D8AAAAAAADwPwAAAAAAAPA/AAAAAAAAAAAAAAAAAADwPwAAAAAAAPA/AAAAAAAA8D8AAAAAAAAAAAAAAAAAAPA/AAAAAAAA8D8AAAAAAAAAAAAAAAAAAPA/AAAAAAAA8D8AAAAAAADwPwAAAAAAAAAAAAAAAAAAAAAAAAAAAADwPwAAAAAAAPA/AAAAAAAAAAAAAAAAAAAAAAAAAAAAAAAAAAAAAAAA8D8AAAAAAAAAAAAAAAAAAAAAAAAAAAAAAAAAAAAAAAAAAAAAAAAAAAAAAAAAAAAAAAAAAAAAAAAAAAAAAAAAAAAAAAAAAAAA8D8AAAAAAADwPwAAAAAAAAAAAAAAAAAA8D8AAAAAAADwPwAAAAAAAPA/AAAAAAAA8D8AAAAAAADwPwAAAAAAAPA/AAAAAAAA8D8AAAAAAAAAAAAAAAAAAPA/AAAAAAAA8D8AAAAAAAAAAAAAAAAAAPA/AAAAAAAA8D8AAAAAAADwPwAAAAAAAPA/AAAAAAAA8D8AAAAAAADwPwAAAAAAAPA/AAAAAAAAAAAAAAAAAADwPwAAAAAAAPA/AAAAAAAAAAAAAAAAAADwPwAAAAAAAPA/AAAAAAAA8D8AAAAAAADwPwAAAAAAAPA/AAAAAAAAAAAAAAAAAADwPwAAAAAAAAAAAAAAAAAAAAAAAAAAAAAAAAAAAAAAAAAAAAAAAAAA8D8AAAAAAADwPwAAAAAAAPA/AAAAAAAA8D8AAAAAAAAAAAAAAAAAAAAAAAAAAAAA8D8AAAAAAAAAAAAAAAAAAPA/AAAAAAAAAAAAAAAAAAAAAAAAAAAAAPA/AAAAAAAA8D8AAAAAAADwPwAAAAAAAAAAAAAAAAAA8D8AAAAAAAAAAAAAAAAAAAAAAAAAAAAAAAAAAAAAAADwPwAAAAAAAPA/AAAAAAAAAAAAAAAAAADwPwAAAAAAAPA/AAAAAAAAAAAAAAAAAAAAAAAAAAAAAAAAAAAAAAAA8D8AAAAAAADwPwAAAAAAAAAAAAAAAAAA8D8AAAAAAADwPwAAAAAAAAAAAAAAAAAA8D8AAAAAAADwPwAAAAAAAPA/AAAAAAAA8D8AAAAAAAAAAAAAAAAAAPA/AAAAAAAA8D8=",
          "dtype": "f8",
          "shape": "11, 11"
         },
         "zmax": 1,
         "zmin": 0
        }
       ],
       "layout": {
        "height": 600,
        "template": {
         "data": {
          "bar": [
           {
            "error_x": {
             "color": "#2a3f5f"
            },
            "error_y": {
             "color": "#2a3f5f"
            },
            "marker": {
             "line": {
              "color": "#E5ECF6",
              "width": 0.5
             },
             "pattern": {
              "fillmode": "overlay",
              "size": 10,
              "solidity": 0.2
             }
            },
            "type": "bar"
           }
          ],
          "barpolar": [
           {
            "marker": {
             "line": {
              "color": "#E5ECF6",
              "width": 0.5
             },
             "pattern": {
              "fillmode": "overlay",
              "size": 10,
              "solidity": 0.2
             }
            },
            "type": "barpolar"
           }
          ],
          "carpet": [
           {
            "aaxis": {
             "endlinecolor": "#2a3f5f",
             "gridcolor": "white",
             "linecolor": "white",
             "minorgridcolor": "white",
             "startlinecolor": "#2a3f5f"
            },
            "baxis": {
             "endlinecolor": "#2a3f5f",
             "gridcolor": "white",
             "linecolor": "white",
             "minorgridcolor": "white",
             "startlinecolor": "#2a3f5f"
            },
            "type": "carpet"
           }
          ],
          "choropleth": [
           {
            "colorbar": {
             "outlinewidth": 0,
             "ticks": ""
            },
            "type": "choropleth"
           }
          ],
          "contour": [
           {
            "colorbar": {
             "outlinewidth": 0,
             "ticks": ""
            },
            "colorscale": [
             [
              0,
              "#0d0887"
             ],
             [
              0.1111111111111111,
              "#46039f"
             ],
             [
              0.2222222222222222,
              "#7201a8"
             ],
             [
              0.3333333333333333,
              "#9c179e"
             ],
             [
              0.4444444444444444,
              "#bd3786"
             ],
             [
              0.5555555555555556,
              "#d8576b"
             ],
             [
              0.6666666666666666,
              "#ed7953"
             ],
             [
              0.7777777777777778,
              "#fb9f3a"
             ],
             [
              0.8888888888888888,
              "#fdca26"
             ],
             [
              1,
              "#f0f921"
             ]
            ],
            "type": "contour"
           }
          ],
          "contourcarpet": [
           {
            "colorbar": {
             "outlinewidth": 0,
             "ticks": ""
            },
            "type": "contourcarpet"
           }
          ],
          "heatmap": [
           {
            "colorbar": {
             "outlinewidth": 0,
             "ticks": ""
            },
            "colorscale": [
             [
              0,
              "#0d0887"
             ],
             [
              0.1111111111111111,
              "#46039f"
             ],
             [
              0.2222222222222222,
              "#7201a8"
             ],
             [
              0.3333333333333333,
              "#9c179e"
             ],
             [
              0.4444444444444444,
              "#bd3786"
             ],
             [
              0.5555555555555556,
              "#d8576b"
             ],
             [
              0.6666666666666666,
              "#ed7953"
             ],
             [
              0.7777777777777778,
              "#fb9f3a"
             ],
             [
              0.8888888888888888,
              "#fdca26"
             ],
             [
              1,
              "#f0f921"
             ]
            ],
            "type": "heatmap"
           }
          ],
          "histogram": [
           {
            "marker": {
             "pattern": {
              "fillmode": "overlay",
              "size": 10,
              "solidity": 0.2
             }
            },
            "type": "histogram"
           }
          ],
          "histogram2d": [
           {
            "colorbar": {
             "outlinewidth": 0,
             "ticks": ""
            },
            "colorscale": [
             [
              0,
              "#0d0887"
             ],
             [
              0.1111111111111111,
              "#46039f"
             ],
             [
              0.2222222222222222,
              "#7201a8"
             ],
             [
              0.3333333333333333,
              "#9c179e"
             ],
             [
              0.4444444444444444,
              "#bd3786"
             ],
             [
              0.5555555555555556,
              "#d8576b"
             ],
             [
              0.6666666666666666,
              "#ed7953"
             ],
             [
              0.7777777777777778,
              "#fb9f3a"
             ],
             [
              0.8888888888888888,
              "#fdca26"
             ],
             [
              1,
              "#f0f921"
             ]
            ],
            "type": "histogram2d"
           }
          ],
          "histogram2dcontour": [
           {
            "colorbar": {
             "outlinewidth": 0,
             "ticks": ""
            },
            "colorscale": [
             [
              0,
              "#0d0887"
             ],
             [
              0.1111111111111111,
              "#46039f"
             ],
             [
              0.2222222222222222,
              "#7201a8"
             ],
             [
              0.3333333333333333,
              "#9c179e"
             ],
             [
              0.4444444444444444,
              "#bd3786"
             ],
             [
              0.5555555555555556,
              "#d8576b"
             ],
             [
              0.6666666666666666,
              "#ed7953"
             ],
             [
              0.7777777777777778,
              "#fb9f3a"
             ],
             [
              0.8888888888888888,
              "#fdca26"
             ],
             [
              1,
              "#f0f921"
             ]
            ],
            "type": "histogram2dcontour"
           }
          ],
          "mesh3d": [
           {
            "colorbar": {
             "outlinewidth": 0,
             "ticks": ""
            },
            "type": "mesh3d"
           }
          ],
          "parcoords": [
           {
            "line": {
             "colorbar": {
              "outlinewidth": 0,
              "ticks": ""
             }
            },
            "type": "parcoords"
           }
          ],
          "pie": [
           {
            "automargin": true,
            "type": "pie"
           }
          ],
          "scatter": [
           {
            "fillpattern": {
             "fillmode": "overlay",
             "size": 10,
             "solidity": 0.2
            },
            "type": "scatter"
           }
          ],
          "scatter3d": [
           {
            "line": {
             "colorbar": {
              "outlinewidth": 0,
              "ticks": ""
             }
            },
            "marker": {
             "colorbar": {
              "outlinewidth": 0,
              "ticks": ""
             }
            },
            "type": "scatter3d"
           }
          ],
          "scattercarpet": [
           {
            "marker": {
             "colorbar": {
              "outlinewidth": 0,
              "ticks": ""
             }
            },
            "type": "scattercarpet"
           }
          ],
          "scattergeo": [
           {
            "marker": {
             "colorbar": {
              "outlinewidth": 0,
              "ticks": ""
             }
            },
            "type": "scattergeo"
           }
          ],
          "scattergl": [
           {
            "marker": {
             "colorbar": {
              "outlinewidth": 0,
              "ticks": ""
             }
            },
            "type": "scattergl"
           }
          ],
          "scattermap": [
           {
            "marker": {
             "colorbar": {
              "outlinewidth": 0,
              "ticks": ""
             }
            },
            "type": "scattermap"
           }
          ],
          "scattermapbox": [
           {
            "marker": {
             "colorbar": {
              "outlinewidth": 0,
              "ticks": ""
             }
            },
            "type": "scattermapbox"
           }
          ],
          "scatterpolar": [
           {
            "marker": {
             "colorbar": {
              "outlinewidth": 0,
              "ticks": ""
             }
            },
            "type": "scatterpolar"
           }
          ],
          "scatterpolargl": [
           {
            "marker": {
             "colorbar": {
              "outlinewidth": 0,
              "ticks": ""
             }
            },
            "type": "scatterpolargl"
           }
          ],
          "scatterternary": [
           {
            "marker": {
             "colorbar": {
              "outlinewidth": 0,
              "ticks": ""
             }
            },
            "type": "scatterternary"
           }
          ],
          "surface": [
           {
            "colorbar": {
             "outlinewidth": 0,
             "ticks": ""
            },
            "colorscale": [
             [
              0,
              "#0d0887"
             ],
             [
              0.1111111111111111,
              "#46039f"
             ],
             [
              0.2222222222222222,
              "#7201a8"
             ],
             [
              0.3333333333333333,
              "#9c179e"
             ],
             [
              0.4444444444444444,
              "#bd3786"
             ],
             [
              0.5555555555555556,
              "#d8576b"
             ],
             [
              0.6666666666666666,
              "#ed7953"
             ],
             [
              0.7777777777777778,
              "#fb9f3a"
             ],
             [
              0.8888888888888888,
              "#fdca26"
             ],
             [
              1,
              "#f0f921"
             ]
            ],
            "type": "surface"
           }
          ],
          "table": [
           {
            "cells": {
             "fill": {
              "color": "#EBF0F8"
             },
             "line": {
              "color": "white"
             }
            },
            "header": {
             "fill": {
              "color": "#C8D4E3"
             },
             "line": {
              "color": "white"
             }
            },
            "type": "table"
           }
          ]
         },
         "layout": {
          "annotationdefaults": {
           "arrowcolor": "#2a3f5f",
           "arrowhead": 0,
           "arrowwidth": 1
          },
          "autotypenumbers": "strict",
          "coloraxis": {
           "colorbar": {
            "outlinewidth": 0,
            "ticks": ""
           }
          },
          "colorscale": {
           "diverging": [
            [
             0,
             "#8e0152"
            ],
            [
             0.1,
             "#c51b7d"
            ],
            [
             0.2,
             "#de77ae"
            ],
            [
             0.3,
             "#f1b6da"
            ],
            [
             0.4,
             "#fde0ef"
            ],
            [
             0.5,
             "#f7f7f7"
            ],
            [
             0.6,
             "#e6f5d0"
            ],
            [
             0.7,
             "#b8e186"
            ],
            [
             0.8,
             "#7fbc41"
            ],
            [
             0.9,
             "#4d9221"
            ],
            [
             1,
             "#276419"
            ]
           ],
           "sequential": [
            [
             0,
             "#0d0887"
            ],
            [
             0.1111111111111111,
             "#46039f"
            ],
            [
             0.2222222222222222,
             "#7201a8"
            ],
            [
             0.3333333333333333,
             "#9c179e"
            ],
            [
             0.4444444444444444,
             "#bd3786"
            ],
            [
             0.5555555555555556,
             "#d8576b"
            ],
            [
             0.6666666666666666,
             "#ed7953"
            ],
            [
             0.7777777777777778,
             "#fb9f3a"
            ],
            [
             0.8888888888888888,
             "#fdca26"
            ],
            [
             1,
             "#f0f921"
            ]
           ],
           "sequentialminus": [
            [
             0,
             "#0d0887"
            ],
            [
             0.1111111111111111,
             "#46039f"
            ],
            [
             0.2222222222222222,
             "#7201a8"
            ],
            [
             0.3333333333333333,
             "#9c179e"
            ],
            [
             0.4444444444444444,
             "#bd3786"
            ],
            [
             0.5555555555555556,
             "#d8576b"
            ],
            [
             0.6666666666666666,
             "#ed7953"
            ],
            [
             0.7777777777777778,
             "#fb9f3a"
            ],
            [
             0.8888888888888888,
             "#fdca26"
            ],
            [
             1,
             "#f0f921"
            ]
           ]
          },
          "colorway": [
           "#636efa",
           "#EF553B",
           "#00cc96",
           "#ab63fa",
           "#FFA15A",
           "#19d3f3",
           "#FF6692",
           "#B6E880",
           "#FF97FF",
           "#FECB52"
          ],
          "font": {
           "color": "#2a3f5f"
          },
          "geo": {
           "bgcolor": "white",
           "lakecolor": "white",
           "landcolor": "#E5ECF6",
           "showlakes": true,
           "showland": true,
           "subunitcolor": "white"
          },
          "hoverlabel": {
           "align": "left"
          },
          "hovermode": "closest",
          "mapbox": {
           "style": "light"
          },
          "paper_bgcolor": "white",
          "plot_bgcolor": "#E5ECF6",
          "polar": {
           "angularaxis": {
            "gridcolor": "white",
            "linecolor": "white",
            "ticks": ""
           },
           "bgcolor": "#E5ECF6",
           "radialaxis": {
            "gridcolor": "white",
            "linecolor": "white",
            "ticks": ""
           }
          },
          "scene": {
           "xaxis": {
            "backgroundcolor": "#E5ECF6",
            "gridcolor": "white",
            "gridwidth": 2,
            "linecolor": "white",
            "showbackground": true,
            "ticks": "",
            "zerolinecolor": "white"
           },
           "yaxis": {
            "backgroundcolor": "#E5ECF6",
            "gridcolor": "white",
            "gridwidth": 2,
            "linecolor": "white",
            "showbackground": true,
            "ticks": "",
            "zerolinecolor": "white"
           },
           "zaxis": {
            "backgroundcolor": "#E5ECF6",
            "gridcolor": "white",
            "gridwidth": 2,
            "linecolor": "white",
            "showbackground": true,
            "ticks": "",
            "zerolinecolor": "white"
           }
          },
          "shapedefaults": {
           "line": {
            "color": "#2a3f5f"
           }
          },
          "ternary": {
           "aaxis": {
            "gridcolor": "white",
            "linecolor": "white",
            "ticks": ""
           },
           "baxis": {
            "gridcolor": "white",
            "linecolor": "white",
            "ticks": ""
           },
           "bgcolor": "#E5ECF6",
           "caxis": {
            "gridcolor": "white",
            "linecolor": "white",
            "ticks": ""
           }
          },
          "title": {
           "x": 0.05
          },
          "xaxis": {
           "automargin": true,
           "gridcolor": "white",
           "linecolor": "white",
           "ticks": "",
           "title": {
            "standoff": 15
           },
           "zerolinecolor": "white",
           "zerolinewidth": 2
          },
          "yaxis": {
           "automargin": true,
           "gridcolor": "white",
           "linecolor": "white",
           "ticks": "",
           "title": {
            "standoff": 15
           },
           "zerolinecolor": "white",
           "zerolinewidth": 2
          }
         }
        },
        "title": {
         "text": "Categorical Association Heatmap (Top 20 categories)"
        },
        "width": 800
       }
      }
     },
     "metadata": {},
     "output_type": "display_data"
    }
   ],
   "source": [
    "plot_categorical_association(raw_df, alpha= 0.05, top_k = 20)"
   ]
  },
  {
   "cell_type": "markdown",
   "id": "f27185eb",
   "metadata": {},
   "source": [
    "###  Hipóteses \n",
    "\n",
    "- H1: Filmes dirigidos por certos diretores ou com determinados atores tendem a ter notas mais altas no IMDB.  \n",
    "  Observação: Pode ser testado com estatísticas agregadas por diretor e elenco.\n",
    "\n",
    "- H2: Filmes com maior faturamento (*Gross*) têm correlação positiva com IMDB Rating.  \n",
    "  Observação: Correlação moderada já observada; pode ser confirmada com análise estatística.\n",
    "\n",
    "- H3: O número de votos (*No_of_Votes*) está positivamente relacionado com a nota do IMDB.  \n",
    "  Observação: Correlação baixa-moderada observada; hipótese parcialmente confirmada.\n",
    "\n",
    "- H4: O ano de lançamento influencia a quantidade de filmes produzidos.  \n",
    "  Observação: A maioria dos filmes foi produzida entre 2000 e 2019, com pico entre 2010 e 2014. Houve queda em 2020, possivelmente devido à pandemia.\n",
    "\n",
    "- H5: O tempo de duração (*Runtime*) dos filmes tende a se concentrar em um intervalo específico.  \n",
    "  Observação: A maioria dos filmes tem duração entre 100 e 130 minutos.\n",
    "\n",
    "- H6: Certos gêneros ou certificados podem influenciar a nota média dos filmes.  \n",
    "  Observação: Pode ser analisado com teste de qui-quadrado ou ANOVA.\n"
   ]
  },
  {
   "cell_type": "markdown",
   "id": "faae774f",
   "metadata": {},
   "source": [
    "https://www.kaggle.com/code/imaadmahmood/tmdb-dataset-analysis\n",
    "\n",
    "https://www.kaggle.com/code/alisamy/movie-recommendation-system-using-ml  (sistema de recoemndacao aq)\n",
    "\n",
    "(nuvens de ponto tbm)\n"
   ]
  },
  {
   "cell_type": "code",
   "execution_count": null,
   "id": "0af76de9",
   "metadata": {},
   "outputs": [],
   "source": [
    "from sklearn.ensemble import RandomForestRegressor, GradientBoostingRegressor\n",
    "from sklearn.model_selection import train_test_split, cross_val_score\n",
    "from sklearn.pipeline import Pipeline\n",
    "from sklearn.impute import SimpleImputer\n",
    "from sklearn.preprocessing import OneHotEncoder\n",
    "from sklearn.compose import ColumnTransformer\n",
    "from sklearn.metrics import mean_absolute_error, r2_score\n",
    "\n",
    "# 💾 Select Features and Target\n",
    "target = \"IMDB_Rating\"\n",
    "numeric_features = [\"Released_Year\", \"Runtime\", \"Meta_score\", \"No_of_Votes\", \"Gross\"]\n",
    "categorical_features = [\"Certificate\", \"Genre\", \"Director\"]\n",
    "\n",
    "X = df[numeric_features + categorical_features]\n",
    "y = df[target]\n",
    "\n",
    "# 🔧 Preprocessing Pipelines\n",
    "numeric_transformer = Pipeline(steps=[\n",
    "    (\"imputer\", SimpleImputer(strategy=\"median\"))\n",
    "])\n",
    "\n",
    "categorical_transformer = Pipeline(steps=[\n",
    "    (\"imputer\", SimpleImputer(strategy=\"most_frequent\")),\n",
    "    (\"encoder\", OneHotEncoder(handle_unknown=\"ignore\", min_frequency=10))\n",
    "])\n",
    "\n",
    "preprocessor = ColumnTransformer(transformers=[\n",
    "    (\"num\", numeric_transformer, numeric_features),\n",
    "    (\"cat\", categorical_transformer, categorical_features)\n",
    "])\n",
    "\n",
    "# 🧪 Models to Evaluate\n",
    "models = {\n",
    "    \"RandomForest\":  RandomForestRegressor(n_estimators=300, random_state=42),\n",
    "    \"GradientBoost\": GradientBoostingRegressor(n_estimators=200, random_state=42)\n",
    "}\n",
    "\n",
    "# 🔁 Evaluate with 5-fold CV\n",
    "print(\"Cross-Validation Scores (MAE):\\n\")\n",
    "for name, model in models.items():\n",
    "    pipe = Pipeline(steps=[\n",
    "        (\"preprocessor\", preprocessor),\n",
    "        (\"model\", model)\n",
    "    ])\n",
    "    scores = cross_val_score(pipe, X, y, cv=5, scoring=\"neg_mean_absolute_error\")\n",
    "    print(f\"{name:15s} MAE: {-scores.mean():.3f} ± {scores.std():.3f}\")\n",
    "\n",
    "# 🧠 Final Model Train-Test Evaluation\n",
    "X_train, X_test, y_train, y_test = train_test_split(\n",
    "    X, y, test_size=0.2, random_state=42\n",
    ")\n",
    "\n",
    "final_model = Pipeline(steps=[\n",
    "    (\"preprocessor\", preprocessor),\n",
    "    (\"model\", RandomForestRegressor(n_estimators=300, random_state=42, n_jobs=-1))\n",
    "])\n",
    "\n",
    "final_model.fit(X_train, y_train)\n",
    "y_pred = final_model.predict(X_test)\n",
    "\n",
    "print(\"\\nFinal Model Performance on Test Set:\")\n",
    "print(f\"MAE  : {mean_absolute_error(y_test, y_pred):.3f}\")\n",
    "print(f\"R2   : {r2_score(y_test, y_pred):.3f}\")"
   ]
  },
  {
   "cell_type": "code",
   "execution_count": null,
   "id": "9bd0b619",
   "metadata": {},
   "outputs": [
    {
     "data": {
      "text/plain": [
       "Director\n",
       "Alfred Hitchcock    14\n",
       "Steven Spielberg    13\n",
       "Hayao Miyazaki      11\n",
       "Akira Kurosawa      10\n",
       "Martin Scorsese     10\n",
       "                    ..\n",
       "Josh Boone           1\n",
       "Roberto Benigni      1\n",
       "James Marsh          1\n",
       "Paul Haggis          1\n",
       "James Simone         1\n",
       "Name: count, Length: 200, dtype: Int64"
      ]
     },
     "execution_count": 24,
     "metadata": {},
     "output_type": "execute_result"
    }
   ],
   "source": [
    "import shap\n",
    "\n",
    "# 🔄 Re-transform the train data\n",
    "X_train_transformed = preprocessor.fit_transform(X_train)\n",
    "\n",
    "# ✅ Use only the trained model inside pipeline\n",
    "model_trained = final_model.named_steps[\"model\"]\n",
    "\n",
    "# ⛔ SHAP only works with numpy arrays (ensure type is correct)\n",
    "X_train_np = X_train_transformed.toarray() if hasattr(X_train_transformed, \"toarray\") else X_train_transformed\n",
    "\n",
    "# ⚡ Create SHAP explainer and compute values\n",
    "explainer = shap.Explainer(model_trained)\n",
    "shap_values = explainer(X_train_np)\n",
    "\n",
    "# 📊 Plot SHAP summary bar chart for top features\n",
    "shap.summary_plot(shap_values, features=X_train_np, feature_names=final_model.named_steps[\"preprocessor\"].get_feature_names_out(), plot_type=\"bar\")"
   ]
  },
  {
   "cell_type": "code",
   "execution_count": null,
   "id": "87847929",
   "metadata": {},
   "outputs": [],
   "source": [
    "step 9A: IMDb Rating vs TMDB Rating\n",
    "This scatter plot gives us a side-by-side visual of how movies are rated by IMDb users vs TMDB users. It's a quick way to spot consistent hits or polarizing films.\n",
    "\n",
    "plt.figure(figsize=(9,6))\n",
    "sns.scatterplot(\n",
    "    data=df_tmdb,\n",
    "    x=\"IMDB_Rating\",\n",
    "    y=\"TMDB_Rating\",\n",
    "    alpha=0.7,\n",
    "    color=\"#7dd3fc\",\n",
    "    edgecolor=\"white\"\n",
    ")\n",
    "plt.title(\"IMDb vs TMDB Ratings\", fontsize=14)\n",
    "plt.xlabel(\"IMDb Rating\")\n",
    "plt.ylabel(\"TMDB Rating\")\n",
    "plt.grid(True, linestyle='--', alpha=0.3)\n",
    "plt.tight_layout()\n",
    "plt.show()"
   ]
  },
  {
   "cell_type": "code",
   "execution_count": 26,
   "id": "aba47604",
   "metadata": {},
   "outputs": [
    {
     "name": "stdout",
     "output_type": "stream",
     "text": [
      "             num_filmes  mean_rating\n",
      "num_filmes     1.000000     0.150222\n",
      "mean_rating    0.150222     1.000000\n"
     ]
    }
   ],
   "source": [
    "# Média da nota por diretor\n",
    "mean_ratings = raw_df.groupby('Director')['IMDB_Rating'].mean()\n",
    "\n",
    "# Combinar com contagem de filmes\n",
    "director_stats = pd.DataFrame({\n",
    "    'num_filmes': director_counts,\n",
    "    'mean_rating': mean_ratings\n",
    "})\n",
    "\n",
    "# Correlação\n",
    "print(director_stats.corr())\n"
   ]
  },
  {
   "cell_type": "code",
   "execution_count": 28,
   "id": "c0c6c1a3",
   "metadata": {},
   "outputs": [],
   "source": [
    "# Contagem de filmes por diretor\n",
    "director_counts = raw_df['Director'].value_counts()\n",
    "\n",
    "# Média de nota por diretor\n",
    "mean_ratings = raw_df.groupby('Director')['IMDB_Rating'].mean()\n",
    "\n",
    "# Combinar em um DataFrame\n",
    "director_stats = pd.DataFrame({\n",
    "    'num_filmes': director_counts,\n",
    "    'mean_rating': mean_ratings\n",
    "}).reset_index().rename(columns={'index': 'Director'})\n"
   ]
  },
  {
   "cell_type": "code",
   "execution_count": 30,
   "id": "2bed92ec",
   "metadata": {},
   "outputs": [
    {
     "data": {
      "image/png": "[encoded data removed]",
      "text/plain": [
       "<Figure size 1000x600 with 1 Axes>"
      ]
     },
     "metadata": {},
     "output_type": "display_data"
    }
   ],
   "source": [
    "import matplotlib.pyplot as plt\n",
    "import seaborn as sns\n",
    "\n",
    "plt.figure(figsize=(10,6))\n",
    "sns.scatterplot(data=director_stats, x='num_filmes', y='mean_rating')\n",
    "plt.xlabel('Número de filmes')\n",
    "plt.ylabel('Média de nota IMDB')\n",
    "plt.title('Diretores mais produtivos vs. média de nota')\n",
    "plt.show()\n"
   ]
  }
 ],
 "metadata": {
  "kernelspec": {
   "display_name": "env",
   "language": "python",
   "name": "python3"
  },
  "language_info": {
   "codemirror_mode": {
    "name": "ipython",
    "version": 3
   },
   "file_extension": ".py",
   "mimetype": "text/x-python",
   "name": "python",
   "nbconvert_exporter": "python",
   "pygments_lexer": "ipython3",
   "version": "3.10.12"
  }
 },
 "nbformat": 4,
 "nbformat_minor": 5
}
